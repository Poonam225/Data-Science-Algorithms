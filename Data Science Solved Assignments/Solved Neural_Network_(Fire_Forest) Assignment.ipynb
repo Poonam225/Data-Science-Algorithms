{
 "cells": [
  {
   "cell_type": "markdown",
   "id": "d01287f2",
   "metadata": {
    "id": "d01287f2"
   },
   "source": [
    "## PREDICT THE BURNED AREA OF FOREST FIRES WITH NEURAL NETWORKS"
   ]
  },
  {
   "cell_type": "code",
   "execution_count": 1,
   "id": "64d1a9eb",
   "metadata": {
    "ExecuteTime": {
     "end_time": "2023-07-08T17:54:37.466367Z",
     "start_time": "2023-07-08T17:54:37.442332Z"
    },
    "id": "64d1a9eb"
   },
   "outputs": [],
   "source": [
    "# pip install tensorflow"
   ]
  },
  {
   "cell_type": "code",
   "execution_count": 2,
   "id": "9d075b4d",
   "metadata": {
    "ExecuteTime": {
     "end_time": "2023-07-08T17:54:37.482367Z",
     "start_time": "2023-07-08T17:54:37.466367Z"
    },
    "id": "9d075b4d"
   },
   "outputs": [],
   "source": [
    "# pip install keras"
   ]
  },
  {
   "cell_type": "code",
   "execution_count": 3,
   "id": "d41559db",
   "metadata": {
    "ExecuteTime": {
     "end_time": "2023-07-08T17:54:45.492733Z",
     "start_time": "2023-07-08T17:54:37.482367Z"
    }
   },
   "outputs": [
    {
     "name": "stderr",
     "output_type": "stream",
     "text": [
      "WARNING: Ignoring invalid distribution -heel (c:\\programdata\\anaconda3\\lib\\site-packages)\n",
      "WARNING: Ignoring invalid distribution -heel (c:\\programdata\\anaconda3\\lib\\site-packages)\n",
      "WARNING: Ignoring invalid distribution -heel (c:\\programdata\\anaconda3\\lib\\site-packages)\n",
      "WARNING: Ignoring invalid distribution -heel (c:\\programdata\\anaconda3\\lib\\site-packages)\n",
      "WARNING: Ignoring invalid distribution -heel (c:\\programdata\\anaconda3\\lib\\site-packages)\n",
      "WARNING: Ignoring invalid distribution -heel (c:\\programdata\\anaconda3\\lib\\site-packages)\n"
     ]
    },
    {
     "name": "stdout",
     "output_type": "stream",
     "text": [
      "Requirement already satisfied: scikit-learn in c:\\programdata\\anaconda3\\lib\\site-packages (1.3.0)\n",
      "Requirement already satisfied: threadpoolctl>=2.0.0 in c:\\programdata\\anaconda3\\lib\\site-packages (from scikit-learn) (2.2.0)\n",
      "Requirement already satisfied: numpy>=1.17.3 in c:\\programdata\\anaconda3\\lib\\site-packages (from scikit-learn) (1.22.4)\n",
      "Requirement already satisfied: joblib>=1.1.1 in c:\\programdata\\anaconda3\\lib\\site-packages (from scikit-learn) (1.3.1)\n",
      "Requirement already satisfied: scipy>=1.5.0 in c:\\programdata\\anaconda3\\lib\\site-packages (from scikit-learn) (1.7.3)\n"
     ]
    }
   ],
   "source": [
    "!pip install --upgrade scikit-learn"
   ]
  },
  {
   "cell_type": "code",
   "execution_count": 4,
   "id": "899bd889",
   "metadata": {
    "ExecuteTime": {
     "end_time": "2023-07-08T17:54:52.148685Z",
     "start_time": "2023-07-08T17:54:45.492733Z"
    }
   },
   "outputs": [
    {
     "name": "stdout",
     "output_type": "stream",
     "text": [
      "Requirement already satisfied: imblearn in c:\\programdata\\anaconda3\\lib\\site-packages (0.0)\n",
      "Requirement already satisfied: imbalanced-learn in c:\\programdata\\anaconda3\\lib\\site-packages (from imblearn) (0.10.1)\n",
      "Requirement already satisfied: scikit-learn>=1.0.2 in c:\\programdata\\anaconda3\\lib\\site-packages (from imbalanced-learn->imblearn) (1.3.0)\n",
      "Requirement already satisfied: joblib>=1.1.1 in c:\\programdata\\anaconda3\\lib\\site-packages (from imbalanced-learn->imblearn) (1.3.1)\n",
      "Requirement already satisfied: numpy>=1.17.3 in c:\\programdata\\anaconda3\\lib\\site-packages (from imbalanced-learn->imblearn) (1.22.4)\n",
      "Requirement already satisfied: threadpoolctl>=2.0.0 in c:\\programdata\\anaconda3\\lib\\site-packages (from imbalanced-learn->imblearn) (2.2.0)\n",
      "Requirement already satisfied: scipy>=1.3.2 in c:\\programdata\\anaconda3\\lib\\site-packages (from imbalanced-learn->imblearn) (1.7.3)\n"
     ]
    },
    {
     "name": "stderr",
     "output_type": "stream",
     "text": [
      "WARNING: Ignoring invalid distribution -heel (c:\\programdata\\anaconda3\\lib\\site-packages)\n",
      "WARNING: Ignoring invalid distribution -heel (c:\\programdata\\anaconda3\\lib\\site-packages)\n",
      "WARNING: Ignoring invalid distribution -heel (c:\\programdata\\anaconda3\\lib\\site-packages)\n",
      "WARNING: Ignoring invalid distribution -heel (c:\\programdata\\anaconda3\\lib\\site-packages)\n",
      "WARNING: Ignoring invalid distribution -heel (c:\\programdata\\anaconda3\\lib\\site-packages)\n",
      "WARNING: Ignoring invalid distribution -heel (c:\\programdata\\anaconda3\\lib\\site-packages)\n"
     ]
    }
   ],
   "source": [
    "! pip install imblearn"
   ]
  },
  {
   "cell_type": "code",
   "execution_count": 5,
   "id": "81497342",
   "metadata": {
    "ExecuteTime": {
     "end_time": "2023-07-08T17:54:55.166164Z",
     "start_time": "2023-07-08T17:54:52.150709Z"
    },
    "scrolled": true
   },
   "outputs": [
    {
     "ename": "ImportError",
     "evalue": "cannot import name '_MissingValues' from 'sklearn.utils._param_validation' (C:\\ProgramData\\Anaconda3\\lib\\site-packages\\sklearn\\utils\\_param_validation.py)",
     "output_type": "error",
     "traceback": [
      "\u001b[1;31m---------------------------------------------------------------------------\u001b[0m",
      "\u001b[1;31mImportError\u001b[0m                               Traceback (most recent call last)",
      "Input \u001b[1;32mIn [5]\u001b[0m, in \u001b[0;36m<cell line: 1>\u001b[1;34m()\u001b[0m\n\u001b[1;32m----> 1\u001b[0m \u001b[38;5;28;01mimport\u001b[39;00m \u001b[38;5;21;01mimblearn\u001b[39;00m\n",
      "File \u001b[1;32mC:\\ProgramData\\Anaconda3\\lib\\site-packages\\imblearn\\__init__.py:52\u001b[0m, in \u001b[0;36m<module>\u001b[1;34m\u001b[0m\n\u001b[0;32m     48\u001b[0m     sys\u001b[38;5;241m.\u001b[39mstderr\u001b[38;5;241m.\u001b[39mwrite(\u001b[38;5;124m\"\u001b[39m\u001b[38;5;124mPartial import of imblearn during the build process.\u001b[39m\u001b[38;5;130;01m\\n\u001b[39;00m\u001b[38;5;124m\"\u001b[39m)\n\u001b[0;32m     49\u001b[0m     \u001b[38;5;66;03m# We are not importing the rest of scikit-learn during the build\u001b[39;00m\n\u001b[0;32m     50\u001b[0m     \u001b[38;5;66;03m# process, as it may not be compiled yet\u001b[39;00m\n\u001b[0;32m     51\u001b[0m \u001b[38;5;28;01melse\u001b[39;00m:\n\u001b[1;32m---> 52\u001b[0m     \u001b[38;5;28;01mfrom\u001b[39;00m \u001b[38;5;21;01m.\u001b[39;00m \u001b[38;5;28;01mimport\u001b[39;00m (\n\u001b[0;32m     53\u001b[0m         combine,\n\u001b[0;32m     54\u001b[0m         ensemble,\n\u001b[0;32m     55\u001b[0m         exceptions,\n\u001b[0;32m     56\u001b[0m         metrics,\n\u001b[0;32m     57\u001b[0m         over_sampling,\n\u001b[0;32m     58\u001b[0m         pipeline,\n\u001b[0;32m     59\u001b[0m         tensorflow,\n\u001b[0;32m     60\u001b[0m         under_sampling,\n\u001b[0;32m     61\u001b[0m         utils,\n\u001b[0;32m     62\u001b[0m     )\n\u001b[0;32m     63\u001b[0m     \u001b[38;5;28;01mfrom\u001b[39;00m \u001b[38;5;21;01m.\u001b[39;00m\u001b[38;5;21;01m_version\u001b[39;00m \u001b[38;5;28;01mimport\u001b[39;00m __version__\n\u001b[0;32m     64\u001b[0m     \u001b[38;5;28;01mfrom\u001b[39;00m \u001b[38;5;21;01m.\u001b[39;00m\u001b[38;5;21;01mbase\u001b[39;00m \u001b[38;5;28;01mimport\u001b[39;00m FunctionSampler\n",
      "File \u001b[1;32mC:\\ProgramData\\Anaconda3\\lib\\site-packages\\imblearn\\combine\\__init__.py:5\u001b[0m, in \u001b[0;36m<module>\u001b[1;34m\u001b[0m\n\u001b[0;32m      1\u001b[0m \u001b[38;5;124;03m\"\"\"The :mod:`imblearn.combine` provides methods which combine\u001b[39;00m\n\u001b[0;32m      2\u001b[0m \u001b[38;5;124;03mover-sampling and under-sampling.\u001b[39;00m\n\u001b[0;32m      3\u001b[0m \u001b[38;5;124;03m\"\"\"\u001b[39;00m\n\u001b[1;32m----> 5\u001b[0m \u001b[38;5;28;01mfrom\u001b[39;00m \u001b[38;5;21;01m.\u001b[39;00m\u001b[38;5;21;01m_smote_enn\u001b[39;00m \u001b[38;5;28;01mimport\u001b[39;00m SMOTEENN\n\u001b[0;32m      6\u001b[0m \u001b[38;5;28;01mfrom\u001b[39;00m \u001b[38;5;21;01m.\u001b[39;00m\u001b[38;5;21;01m_smote_tomek\u001b[39;00m \u001b[38;5;28;01mimport\u001b[39;00m SMOTETomek\n\u001b[0;32m      8\u001b[0m __all__ \u001b[38;5;241m=\u001b[39m [\u001b[38;5;124m\"\u001b[39m\u001b[38;5;124mSMOTEENN\u001b[39m\u001b[38;5;124m\"\u001b[39m, \u001b[38;5;124m\"\u001b[39m\u001b[38;5;124mSMOTETomek\u001b[39m\u001b[38;5;124m\"\u001b[39m]\n",
      "File \u001b[1;32mC:\\ProgramData\\Anaconda3\\lib\\site-packages\\imblearn\\combine\\_smote_enn.py:12\u001b[0m, in \u001b[0;36m<module>\u001b[1;34m\u001b[0m\n\u001b[0;32m      9\u001b[0m \u001b[38;5;28;01mfrom\u001b[39;00m \u001b[38;5;21;01msklearn\u001b[39;00m\u001b[38;5;21;01m.\u001b[39;00m\u001b[38;5;21;01mbase\u001b[39;00m \u001b[38;5;28;01mimport\u001b[39;00m clone\n\u001b[0;32m     10\u001b[0m \u001b[38;5;28;01mfrom\u001b[39;00m \u001b[38;5;21;01msklearn\u001b[39;00m\u001b[38;5;21;01m.\u001b[39;00m\u001b[38;5;21;01mutils\u001b[39;00m \u001b[38;5;28;01mimport\u001b[39;00m check_X_y\n\u001b[1;32m---> 12\u001b[0m \u001b[38;5;28;01mfrom\u001b[39;00m \u001b[38;5;21;01m.\u001b[39;00m\u001b[38;5;21;01m.\u001b[39;00m\u001b[38;5;21;01mbase\u001b[39;00m \u001b[38;5;28;01mimport\u001b[39;00m BaseSampler\n\u001b[0;32m     13\u001b[0m \u001b[38;5;28;01mfrom\u001b[39;00m \u001b[38;5;21;01m.\u001b[39;00m\u001b[38;5;21;01m.\u001b[39;00m\u001b[38;5;21;01mover_sampling\u001b[39;00m \u001b[38;5;28;01mimport\u001b[39;00m SMOTE\n\u001b[0;32m     14\u001b[0m \u001b[38;5;28;01mfrom\u001b[39;00m \u001b[38;5;21;01m.\u001b[39;00m\u001b[38;5;21;01m.\u001b[39;00m\u001b[38;5;21;01mover_sampling\u001b[39;00m\u001b[38;5;21;01m.\u001b[39;00m\u001b[38;5;21;01mbase\u001b[39;00m \u001b[38;5;28;01mimport\u001b[39;00m BaseOverSampler\n",
      "File \u001b[1;32mC:\\ProgramData\\Anaconda3\\lib\\site-packages\\imblearn\\base.py:21\u001b[0m, in \u001b[0;36m<module>\u001b[1;34m\u001b[0m\n\u001b[0;32m     18\u001b[0m \u001b[38;5;28;01mfrom\u001b[39;00m \u001b[38;5;21;01msklearn\u001b[39;00m\u001b[38;5;21;01m.\u001b[39;00m\u001b[38;5;21;01mutils\u001b[39;00m\u001b[38;5;21;01m.\u001b[39;00m\u001b[38;5;21;01mmulticlass\u001b[39;00m \u001b[38;5;28;01mimport\u001b[39;00m check_classification_targets\n\u001b[0;32m     20\u001b[0m \u001b[38;5;28;01mfrom\u001b[39;00m \u001b[38;5;21;01m.\u001b[39;00m\u001b[38;5;21;01mutils\u001b[39;00m \u001b[38;5;28;01mimport\u001b[39;00m check_sampling_strategy, check_target_type\n\u001b[1;32m---> 21\u001b[0m \u001b[38;5;28;01mfrom\u001b[39;00m \u001b[38;5;21;01m.\u001b[39;00m\u001b[38;5;21;01mutils\u001b[39;00m\u001b[38;5;21;01m.\u001b[39;00m\u001b[38;5;21;01m_param_validation\u001b[39;00m \u001b[38;5;28;01mimport\u001b[39;00m validate_parameter_constraints\n\u001b[0;32m     22\u001b[0m \u001b[38;5;28;01mfrom\u001b[39;00m \u001b[38;5;21;01m.\u001b[39;00m\u001b[38;5;21;01mutils\u001b[39;00m\u001b[38;5;21;01m.\u001b[39;00m\u001b[38;5;21;01m_validation\u001b[39;00m \u001b[38;5;28;01mimport\u001b[39;00m ArraysTransformer\n\u001b[0;32m     25\u001b[0m \u001b[38;5;28;01mclass\u001b[39;00m \u001b[38;5;21;01mSamplerMixin\u001b[39;00m(BaseEstimator, metaclass\u001b[38;5;241m=\u001b[39mABCMeta):\n",
      "File \u001b[1;32mC:\\ProgramData\\Anaconda3\\lib\\site-packages\\imblearn\\utils\\_param_validation.py:908\u001b[0m, in \u001b[0;36m<module>\u001b[1;34m\u001b[0m\n\u001b[0;32m    906\u001b[0m \u001b[38;5;28;01mfrom\u001b[39;00m \u001b[38;5;21;01msklearn\u001b[39;00m\u001b[38;5;21;01m.\u001b[39;00m\u001b[38;5;21;01mutils\u001b[39;00m\u001b[38;5;21;01m.\u001b[39;00m\u001b[38;5;21;01m_param_validation\u001b[39;00m \u001b[38;5;28;01mimport\u001b[39;00m generate_valid_param  \u001b[38;5;66;03m# noqa\u001b[39;00m\n\u001b[0;32m    907\u001b[0m \u001b[38;5;28;01mfrom\u001b[39;00m \u001b[38;5;21;01msklearn\u001b[39;00m\u001b[38;5;21;01m.\u001b[39;00m\u001b[38;5;21;01mutils\u001b[39;00m\u001b[38;5;21;01m.\u001b[39;00m\u001b[38;5;21;01m_param_validation\u001b[39;00m \u001b[38;5;28;01mimport\u001b[39;00m validate_parameter_constraints  \u001b[38;5;66;03m# noqa\u001b[39;00m\n\u001b[1;32m--> 908\u001b[0m \u001b[38;5;28;01mfrom\u001b[39;00m \u001b[38;5;21;01msklearn\u001b[39;00m\u001b[38;5;21;01m.\u001b[39;00m\u001b[38;5;21;01mutils\u001b[39;00m\u001b[38;5;21;01m.\u001b[39;00m\u001b[38;5;21;01m_param_validation\u001b[39;00m \u001b[38;5;28;01mimport\u001b[39;00m (\n\u001b[0;32m    909\u001b[0m     HasMethods,\n\u001b[0;32m    910\u001b[0m     Hidden,\n\u001b[0;32m    911\u001b[0m     Interval,\n\u001b[0;32m    912\u001b[0m     Options,\n\u001b[0;32m    913\u001b[0m     StrOptions,\n\u001b[0;32m    914\u001b[0m     _ArrayLikes,\n\u001b[0;32m    915\u001b[0m     _Booleans,\n\u001b[0;32m    916\u001b[0m     _Callables,\n\u001b[0;32m    917\u001b[0m     _CVObjects,\n\u001b[0;32m    918\u001b[0m     _InstancesOf,\n\u001b[0;32m    919\u001b[0m     _IterablesNotString,\n\u001b[0;32m    920\u001b[0m     _MissingValues,\n\u001b[0;32m    921\u001b[0m     _NoneConstraint,\n\u001b[0;32m    922\u001b[0m     _PandasNAConstraint,\n\u001b[0;32m    923\u001b[0m     _RandomStates,\n\u001b[0;32m    924\u001b[0m     _SparseMatrices,\n\u001b[0;32m    925\u001b[0m     _VerboseHelper,\n\u001b[0;32m    926\u001b[0m     make_constraint,\n\u001b[0;32m    927\u001b[0m     validate_params,\n\u001b[0;32m    928\u001b[0m )\n",
      "\u001b[1;31mImportError\u001b[0m: cannot import name '_MissingValues' from 'sklearn.utils._param_validation' (C:\\ProgramData\\Anaconda3\\lib\\site-packages\\sklearn\\utils\\_param_validation.py)"
     ]
    }
   ],
   "source": [
    "import imblearn"
   ]
  },
  {
   "cell_type": "code",
   "execution_count": null,
   "id": "d458c796",
   "metadata": {
    "ExecuteTime": {
     "end_time": "2023-07-08T17:54:55.166164Z",
     "start_time": "2023-07-08T17:54:55.166164Z"
    },
    "id": "d458c796",
    "outputId": "aa069836-2e16-4906-fd0c-ee254be78652"
   },
   "outputs": [],
   "source": [
    "import pandas as pd\n",
    "import seaborn as sns\n",
    "import matplotlib.pyplot as plt\n",
    "import warnings\n",
    "warnings.filterwarnings('ignore')\n",
    "from sklearn.preprocessing import LabelEncoder\n",
    "from sklearn.model_selection import train_test_split\n",
    "from imblearn.over_sampling import SMOTE\n",
    "import numpy as np\n",
    "from sklearn.preprocessing import MinMaxScaler\n",
    "from tensorflow.keras.wrappers.scikit_learn import KerasClassifier\n",
    "from tensorflow.keras.layers import Dense,Dropout\n",
    "from sklearn.metrics import accuracy_score,classification_report,confusion_matrix\n",
    "from keras.models import Sequential\n",
    "from tensorflow.keras.optimizers import Adam,RMSprop\n",
    "from sklearn.model_selection import GridSearchCV,KFold"
   ]
  },
  {
   "cell_type": "code",
   "execution_count": null,
   "id": "15c4589a",
   "metadata": {
    "ExecuteTime": {
     "end_time": "2023-07-08T17:54:55.173913Z",
     "start_time": "2023-07-08T17:54:55.173913Z"
    },
    "id": "15c4589a",
    "outputId": "ee008202-8a73-48f1-fca7-74e55fd02413"
   },
   "outputs": [],
   "source": [
    "fire = pd.read_csv(\"P:/DS material/DS Assignments/Solved and unsolved assignments/All DS Assignments/All Datasets for assignments/forestfires.csv\")\n",
    "fire"
   ]
  },
  {
   "cell_type": "markdown",
   "id": "032c7a61",
   "metadata": {
    "id": "032c7a61"
   },
   "source": [
    "### EDA"
   ]
  },
  {
   "cell_type": "code",
   "execution_count": null,
   "id": "bc011a19",
   "metadata": {
    "ExecuteTime": {
     "end_time": "2023-07-08T17:54:55.173913Z",
     "start_time": "2023-07-08T17:54:55.173913Z"
    },
    "id": "bc011a19",
    "outputId": "62780427-8b58-40db-cae9-3831298b26e1"
   },
   "outputs": [],
   "source": [
    "fire.shape"
   ]
  },
  {
   "cell_type": "code",
   "execution_count": null,
   "id": "80b99835",
   "metadata": {
    "ExecuteTime": {
     "end_time": "2023-07-08T17:54:55.173913Z",
     "start_time": "2023-07-08T17:54:55.173913Z"
    },
    "id": "80b99835",
    "outputId": "590d1731-ab03-44a3-fd33-12ee8e878c22"
   },
   "outputs": [],
   "source": [
    "fire.info()"
   ]
  },
  {
   "cell_type": "code",
   "execution_count": null,
   "id": "74ccef93",
   "metadata": {
    "ExecuteTime": {
     "end_time": "2023-07-08T17:54:55.173913Z",
     "start_time": "2023-07-08T17:54:55.173913Z"
    },
    "id": "74ccef93",
    "outputId": "14f0b5d5-ba5a-42fd-f681-9da0212ae2c8"
   },
   "outputs": [],
   "source": [
    "fire.describe()"
   ]
  },
  {
   "cell_type": "code",
   "execution_count": null,
   "id": "cae325e9",
   "metadata": {
    "ExecuteTime": {
     "end_time": "2023-07-08T17:54:55.181914Z",
     "start_time": "2023-07-08T17:54:55.181914Z"
    },
    "id": "cae325e9",
    "outputId": "fada66d9-5776-4ced-e462-93f21f8b8b1a"
   },
   "outputs": [],
   "source": [
    "fire.isnull()"
   ]
  },
  {
   "cell_type": "code",
   "execution_count": null,
   "id": "b46775e2",
   "metadata": {
    "ExecuteTime": {
     "end_time": "2023-07-08T17:54:55.181914Z",
     "start_time": "2023-07-08T17:54:55.181914Z"
    },
    "id": "b46775e2",
    "outputId": "e5bc6604-c2c1-4ea9-a2a3-f3f17d11a2cc"
   },
   "outputs": [],
   "source": [
    "fire.isnull().sum()"
   ]
  },
  {
   "cell_type": "code",
   "execution_count": null,
   "id": "a637a715",
   "metadata": {
    "ExecuteTime": {
     "end_time": "2023-07-08T17:54:55.181914Z",
     "start_time": "2023-07-08T17:54:55.181914Z"
    },
    "id": "a637a715",
    "outputId": "a80b6bbd-7dcf-42f7-9768-c13c8d1c6bd5"
   },
   "outputs": [],
   "source": [
    "fire.columns"
   ]
  },
  {
   "cell_type": "code",
   "execution_count": null,
   "id": "b6ad0e2b",
   "metadata": {
    "ExecuteTime": {
     "end_time": "2023-07-08T17:54:55.181914Z",
     "start_time": "2023-07-08T17:54:55.181914Z"
    },
    "id": "b6ad0e2b",
    "outputId": "91f918df-ae88-4a61-e246-4d5711360920"
   },
   "outputs": [],
   "source": [
    "sns.countplot(fire['size_category'])"
   ]
  },
  {
   "cell_type": "code",
   "execution_count": null,
   "id": "4b31c0a1",
   "metadata": {
    "ExecuteTime": {
     "end_time": "2023-07-08T17:54:55.189916Z",
     "start_time": "2023-07-08T17:54:55.189916Z"
    },
    "id": "4b31c0a1",
    "outputId": "e5ce18a6-cefc-41bd-bf63-8dc65961ef7f"
   },
   "outputs": [],
   "source": [
    "plt.figure(figsize=(12,10))\n",
    "sns.countplot(x = fire['month'], hue = fire['size_category'])\n",
    "plt.show()"
   ]
  },
  {
   "cell_type": "code",
   "execution_count": null,
   "id": "5181c814",
   "metadata": {
    "ExecuteTime": {
     "end_time": "2023-07-08T17:54:55.189916Z",
     "start_time": "2023-07-08T17:54:55.189916Z"
    },
    "id": "5181c814",
    "outputId": "9e9aa0d3-5ed8-47e5-8744-56ea8935eaf5"
   },
   "outputs": [],
   "source": [
    "plt.figure(figsize=(12,10))\n",
    "sns.countplot(x = fire['day'], hue = fire['size_category'])\n",
    "plt.show()"
   ]
  },
  {
   "cell_type": "code",
   "execution_count": null,
   "id": "b2ca7fff",
   "metadata": {
    "ExecuteTime": {
     "end_time": "2023-07-08T17:54:55.189916Z",
     "start_time": "2023-07-08T17:54:55.189916Z"
    },
    "id": "b2ca7fff",
    "outputId": "a347881f-9f7e-40ca-8906-45526dbf6620"
   },
   "outputs": [],
   "source": [
    "plt.figure(figsize = (12,10))\n",
    "sns.distplot(fire['FFMC'],color='green')\n",
    "plt.show()"
   ]
  },
  {
   "cell_type": "code",
   "execution_count": null,
   "id": "fcf06709",
   "metadata": {
    "ExecuteTime": {
     "end_time": "2023-07-08T17:54:55.189916Z",
     "start_time": "2023-07-08T17:54:55.189916Z"
    },
    "id": "fcf06709",
    "outputId": "3d2b5fdb-ea31-4114-de6f-5584b085fb90"
   },
   "outputs": [],
   "source": [
    "plt.figure(figsize = (12,10))\n",
    "sns.distplot(fire['DMC'],color='red')\n",
    "plt.show()"
   ]
  },
  {
   "cell_type": "code",
   "execution_count": null,
   "id": "beea81f0",
   "metadata": {
    "ExecuteTime": {
     "end_time": "2023-07-08T17:54:55.197917Z",
     "start_time": "2023-07-08T17:54:55.197917Z"
    },
    "id": "beea81f0",
    "outputId": "80b1c642-91ad-4bc5-b7a1-1a1c98fe072d"
   },
   "outputs": [],
   "source": [
    "plt.figure(figsize = (12,10))\n",
    "sns.distplot(fire['DC'],color='purple')\n",
    "plt.show()"
   ]
  },
  {
   "cell_type": "code",
   "execution_count": null,
   "id": "afcdf079",
   "metadata": {
    "ExecuteTime": {
     "end_time": "2023-07-08T17:54:55.197917Z",
     "start_time": "2023-07-08T17:54:55.197917Z"
    },
    "id": "afcdf079",
    "outputId": "c0684d39-5967-4684-ff6b-cab53efc1410"
   },
   "outputs": [],
   "source": [
    "plt.figure(figsize = (12,10))\n",
    "sns.distplot(fire['ISI'],color='grey')\n",
    "plt.show()"
   ]
  },
  {
   "cell_type": "code",
   "execution_count": null,
   "id": "b93b5c1e",
   "metadata": {
    "ExecuteTime": {
     "end_time": "2023-07-08T17:54:55.205921Z",
     "start_time": "2023-07-08T17:54:55.205921Z"
    },
    "id": "b93b5c1e",
    "outputId": "a65161ff-bf14-4821-e566-10af05843bf3"
   },
   "outputs": [],
   "source": [
    "plt.figure(figsize = (12,10))\n",
    "sns.distplot(fire['temp'],color='pink')\n",
    "plt.show()"
   ]
  },
  {
   "cell_type": "code",
   "execution_count": null,
   "id": "49b067cf",
   "metadata": {
    "ExecuteTime": {
     "end_time": "2023-07-08T17:54:55.205921Z",
     "start_time": "2023-07-08T17:54:55.205921Z"
    },
    "id": "49b067cf",
    "outputId": "1eb868c7-6307-45e1-f38b-6c2aeb75b266"
   },
   "outputs": [],
   "source": [
    "plt.figure(figsize = (12,10))\n",
    "sns.distplot(fire['RH'],color='blue')\n",
    "plt.show()"
   ]
  },
  {
   "cell_type": "code",
   "execution_count": null,
   "id": "6bee43c6",
   "metadata": {
    "ExecuteTime": {
     "end_time": "2023-07-08T17:54:55.205921Z",
     "start_time": "2023-07-08T17:54:55.205921Z"
    },
    "id": "6bee43c6",
    "outputId": "b2ce5c2e-8f66-4159-d2c1-11ed0d3cd735"
   },
   "outputs": [],
   "source": [
    "plt.figure(figsize = (12,10))\n",
    "sns.distplot(fire['wind'],color='yellow')\n",
    "plt.show()"
   ]
  },
  {
   "cell_type": "code",
   "execution_count": null,
   "id": "bba2da4e",
   "metadata": {
    "ExecuteTime": {
     "end_time": "2023-07-08T17:54:55.205921Z",
     "start_time": "2023-07-08T17:54:55.205921Z"
    },
    "id": "bba2da4e",
    "outputId": "0bece7f2-a018-4d30-af86-96e0c34b7471"
   },
   "outputs": [],
   "source": [
    "plt.figure(figsize = (12,10))\n",
    "sns.distplot(fire['rain'],color='orange')\n",
    "plt.show()"
   ]
  },
  {
   "cell_type": "code",
   "execution_count": null,
   "id": "31a992ab",
   "metadata": {
    "ExecuteTime": {
     "end_time": "2023-07-08T17:54:55.215002Z",
     "start_time": "2023-07-08T17:54:55.215002Z"
    },
    "id": "31a992ab",
    "outputId": "42880a20-3220-4824-fe71-b53999011ed5"
   },
   "outputs": [],
   "source": [
    "drop_col = fire.drop(labels = ['month', 'day'], axis = 1)\n",
    "drop_col"
   ]
  },
  {
   "cell_type": "code",
   "execution_count": null,
   "id": "c6b653e7",
   "metadata": {
    "ExecuteTime": {
     "end_time": "2023-07-08T17:54:55.215002Z",
     "start_time": "2023-07-08T17:54:55.215002Z"
    },
    "id": "c6b653e7",
    "outputId": "fc947c93-0295-4aca-d702-7e8ab6ddd38f"
   },
   "outputs": [],
   "source": [
    "drop_col.shape"
   ]
  },
  {
   "cell_type": "code",
   "execution_count": null,
   "id": "376acda3",
   "metadata": {
    "ExecuteTime": {
     "end_time": "2023-07-08T17:54:55.215002Z",
     "start_time": "2023-07-08T17:54:55.215002Z"
    },
    "id": "376acda3"
   },
   "outputs": [],
   "source": [
    "from sklearn import preprocessing\n",
    "labelEncoder = preprocessing.LabelEncoder()"
   ]
  },
  {
   "cell_type": "code",
   "execution_count": null,
   "id": "10dab82a",
   "metadata": {
    "ExecuteTime": {
     "end_time": "2023-07-08T17:54:55.215002Z",
     "start_time": "2023-07-08T17:54:55.215002Z"
    },
    "id": "10dab82a",
    "outputId": "8a2c00f2-a41d-4b71-b51c-0bd653b07eb9"
   },
   "outputs": [],
   "source": [
    "le = labelEncoder\n",
    "drop_col['size_category'] = le.fit_transform(drop_col['size_category'])\n",
    "drop_col"
   ]
  },
  {
   "cell_type": "code",
   "execution_count": null,
   "id": "acda5847",
   "metadata": {
    "ExecuteTime": {
     "end_time": "2023-07-08T17:54:55.222028Z",
     "start_time": "2023-07-08T17:54:55.222028Z"
    },
    "id": "acda5847",
    "outputId": "ac44b644-a259-4579-84ae-5befe53a0701"
   },
   "outputs": [],
   "source": [
    "sns.countplot(drop_col['size_category'])"
   ]
  },
  {
   "cell_type": "code",
   "execution_count": null,
   "id": "70f59c54",
   "metadata": {
    "ExecuteTime": {
     "end_time": "2023-07-08T17:54:55.222028Z",
     "start_time": "2023-07-08T17:54:55.222028Z"
    },
    "id": "70f59c54",
    "outputId": "80d0b16a-ed1f-4104-c303-1fc8df7f7eb2"
   },
   "outputs": [],
   "source": [
    "drop_col['size_category'].replace({'small':0,'large':0},inplace = True)\n",
    "drop_col"
   ]
  },
  {
   "cell_type": "code",
   "execution_count": null,
   "id": "6381c602",
   "metadata": {
    "ExecuteTime": {
     "end_time": "2023-07-08T17:54:55.222028Z",
     "start_time": "2023-07-08T17:54:55.222028Z"
    },
    "id": "6381c602",
    "outputId": "72bc6f35-4095-4034-d2d6-67b2a3afd179"
   },
   "outputs": [],
   "source": [
    "fire_corr = drop_col.corr()\n",
    "fire_corr"
   ]
  },
  {
   "cell_type": "code",
   "execution_count": null,
   "id": "8efb8b00",
   "metadata": {
    "ExecuteTime": {
     "end_time": "2023-07-08T17:54:55.222028Z",
     "start_time": "2023-07-08T17:54:55.222028Z"
    },
    "id": "8efb8b00",
    "outputId": "51e733ff-899e-45d7-9392-02d84b7c3048"
   },
   "outputs": [],
   "source": [
    "plt.figure(figsize = (20,20))\n",
    "sns.heatmap(fire_corr, annot = True)\n",
    "plt.show()"
   ]
  },
  {
   "cell_type": "code",
   "execution_count": null,
   "id": "c9409854",
   "metadata": {
    "ExecuteTime": {
     "end_time": "2023-07-08T17:54:55.230053Z",
     "start_time": "2023-07-08T17:54:55.230053Z"
    },
    "id": "c9409854",
    "outputId": "1a9a1261-1d9a-49fe-de9a-e85f362865b8"
   },
   "outputs": [],
   "source": [
    "pair_data = pd.concat([drop_col.iloc[:,0:9], drop_col.iloc[:,-1]],axis = 1)\n",
    "sns.pairplot(pair_data)\n",
    "plt.show()"
   ]
  },
  {
   "cell_type": "markdown",
   "id": "a1274fd0",
   "metadata": {
    "id": "a1274fd0"
   },
   "source": [
    "### Model Building"
   ]
  },
  {
   "cell_type": "code",
   "execution_count": null,
   "id": "853afec3",
   "metadata": {
    "ExecuteTime": {
     "end_time": "2023-07-08T17:54:55.230053Z",
     "start_time": "2023-07-08T17:54:55.230053Z"
    },
    "id": "853afec3"
   },
   "outputs": [],
   "source": [
    "x = drop_col.drop(labels='size_category',axis = 1)\n",
    "y = drop_col[['size_category']]"
   ]
  },
  {
   "cell_type": "code",
   "execution_count": null,
   "id": "3fa1d5c2",
   "metadata": {
    "ExecuteTime": {
     "end_time": "2023-07-08T17:54:55.230053Z",
     "start_time": "2023-07-08T17:54:55.230053Z"
    },
    "id": "3fa1d5c2",
    "outputId": "2016f535-e155-444e-b0bb-0ea4dc96dddf"
   },
   "outputs": [],
   "source": [
    "x"
   ]
  },
  {
   "cell_type": "code",
   "execution_count": null,
   "id": "6b0ed0c7",
   "metadata": {
    "ExecuteTime": {
     "end_time": "2023-07-08T17:54:55.230053Z",
     "start_time": "2023-07-08T17:54:55.230053Z"
    },
    "id": "6b0ed0c7",
    "outputId": "4f16a6ce-7db6-4a1f-9f78-fc059677d1b3"
   },
   "outputs": [],
   "source": [
    "y"
   ]
  },
  {
   "cell_type": "code",
   "execution_count": null,
   "id": "aad02afa",
   "metadata": {
    "ExecuteTime": {
     "end_time": "2023-07-08T17:54:55.238056Z",
     "start_time": "2023-07-08T17:54:55.238056Z"
    },
    "id": "aad02afa"
   },
   "outputs": [],
   "source": [
    "x_train, x_test, y_train, y_test = train_test_split(x, y,\n",
    "                                                   test_size = .3, random_state = 45)"
   ]
  },
  {
   "cell_type": "code",
   "execution_count": null,
   "id": "1549d4c4",
   "metadata": {
    "ExecuteTime": {
     "end_time": "2023-07-08T17:54:55.238056Z",
     "start_time": "2023-07-08T17:54:55.238056Z"
    },
    "id": "1549d4c4",
    "outputId": "a413b823-84db-4a46-e494-8a5e41fa0989"
   },
   "outputs": [],
   "source": [
    "print(\"shape of x_train:\", x_train.shape)\n",
    "print(\"shape of y_train:\", y_train.shape)"
   ]
  },
  {
   "cell_type": "markdown",
   "id": "83280fff",
   "metadata": {
    "id": "83280fff"
   },
   "source": [
    "Data Is Imbalance so i have to balance it , so i m using here smote operation of balancing technique"
   ]
  },
  {
   "cell_type": "code",
   "execution_count": null,
   "id": "1e433c61",
   "metadata": {
    "ExecuteTime": {
     "end_time": "2023-07-08T17:54:55.238056Z",
     "start_time": "2023-07-08T17:54:55.238056Z"
    },
    "id": "1e433c61",
    "outputId": "7ecbb959-8d0f-4bdd-bc72-55f11bf3e9ff"
   },
   "outputs": [],
   "source": [
    "sm = SMOTE(random_state=12)\n",
    "x_train_sm,y_train_sm = sm.fit_resample(x_train,np.array(y_train).ravel())\n",
    "x_train_sm,y_train_sm"
   ]
  },
  {
   "cell_type": "code",
   "execution_count": null,
   "id": "cb655bb4",
   "metadata": {
    "ExecuteTime": {
     "end_time": "2023-07-08T17:54:55.238056Z",
     "start_time": "2023-07-08T17:54:55.238056Z"
    },
    "id": "cb655bb4",
    "outputId": "5be83e2d-687d-4a5e-94f8-1dfa13be9a6d"
   },
   "outputs": [],
   "source": [
    "x_train_sm.shape, y_train_sm.shape"
   ]
  },
  {
   "cell_type": "code",
   "execution_count": null,
   "id": "5784553c",
   "metadata": {
    "ExecuteTime": {
     "end_time": "2023-07-08T17:54:55.246057Z",
     "start_time": "2023-07-08T17:54:55.246057Z"
    },
    "id": "5784553c"
   },
   "outputs": [],
   "source": [
    "x_train = x_train_sm.copy()\n",
    "y_train = y_train_sm.copy()"
   ]
  },
  {
   "cell_type": "markdown",
   "id": "c567c213",
   "metadata": {
    "id": "c567c213"
   },
   "source": [
    "### Converting Data into Standard Scale"
   ]
  },
  {
   "cell_type": "code",
   "execution_count": null,
   "id": "71fa1fcd",
   "metadata": {
    "ExecuteTime": {
     "end_time": "2023-07-08T17:54:55.246057Z",
     "start_time": "2023-07-08T17:54:55.246057Z"
    },
    "id": "71fa1fcd",
    "outputId": "1312a7e9-d56e-408e-b67c-dd38dff205b4"
   },
   "outputs": [],
   "source": [
    "scale = MinMaxScaler()\n",
    "X_train = scale.fit_transform(x_train)\n",
    "X_train"
   ]
  },
  {
   "cell_type": "code",
   "execution_count": null,
   "id": "a0e7ee11",
   "metadata": {
    "ExecuteTime": {
     "end_time": "2023-07-08T17:54:55.246057Z",
     "start_time": "2023-07-08T17:54:55.246057Z"
    },
    "id": "a0e7ee11",
    "outputId": "d2b5346d-5ef8-4e7a-b3c1-4f1940e27701"
   },
   "outputs": [],
   "source": [
    "X_test = scale.fit_transform(x_test)\n",
    "X_test"
   ]
  },
  {
   "cell_type": "markdown",
   "id": "c6cda46a",
   "metadata": {
    "id": "c6cda46a"
   },
   "source": [
    "### Model Training\n",
    "\n",
    "Tuning of Hyperparameter : Batch size and Epoch"
   ]
  },
  {
   "cell_type": "code",
   "execution_count": null,
   "id": "8264b454",
   "metadata": {
    "ExecuteTime": {
     "end_time": "2023-07-08T17:54:55.246057Z",
     "start_time": "2023-07-08T17:54:55.246057Z"
    },
    "id": "8264b454"
   },
   "outputs": [],
   "source": [
    "def creat_model():\n",
    "    model = Sequential()\n",
    "    model.add(Dense(8, input_dim = 28,kernel_initializer='uniform', activation='relu'))\n",
    "    model.add(Dropout(0.2))\n",
    "    model.add(Dense(4,kernel_initializer='uniform', activation='relu'))\n",
    "    model.add(Dropout(0.2))\n",
    "    model.add(Dense(1,kernel_initializer='uniform', activation='sigmoid'))\n",
    "    adam = Adam(learning_rate=0.001)\n",
    "    model.compile(loss='binary_crossentropy',optimizer = adam,metrics='accuracy')\n",
    "    return model"
   ]
  },
  {
   "cell_type": "code",
   "execution_count": null,
   "id": "b3d6c9a3",
   "metadata": {
    "ExecuteTime": {
     "end_time": "2023-07-08T17:54:55.256134Z",
     "start_time": "2023-07-08T17:54:55.256134Z"
    },
    "id": "b3d6c9a3",
    "outputId": "9811eaa0-4259-48d6-b683-15fc7f31c556"
   },
   "outputs": [],
   "source": [
    "model = KerasClassifier(build_fn=creat_model,verbose = 0)\n",
    "batch_size = [10,30,50]\n",
    "epochs = [10,20,50]\n",
    "param_grid = dict(batch_size = batch_size,epochs = epochs)\n",
    "gsv = GridSearchCV(estimator=model,param_grid=param_grid,cv = KFold(),verbose=5)\n",
    "gsv_res = gsv.fit(X_train,y_train)"
   ]
  },
  {
   "cell_type": "code",
   "execution_count": null,
   "id": "afaaeb07",
   "metadata": {
    "ExecuteTime": {
     "end_time": "2023-07-08T17:54:55.256134Z",
     "start_time": "2023-07-08T17:54:55.256134Z"
    },
    "id": "afaaeb07",
    "outputId": "3844bec2-3bf9-4a0e-be62-a7708557f8bb"
   },
   "outputs": [],
   "source": [
    "print(gsv_res.best_params_,gsv_res.best_score_)"
   ]
  },
  {
   "cell_type": "code",
   "execution_count": null,
   "id": "b56cc0fc",
   "metadata": {
    "ExecuteTime": {
     "end_time": "2023-07-08T17:54:55.256134Z",
     "start_time": "2023-07-08T17:54:55.256134Z"
    },
    "id": "b56cc0fc"
   },
   "outputs": [],
   "source": [
    "#Turning Hyperparameter: Learning rate and Dropout rate\n",
    "def creat_model(learning_rate,dropout_rate):\n",
    "    model = Sequential()\n",
    "    model.add(Dense(8, input_dim = 28,kernel_initializer='uniform', activation='relu'))\n",
    "    model.add(Dropout(0.2))\n",
    "    model.add(Dense(4,kernel_initializer='uniform', activation='relu'))\n",
    "    model.add(Dropout(0.2))\n",
    "    model.add(Dense(1,kernel_initializer='uniform', activation='sigmoid'))\n",
    "    adam = Adam(learning_rate=learning_rate)\n",
    "    model.compile(loss='binary_crossentropy',optimizer = adam,metrics='accuracy')\n",
    "    return model"
   ]
  },
  {
   "cell_type": "code",
   "execution_count": null,
   "id": "69fee0d2",
   "metadata": {
    "ExecuteTime": {
     "end_time": "2023-07-08T17:54:55.262159Z",
     "start_time": "2023-07-08T17:54:55.262159Z"
    },
    "id": "69fee0d2",
    "outputId": "c41669b4-157d-463c-81f0-fdeaa63bb39d"
   },
   "outputs": [],
   "source": [
    "model = KerasClassifier(build_fn=creat_model,batch_size = 10,epochs = 50,verbose = 0)\n",
    "learning_rate = [0.1,0.01,0.001]\n",
    "dropout_rate = [0.0,0.1,0.2]\n",
    "param_grid = dict(learning_rate = learning_rate,dropout_rate = dropout_rate)\n",
    "gsv = GridSearchCV(estimator=model,param_grid=param_grid,cv= KFold(),verbose=5)\n",
    "gsv_r = gsv.fit(X_train,y_train)"
   ]
  },
  {
   "cell_type": "code",
   "execution_count": null,
   "id": "f0bbd614",
   "metadata": {
    "ExecuteTime": {
     "end_time": "2023-07-08T17:54:55.262159Z",
     "start_time": "2023-07-08T17:54:55.262159Z"
    },
    "id": "f0bbd614",
    "outputId": "f0258022-0ff1-4e49-fbbe-64789b073326"
   },
   "outputs": [],
   "source": [
    "print(gsv_r.best_params_,gsv_r.best_score_)"
   ]
  },
  {
   "cell_type": "markdown",
   "id": "769d0aad",
   "metadata": {
    "id": "769d0aad"
   },
   "source": [
    " Tuning of Hyperparameter :Activation Function & Kernel Initializer"
   ]
  },
  {
   "cell_type": "code",
   "execution_count": null,
   "id": "011ec1ec",
   "metadata": {
    "ExecuteTime": {
     "end_time": "2023-07-08T17:54:55.262159Z",
     "start_time": "2023-07-08T17:54:55.262159Z"
    },
    "id": "011ec1ec"
   },
   "outputs": [],
   "source": [
    "def creat_model(Activation_Function,init):\n",
    "    model = Sequential()\n",
    "    model.add(Dense(8, input_dim = 28,kernel_initializer='uniform', activation='relu'))\n",
    "    model.add(Dropout(0.1))\n",
    "    model.add(Dense(4,kernel_initializer='uniform', activation='relu'))\n",
    "    model.add(Dropout(0.1))\n",
    "    model.add(Dense(1,kernel_initializer='uniform', activation='sigmoid'))\n",
    "    adam = Adam(learning_rate=0.001)\n",
    "    model.compile(loss='binary_crossentropy',optimizer = adam,metrics='accuracy')\n",
    "    return model"
   ]
  },
  {
   "cell_type": "code",
   "execution_count": null,
   "id": "693e5986",
   "metadata": {
    "ExecuteTime": {
     "end_time": "2023-07-08T17:54:55.270185Z",
     "start_time": "2023-07-08T17:54:55.270185Z"
    },
    "id": "693e5986",
    "outputId": "2f722299-0f73-4c6a-b50c-bdad0d5a1bff"
   },
   "outputs": [],
   "source": [
    "model = KerasClassifier(build_fn=creat_model,batch_size = 10,epochs = 50,verbose = 0)\n",
    "Activation_Function = ['relu','tanh','softmax','linear']\n",
    "init = ['zero','uniform','normal']\n",
    "param_grid = dict(Activation_Function = Activation_Function,init = init)\n",
    "\n",
    "gsv = GridSearchCV(estimator=model,param_grid=param_grid,cv= KFold(),verbose=5)\n",
    "gsv_result = gsv.fit(X_train,y_train)"
   ]
  },
  {
   "cell_type": "code",
   "execution_count": null,
   "id": "302a3ab0",
   "metadata": {
    "ExecuteTime": {
     "end_time": "2023-07-08T17:54:55.270185Z",
     "start_time": "2023-07-08T17:54:55.270185Z"
    },
    "id": "302a3ab0",
    "outputId": "66f3d62c-45e8-4c93-c7c0-1cb753441ecf"
   },
   "outputs": [],
   "source": [
    "print(gsv_result.best_score_,gsv_result.best_params_)"
   ]
  },
  {
   "cell_type": "markdown",
   "id": "c99d7615",
   "metadata": {
    "id": "c99d7615"
   },
   "source": [
    "Tuning of Hyperparameter :Number of Neurons in hidden layer"
   ]
  },
  {
   "cell_type": "code",
   "execution_count": null,
   "id": "98415333",
   "metadata": {
    "ExecuteTime": {
     "end_time": "2023-07-08T17:54:55.270185Z",
     "start_time": "2023-07-08T17:54:55.270185Z"
    },
    "id": "98415333"
   },
   "outputs": [],
   "source": [
    "def creat_model(neuron1,neuron2):\n",
    "    model = Sequential()\n",
    "    model.add(Dense(8,input_dim=28,kernel_initializer='normal', activation='tanh'))\n",
    "    model.add(Dropout(0.1))\n",
    "    model.add(Dense(4,kernel_initializer='normal',activation='tanh'))\n",
    "    model.add(Dropout(0.1))\n",
    "    model.add(Dense(1,kernel_initializer='normal',activation='sigmoid'))\n",
    "    adam = Adam(learning_rate=0.001)\n",
    "    model.compile(loss='binary_crossentropy', optimizer=adam, metrics=['accuracy'])\n",
    "    return model"
   ]
  },
  {
   "cell_type": "code",
   "execution_count": null,
   "id": "bda90e78",
   "metadata": {
    "ExecuteTime": {
     "end_time": "2023-07-08T17:54:55.278186Z",
     "start_time": "2023-07-08T17:54:55.278186Z"
    },
    "id": "bda90e78",
    "outputId": "b5d4bbf7-d91b-4f87-be97-906d3de5b99c"
   },
   "outputs": [],
   "source": [
    "model = KerasClassifier(build_fn=creat_model,batch_size = 10,epochs = 50,verbose = 0)\n",
    "neuron1 = [24,16,8]\n",
    "neuron2 = [12,8,4]\n",
    "param_grid = dict(neuron1 = neuron1,neuron2=neuron2)\n",
    "gsv = GridSearchCV(estimator=model,param_grid=param_grid,cv=KFold(),verbose=5)\n",
    "gsv_n = gsv.fit(X_train,y_train)"
   ]
  },
  {
   "cell_type": "code",
   "execution_count": null,
   "id": "82f4ef03",
   "metadata": {
    "ExecuteTime": {
     "end_time": "2023-07-08T17:54:55.278186Z",
     "start_time": "2023-07-08T17:54:55.278186Z"
    },
    "id": "82f4ef03",
    "outputId": "2d94083e-8799-4f35-f949-dd28bf97b812"
   },
   "outputs": [],
   "source": [
    "print(gsv_n.best_score_,gsv_n.best_params_)"
   ]
  },
  {
   "cell_type": "markdown",
   "id": "daaaaa03",
   "metadata": {
    "id": "daaaaa03"
   },
   "source": [
    "Train a model with optimum values of hyperparameter"
   ]
  },
  {
   "cell_type": "code",
   "execution_count": null,
   "id": "a5f812d8",
   "metadata": {
    "ExecuteTime": {
     "end_time": "2023-07-08T17:54:55.278186Z",
     "start_time": "2023-07-08T17:54:55.278186Z"
    },
    "id": "a5f812d8"
   },
   "outputs": [],
   "source": [
    "# best Parameters\n",
    "# batch_size = 10\n",
    "# epochs = 50\n",
    "# dropout_rate = 0.1\n",
    "# learning rate = 0.001\n",
    "# activation_function = tanh\n",
    "# kernel_initiative = normal\n",
    "# neuron1 = 8\n",
    "# neuron2 = 8"
   ]
  },
  {
   "cell_type": "code",
   "execution_count": null,
   "id": "f7cb82f4",
   "metadata": {
    "ExecuteTime": {
     "end_time": "2023-07-08T17:54:55.278186Z",
     "start_time": "2023-07-08T17:54:55.278186Z"
    },
    "id": "f7cb82f4"
   },
   "outputs": [],
   "source": [
    "def creat_model():\n",
    "    model = Sequential()\n",
    "    model.add(Dense(8,input_dim=28,kernel_initializer='normal', activation='tanh'))\n",
    "    model.add(Dropout(0.1))\n",
    "    model.add(Dense(8,kernel_initializer='normal',activation='tanh'))\n",
    "    model.add(Dropout(0.1))\n",
    "    model.add(Dense(1,kernel_initializer='normal',activation='sigmoid'))\n",
    "    adam = Adam(learning_rate=0.001)\n",
    "    model.compile(loss='binary_crossentropy', optimizer=adam, metrics=['accuracy'])\n",
    "    return model"
   ]
  },
  {
   "cell_type": "code",
   "execution_count": null,
   "id": "d731ccb4",
   "metadata": {
    "ExecuteTime": {
     "end_time": "2023-07-08T17:54:55.286187Z",
     "start_time": "2023-07-08T17:54:55.286187Z"
    },
    "id": "d731ccb4",
    "outputId": "5ffe3db1-7e57-4896-bda2-0ee0ba314eeb"
   },
   "outputs": [],
   "source": [
    "model = KerasClassifier(build_fn=creat_model,batch_size = 10,epochs = 50)\n",
    "model.fit(X_train,y_train)"
   ]
  },
  {
   "cell_type": "code",
   "execution_count": null,
   "id": "e4035f2b",
   "metadata": {
    "ExecuteTime": {
     "end_time": "2023-07-08T17:54:55.286187Z",
     "start_time": "2023-07-08T17:54:55.286187Z"
    },
    "id": "e4035f2b",
    "outputId": "ec96a70f-4282-49c6-ec3f-d1c120f8f56b"
   },
   "outputs": [],
   "source": [
    "y_predict = model.predict(X_train)"
   ]
  },
  {
   "cell_type": "code",
   "execution_count": null,
   "id": "d342753f",
   "metadata": {
    "ExecuteTime": {
     "end_time": "2023-07-08T17:54:55.286187Z",
     "start_time": "2023-07-08T17:54:55.286187Z"
    },
    "id": "d342753f",
    "outputId": "0819f809-dc5e-469b-b2be-3d95ca1115f0"
   },
   "outputs": [],
   "source": [
    "accuracy_score(y_train,y_predict)"
   ]
  },
  {
   "cell_type": "code",
   "execution_count": null,
   "id": "7274a51e",
   "metadata": {
    "ExecuteTime": {
     "end_time": "2023-07-08T17:54:55.294188Z",
     "start_time": "2023-07-08T17:54:55.294188Z"
    },
    "id": "7274a51e",
    "outputId": "0dd5e46a-a3c0-47d9-9cc7-4d017f561871"
   },
   "outputs": [],
   "source": [
    "confusion_matrix(y_train,y_predict)"
   ]
  },
  {
   "cell_type": "code",
   "execution_count": null,
   "id": "383ad150",
   "metadata": {
    "ExecuteTime": {
     "end_time": "2023-07-08T17:54:55.294188Z",
     "start_time": "2023-07-08T17:54:55.294188Z"
    },
    "id": "383ad150",
    "outputId": "fcc5a35b-1d0f-468e-ebff-6bd2bbe67d6b"
   },
   "outputs": [],
   "source": [
    "print(classification_report(y_train,y_predict))"
   ]
  },
  {
   "cell_type": "code",
   "execution_count": null,
   "id": "8da0525f",
   "metadata": {
    "ExecuteTime": {
     "end_time": "2023-07-08T17:54:55.294188Z",
     "start_time": "2023-07-08T17:54:55.294188Z"
    },
    "id": "8da0525f",
    "outputId": "d57b9488-e135-4310-b778-b493f00d55d8"
   },
   "outputs": [],
   "source": [
    "# testing data\n",
    "y_test_pred = model.predict(X_test)"
   ]
  },
  {
   "cell_type": "code",
   "execution_count": null,
   "id": "bea25b29",
   "metadata": {
    "ExecuteTime": {
     "end_time": "2023-07-08T17:54:55.302171Z",
     "start_time": "2023-07-08T17:54:55.302171Z"
    },
    "id": "bea25b29",
    "outputId": "9f68d667-52a0-4838-a75d-a3b1f0c7d78c"
   },
   "outputs": [],
   "source": [
    "accuracy_score(y_test,y_test_pred)"
   ]
  },
  {
   "cell_type": "code",
   "execution_count": null,
   "id": "c7833987",
   "metadata": {
    "ExecuteTime": {
     "end_time": "2023-07-08T17:54:55.302171Z",
     "start_time": "2023-07-08T17:54:55.302171Z"
    },
    "id": "c7833987",
    "outputId": "0cae5bf6-e111-45fd-80d6-e5b69ecc444a"
   },
   "outputs": [],
   "source": [
    "confusion_matrix(y_test,y_test_pred)"
   ]
  },
  {
   "cell_type": "code",
   "execution_count": null,
   "id": "4bd39871",
   "metadata": {
    "ExecuteTime": {
     "end_time": "2023-07-08T17:54:55.302171Z",
     "start_time": "2023-07-08T17:54:55.302171Z"
    },
    "id": "4bd39871",
    "outputId": "fdd9dae7-e107-4b7d-efb5-a99c50dd24ee"
   },
   "outputs": [],
   "source": [
    "print(classification_report(y_test,y_test_pred))"
   ]
  },
  {
   "cell_type": "code",
   "execution_count": null,
   "id": "8f7efd92",
   "metadata": {
    "id": "8f7efd92"
   },
   "outputs": [],
   "source": []
  }
 ],
 "metadata": {
  "colab": {
   "provenance": []
  },
  "kernelspec": {
   "display_name": "Python 3 (ipykernel)",
   "language": "python",
   "name": "python3"
  },
  "language_info": {
   "codemirror_mode": {
    "name": "ipython",
    "version": 3
   },
   "file_extension": ".py",
   "mimetype": "text/x-python",
   "name": "python",
   "nbconvert_exporter": "python",
   "pygments_lexer": "ipython3",
   "version": "3.9.12"
  }
 },
 "nbformat": 4,
 "nbformat_minor": 5
}
