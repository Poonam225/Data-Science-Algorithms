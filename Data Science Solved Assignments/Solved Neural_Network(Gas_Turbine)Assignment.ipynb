{
 "cells": [
  {
   "cell_type": "markdown",
   "id": "587c1015",
   "metadata": {
    "id": "587c1015"
   },
   "source": [
    "## Predicting turbine energy yield (TEY) using ambient variables as features.\n"
   ]
  },
  {
   "cell_type": "code",
   "execution_count": 1,
   "id": "208935f0",
   "metadata": {
    "ExecuteTime": {
     "end_time": "2023-07-08T17:47:49.401246Z",
     "start_time": "2023-07-08T17:45:50.803306Z"
    },
    "id": "208935f0",
    "outputId": "cd98f031-8ffb-44b6-fdbc-83e1696360a3"
   },
   "outputs": [
    {
     "name": "stdout",
     "output_type": "stream",
     "text": [
      "Collecting tensorflow\n",
      "  Using cached tensorflow-2.13.0-cp39-cp39-win_amd64.whl (1.9 kB)\n",
      "Collecting tensorflow-intel==2.13.0\n",
      "  Using cached tensorflow_intel-2.13.0-cp39-cp39-win_amd64.whl (276.5 MB)\n",
      "Collecting flatbuffers>=23.1.21\n",
      "  Using cached flatbuffers-23.5.26-py2.py3-none-any.whl (26 kB)\n",
      "Collecting typing-extensions<4.6.0,>=3.6.6\n",
      "  Using cached typing_extensions-4.5.0-py3-none-any.whl (27 kB)\n",
      "Requirement already satisfied: h5py>=2.9.0 in c:\\programdata\\anaconda3\\lib\\site-packages (from tensorflow-intel==2.13.0->tensorflow) (3.6.0)\n",
      "Collecting tensorflow-estimator<2.14,>=2.13.0\n",
      "  Using cached tensorflow_estimator-2.13.0-py2.py3-none-any.whl (440 kB)\n",
      "Requirement already satisfied: wrapt>=1.11.0 in c:\\programdata\\anaconda3\\lib\\site-packages (from tensorflow-intel==2.13.0->tensorflow) (1.12.1)\n",
      "Requirement already satisfied: setuptools in c:\\programdata\\anaconda3\\lib\\site-packages (from tensorflow-intel==2.13.0->tensorflow) (61.2.0)\n",
      "Collecting libclang>=13.0.0\n",
      "  Using cached libclang-16.0.0-py2.py3-none-win_amd64.whl (24.4 MB)\n",
      "Collecting gast<=0.4.0,>=0.2.1\n",
      "  Using cached gast-0.4.0-py3-none-any.whl (9.8 kB)\n",
      "Requirement already satisfied: keras<2.14,>=2.13.1 in c:\\programdata\\anaconda3\\lib\\site-packages (from tensorflow-intel==2.13.0->tensorflow) (2.13.1)\n",
      "Collecting protobuf!=4.21.0,!=4.21.1,!=4.21.2,!=4.21.3,!=4.21.4,!=4.21.5,<5.0.0dev,>=3.20.3\n",
      "  Using cached protobuf-4.23.4-cp39-cp39-win_amd64.whl (422 kB)\n",
      "Collecting tensorflow-io-gcs-filesystem>=0.23.1\n",
      "  Using cached tensorflow_io_gcs_filesystem-0.31.0-cp39-cp39-win_amd64.whl (1.5 MB)\n",
      "Collecting opt-einsum>=2.3.2\n",
      "  Using cached opt_einsum-3.3.0-py3-none-any.whl (65 kB)\n",
      "Requirement already satisfied: six>=1.12.0 in c:\\programdata\\anaconda3\\lib\\site-packages (from tensorflow-intel==2.13.0->tensorflow) (1.16.0)\n",
      "Collecting google-pasta>=0.1.1\n",
      "  Using cached google_pasta-0.2.0-py3-none-any.whl (57 kB)\n",
      "Collecting astunparse>=1.6.0\n",
      "  Using cached astunparse-1.6.3-py2.py3-none-any.whl (12 kB)\n",
      "Collecting numpy<=1.24.3,>=1.22\n",
      "  Using cached numpy-1.24.3-cp39-cp39-win_amd64.whl (14.9 MB)\n",
      "Requirement already satisfied: grpcio<2.0,>=1.24.3 in c:\\programdata\\anaconda3\\lib\\site-packages (from tensorflow-intel==2.13.0->tensorflow) (1.42.0)\n",
      "Collecting absl-py>=1.0.0\n",
      "  Using cached absl_py-1.4.0-py3-none-any.whl (126 kB)\n",
      "Collecting tensorboard<2.14,>=2.13\n",
      "  Using cached tensorboard-2.13.0-py3-none-any.whl (5.6 MB)\n",
      "Collecting termcolor>=1.1.0\n",
      "  Using cached termcolor-2.3.0-py3-none-any.whl (6.9 kB)\n",
      "Requirement already satisfied: packaging in c:\\programdata\\anaconda3\\lib\\site-packages (from tensorflow-intel==2.13.0->tensorflow) (21.3)"
     ]
    },
    {
     "name": "stderr",
     "output_type": "stream",
     "text": [
      "WARNING: Ignoring invalid distribution -heel (c:\\programdata\\anaconda3\\lib\\site-packages)\n",
      "WARNING: Ignoring invalid distribution -heel (c:\\programdata\\anaconda3\\lib\\site-packages)\n",
      "WARNING: Ignoring invalid distribution -heel (c:\\programdata\\anaconda3\\lib\\site-packages)\n",
      "    WARNING: Ignoring invalid distribution -heel (c:\\programdata\\anaconda3\\lib\\site-packages)\n",
      "    WARNING: Ignoring invalid distribution -heel (c:\\programdata\\anaconda3\\lib\\site-packages)\n",
      "    WARNING: Ignoring invalid distribution -heel (c:\\programdata\\anaconda3\\lib\\site-packages)\n",
      "    WARNING: Ignoring invalid distribution -heel (c:\\programdata\\anaconda3\\lib\\site-packages)\n",
      "WARNING: Ignoring invalid distribution -heel (c:\\programdata\\anaconda3\\lib\\site-packages)\n",
      "WARNING: Ignoring invalid distribution -heel (c:\\programdata\\anaconda3\\lib\\site-packages)\n",
      "WARNING: Ignoring invalid distribution -heel (c:\\programdata\\anaconda3\\lib\\site-packages)\n",
      "WARNING: Ignoring invalid distribution -heel (c:\\programdata\\anaconda3\\lib\\site-packages)\n",
      "WARNING: Ignoring invalid distribution -heel (c:\\programdata\\anaconda3\\lib\\site-packages)\n",
      "WARNING: Ignoring invalid distribution -heel (c:\\programdata\\anaconda3\\lib\\site-packages)\n",
      "WARNING: Ignoring invalid distribution -heel (c:\\programdata\\anaconda3\\lib\\site-packages)\n",
      "WARNING: Ignoring invalid distribution -heel (c:\\programdata\\anaconda3\\lib\\site-packages)\n",
      "WARNING: Ignoring invalid distribution -heel (c:\\programdata\\anaconda3\\lib\\site-packages)\n",
      "WARNING: Ignoring invalid distribution -heel (c:\\programdata\\anaconda3\\lib\\site-packages)\n",
      "WARNING: Ignoring invalid distribution -heel (c:\\programdata\\anaconda3\\lib\\site-packages)\n",
      "WARNING: Ignoring invalid distribution -heel (c:\\programdata\\anaconda3\\lib\\site-packages)\n",
      "WARNING: Ignoring invalid distribution -heel (c:\\programdata\\anaconda3\\lib\\site-packages)\n",
      "WARNING: Ignoring invalid distribution -heel (c:\\programdata\\anaconda3\\lib\\site-packages)\n",
      "WARNING: Ignoring invalid distribution -heel (c:\\programdata\\anaconda3\\lib\\site-packages)\n",
      "WARNING: Ignoring invalid distribution -heel (c:\\programdata\\anaconda3\\lib\\site-packages)\n",
      "WARNING: Ignoring invalid distribution -heel (c:\\programdata\\anaconda3\\lib\\site-packages)\n",
      "WARNING: Ignoring invalid distribution -heel (c:\\programdata\\anaconda3\\lib\\site-packages)\n",
      "WARNING: Ignoring invalid distribution -heel (c:\\programdata\\anaconda3\\lib\\site-packages)\n",
      "ERROR: pip's dependency resolver does not currently take into account all the packages that are installed. This behaviour is the source of the following dependency conflicts.\n",
      "daal4py 2021.5.0 requires daal==2021.4.0, which is not installed.\n",
      "ydata-profiling 4.1.2 requires numpy<1.24,>=1.16.0, but you have numpy 1.24.3 which is incompatible.\n",
      "scipy 1.7.3 requires numpy<1.23.0,>=1.16.5, but you have numpy 1.24.3 which is incompatible.\n",
      "pydantic-core 2.1.2 requires typing-extensions!=4.7.0,>=4.6.0, but you have typing-extensions 4.5.0 which is incompatible.\n",
      "numba 0.55.1 requires numpy<1.22,>=1.18, but you have numpy 1.24.3 which is incompatible.\n",
      "google-api-core 1.25.1 requires google-auth<2.0dev,>=1.21.1, but you have google-auth 2.21.0 which is incompatible.\n",
      "WARNING: Ignoring invalid distribution -heel (c:\\programdata\\anaconda3\\lib\\site-packages)\n",
      "WARNING: Ignoring invalid distribution -heel (c:\\programdata\\anaconda3\\lib\\site-packages)\n",
      "WARNING: Ignoring invalid distribution -heel (c:\\programdata\\anaconda3\\lib\\site-packages)\n"
     ]
    },
    {
     "name": "stdout",
     "output_type": "stream",
     "text": [
      "\n",
      "Requirement already satisfied: wheel<1.0,>=0.23.0 in c:\\programdata\\anaconda3\\lib\\site-packages (from astunparse>=1.6.0->tensorflow-intel==2.13.0->tensorflow) (0.40.0)\n",
      "Collecting grpcio<2.0,>=1.24.3\n",
      "  Using cached grpcio-1.56.0-cp39-cp39-win_amd64.whl (4.2 MB)\n",
      "Requirement already satisfied: google-auth<3,>=1.6.3 in c:\\programdata\\anaconda3\\lib\\site-packages (from tensorboard<2.14,>=2.13->tensorflow-intel==2.13.0->tensorflow) (2.21.0)\n",
      "Requirement already satisfied: markdown>=2.6.8 in c:\\programdata\\anaconda3\\lib\\site-packages (from tensorboard<2.14,>=2.13->tensorflow-intel==2.13.0->tensorflow) (3.3.4)\n",
      "Requirement already satisfied: werkzeug>=1.0.1 in c:\\programdata\\anaconda3\\lib\\site-packages (from tensorboard<2.14,>=2.13->tensorflow-intel==2.13.0->tensorflow) (2.0.3)\n",
      "Collecting google-auth-oauthlib<1.1,>=0.5\n",
      "  Using cached google_auth_oauthlib-1.0.0-py2.py3-none-any.whl (18 kB)\n",
      "Requirement already satisfied: requests<3,>=2.21.0 in c:\\programdata\\anaconda3\\lib\\site-packages (from tensorboard<2.14,>=2.13->tensorflow-intel==2.13.0->tensorflow) (2.27.1)\n",
      "Collecting tensorboard-data-server<0.8.0,>=0.7.0\n",
      "  Using cached tensorboard_data_server-0.7.1-py3-none-any.whl (2.4 kB)\n",
      "Requirement already satisfied: pyasn1-modules>=0.2.1 in c:\\programdata\\anaconda3\\lib\\site-packages (from google-auth<3,>=1.6.3->tensorboard<2.14,>=2.13->tensorflow-intel==2.13.0->tensorflow) (0.2.8)\n",
      "Requirement already satisfied: cachetools<6.0,>=2.0.0 in c:\\programdata\\anaconda3\\lib\\site-packages (from google-auth<3,>=1.6.3->tensorboard<2.14,>=2.13->tensorflow-intel==2.13.0->tensorflow) (4.2.2)\n",
      "Requirement already satisfied: urllib3<2.0 in c:\\programdata\\anaconda3\\lib\\site-packages (from google-auth<3,>=1.6.3->tensorboard<2.14,>=2.13->tensorflow-intel==2.13.0->tensorflow) (1.26.9)\n",
      "Requirement already satisfied: rsa<5,>=3.1.4 in c:\\programdata\\anaconda3\\lib\\site-packages (from google-auth<3,>=1.6.3->tensorboard<2.14,>=2.13->tensorflow-intel==2.13.0->tensorflow) (4.7.2)\n",
      "Requirement already satisfied: requests-oauthlib>=0.7.0 in c:\\programdata\\anaconda3\\lib\\site-packages (from google-auth-oauthlib<1.1,>=0.5->tensorboard<2.14,>=2.13->tensorflow-intel==2.13.0->tensorflow) (1.3.1)\n",
      "Requirement already satisfied: pyasn1<0.5.0,>=0.4.6 in c:\\programdata\\anaconda3\\lib\\site-packages (from pyasn1-modules>=0.2.1->google-auth<3,>=1.6.3->tensorboard<2.14,>=2.13->tensorflow-intel==2.13.0->tensorflow) (0.4.8)\n",
      "Requirement already satisfied: idna<4,>=2.5 in c:\\programdata\\anaconda3\\lib\\site-packages (from requests<3,>=2.21.0->tensorboard<2.14,>=2.13->tensorflow-intel==2.13.0->tensorflow) (3.3)\n",
      "Requirement already satisfied: charset-normalizer~=2.0.0 in c:\\programdata\\anaconda3\\lib\\site-packages (from requests<3,>=2.21.0->tensorboard<2.14,>=2.13->tensorflow-intel==2.13.0->tensorflow) (2.0.4)\n",
      "Requirement already satisfied: certifi>=2017.4.17 in c:\\programdata\\anaconda3\\lib\\site-packages (from requests<3,>=2.21.0->tensorboard<2.14,>=2.13->tensorflow-intel==2.13.0->tensorflow) (2023.5.7)\n",
      "Requirement already satisfied: oauthlib>=3.0.0 in c:\\programdata\\anaconda3\\lib\\site-packages (from requests-oauthlib>=0.7.0->google-auth-oauthlib<1.1,>=0.5->tensorboard<2.14,>=2.13->tensorflow-intel==2.13.0->tensorflow) (3.2.2)\n",
      "Requirement already satisfied: pyparsing!=3.0.5,>=2.0.2 in c:\\programdata\\anaconda3\\lib\\site-packages (from packaging->tensorflow-intel==2.13.0->tensorflow) (3.0.4)\n",
      "Installing collected packages: tensorboard-data-server, protobuf, numpy, grpcio, google-auth-oauthlib, absl-py, typing-extensions, termcolor, tensorflow-io-gcs-filesystem, tensorflow-estimator, tensorboard, opt-einsum, libclang, google-pasta, gast, flatbuffers, astunparse, tensorflow-intel, tensorflow\n",
      "  Attempting uninstall: protobuf\n",
      "    Found existing installation: protobuf 3.19.1\n",
      "    Uninstalling protobuf-3.19.1:\n",
      "      Successfully uninstalled protobuf-3.19.1\n",
      "  Attempting uninstall: numpy\n",
      "    Found existing installation: numpy 1.21.5\n",
      "    Uninstalling numpy-1.21.5:\n",
      "      Successfully uninstalled numpy-1.21.5\n",
      "  Attempting uninstall: grpcio\n",
      "    Found existing installation: grpcio 1.42.0\n",
      "    Uninstalling grpcio-1.42.0:\n",
      "      Successfully uninstalled grpcio-1.42.0\n",
      "  Attempting uninstall: typing-extensions\n",
      "    Found existing installation: typing-extensions 4.7.1\n",
      "    Uninstalling typing-extensions-4.7.1:\n",
      "      Successfully uninstalled typing-extensions-4.7.1\n",
      "Successfully installed absl-py-1.4.0 astunparse-1.6.3 flatbuffers-23.5.26 gast-0.4.0 google-auth-oauthlib-1.0.0 google-pasta-0.2.0 grpcio-1.56.0 libclang-16.0.0 numpy-1.24.3 opt-einsum-3.3.0 protobuf-4.23.4 tensorboard-2.13.0 tensorboard-data-server-0.7.1 tensorflow-2.13.0 tensorflow-estimator-2.13.0 tensorflow-intel-2.13.0 tensorflow-io-gcs-filesystem-0.31.0 termcolor-2.3.0 typing-extensions-4.5.0\n",
      "Requirement already satisfied: keras in c:\\programdata\\anaconda3\\lib\\site-packages (2.13.1)\n"
     ]
    },
    {
     "name": "stderr",
     "output_type": "stream",
     "text": [
      "WARNING: Ignoring invalid distribution -heel (c:\\programdata\\anaconda3\\lib\\site-packages)\n",
      "WARNING: Ignoring invalid distribution -heel (c:\\programdata\\anaconda3\\lib\\site-packages)\n",
      "WARNING: Ignoring invalid distribution -heel (c:\\programdata\\anaconda3\\lib\\site-packages)\n",
      "WARNING: Ignoring invalid distribution -heel (c:\\programdata\\anaconda3\\lib\\site-packages)\n",
      "WARNING: Ignoring invalid distribution -heel (c:\\programdata\\anaconda3\\lib\\site-packages)\n",
      "WARNING: Ignoring invalid distribution -heel (c:\\programdata\\anaconda3\\lib\\site-packages)\n",
      "WARNING: Ignoring invalid distribution -heel (c:\\programdata\\anaconda3\\lib\\site-packages)\n",
      "WARNING: Ignoring invalid distribution -heel (c:\\programdata\\anaconda3\\lib\\site-packages)\n",
      "  ERROR: Command errored out with exit status 1:\n",
      "   command: 'C:\\ProgramData\\Anaconda3\\python.exe' -u -c 'import io, os, sys, setuptools, tokenize; sys.argv[0] = '\"'\"'C:\\\\Users\\\\HP\\\\AppData\\\\Local\\\\Temp\\\\pip-install-b_akb1tx\\\\tensorflow-gpu_2f1782b0730843b882ff40ea2578dc54\\\\setup.py'\"'\"'; __file__='\"'\"'C:\\\\Users\\\\HP\\\\AppData\\\\Local\\\\Temp\\\\pip-install-b_akb1tx\\\\tensorflow-gpu_2f1782b0730843b882ff40ea2578dc54\\\\setup.py'\"'\"';f = getattr(tokenize, '\"'\"'open'\"'\"', open)(__file__) if os.path.exists(__file__) else io.StringIO('\"'\"'from setuptools import setup; setup()'\"'\"');code = f.read().replace('\"'\"'\\r\\n'\"'\"', '\"'\"'\\n'\"'\"');f.close();exec(compile(code, __file__, '\"'\"'exec'\"'\"'))' bdist_wheel -d 'C:\\Users\\HP\\AppData\\Local\\Temp\\pip-wheel-v04tw3t6'\n",
      "       cwd: C:\\Users\\HP\\AppData\\Local\\Temp\\pip-install-b_akb1tx\\tensorflow-gpu_2f1782b0730843b882ff40ea2578dc54\\\n",
      "  Complete output (17 lines):\n",
      "  Traceback (most recent call last):\n",
      "    File \"<string>\", line 1, in <module>\n",
      "    File \"C:\\Users\\HP\\AppData\\Local\\Temp\\pip-install-b_akb1tx\\tensorflow-gpu_2f1782b0730843b882ff40ea2578dc54\\setup.py\", line 37, in <module>\n",
      "      raise Exception(TF_REMOVAL_WARNING)\n",
      "  Exception:\n",
      "  \n",
      "  =========================================================\n",
      "  The \"tensorflow-gpu\" package has been removed!\n",
      "  \n",
      "  Please install \"tensorflow\" instead.\n",
      "  \n",
      "  Other than the name, the two packages have been identical\n",
      "  since TensorFlow 2.1, or roughly since Sep 2019. For more\n",
      "  information, see: pypi.org/project/tensorflow-gpu\n",
      "  =========================================================\n",
      "  \n",
      "  \n",
      "  ----------------------------------------\n",
      "  ERROR: Failed building wheel for tensorflow-gpu\n",
      "WARNING: Ignoring invalid distribution -heel (c:\\programdata\\anaconda3\\lib\\site-packages)\n",
      "    ERROR: Command errored out with exit status 1:\n",
      "     command: 'C:\\ProgramData\\Anaconda3\\python.exe' -u -c 'import io, os, sys, setuptools, tokenize; sys.argv[0] = '\"'\"'C:\\\\Users\\\\HP\\\\AppData\\\\Local\\\\Temp\\\\pip-install-b_akb1tx\\\\tensorflow-gpu_2f1782b0730843b882ff40ea2578dc54\\\\setup.py'\"'\"'; __file__='\"'\"'C:\\\\Users\\\\HP\\\\AppData\\\\Local\\\\Temp\\\\pip-install-b_akb1tx\\\\tensorflow-gpu_2f1782b0730843b882ff40ea2578dc54\\\\setup.py'\"'\"';f = getattr(tokenize, '\"'\"'open'\"'\"', open)(__file__) if os.path.exists(__file__) else io.StringIO('\"'\"'from setuptools import setup; setup()'\"'\"');code = f.read().replace('\"'\"'\\r\\n'\"'\"', '\"'\"'\\n'\"'\"');f.close();exec(compile(code, __file__, '\"'\"'exec'\"'\"'))' install --record 'C:\\Users\\HP\\AppData\\Local\\Temp\\pip-record-flv0petk\\install-record.txt' --single-version-externally-managed --compile --install-headers 'C:\\ProgramData\\Anaconda3\\Include\\tensorflow-gpu'\n",
      "         cwd: C:\\Users\\HP\\AppData\\Local\\Temp\\pip-install-b_akb1tx\\tensorflow-gpu_2f1782b0730843b882ff40ea2578dc54\\\n",
      "    Complete output (17 lines):\n",
      "    Traceback (most recent call last):\n",
      "      File \"<string>\", line 1, in <module>\n",
      "      File \"C:\\Users\\HP\\AppData\\Local\\Temp\\pip-install-b_akb1tx\\tensorflow-gpu_2f1782b0730843b882ff40ea2578dc54\\setup.py\", line 37, in <module>\n",
      "        raise Exception(TF_REMOVAL_WARNING)\n",
      "    Exception:\n",
      "    \n",
      "    =========================================================\n",
      "    The \"tensorflow-gpu\" package has been removed!\n",
      "    \n",
      "    Please install \"tensorflow\" instead.\n",
      "    \n",
      "    Other than the name, the two packages have been identical\n",
      "    since TensorFlow 2.1, or roughly since Sep 2019. For more\n",
      "    information, see: pypi.org/project/tensorflow-gpu\n",
      "    =========================================================\n",
      "    \n",
      "    \n",
      "    ----------------------------------------\n",
      "ERROR: Command errored out with exit status 1: 'C:\\ProgramData\\Anaconda3\\python.exe' -u -c 'import io, os, sys, setuptools, tokenize; sys.argv[0] = '\"'\"'C:\\\\Users\\\\HP\\\\AppData\\\\Local\\\\Temp\\\\pip-install-b_akb1tx\\\\tensorflow-gpu_2f1782b0730843b882ff40ea2578dc54\\\\setup.py'\"'\"'; __file__='\"'\"'C:\\\\Users\\\\HP\\\\AppData\\\\Local\\\\Temp\\\\pip-install-b_akb1tx\\\\tensorflow-gpu_2f1782b0730843b882ff40ea2578dc54\\\\setup.py'\"'\"';f = getattr(tokenize, '\"'\"'open'\"'\"', open)(__file__) if os.path.exists(__file__) else io.StringIO('\"'\"'from setuptools import setup; setup()'\"'\"');code = f.read().replace('\"'\"'\\r\\n'\"'\"', '\"'\"'\\n'\"'\"');f.close();exec(compile(code, __file__, '\"'\"'exec'\"'\"'))' install --record 'C:\\Users\\HP\\AppData\\Local\\Temp\\pip-record-flv0petk\\install-record.txt' --single-version-externally-managed --compile --install-headers 'C:\\ProgramData\\Anaconda3\\Include\\tensorflow-gpu' Check the logs for full command output.\n",
      "WARNING: Ignoring invalid distribution -heel (c:\\programdata\\anaconda3\\lib\\site-packages)\n",
      "WARNING: Ignoring invalid distribution -heel (c:\\programdata\\anaconda3\\lib\\site-packages)\n",
      "WARNING: Ignoring invalid distribution -heel (c:\\programdata\\anaconda3\\lib\\site-packages)\n"
     ]
    },
    {
     "name": "stdout",
     "output_type": "stream",
     "text": [
      "Collecting tensorflow-gpu\n",
      "  Using cached tensorflow-gpu-2.12.0.tar.gz (2.6 kB)\n",
      "Requirement already satisfied: python_version>\"3.7\" in c:\\programdata\\anaconda3\\lib\\site-packages (from tensorflow-gpu) (0.0.2)\n",
      "Building wheels for collected packages: tensorflow-gpu\n",
      "  Building wheel for tensorflow-gpu (setup.py): started\n",
      "  Building wheel for tensorflow-gpu (setup.py): finished with status 'error'\n",
      "  Running setup.py clean for tensorflow-gpu\n",
      "Failed to build tensorflow-gpu\n",
      "Installing collected packages: tensorflow-gpu\n",
      "    Running setup.py install for tensorflow-gpu: started\n",
      "    Running setup.py install for tensorflow-gpu: finished with status 'error'\n"
     ]
    },
    {
     "name": "stderr",
     "output_type": "stream",
     "text": [
      "C:\\ProgramData\\Anaconda3\\lib\\site-packages\\scipy\\__init__.py:146: UserWarning: A NumPy version >=1.16.5 and <1.23.0 is required for this version of SciPy (detected version 1.24.3\n",
      "  warnings.warn(f\"A NumPy version >={np_minversion} and <{np_maxversion}\"\n"
     ]
    },
    {
     "ename": "ModuleNotFoundError",
     "evalue": "No module named 'keras.wrappers'",
     "output_type": "error",
     "traceback": [
      "\u001b[1;31m---------------------------------------------------------------------------\u001b[0m",
      "\u001b[1;31mModuleNotFoundError\u001b[0m                       Traceback (most recent call last)",
      "Input \u001b[1;32mIn [1]\u001b[0m, in \u001b[0;36m<cell line: 13>\u001b[1;34m()\u001b[0m\n\u001b[0;32m     11\u001b[0m \u001b[38;5;28;01mfrom\u001b[39;00m \u001b[38;5;21;01msklearn\u001b[39;00m\u001b[38;5;21;01m.\u001b[39;00m\u001b[38;5;21;01mmodel_selection\u001b[39;00m \u001b[38;5;28;01mimport\u001b[39;00m train_test_split\n\u001b[0;32m     12\u001b[0m \u001b[38;5;28;01mfrom\u001b[39;00m \u001b[38;5;21;01msklearn\u001b[39;00m\u001b[38;5;21;01m.\u001b[39;00m\u001b[38;5;21;01mpreprocessing\u001b[39;00m \u001b[38;5;28;01mimport\u001b[39;00m MinMaxScaler\n\u001b[1;32m---> 13\u001b[0m \u001b[38;5;28;01mfrom\u001b[39;00m \u001b[38;5;21;01mkeras\u001b[39;00m\u001b[38;5;21;01m.\u001b[39;00m\u001b[38;5;21;01mwrappers\u001b[39;00m\u001b[38;5;21;01m.\u001b[39;00m\u001b[38;5;21;01mscikit_learn\u001b[39;00m \u001b[38;5;28;01mimport\u001b[39;00m KerasRegressor\n\u001b[0;32m     14\u001b[0m \u001b[38;5;28;01mfrom\u001b[39;00m \u001b[38;5;21;01mkeras\u001b[39;00m\u001b[38;5;21;01m.\u001b[39;00m\u001b[38;5;21;01mlayers\u001b[39;00m \u001b[38;5;28;01mimport\u001b[39;00m Dense,Dropout\n\u001b[0;32m     15\u001b[0m \u001b[38;5;28;01mfrom\u001b[39;00m \u001b[38;5;21;01msklearn\u001b[39;00m\u001b[38;5;21;01m.\u001b[39;00m\u001b[38;5;21;01mmetrics\u001b[39;00m \u001b[38;5;28;01mimport\u001b[39;00m accuracy_score,mean_absolute_error,mean_squared_error\n",
      "\u001b[1;31mModuleNotFoundError\u001b[0m: No module named 'keras.wrappers'"
     ]
    }
   ],
   "source": [
    "!pip install tensorflow\n",
    "!pip install keras\n",
    "!pip install tensorflow-gpu\n",
    "import keras\n",
    "import pandas as pd\n",
    "import numpy as np\n",
    "import matplotlib.pyplot as plt\n",
    "import seaborn as sns\n",
    "import warnings\n",
    "warnings.filterwarnings('ignore')\n",
    "from sklearn.model_selection import train_test_split\n",
    "from sklearn.preprocessing import MinMaxScaler\n",
    "from keras.wrappers.scikit_learn import KerasRegressor\n",
    "from keras.layers import Dense,Dropout\n",
    "from sklearn.metrics import accuracy_score,mean_absolute_error,mean_squared_error\n",
    "from sklearn.model_selection import GridSearchCV,KFold\n",
    "from keras.models import Sequential\n",
    "from tensorflow.keras.optimizers import Adam,RMSprop"
   ]
  },
  {
   "cell_type": "code",
   "execution_count": null,
   "id": "4179626c",
   "metadata": {
    "ExecuteTime": {
     "end_time": "2023-07-08T17:47:49.401246Z",
     "start_time": "2023-07-08T17:47:49.401246Z"
    },
    "id": "4179626c",
    "outputId": "0188da54-d7ec-4d92-be9b-b4688edfff6c"
   },
   "outputs": [],
   "source": [
    "gas = pd.read_csv(\"P:/DS material/DS Assignments/Solved and unsolved assignments/All DS Assignments/All Datasets for assignments/gas_turbines.csv\")\n",
    "gas"
   ]
  },
  {
   "cell_type": "markdown",
   "id": "4cf10c7c",
   "metadata": {
    "id": "4cf10c7c"
   },
   "source": [
    "### EDA"
   ]
  },
  {
   "cell_type": "code",
   "execution_count": null,
   "id": "b542e500",
   "metadata": {
    "ExecuteTime": {
     "end_time": "2023-07-08T17:47:49.401246Z",
     "start_time": "2023-07-08T17:47:49.401246Z"
    },
    "id": "b542e500",
    "outputId": "0238621c-c716-4375-ceff-712f9279920d"
   },
   "outputs": [],
   "source": [
    "gas.shape"
   ]
  },
  {
   "cell_type": "code",
   "execution_count": null,
   "id": "86b918b4",
   "metadata": {
    "ExecuteTime": {
     "end_time": "2023-07-08T17:47:49.401246Z",
     "start_time": "2023-07-08T17:47:49.401246Z"
    },
    "id": "86b918b4",
    "outputId": "f0c2331e-3061-44a4-d815-8f78e282aa62"
   },
   "outputs": [],
   "source": [
    "gas.info()"
   ]
  },
  {
   "cell_type": "code",
   "execution_count": null,
   "id": "79bfc391",
   "metadata": {
    "ExecuteTime": {
     "end_time": "2023-07-08T17:47:49.401246Z",
     "start_time": "2023-07-08T17:47:49.401246Z"
    },
    "id": "79bfc391",
    "outputId": "770da14c-c164-469d-d76e-b303a997c6b7"
   },
   "outputs": [],
   "source": [
    "gas.describe()"
   ]
  },
  {
   "cell_type": "code",
   "execution_count": null,
   "id": "537d4d3f",
   "metadata": {
    "ExecuteTime": {
     "end_time": "2023-07-08T17:47:49.416899Z",
     "start_time": "2023-07-08T17:47:49.416899Z"
    },
    "id": "537d4d3f",
    "outputId": "809fc03f-a137-4c06-9934-b2ccc43b1ec8"
   },
   "outputs": [],
   "source": [
    "gas.isnull()"
   ]
  },
  {
   "cell_type": "code",
   "execution_count": null,
   "id": "859389cc",
   "metadata": {
    "ExecuteTime": {
     "end_time": "2023-07-08T17:47:49.416899Z",
     "start_time": "2023-07-08T17:47:49.416899Z"
    },
    "id": "859389cc",
    "outputId": "d39a0c96-4518-4b80-cb29-3f73fca430ad"
   },
   "outputs": [],
   "source": [
    "gas.isnull().sum()"
   ]
  },
  {
   "cell_type": "code",
   "execution_count": null,
   "id": "123cd423",
   "metadata": {
    "ExecuteTime": {
     "end_time": "2023-07-08T17:47:49.416899Z",
     "start_time": "2023-07-08T17:47:49.416899Z"
    },
    "id": "123cd423",
    "outputId": "7551cf11-c2c5-45d7-fc36-5a1e482f93a1"
   },
   "outputs": [],
   "source": [
    "gas[gas.duplicated()]"
   ]
  },
  {
   "cell_type": "code",
   "execution_count": null,
   "id": "2a3a98a6",
   "metadata": {
    "ExecuteTime": {
     "end_time": "2023-07-08T17:47:49.416899Z",
     "start_time": "2023-07-08T17:47:49.416899Z"
    },
    "id": "2a3a98a6",
    "outputId": "b6cc5bff-a596-4cf3-9d18-49505e1329de"
   },
   "outputs": [],
   "source": [
    "gas.dtypes"
   ]
  },
  {
   "cell_type": "code",
   "execution_count": null,
   "id": "c7d93c0b",
   "metadata": {
    "ExecuteTime": {
     "end_time": "2023-07-08T17:47:49.427162Z",
     "start_time": "2023-07-08T17:47:49.427162Z"
    },
    "id": "c7d93c0b",
    "outputId": "eae0780a-a6c6-4a51-f35f-e9f93dad0427"
   },
   "outputs": [],
   "source": [
    "sns.pairplot(gas)"
   ]
  },
  {
   "cell_type": "code",
   "execution_count": null,
   "id": "b0c4c4b0",
   "metadata": {
    "ExecuteTime": {
     "end_time": "2023-07-08T17:47:49.427162Z",
     "start_time": "2023-07-08T17:47:49.427162Z"
    },
    "id": "b0c4c4b0",
    "outputId": "c37809ce-1454-4d5c-fffd-f9cd393ad321"
   },
   "outputs": [],
   "source": [
    "plt.figure(figsize = (12,10))\n",
    "sns.distplot(gas['TEY'], axlabel = 'Turbine Energy Yeild(TEY)' ,color= 'red')\n",
    "plt.show()"
   ]
  },
  {
   "cell_type": "code",
   "execution_count": null,
   "id": "a1e91ac5",
   "metadata": {
    "ExecuteTime": {
     "end_time": "2023-07-08T17:47:49.427162Z",
     "start_time": "2023-07-08T17:47:49.427162Z"
    },
    "id": "a1e91ac5",
    "outputId": "de27fae3-2f7e-4318-ee60-2f398a1f5206"
   },
   "outputs": [],
   "source": [
    "plt.figure(figsize = (12,10))\n",
    "sns.distplot(gas['AP'], axlabel = 'Ambient pressure (AP)' ,color= 'violet')\n",
    "plt.show()"
   ]
  },
  {
   "cell_type": "code",
   "execution_count": null,
   "id": "7a45d18c",
   "metadata": {
    "ExecuteTime": {
     "end_time": "2023-07-08T17:47:49.432704Z",
     "start_time": "2023-07-08T17:47:49.432704Z"
    },
    "id": "7a45d18c",
    "outputId": "79c18cf3-bbba-4887-d716-d427f74e7d39"
   },
   "outputs": [],
   "source": [
    "plt.figure(figsize=(12,10))\n",
    "sns.distplot(x = gas['AT'],axlabel='Ambient temperature (AT)',color='green')\n",
    "plt.show()"
   ]
  },
  {
   "cell_type": "code",
   "execution_count": null,
   "id": "a3059e25",
   "metadata": {
    "ExecuteTime": {
     "end_time": "2023-07-08T17:47:49.435729Z",
     "start_time": "2023-07-08T17:47:49.435729Z"
    },
    "id": "a3059e25",
    "outputId": "29369c66-8663-42ac-e3d3-7f0fca29dd74"
   },
   "outputs": [],
   "source": [
    "plt.figure(figsize=(12,10))\n",
    "sns.distplot(x = gas['AH'],axlabel='Ambient humidity (AH)',color='blue')\n",
    "plt.show()"
   ]
  },
  {
   "cell_type": "code",
   "execution_count": null,
   "id": "eac17b72",
   "metadata": {
    "ExecuteTime": {
     "end_time": "2023-07-08T17:47:49.435729Z",
     "start_time": "2023-07-08T17:47:49.435729Z"
    },
    "id": "eac17b72",
    "outputId": "89a4144d-836f-4a8f-db17-8a706b92ac88"
   },
   "outputs": [],
   "source": [
    "plt.figure(figsize=(12,10))\n",
    "sns.distplot(x = gas['GTEP'], axlabel='Gas turbine exhaust pressure (GTEP)', color='indigo')\n",
    "plt.show()"
   ]
  },
  {
   "cell_type": "code",
   "execution_count": null,
   "id": "e28b9af4",
   "metadata": {
    "ExecuteTime": {
     "end_time": "2023-07-08T17:47:49.435729Z",
     "start_time": "2023-07-08T17:47:49.435729Z"
    },
    "id": "e28b9af4",
    "outputId": "eb4b33f9-38a4-46fc-9c3f-0bd402c16466"
   },
   "outputs": [],
   "source": [
    "plt.figure(figsize=(12,10))\n",
    "sns.distplot(x = gas['TIT'], axlabel='Turbine inlet temperature(TIT)',color='black')\n",
    "plt.show()"
   ]
  },
  {
   "cell_type": "code",
   "execution_count": null,
   "id": "0e48386c",
   "metadata": {
    "ExecuteTime": {
     "end_time": "2023-07-08T17:47:49.435729Z",
     "start_time": "2023-07-08T17:47:49.435729Z"
    },
    "id": "0e48386c",
    "outputId": "7a50980d-4bef-4cb9-9766-f402b911fb9d"
   },
   "outputs": [],
   "source": [
    "plt.figure(figsize=(12,10))\n",
    "sns.distplot(x = gas['TAT'],axlabel='Turbine after temperature (TAT)',color='pink')\n",
    "plt.show()"
   ]
  },
  {
   "cell_type": "code",
   "execution_count": null,
   "id": "b805f543",
   "metadata": {
    "ExecuteTime": {
     "end_time": "2023-07-08T17:47:49.435729Z",
     "start_time": "2023-07-08T17:47:49.435729Z"
    },
    "id": "b805f543",
    "outputId": "f67bc347-3f67-4a17-8d3e-17528144a31c"
   },
   "outputs": [],
   "source": [
    "plt.figure(figsize=(12,10))\n",
    "sns.distplot(x = gas['CDP'],axlabel='Compressor discharge pressure(CDP)',color='purple')\n",
    "plt.show()"
   ]
  },
  {
   "cell_type": "code",
   "execution_count": null,
   "id": "99371e03",
   "metadata": {
    "ExecuteTime": {
     "end_time": "2023-07-08T17:47:49.435729Z",
     "start_time": "2023-07-08T17:47:49.435729Z"
    },
    "id": "99371e03",
    "outputId": "0412e1e3-fc64-4dc6-bdd0-acaecbd6a7a7"
   },
   "outputs": [],
   "source": [
    "plt.figure(figsize=(12,10))\n",
    "sns.distplot(x = gas['CO'],axlabel='Carbon monoxide (CO)',color='brown')\n",
    "plt.show()"
   ]
  },
  {
   "cell_type": "code",
   "execution_count": null,
   "id": "6bdfd183",
   "metadata": {
    "ExecuteTime": {
     "end_time": "2023-07-08T17:47:49.448755Z",
     "start_time": "2023-07-08T17:47:49.448755Z"
    },
    "id": "6bdfd183",
    "outputId": "ae3f8b26-70d8-4238-b6ea-47e0b3625204"
   },
   "outputs": [],
   "source": [
    "plt.figure(figsize=(12,10))\n",
    "sns.distplot(x = gas['NOX'],axlabel='Nitrogen oxides(NOx)')\n",
    "plt.show()"
   ]
  },
  {
   "cell_type": "markdown",
   "id": "ceaaa61c",
   "metadata": {
    "id": "ceaaa61c"
   },
   "source": [
    "### Model Building"
   ]
  },
  {
   "cell_type": "code",
   "execution_count": null,
   "id": "62fc6ec6",
   "metadata": {
    "ExecuteTime": {
     "end_time": "2023-07-08T17:47:49.448755Z",
     "start_time": "2023-07-08T17:47:49.448755Z"
    },
    "id": "62fc6ec6"
   },
   "outputs": [],
   "source": [
    "x = gas.drop(labels='TEY',axis=1)\n",
    "y = gas[['TEY']]"
   ]
  },
  {
   "cell_type": "code",
   "execution_count": null,
   "id": "c9debcc3",
   "metadata": {
    "ExecuteTime": {
     "end_time": "2023-07-08T17:47:49.448755Z",
     "start_time": "2023-07-08T17:47:49.448755Z"
    },
    "id": "c9debcc3",
    "outputId": "48086b30-b667-4c95-a6d5-f1a06d4a3665"
   },
   "outputs": [],
   "source": [
    "x"
   ]
  },
  {
   "cell_type": "code",
   "execution_count": null,
   "id": "c9b9860a",
   "metadata": {
    "ExecuteTime": {
     "end_time": "2023-07-08T17:47:49.448755Z",
     "start_time": "2023-07-08T17:47:49.448755Z"
    },
    "id": "c9b9860a",
    "outputId": "362bc83c-2f07-42a5-cdd3-bb03592ec916"
   },
   "outputs": [],
   "source": [
    "y"
   ]
  },
  {
   "cell_type": "code",
   "execution_count": null,
   "id": "451b1372",
   "metadata": {
    "ExecuteTime": {
     "end_time": "2023-07-08T17:47:49.448755Z",
     "start_time": "2023-07-08T17:47:49.448755Z"
    },
    "id": "451b1372",
    "outputId": "52ccd907-5dc6-4115-d1e2-0c4e762087c8"
   },
   "outputs": [],
   "source": [
    "#Covert input data in standard form\n",
    "sclar = MinMaxScaler()\n",
    "scale_data = sclar.fit_transform(x)\n",
    "scale_data"
   ]
  },
  {
   "cell_type": "code",
   "execution_count": null,
   "id": "fd42e939",
   "metadata": {
    "ExecuteTime": {
     "end_time": "2023-07-08T17:47:49.448755Z",
     "start_time": "2023-07-08T17:47:49.448755Z"
    },
    "id": "fd42e939"
   },
   "outputs": [],
   "source": [
    "x_train,x_test, y_train, y_test = train_test_split(scale_data,y,test_size=0.30,random_state=42)"
   ]
  },
  {
   "cell_type": "code",
   "execution_count": null,
   "id": "4fea5813",
   "metadata": {
    "ExecuteTime": {
     "end_time": "2023-07-08T17:47:49.464407Z",
     "start_time": "2023-07-08T17:47:49.464407Z"
    },
    "id": "4fea5813",
    "outputId": "68b28f80-1899-4c9f-94d7-4c4b9d5bc01e"
   },
   "outputs": [],
   "source": [
    "x_train.shape,y_train.shape"
   ]
  },
  {
   "cell_type": "code",
   "execution_count": null,
   "id": "1675060d",
   "metadata": {
    "ExecuteTime": {
     "end_time": "2023-07-08T17:47:49.464407Z",
     "start_time": "2023-07-08T17:47:49.464407Z"
    },
    "id": "1675060d",
    "outputId": "75385faa-9a15-4463-abd7-d4608a5622f7"
   },
   "outputs": [],
   "source": [
    "x_test.shape,y_test.shape"
   ]
  },
  {
   "cell_type": "markdown",
   "id": "4d16f9f6",
   "metadata": {
    "id": "4d16f9f6"
   },
   "source": [
    "### Model Training\n",
    "\n",
    "Turning Hyperparameter: Batch Size and epochs"
   ]
  },
  {
   "cell_type": "code",
   "execution_count": null,
   "id": "450b8a38",
   "metadata": {
    "ExecuteTime": {
     "end_time": "2023-07-08T17:47:49.464407Z",
     "start_time": "2023-07-08T17:47:49.464407Z"
    },
    "id": "450b8a38"
   },
   "outputs": [],
   "source": [
    "def regression_model():\n",
    "    model = Sequential()\n",
    "    model.add(Dense(12, input_dim=10,kernel_initializer='uniform',activation='relu'))\n",
    "    model.add(Dropout(0.2))   \n",
    "    model.add(Dense(8 ,kernel_initializer='uniform',activation='relu'))\n",
    "    model.add(Dropout(0.2))\n",
    "    model.add(Dense(1,kernel_initializer = 'uniform',activation = 'sigmoid'))\n",
    "    \n",
    "    oppti = Adam(learning_rate=0.001)\n",
    "    model.compile(loss='mean_squared_error',optimizer = oppti,metrics=['mae','mse'])\n",
    "    return model"
   ]
  },
  {
   "cell_type": "code",
   "execution_count": null,
   "id": "a3bb67ab",
   "metadata": {
    "ExecuteTime": {
     "end_time": "2023-07-08T17:47:49.464407Z",
     "start_time": "2023-07-08T17:47:49.464407Z"
    },
    "id": "a3bb67ab",
    "outputId": "2fd1a44d-1370-4426-e2a7-a84e242cd1b6"
   },
   "outputs": [],
   "source": [
    "model1 = KerasRegressor(build_fn=regression_model, verbose=0)\n",
    "batch_size = [10,50,100]\n",
    "epochs = [40,70,100]\n",
    "param_grid = dict(batch_size = batch_size,epochs = epochs)\n",
    "gsv = GridSearchCV(estimator=model1, param_grid=param_grid, cv = KFold(),verbose=5)\n",
    "grid_res = gsv.fit(x_train,y_train)"
   ]
  },
  {
   "cell_type": "code",
   "execution_count": null,
   "id": "7ba4ca62",
   "metadata": {
    "ExecuteTime": {
     "end_time": "2023-07-08T17:47:49.464407Z",
     "start_time": "2023-07-08T17:47:49.464407Z"
    },
    "id": "7ba4ca62",
    "outputId": "25745790-4cde-4c4c-91ed-e5dd385916a5"
   },
   "outputs": [],
   "source": [
    "print(grid_res.best_score_,grid_res.best_params_)"
   ]
  },
  {
   "cell_type": "markdown",
   "id": "51a6b47e",
   "metadata": {
    "id": "51a6b47e"
   },
   "source": [
    "Turning Hyperparameter: Learning rate and Dropout rate"
   ]
  },
  {
   "cell_type": "code",
   "execution_count": null,
   "id": "c2bd4f49",
   "metadata": {
    "ExecuteTime": {
     "end_time": "2023-07-08T17:47:49.475329Z",
     "start_time": "2023-07-08T17:47:49.475329Z"
    },
    "id": "c2bd4f49"
   },
   "outputs": [],
   "source": [
    "def regression_model(learning_rate,dropout_rate):\n",
    "    model = Sequential()\n",
    "    model.add(Dense(12, input_dim=10,kernel_initializer='uniform',activation='relu'))\n",
    "    model.add(Dropout(0.2))   \n",
    "    model.add(Dense(8 ,kernel_initializer='uniform',activation='relu'))\n",
    "    model.add(Dropout(0.2))\n",
    "    model.add(Dense(1,kernel_initializer = 'uniform',activation = 'sigmoid'))\n",
    "    adam = Adam(learning_rate=learning_rate)\n",
    "    model.compile(loss='mean_squared_error',optimizer=adam, metrics=['mae','mse'])\n",
    "    return model"
   ]
  },
  {
   "cell_type": "code",
   "execution_count": null,
   "id": "9a7e3b11",
   "metadata": {
    "ExecuteTime": {
     "end_time": "2023-07-08T17:47:49.475329Z",
     "start_time": "2023-07-08T17:47:49.475329Z"
    },
    "id": "9a7e3b11",
    "outputId": "eca76f4c-fe14-4288-af68-baa5be141958"
   },
   "outputs": [],
   "source": [
    "model = KerasRegressor(build_fn=regression_model,batch_size = 100,epochs = 40,verbose = 0)\n",
    "learning_rate = [0.1,0.01,0.001]\n",
    "dropout_rate = [0.0,0.1,0.2]\n",
    "param_grid = dict(learning_rate = learning_rate,dropout_rate = dropout_rate)\n",
    "gsv = GridSearchCV(estimator= model, param_grid=param_grid, cv=KFold() ,verbose=5)\n",
    "grid_res = gsv.fit(x_train,y_train)"
   ]
  },
  {
   "cell_type": "code",
   "execution_count": null,
   "id": "80d33701",
   "metadata": {
    "ExecuteTime": {
     "end_time": "2023-07-08T17:47:49.475329Z",
     "start_time": "2023-07-08T17:47:49.475329Z"
    },
    "id": "80d33701",
    "outputId": "08312892-fd40-4353-c7d4-ba988585f9c0"
   },
   "outputs": [],
   "source": [
    "print(grid_res.best_params_,grid_res.best_score_)"
   ]
  },
  {
   "cell_type": "markdown",
   "id": "fddcd5c6",
   "metadata": {
    "id": "fddcd5c6"
   },
   "source": [
    "Tuning of Hyperparameter :Activation Function & Kernel Initializer"
   ]
  },
  {
   "cell_type": "code",
   "execution_count": null,
   "id": "175ffccd",
   "metadata": {
    "ExecuteTime": {
     "end_time": "2023-07-08T17:47:49.483353Z",
     "start_time": "2023-07-08T17:47:49.483353Z"
    },
    "id": "175ffccd"
   },
   "outputs": [],
   "source": [
    "def regression_model(activation_function,inti):\n",
    "    model = Sequential()\n",
    "    model.add(Dense(12, input_dim=10,kernel_initializer='uniform',activation='relu'))\n",
    "    model.add(Dropout(0.0))   \n",
    "    model.add(Dense(8 ,kernel_initializer='uniform',activation='relu'))\n",
    "    model.add(Dropout(0.0))\n",
    "    model.add(Dense(1,kernel_initializer = 'uniform',activation = 'sigmoid'))\n",
    "    adam = Adam(learning_rate=0.1)\n",
    "    model.compile(loss='mean_squared_error',optimizer=adam, metrics=['mae','mse'])\n",
    "    return model"
   ]
  },
  {
   "cell_type": "code",
   "execution_count": null,
   "id": "deeffe29",
   "metadata": {
    "ExecuteTime": {
     "end_time": "2023-07-08T17:47:49.483353Z",
     "start_time": "2023-07-08T17:47:49.483353Z"
    },
    "id": "deeffe29",
    "outputId": "0ee0c1a6-e853-43c1-f0d6-532dafcadd5b"
   },
   "outputs": [],
   "source": [
    "model = KerasRegressor(build_fn=regression_model,batch_size = 100,epochs = 40,verbose = 0)\n",
    "activation_function = ['relu', 'tanh','softmax','linear']\n",
    "inti = ['uniform', 'zero','normal']\n",
    "param_grid = dict(activation_function = activation_function,inti = inti)\n",
    "gsv_m = GridSearchCV(estimator=model,param_grid=param_grid,cv=KFold(),verbose = 5)\n",
    "grid_resu = gsv_m.fit(x_train,y_train)"
   ]
  },
  {
   "cell_type": "code",
   "execution_count": null,
   "id": "253c1654",
   "metadata": {
    "ExecuteTime": {
     "end_time": "2023-07-08T17:47:49.483353Z",
     "start_time": "2023-07-08T17:47:49.483353Z"
    },
    "id": "253c1654",
    "outputId": "462c48e8-4be0-4b11-d277-41f5e792449c"
   },
   "outputs": [],
   "source": [
    "print(grid_resu.best_score_,grid_resu.best_params_)"
   ]
  },
  {
   "cell_type": "markdown",
   "id": "8265200a",
   "metadata": {
    "id": "8265200a"
   },
   "source": [
    "Tuning of Hyperparameter :Number of Neurons in hidden layer"
   ]
  },
  {
   "cell_type": "code",
   "execution_count": null,
   "id": "af78af57",
   "metadata": {
    "ExecuteTime": {
     "end_time": "2023-07-08T17:47:49.483353Z",
     "start_time": "2023-07-08T17:47:49.483353Z"
    },
    "id": "af78af57"
   },
   "outputs": [],
   "source": [
    "def regression_model(neuron1,neuron2):\n",
    "    model = Sequential()\n",
    "    model.add(Dense(12,input_dim = 10,kernel_initializer='uniform',activation='relu'))\n",
    "    model.add(Dropout(0.0))\n",
    "    model.add(Dense(8,kernel_initializer = 'uniform',activation = 'relu'))\n",
    "    model.add(Dropout(0.0))\n",
    "    model.add(Dense(1,kernel_initializer='uniform',activation= 'sigmoid'))\n",
    "    adam = Adam(learning_rate= 0.1)\n",
    "    model.compile(loss='mean_squared_error',optimizer=adam,metrics=['mae','mse'])\n",
    "    return model"
   ]
  },
  {
   "cell_type": "code",
   "execution_count": null,
   "id": "b5d1269f",
   "metadata": {
    "ExecuteTime": {
     "end_time": "2023-07-08T17:47:49.491354Z",
     "start_time": "2023-07-08T17:47:49.491354Z"
    },
    "id": "b5d1269f",
    "outputId": "83071287-9d03-41d7-b57e-f868f15d8603"
   },
   "outputs": [],
   "source": [
    "model = KerasRegressor(build_fn=regression_model,batch_size = 100,epochs = 40,verbose = 0)\n",
    "neuron1 = [16,12,8]\n",
    "neuron2 = [12,8,4]\n",
    "param_grid = dict(neuron1 = neuron1,neuron2 = neuron2)\n",
    "gsvp = GridSearchCV(estimator = model,param_grid = param_grid,cv=KFold(),verbose=5)\n",
    "grid_result = gsvp.fit(x_train,y_train)"
   ]
  },
  {
   "cell_type": "code",
   "execution_count": null,
   "id": "570e9bbd",
   "metadata": {
    "ExecuteTime": {
     "end_time": "2023-07-08T17:47:49.491354Z",
     "start_time": "2023-07-08T17:47:49.491354Z"
    },
    "id": "570e9bbd",
    "outputId": "2a77927c-8a06-429e-aea6-c82b4dc61f38"
   },
   "outputs": [],
   "source": [
    "print(grid_result.best_score_,grid_result.best_params_)"
   ]
  },
  {
   "cell_type": "markdown",
   "id": "628de115",
   "metadata": {
    "id": "628de115"
   },
   "source": [
    "Train a model with optimum values of hyperparameter"
   ]
  },
  {
   "cell_type": "code",
   "execution_count": null,
   "id": "3b912b4f",
   "metadata": {
    "ExecuteTime": {
     "end_time": "2023-07-08T17:47:49.491354Z",
     "start_time": "2023-07-08T17:47:49.491354Z"
    },
    "id": "3b912b4f"
   },
   "outputs": [],
   "source": [
    "# Best parametes\n",
    "# batch_size: 100 \n",
    "# epochs: 40\n",
    "# dropout_rate: 0.0 \n",
    "# learning_rate: 0.1\n",
    "# activation_function: relu \n",
    "# inti: uniform\n",
    "# neuron1: 16 \n",
    "# neuron2: 12 "
   ]
  },
  {
   "cell_type": "code",
   "execution_count": null,
   "id": "6ef75861",
   "metadata": {
    "ExecuteTime": {
     "end_time": "2023-07-08T17:47:49.499356Z",
     "start_time": "2023-07-08T17:47:49.499356Z"
    },
    "id": "6ef75861"
   },
   "outputs": [],
   "source": [
    "model = Sequential()\n",
    "model.add(Dense(16,input_dim = 10,kernel_initializer='uniform',activation='relu'))\n",
    "model.add(Dropout(0.0))\n",
    "model.add(Dense(12,kernel_initializer = 'uniform',activation = 'relu'))\n",
    "model.add(Dropout(0.0))\n",
    "model.add(Dense(1,kernel_initializer='uniform',activation='relu'))\n",
    "optimizer = RMSprop(learning_rate=0.1)\n",
    "model.compile(loss='mse',optimizer = optimizer,metrics=['mae','mse'])"
   ]
  },
  {
   "cell_type": "code",
   "execution_count": null,
   "id": "e3e80777",
   "metadata": {
    "ExecuteTime": {
     "end_time": "2023-07-08T17:47:49.499356Z",
     "start_time": "2023-07-08T17:47:49.499356Z"
    },
    "id": "e3e80777",
    "outputId": "b512554b-2345-4192-f16c-26c51df32c1b"
   },
   "outputs": [],
   "source": [
    "model.fit(x_train,y_train,batch_size=100,epochs=40)\n",
    "y_pred = model.predict(x_train)"
   ]
  },
  {
   "cell_type": "code",
   "execution_count": null,
   "id": "10c753d1",
   "metadata": {
    "ExecuteTime": {
     "end_time": "2023-07-08T17:47:49.499356Z",
     "start_time": "2023-07-08T17:47:49.499356Z"
    },
    "id": "10c753d1",
    "outputId": "3e049bd1-2a55-4766-e73e-b312607d9c73"
   },
   "outputs": [],
   "source": [
    "model.summary()"
   ]
  },
  {
   "cell_type": "code",
   "execution_count": null,
   "id": "fe62e6f4",
   "metadata": {
    "ExecuteTime": {
     "end_time": "2023-07-08T17:47:49.499356Z",
     "start_time": "2023-07-08T17:47:49.499356Z"
    },
    "id": "fe62e6f4",
    "outputId": "38f485bc-af66-4aaf-aa95-ca5be2b85ffc"
   },
   "outputs": [],
   "source": [
    "mean_absolute_error(y_train,y_pred)"
   ]
  },
  {
   "cell_type": "code",
   "execution_count": null,
   "id": "7b658204",
   "metadata": {
    "ExecuteTime": {
     "end_time": "2023-07-08T17:47:49.507357Z",
     "start_time": "2023-07-08T17:47:49.507357Z"
    },
    "id": "7b658204",
    "outputId": "414371e6-fa06-497e-9b12-270200745e79"
   },
   "outputs": [],
   "source": [
    "mean_squared_error(y_train,y_pred)"
   ]
  },
  {
   "cell_type": "code",
   "execution_count": null,
   "id": "79d1e200",
   "metadata": {
    "ExecuteTime": {
     "end_time": "2023-07-08T17:47:49.507357Z",
     "start_time": "2023-07-08T17:47:49.507357Z"
    },
    "id": "79d1e200",
    "outputId": "b89b2d6d-1a08-465b-9028-a8b236c7836a"
   },
   "outputs": [],
   "source": [
    "# testing data\n",
    "test_score = model.evaluate(x_test,y_test)"
   ]
  },
  {
   "cell_type": "code",
   "execution_count": null,
   "id": "6baa0d85",
   "metadata": {
    "ExecuteTime": {
     "end_time": "2023-07-08T17:47:49.507357Z",
     "start_time": "2023-07-08T17:47:49.507357Z"
    },
    "id": "6baa0d85",
    "outputId": "ce93c1c3-431b-43f5-fd56-594a186d98ac"
   },
   "outputs": [],
   "source": [
    "y_test_pred = model.predict(x_test)"
   ]
  },
  {
   "cell_type": "code",
   "execution_count": null,
   "id": "d83a8862",
   "metadata": {
    "ExecuteTime": {
     "end_time": "2023-07-08T17:47:49.515358Z",
     "start_time": "2023-07-08T17:47:49.515358Z"
    },
    "id": "d83a8862",
    "outputId": "3fc24916-d367-4eae-b60c-803bf83a5e6d"
   },
   "outputs": [],
   "source": [
    "mean_absolute_error(y_test,y_test_pred)"
   ]
  },
  {
   "cell_type": "code",
   "execution_count": null,
   "id": "9d951bea",
   "metadata": {
    "ExecuteTime": {
     "end_time": "2023-07-08T17:47:49.515358Z",
     "start_time": "2023-07-08T17:47:49.515358Z"
    },
    "id": "9d951bea",
    "outputId": "ab7a0333-c74e-4491-964a-4aea40f7ee98"
   },
   "outputs": [],
   "source": [
    "mean_squared_error(y_test,y_test_pred)"
   ]
  }
 ],
 "metadata": {
  "colab": {
   "provenance": []
  },
  "kernelspec": {
   "display_name": "Python 3 (ipykernel)",
   "language": "python",
   "name": "python3"
  },
  "language_info": {
   "codemirror_mode": {
    "name": "ipython",
    "version": 3
   },
   "file_extension": ".py",
   "mimetype": "text/x-python",
   "name": "python",
   "nbconvert_exporter": "python",
   "pygments_lexer": "ipython3",
   "version": "3.9.12"
  }
 },
 "nbformat": 4,
 "nbformat_minor": 5
}
