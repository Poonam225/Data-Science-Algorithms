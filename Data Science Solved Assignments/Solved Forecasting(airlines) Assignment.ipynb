{
 "cells": [
  {
   "cell_type": "code",
   "execution_count": 1,
   "id": "9dedf285",
   "metadata": {
    "ExecuteTime": {
     "end_time": "2023-07-08T18:06:08.302790Z",
     "start_time": "2023-07-08T18:06:05.031138Z"
    },
    "id": "9dedf285"
   },
   "outputs": [],
   "source": [
    "##importing the required libraries for Analysis\n",
    "\n",
    "import pandas as pd\n",
    "import numpy as np\n",
    "from numpy import sqrt\n",
    "\n",
    "from pandas import Grouper\n",
    "from pandas import DataFrame\n",
    "\n",
    "import matplotlib.pyplot as plt\n",
    "import seaborn as sns\n",
    "import warnings\n",
    "warnings.filterwarnings('ignore')\n",
    "\n",
    "from sklearn.metrics import mean_squared_error\n",
    "from pandas.plotting import lag_plot\n",
    "from statsmodels.graphics.tsaplots import plot_acf\n",
    "\n",
    "from statsmodels.tsa.seasonal import seasonal_decompose\n",
    "## with the help of this we will be able to creat graphs for the dfferent components of time series data \n",
    "#like trends, level, sesional components and residual data\n",
    "\n",
    "from statsmodels.tsa.holtwinters import SimpleExpSmoothing # SES\n",
    "from statsmodels.tsa.holtwinters import Holt # Holts Exponential Smoothing\n",
    "from statsmodels.tsa.holtwinters import ExponentialSmoothing"
   ]
  },
  {
   "cell_type": "code",
   "execution_count": 2,
   "id": "b587fbdc",
   "metadata": {
    "ExecuteTime": {
     "end_time": "2023-07-08T18:06:08.339580Z",
     "start_time": "2023-07-08T18:06:08.303815Z"
    },
    "id": "b587fbdc",
    "outputId": "ade5e267-6fc3-49bb-94df-beb79ae0748c"
   },
   "outputs": [
    {
     "data": {
      "text/html": [
       "<div>\n",
       "<style scoped>\n",
       "    .dataframe tbody tr th:only-of-type {\n",
       "        vertical-align: middle;\n",
       "    }\n",
       "\n",
       "    .dataframe tbody tr th {\n",
       "        vertical-align: top;\n",
       "    }\n",
       "\n",
       "    .dataframe thead th {\n",
       "        text-align: right;\n",
       "    }\n",
       "</style>\n",
       "<table border=\"1\" class=\"dataframe\">\n",
       "  <thead>\n",
       "    <tr style=\"text-align: right;\">\n",
       "      <th></th>\n",
       "      <th>Month</th>\n",
       "      <th>Passengers</th>\n",
       "    </tr>\n",
       "  </thead>\n",
       "  <tbody>\n",
       "    <tr>\n",
       "      <th>0</th>\n",
       "      <td>Jan-95</td>\n",
       "      <td>112</td>\n",
       "    </tr>\n",
       "    <tr>\n",
       "      <th>1</th>\n",
       "      <td>Feb-95</td>\n",
       "      <td>118</td>\n",
       "    </tr>\n",
       "    <tr>\n",
       "      <th>2</th>\n",
       "      <td>Mar-95</td>\n",
       "      <td>132</td>\n",
       "    </tr>\n",
       "    <tr>\n",
       "      <th>3</th>\n",
       "      <td>Apr-95</td>\n",
       "      <td>129</td>\n",
       "    </tr>\n",
       "    <tr>\n",
       "      <th>4</th>\n",
       "      <td>May-95</td>\n",
       "      <td>121</td>\n",
       "    </tr>\n",
       "    <tr>\n",
       "      <th>...</th>\n",
       "      <td>...</td>\n",
       "      <td>...</td>\n",
       "    </tr>\n",
       "    <tr>\n",
       "      <th>91</th>\n",
       "      <td>Aug-02</td>\n",
       "      <td>405</td>\n",
       "    </tr>\n",
       "    <tr>\n",
       "      <th>92</th>\n",
       "      <td>Sep-02</td>\n",
       "      <td>355</td>\n",
       "    </tr>\n",
       "    <tr>\n",
       "      <th>93</th>\n",
       "      <td>Oct-02</td>\n",
       "      <td>306</td>\n",
       "    </tr>\n",
       "    <tr>\n",
       "      <th>94</th>\n",
       "      <td>Nov-02</td>\n",
       "      <td>271</td>\n",
       "    </tr>\n",
       "    <tr>\n",
       "      <th>95</th>\n",
       "      <td>Dec-02</td>\n",
       "      <td>306</td>\n",
       "    </tr>\n",
       "  </tbody>\n",
       "</table>\n",
       "<p>96 rows × 2 columns</p>\n",
       "</div>"
      ],
      "text/plain": [
       "     Month  Passengers\n",
       "0   Jan-95         112\n",
       "1   Feb-95         118\n",
       "2   Mar-95         132\n",
       "3   Apr-95         129\n",
       "4   May-95         121\n",
       "..     ...         ...\n",
       "91  Aug-02         405\n",
       "92  Sep-02         355\n",
       "93  Oct-02         306\n",
       "94  Nov-02         271\n",
       "95  Dec-02         306\n",
       "\n",
       "[96 rows x 2 columns]"
      ]
     },
     "execution_count": 2,
     "metadata": {},
     "output_type": "execute_result"
    }
   ],
   "source": [
    "air = pd.read_csv(\"P:/DS material/DS Assignments/Solved and unsolved assignments/All DS Assignments/All Datasets for assignments/Airlines+Data.csv\")\n",
    "air"
   ]
  },
  {
   "cell_type": "markdown",
   "id": "03a054e5",
   "metadata": {
    "id": "03a054e5"
   },
   "source": [
    "EDA"
   ]
  },
  {
   "cell_type": "code",
   "execution_count": 3,
   "id": "18826bc5",
   "metadata": {
    "ExecuteTime": {
     "end_time": "2023-07-08T18:06:08.371602Z",
     "start_time": "2023-07-08T18:06:08.340216Z"
    },
    "id": "18826bc5",
    "outputId": "4168283d-c001-49ee-d661-420e06cf58db"
   },
   "outputs": [
    {
     "name": "stdout",
     "output_type": "stream",
     "text": [
      "<class 'pandas.core.frame.DataFrame'>\n",
      "RangeIndex: 96 entries, 0 to 95\n",
      "Data columns (total 2 columns):\n",
      " #   Column      Non-Null Count  Dtype \n",
      "---  ------      --------------  ----- \n",
      " 0   Month       96 non-null     object\n",
      " 1   Passengers  96 non-null     int64 \n",
      "dtypes: int64(1), object(1)\n",
      "memory usage: 1.6+ KB\n"
     ]
    }
   ],
   "source": [
    "air.info()"
   ]
  },
  {
   "cell_type": "code",
   "execution_count": 4,
   "id": "1407078d",
   "metadata": {
    "ExecuteTime": {
     "end_time": "2023-07-08T18:06:08.387722Z",
     "start_time": "2023-07-08T18:06:08.375694Z"
    },
    "id": "1407078d",
    "outputId": "55978203-34f0-4cb7-ebc2-d0e8e65ef27b"
   },
   "outputs": [
    {
     "data": {
      "text/plain": [
       "(96, 2)"
      ]
     },
     "execution_count": 4,
     "metadata": {},
     "output_type": "execute_result"
    }
   ],
   "source": [
    "air.shape"
   ]
  },
  {
   "cell_type": "code",
   "execution_count": 5,
   "id": "b424f18a",
   "metadata": {
    "ExecuteTime": {
     "end_time": "2023-07-08T18:06:08.420089Z",
     "start_time": "2023-07-08T18:06:08.390969Z"
    },
    "id": "b424f18a",
    "outputId": "7231fb6f-95dc-4142-9eed-ac0327c04e6e"
   },
   "outputs": [
    {
     "data": {
      "text/html": [
       "<div>\n",
       "<style scoped>\n",
       "    .dataframe tbody tr th:only-of-type {\n",
       "        vertical-align: middle;\n",
       "    }\n",
       "\n",
       "    .dataframe tbody tr th {\n",
       "        vertical-align: top;\n",
       "    }\n",
       "\n",
       "    .dataframe thead th {\n",
       "        text-align: right;\n",
       "    }\n",
       "</style>\n",
       "<table border=\"1\" class=\"dataframe\">\n",
       "  <thead>\n",
       "    <tr style=\"text-align: right;\">\n",
       "      <th></th>\n",
       "      <th>Passengers</th>\n",
       "    </tr>\n",
       "  </thead>\n",
       "  <tbody>\n",
       "    <tr>\n",
       "      <th>count</th>\n",
       "      <td>96.000000</td>\n",
       "    </tr>\n",
       "    <tr>\n",
       "      <th>mean</th>\n",
       "      <td>213.708333</td>\n",
       "    </tr>\n",
       "    <tr>\n",
       "      <th>std</th>\n",
       "      <td>71.918216</td>\n",
       "    </tr>\n",
       "    <tr>\n",
       "      <th>min</th>\n",
       "      <td>104.000000</td>\n",
       "    </tr>\n",
       "    <tr>\n",
       "      <th>25%</th>\n",
       "      <td>156.000000</td>\n",
       "    </tr>\n",
       "    <tr>\n",
       "      <th>50%</th>\n",
       "      <td>200.000000</td>\n",
       "    </tr>\n",
       "    <tr>\n",
       "      <th>75%</th>\n",
       "      <td>264.750000</td>\n",
       "    </tr>\n",
       "    <tr>\n",
       "      <th>max</th>\n",
       "      <td>413.000000</td>\n",
       "    </tr>\n",
       "  </tbody>\n",
       "</table>\n",
       "</div>"
      ],
      "text/plain": [
       "       Passengers\n",
       "count   96.000000\n",
       "mean   213.708333\n",
       "std     71.918216\n",
       "min    104.000000\n",
       "25%    156.000000\n",
       "50%    200.000000\n",
       "75%    264.750000\n",
       "max    413.000000"
      ]
     },
     "execution_count": 5,
     "metadata": {},
     "output_type": "execute_result"
    }
   ],
   "source": [
    "air.describe()"
   ]
  },
  {
   "cell_type": "code",
   "execution_count": 6,
   "id": "305333b8",
   "metadata": {
    "ExecuteTime": {
     "end_time": "2023-07-08T18:06:08.428519Z",
     "start_time": "2023-07-08T18:06:08.423503Z"
    },
    "id": "305333b8"
   },
   "outputs": [],
   "source": [
    "air.set_index('Month',inplace=True)\n",
    "## making the month column as index"
   ]
  },
  {
   "cell_type": "code",
   "execution_count": 7,
   "id": "17502209",
   "metadata": {
    "ExecuteTime": {
     "end_time": "2023-07-08T18:06:08.444976Z",
     "start_time": "2023-07-08T18:06:08.428519Z"
    },
    "id": "17502209",
    "outputId": "d7240896-de30-4b4c-a9c5-9c99c05d809b"
   },
   "outputs": [
    {
     "data": {
      "text/html": [
       "<div>\n",
       "<style scoped>\n",
       "    .dataframe tbody tr th:only-of-type {\n",
       "        vertical-align: middle;\n",
       "    }\n",
       "\n",
       "    .dataframe tbody tr th {\n",
       "        vertical-align: top;\n",
       "    }\n",
       "\n",
       "    .dataframe thead th {\n",
       "        text-align: right;\n",
       "    }\n",
       "</style>\n",
       "<table border=\"1\" class=\"dataframe\">\n",
       "  <thead>\n",
       "    <tr style=\"text-align: right;\">\n",
       "      <th></th>\n",
       "      <th>Passengers</th>\n",
       "    </tr>\n",
       "    <tr>\n",
       "      <th>Month</th>\n",
       "      <th></th>\n",
       "    </tr>\n",
       "  </thead>\n",
       "  <tbody>\n",
       "    <tr>\n",
       "      <th>Jan-95</th>\n",
       "      <td>112</td>\n",
       "    </tr>\n",
       "    <tr>\n",
       "      <th>Feb-95</th>\n",
       "      <td>118</td>\n",
       "    </tr>\n",
       "    <tr>\n",
       "      <th>Mar-95</th>\n",
       "      <td>132</td>\n",
       "    </tr>\n",
       "    <tr>\n",
       "      <th>Apr-95</th>\n",
       "      <td>129</td>\n",
       "    </tr>\n",
       "    <tr>\n",
       "      <th>May-95</th>\n",
       "      <td>121</td>\n",
       "    </tr>\n",
       "    <tr>\n",
       "      <th>...</th>\n",
       "      <td>...</td>\n",
       "    </tr>\n",
       "    <tr>\n",
       "      <th>Aug-02</th>\n",
       "      <td>405</td>\n",
       "    </tr>\n",
       "    <tr>\n",
       "      <th>Sep-02</th>\n",
       "      <td>355</td>\n",
       "    </tr>\n",
       "    <tr>\n",
       "      <th>Oct-02</th>\n",
       "      <td>306</td>\n",
       "    </tr>\n",
       "    <tr>\n",
       "      <th>Nov-02</th>\n",
       "      <td>271</td>\n",
       "    </tr>\n",
       "    <tr>\n",
       "      <th>Dec-02</th>\n",
       "      <td>306</td>\n",
       "    </tr>\n",
       "  </tbody>\n",
       "</table>\n",
       "<p>96 rows × 1 columns</p>\n",
       "</div>"
      ],
      "text/plain": [
       "        Passengers\n",
       "Month             \n",
       "Jan-95         112\n",
       "Feb-95         118\n",
       "Mar-95         132\n",
       "Apr-95         129\n",
       "May-95         121\n",
       "...            ...\n",
       "Aug-02         405\n",
       "Sep-02         355\n",
       "Oct-02         306\n",
       "Nov-02         271\n",
       "Dec-02         306\n",
       "\n",
       "[96 rows x 1 columns]"
      ]
     },
     "execution_count": 7,
     "metadata": {},
     "output_type": "execute_result"
    }
   ],
   "source": [
    "air"
   ]
  },
  {
   "cell_type": "code",
   "execution_count": 8,
   "id": "fd45ebb7",
   "metadata": {
    "ExecuteTime": {
     "end_time": "2023-07-08T18:06:09.259403Z",
     "start_time": "2023-07-08T18:06:08.444976Z"
    },
    "id": "fd45ebb7",
    "outputId": "f3a743e5-2caa-4440-f637-501192e9786a"
   },
   "outputs": [
    {
     "ename": "AttributeError",
     "evalue": "'Index' object has no attribute 'year'",
     "output_type": "error",
     "traceback": [
      "\u001b[1;31m---------------------------------------------------------------------------\u001b[0m",
      "\u001b[1;31mAttributeError\u001b[0m                            Traceback (most recent call last)",
      "Input \u001b[1;32mIn [8]\u001b[0m, in \u001b[0;36m<cell line: 1>\u001b[1;34m()\u001b[0m\n\u001b[1;32m----> 1\u001b[0m \u001b[43mair\u001b[49m\u001b[38;5;241;43m.\u001b[39;49m\u001b[43mindex\u001b[49m\u001b[38;5;241;43m.\u001b[39;49m\u001b[43myear\u001b[49m\n",
      "\u001b[1;31mAttributeError\u001b[0m: 'Index' object has no attribute 'year'"
     ]
    }
   ],
   "source": [
    "air.index.year"
   ]
  },
  {
   "cell_type": "code",
   "execution_count": null,
   "id": "c807260b",
   "metadata": {
    "ExecuteTime": {
     "end_time": "2023-07-08T18:06:09.267422Z",
     "start_time": "2023-07-08T18:06:09.267422Z"
    },
    "id": "c807260b",
    "outputId": "c93fd460-7939-4df5-9f95-5170fe674a62"
   },
   "outputs": [],
   "source": [
    "air.isnull()"
   ]
  },
  {
   "cell_type": "code",
   "execution_count": null,
   "id": "17573570",
   "metadata": {
    "ExecuteTime": {
     "end_time": "2023-07-08T18:06:09.267422Z",
     "start_time": "2023-07-08T18:06:09.267422Z"
    },
    "id": "17573570",
    "outputId": "5931f0ec-3937-4b61-9b76-0a40361a1cb2"
   },
   "outputs": [],
   "source": [
    "air.isnull().sum()"
   ]
  },
  {
   "cell_type": "code",
   "execution_count": null,
   "id": "dbf259d8",
   "metadata": {
    "ExecuteTime": {
     "end_time": "2023-07-08T18:06:09.267422Z",
     "start_time": "2023-07-08T18:06:09.267422Z"
    },
    "id": "dbf259d8",
    "outputId": "85fe8505-6d1c-49ff-ad2a-b227a3a73247"
   },
   "outputs": [],
   "source": [
    "air.isnull().sum().sum()"
   ]
  },
  {
   "cell_type": "code",
   "execution_count": null,
   "id": "44964404",
   "metadata": {
    "ExecuteTime": {
     "end_time": "2023-07-08T18:06:09.267422Z",
     "start_time": "2023-07-08T18:06:09.267422Z"
    },
    "id": "44964404",
    "outputId": "1b9f682f-d30a-4c77-d73b-c05d258aa289"
   },
   "outputs": [],
   "source": [
    "air[air.duplicated()].shape\n",
    "#found the 16 duplicated rows"
   ]
  },
  {
   "cell_type": "code",
   "execution_count": null,
   "id": "f6374998",
   "metadata": {
    "ExecuteTime": {
     "end_time": "2023-07-08T18:06:09.275422Z",
     "start_time": "2023-07-08T18:06:09.275422Z"
    },
    "id": "f6374998",
    "outputId": "75afd6e8-5f0d-41ae-973d-894c606e269d"
   },
   "outputs": [],
   "source": [
    "air[air.duplicated()]"
   ]
  },
  {
   "cell_type": "code",
   "execution_count": null,
   "id": "b980c1a5",
   "metadata": {
    "ExecuteTime": {
     "end_time": "2023-07-08T18:06:09.275422Z",
     "start_time": "2023-07-08T18:06:09.275422Z"
    },
    "id": "b980c1a5"
   },
   "outputs": [],
   "source": [
    "air.drop_duplicates(inplace=True)\n",
    "## removed the duplicated"
   ]
  },
  {
   "cell_type": "code",
   "execution_count": null,
   "id": "a093b669",
   "metadata": {
    "ExecuteTime": {
     "end_time": "2023-07-08T18:06:09.275422Z",
     "start_time": "2023-07-08T18:06:09.275422Z"
    },
    "id": "a093b669",
    "outputId": "2c868060-4ed9-423b-9ec0-1582f9340bf6"
   },
   "outputs": [],
   "source": [
    "air"
   ]
  },
  {
   "cell_type": "code",
   "execution_count": null,
   "id": "faff71e5",
   "metadata": {
    "ExecuteTime": {
     "end_time": "2023-07-08T18:06:09.284089Z",
     "start_time": "2023-07-08T18:06:09.284089Z"
    },
    "id": "faff71e5"
   },
   "outputs": [],
   "source": [
    "Air = air.copy()\n",
    "## copied the data from df to DF so that any changes done to coppied data does not reflect to original data"
   ]
  },
  {
   "cell_type": "code",
   "execution_count": null,
   "id": "f2f66c4c",
   "metadata": {
    "ExecuteTime": {
     "end_time": "2023-07-08T18:06:09.284089Z",
     "start_time": "2023-07-08T18:06:09.284089Z"
    },
    "id": "f2f66c4c",
    "outputId": "c756937f-a6b7-4f1e-de68-f2d062a3977c"
   },
   "outputs": [],
   "source": [
    "Air"
   ]
  },
  {
   "cell_type": "code",
   "execution_count": null,
   "id": "902a06cd",
   "metadata": {
    "ExecuteTime": {
     "end_time": "2023-07-08T18:06:09.290242Z",
     "start_time": "2023-07-08T18:06:09.290242Z"
    },
    "id": "902a06cd",
    "outputId": "f982e86f-ef8a-4a8d-d1e5-f34905c07c60"
   },
   "outputs": [],
   "source": [
    "air.info()"
   ]
  },
  {
   "cell_type": "code",
   "execution_count": null,
   "id": "7ff4923f",
   "metadata": {
    "ExecuteTime": {
     "end_time": "2023-07-08T18:06:09.293917Z",
     "start_time": "2023-07-08T18:06:09.293917Z"
    },
    "id": "7ff4923f",
    "outputId": "14f4a4e9-81dd-44e0-9b26-593da153875a"
   },
   "outputs": [],
   "source": [
    "Air.describe()"
   ]
  },
  {
   "cell_type": "code",
   "execution_count": null,
   "id": "c4a7c5af",
   "metadata": {
    "ExecuteTime": {
     "end_time": "2023-07-08T18:06:09.293917Z",
     "start_time": "2023-07-08T18:06:09.293917Z"
    },
    "id": "c4a7c5af",
    "outputId": "6202110b-b62e-4af0-d0d7-2cfc0c7697a2"
   },
   "outputs": [],
   "source": [
    "Air.isnull()"
   ]
  },
  {
   "cell_type": "code",
   "execution_count": null,
   "id": "9d775ff4",
   "metadata": {
    "ExecuteTime": {
     "end_time": "2023-07-08T18:06:09.293917Z",
     "start_time": "2023-07-08T18:06:09.293917Z"
    },
    "id": "9d775ff4",
    "outputId": "428784e3-4134-43b2-94d9-b8c3d300c4a6"
   },
   "outputs": [],
   "source": [
    "Air.isnull().sum()"
   ]
  },
  {
   "cell_type": "code",
   "execution_count": null,
   "id": "ff4b8323",
   "metadata": {
    "ExecuteTime": {
     "end_time": "2023-07-08T18:06:09.293917Z",
     "start_time": "2023-07-08T18:06:09.293917Z"
    },
    "id": "ff4b8323",
    "outputId": "e3f9767b-be0d-40f0-e910-744f168d684e"
   },
   "outputs": [],
   "source": [
    "Air.isnull().sum().sum()"
   ]
  },
  {
   "cell_type": "code",
   "execution_count": null,
   "id": "b01e2c8b",
   "metadata": {
    "ExecuteTime": {
     "end_time": "2023-07-08T18:06:09.293917Z",
     "start_time": "2023-07-08T18:06:09.293917Z"
    },
    "id": "b01e2c8b"
   },
   "outputs": [],
   "source": [
    "## Visualization of Data Checking the line plot,Histogram and Density Plots,create a density plot,\n",
    "## Box and Whisker Plots by Interval,Lag Plot, Autocorrelation Plot"
   ]
  },
  {
   "cell_type": "code",
   "execution_count": null,
   "id": "4e201ec9",
   "metadata": {
    "ExecuteTime": {
     "end_time": "2023-07-08T18:06:09.293917Z",
     "start_time": "2023-07-08T18:06:09.293917Z"
    },
    "id": "4e201ec9",
    "outputId": "9896cdd6-d988-4123-96e4-d0122aa3063e"
   },
   "outputs": [],
   "source": [
    "Air.plot()"
   ]
  },
  {
   "cell_type": "markdown",
   "id": "0aa7879b",
   "metadata": {
    "id": "0aa7879b"
   },
   "source": [
    "Here we can say that the trend is upward and the sessionality is multiplicative"
   ]
  },
  {
   "cell_type": "code",
   "execution_count": null,
   "id": "00b7385a",
   "metadata": {
    "ExecuteTime": {
     "end_time": "2023-07-08T18:06:09.306852Z",
     "start_time": "2023-07-08T18:06:09.306852Z"
    },
    "id": "00b7385a",
    "outputId": "d69f055c-d3ae-4ad4-8915-2b0f4881ab4b"
   },
   "outputs": [],
   "source": [
    "##Histogram and Density Plots\n",
    "\n",
    "Air.hist()"
   ]
  },
  {
   "cell_type": "code",
   "execution_count": null,
   "id": "11b53d44",
   "metadata": {
    "ExecuteTime": {
     "end_time": "2023-07-08T18:06:09.310098Z",
     "start_time": "2023-07-08T18:06:09.310098Z"
    },
    "id": "11b53d44",
    "outputId": "ee64655e-0875-471d-e616-f59edd582816"
   },
   "outputs": [],
   "source": [
    "# create a density plot\n",
    "Air.plot(kind='kde')"
   ]
  },
  {
   "cell_type": "code",
   "execution_count": null,
   "id": "9af4f617",
   "metadata": {
    "ExecuteTime": {
     "end_time": "2023-07-08T18:06:09.310098Z",
     "start_time": "2023-07-08T18:06:09.310098Z"
    },
    "id": "9af4f617",
    "outputId": "321212a1-7d3b-487c-f6a9-dbbc092f5e0c"
   },
   "outputs": [],
   "source": [
    "##Lag_plot\n",
    "lag_plot(Air)"
   ]
  },
  {
   "cell_type": "code",
   "execution_count": null,
   "id": "c482c05e",
   "metadata": {
    "ExecuteTime": {
     "end_time": "2023-07-08T18:06:09.310098Z",
     "start_time": "2023-07-08T18:06:09.310098Z"
    },
    "id": "c482c05e",
    "outputId": "b484ada8-d8f0-46d1-ff4c-a0a3fbc5de71"
   },
   "outputs": [],
   "source": [
    "#Autocorrelation Plot\n",
    "\n",
    "plot_acf(Air,lags=30)"
   ]
  },
  {
   "cell_type": "markdown",
   "id": "3abac030",
   "metadata": {
    "id": "3abac030"
   },
   "source": [
    "Up_Sampling"
   ]
  },
  {
   "cell_type": "code",
   "execution_count": null,
   "id": "d76a2981",
   "metadata": {
    "ExecuteTime": {
     "end_time": "2023-07-08T18:06:09.315123Z",
     "start_time": "2023-07-08T18:06:09.315123Z"
    },
    "id": "d76a2981",
    "outputId": "b99bf80d-9ffb-4caf-87d1-d27a86d48321"
   },
   "outputs": [],
   "source": [
    "upsampled = air.resample('M').mean()\n",
    "print(upsampled.head(32))"
   ]
  },
  {
   "cell_type": "code",
   "execution_count": null,
   "id": "1f25c797",
   "metadata": {
    "ExecuteTime": {
     "end_time": "2023-07-08T18:06:09.315123Z",
     "start_time": "2023-07-08T18:06:09.315123Z"
    },
    "id": "1f25c797",
    "outputId": "82ddcbf4-6da1-4eae-c45c-913b934752f8"
   },
   "outputs": [],
   "source": [
    "interpolated = upsampled.interpolate(method='linear') ## interplation was done for nan values which we get after doing upsampling by month\n",
    "print(interpolated.head(15))\n",
    "interpolated.plot()\n",
    "plt.show()"
   ]
  },
  {
   "cell_type": "code",
   "execution_count": null,
   "id": "6e7faf2b",
   "metadata": {
    "ExecuteTime": {
     "end_time": "2023-07-08T18:06:09.315123Z",
     "start_time": "2023-07-08T18:06:09.315123Z"
    },
    "id": "6e7faf2b",
    "outputId": "40e1ec79-b6f9-44d7-aeda-9cacab492572"
   },
   "outputs": [],
   "source": [
    "interpolated"
   ]
  },
  {
   "cell_type": "markdown",
   "id": "c6acde4d",
   "metadata": {
    "id": "c6acde4d"
   },
   "source": [
    "Tranformations"
   ]
  },
  {
   "cell_type": "code",
   "execution_count": null,
   "id": "19d2f083",
   "metadata": {
    "ExecuteTime": {
     "end_time": "2023-07-08T18:06:09.323149Z",
     "start_time": "2023-07-08T18:06:09.323149Z"
    },
    "id": "19d2f083",
    "outputId": "90bbf4af-eb36-40c1-912e-ec7af1a97ccf"
   },
   "outputs": [],
   "source": [
    "# line plot\n",
    "plt.subplot(211)\n",
    "plt.plot(Air)"
   ]
  },
  {
   "cell_type": "code",
   "execution_count": null,
   "id": "f3dbbb59",
   "metadata": {
    "ExecuteTime": {
     "end_time": "2023-07-08T18:06:09.323149Z",
     "start_time": "2023-07-08T18:06:09.323149Z"
    },
    "id": "f3dbbb59",
    "outputId": "060cd7f6-816e-452f-a331-13f459acafde"
   },
   "outputs": [],
   "source": [
    "# histogram\n",
    "plt.subplot(212)\n",
    "plt.hist(Air)"
   ]
  },
  {
   "cell_type": "markdown",
   "id": "e30d8b2d",
   "metadata": {
    "id": "e30d8b2d"
   },
   "source": [
    "Square root Transform"
   ]
  },
  {
   "cell_type": "code",
   "execution_count": null,
   "id": "688f5f90",
   "metadata": {
    "ExecuteTime": {
     "end_time": "2023-07-08T18:06:09.323149Z",
     "start_time": "2023-07-08T18:06:09.323149Z"
    },
    "id": "688f5f90"
   },
   "outputs": [],
   "source": [
    "dataframe = DataFrame(Air.values)\n",
    "dataframe.columns = ['Passengers']\n",
    "dataframe['Passengers'] = sqrt(dataframe['Passengers'])"
   ]
  },
  {
   "cell_type": "code",
   "execution_count": null,
   "id": "939beda8",
   "metadata": {
    "ExecuteTime": {
     "end_time": "2023-07-08T18:06:09.331151Z",
     "start_time": "2023-07-08T18:06:09.331151Z"
    },
    "id": "939beda8",
    "outputId": "1ba38f66-ed68-4090-87c9-10eeece559de"
   },
   "outputs": [],
   "source": [
    "# line plot\n",
    "plt.subplot(211)\n",
    "plt.plot(Air['Passengers'])\n",
    "# histogram\n",
    "plt.subplot(212)\n",
    "plt.hist(Air['Passengers'])\n",
    "plt.show()"
   ]
  },
  {
   "cell_type": "markdown",
   "id": "46fbf213",
   "metadata": {
    "id": "46fbf213"
   },
   "source": [
    "Log Transform"
   ]
  },
  {
   "cell_type": "code",
   "execution_count": null,
   "id": "b0ab0166",
   "metadata": {
    "ExecuteTime": {
     "end_time": "2023-07-08T18:06:09.331151Z",
     "start_time": "2023-07-08T18:06:09.331151Z"
    },
    "id": "b0ab0166"
   },
   "outputs": [],
   "source": [
    "from numpy import log\n",
    "## importing the log library"
   ]
  },
  {
   "cell_type": "code",
   "execution_count": null,
   "id": "074e8040",
   "metadata": {
    "ExecuteTime": {
     "end_time": "2023-07-08T18:06:09.331151Z",
     "start_time": "2023-07-08T18:06:09.331151Z"
    },
    "id": "074e8040",
    "outputId": "0b317ceb-0c72-4b99-a7b4-eaa3640e8510"
   },
   "outputs": [],
   "source": [
    "dataframe = DataFrame(Air.values)\n",
    "dataframe.columns = ['Passengers']\n",
    "dataframe['Passengers'] = log(dataframe['Passengers'])\n",
    "\n",
    "# line plot\n",
    "plt.subplot(211)\n",
    "plt.plot(dataframe['Passengers'])\n",
    "# histogram\n",
    "plt.subplot(212)\n",
    "plt.hist(dataframe['Passengers'])\n",
    "plt.show()"
   ]
  },
  {
   "cell_type": "code",
   "execution_count": null,
   "id": "ca97a0d5",
   "metadata": {
    "ExecuteTime": {
     "end_time": "2023-07-08T18:06:09.339150Z",
     "start_time": "2023-07-08T18:06:09.339150Z"
    },
    "id": "ca97a0d5"
   },
   "outputs": [],
   "source": [
    "Train = interpolated.head(81)\n",
    "Test = interpolated.tail(14)"
   ]
  },
  {
   "cell_type": "markdown",
   "id": "41426ec6",
   "metadata": {
    "id": "41426ec6"
   },
   "source": [
    "Moving Average"
   ]
  },
  {
   "cell_type": "code",
   "execution_count": null,
   "id": "7b544d40",
   "metadata": {
    "ExecuteTime": {
     "end_time": "2023-07-08T18:06:09.339150Z",
     "start_time": "2023-07-08T18:06:09.339150Z"
    },
    "id": "7b544d40",
    "outputId": "009d6b3e-3e45-4088-c1af-8bcce65a2525"
   },
   "outputs": [],
   "source": [
    "plt.figure(figsize=(12,4))\n",
    "interpolated.Passengers.plot(label=\"org\")\n",
    "for i in range(2,24,6):\n",
    "    interpolated[\"Passengers\"].rolling(i).mean().plot(label=str(i))\n",
    "plt.legend(loc='best')"
   ]
  },
  {
   "cell_type": "markdown",
   "id": "08349073",
   "metadata": {
    "id": "08349073"
   },
   "source": [
    "Time-Series Decomposition Plot"
   ]
  },
  {
   "cell_type": "code",
   "execution_count": null,
   "id": "4f63e264",
   "metadata": {
    "ExecuteTime": {
     "end_time": "2023-07-08T18:06:09.339150Z",
     "start_time": "2023-07-08T18:06:09.339150Z"
    },
    "id": "4f63e264",
    "outputId": "c73fbd8a-fd28-46b6-c555-49d7fde2eb0b"
   },
   "outputs": [],
   "source": [
    "decompose_ts_add = seasonal_decompose(interpolated.Passengers,period=12)  \n",
    "decompose_ts_add.plot()\n",
    "plt.show()"
   ]
  },
  {
   "cell_type": "markdown",
   "id": "ba26489a",
   "metadata": {
    "id": "ba26489a"
   },
   "source": [
    "ACF and PACF Plots"
   ]
  },
  {
   "cell_type": "code",
   "execution_count": null,
   "id": "2597e052",
   "metadata": {
    "ExecuteTime": {
     "end_time": "2023-07-08T18:06:09.339150Z",
     "start_time": "2023-07-08T18:06:09.339150Z"
    },
    "id": "2597e052",
    "outputId": "01f208bd-471d-4edf-c5bf-465f3e9b5c96"
   },
   "outputs": [],
   "source": [
    "import statsmodels.graphics.tsaplots as tsa_plots\n",
    "\n",
    "tsa_plots.plot_acf(interpolated.Passengers,lags=14)\n",
    "tsa_plots.plot_pacf(interpolated.Passengers,lags=14)\n",
    "plt.show()"
   ]
  },
  {
   "cell_type": "markdown",
   "id": "34bcdf2c",
   "metadata": {
    "id": "34bcdf2c"
   },
   "source": [
    "Evaluation metric MAPE"
   ]
  },
  {
   "cell_type": "code",
   "execution_count": null,
   "id": "ed76fade",
   "metadata": {
    "ExecuteTime": {
     "end_time": "2023-07-08T18:06:09.347151Z",
     "start_time": "2023-07-08T18:06:09.347151Z"
    },
    "id": "ed76fade"
   },
   "outputs": [],
   "source": [
    "def MAPE(pred,org):\n",
    "    temp = np.abs((pred-org)/org)*100\n",
    "    return np.mean(temp)"
   ]
  },
  {
   "cell_type": "markdown",
   "id": "1dfd30eb",
   "metadata": {
    "id": "1dfd30eb"
   },
   "source": [
    "Simple Exponential Method"
   ]
  },
  {
   "cell_type": "code",
   "execution_count": null,
   "id": "eefea1aa",
   "metadata": {
    "ExecuteTime": {
     "end_time": "2023-07-08T18:06:09.347151Z",
     "start_time": "2023-07-08T18:06:09.347151Z"
    },
    "id": "eefea1aa",
    "outputId": "ced3d5c4-14ad-4b4b-dc76-4477d870cb2e"
   },
   "outputs": [],
   "source": [
    "ses_model = SimpleExpSmoothing(Train[\"Passengers\"]).fit(smoothing_level=0.2)\n",
    "pred_ses = ses_model.predict(start = Test.index[0],end = Test.index[-1])\n",
    "MAPE(pred_ses,Test.Passengers)"
   ]
  },
  {
   "cell_type": "markdown",
   "id": "2ee056a7",
   "metadata": {
    "id": "2ee056a7"
   },
   "source": [
    "Holt Method"
   ]
  },
  {
   "cell_type": "code",
   "execution_count": null,
   "id": "c5549e02",
   "metadata": {
    "ExecuteTime": {
     "end_time": "2023-07-08T18:06:09.347151Z",
     "start_time": "2023-07-08T18:06:09.347151Z"
    },
    "id": "c5549e02",
    "outputId": "0bb9c095-ac76-4da4-bafd-24eedcd2597a"
   },
   "outputs": [],
   "source": [
    "# Holt method \n",
    "hw_model = Holt(Train[\"Passengers\"]).fit(smoothing_level=0.1, smoothing_slope=0.2)\n",
    "pred_hw = hw_model.predict(start = Test.index[0],end = Test.index[-1])\n",
    "MAPE(pred_hw,Test.Passengers)"
   ]
  },
  {
   "cell_type": "markdown",
   "id": "e1f2becc",
   "metadata": {
    "id": "e1f2becc"
   },
   "source": [
    "Holts winter exponential smoothing with additive seasonality and additive trend"
   ]
  },
  {
   "cell_type": "code",
   "execution_count": null,
   "id": "4ff06ab6",
   "metadata": {
    "ExecuteTime": {
     "end_time": "2023-07-08T18:06:09.355153Z",
     "start_time": "2023-07-08T18:06:09.355153Z"
    },
    "id": "4ff06ab6",
    "outputId": "8d91ed7f-609f-4237-914a-6f687ccbb5d0"
   },
   "outputs": [],
   "source": [
    "hwe_model_add_add = ExponentialSmoothing(Train[\"Passengers\"],seasonal=\"add\",trend=\"add\",seasonal_periods=12).fit(smoothing_level=0.1, smoothing_slope=0.2) #add the trend to the model\n",
    "pred_hwe_add_add = hwe_model_add_add.predict(start = Test.index[0],end = Test.index[-1])\n",
    "MAPE(pred_hwe_add_add,Test.Passengers)"
   ]
  },
  {
   "cell_type": "markdown",
   "id": "ffdca7bb",
   "metadata": {
    "id": "ffdca7bb"
   },
   "source": [
    "Holts winter exponential smoothing with multiplicative seasonality and additive trend"
   ]
  },
  {
   "cell_type": "code",
   "execution_count": null,
   "id": "40adacf4",
   "metadata": {
    "ExecuteTime": {
     "end_time": "2023-07-08T18:06:09.355153Z",
     "start_time": "2023-07-08T18:06:09.355153Z"
    },
    "id": "40adacf4",
    "outputId": "c8fa882b-68e2-48c8-e707-e39d8e2ecb38"
   },
   "outputs": [],
   "source": [
    "hwe_model_mul_add = ExponentialSmoothing(Train[\"Passengers\"],seasonal=\"mul\",trend=\"add\",seasonal_periods=12).fit(smoothing_level=0.1, smoothing_slope=0.2) \n",
    "pred_hwe_mul_add = hwe_model_mul_add.predict(start = Test.index[0],end = Test.index[-1])\n",
    "MAPE(pred_hwe_mul_add,Test.Passengers)"
   ]
  },
  {
   "cell_type": "code",
   "execution_count": null,
   "id": "7b729b33",
   "metadata": {
    "ExecuteTime": {
     "end_time": "2023-07-08T18:06:09.360865Z",
     "start_time": "2023-07-08T18:06:09.360865Z"
    },
    "id": "7b729b33",
    "outputId": "4fa4d696-03f8-4224-885c-85b7c5166e66"
   },
   "outputs": [],
   "source": [
    "rmse_hwe_mul_add = sqrt(mean_squared_error(pred_hwe_mul_add,Test.Passengers))\n",
    "rmse_hwe_mul_add"
   ]
  },
  {
   "cell_type": "markdown",
   "id": "2d96afc1",
   "metadata": {
    "id": "2d96afc1"
   },
   "source": [
    "Final Model by combining train and test"
   ]
  },
  {
   "cell_type": "code",
   "execution_count": null,
   "id": "9d211d1d",
   "metadata": {
    "ExecuteTime": {
     "end_time": "2023-07-08T18:06:09.360865Z",
     "start_time": "2023-07-08T18:06:09.360865Z"
    },
    "id": "9d211d1d"
   },
   "outputs": [],
   "source": [
    "hwe_model_add_add = ExponentialSmoothing(interpolated[\"Passengers\"],\n",
    "                                         seasonal=\"add\",\n",
    "                                         trend=\"add\",\n",
    "                                         seasonal_periods=10).fit()"
   ]
  },
  {
   "cell_type": "code",
   "execution_count": null,
   "id": "231d1647",
   "metadata": {
    "ExecuteTime": {
     "end_time": "2023-07-08T18:06:09.360865Z",
     "start_time": "2023-07-08T18:06:09.360865Z"
    },
    "id": "231d1647",
    "outputId": "6d5322ad-92dc-4cb8-a451-069a4471619c"
   },
   "outputs": [],
   "source": [
    "#Forecasting for next 10 time periods\n",
    "hwe_model_add_add.forecast(10)"
   ]
  },
  {
   "cell_type": "code",
   "execution_count": null,
   "id": "fd687fc4",
   "metadata": {
    "ExecuteTime": {
     "end_time": "2023-07-08T18:06:09.360865Z",
     "start_time": "2023-07-08T18:06:09.360865Z"
    },
    "id": "fd687fc4",
    "outputId": "1cf969cd-72dc-4d8a-8dc5-7dde9ab389e0"
   },
   "outputs": [],
   "source": [
    "interpolated"
   ]
  },
  {
   "cell_type": "code",
   "execution_count": null,
   "id": "4bb14c34",
   "metadata": {
    "ExecuteTime": {
     "end_time": "2023-07-08T18:06:09.370892Z",
     "start_time": "2023-07-08T18:06:09.370892Z"
    },
    "id": "4bb14c34"
   },
   "outputs": [],
   "source": [
    "interpolated.reset_index(inplace=True)"
   ]
  },
  {
   "cell_type": "code",
   "execution_count": null,
   "id": "f9c562d0",
   "metadata": {
    "ExecuteTime": {
     "end_time": "2023-07-08T18:06:09.370892Z",
     "start_time": "2023-07-08T18:06:09.370892Z"
    },
    "id": "f9c562d0",
    "outputId": "ebbd2dae-8a3c-4a42-a551-0cac51e5706e"
   },
   "outputs": [],
   "source": [
    "interpolated['t'] = 1\n",
    "interpolated"
   ]
  },
  {
   "cell_type": "code",
   "execution_count": null,
   "id": "8417a8f7",
   "metadata": {
    "ExecuteTime": {
     "end_time": "2023-07-08T18:06:09.373518Z",
     "start_time": "2023-07-08T18:06:09.373518Z"
    },
    "id": "8417a8f7"
   },
   "outputs": [],
   "source": [
    "for i, row in interpolated.iterrows():\n",
    "    interpolated['t'].iloc[i] = i+1"
   ]
  },
  {
   "cell_type": "code",
   "execution_count": null,
   "id": "764eb213",
   "metadata": {
    "ExecuteTime": {
     "end_time": "2023-07-08T18:06:09.373518Z",
     "start_time": "2023-07-08T18:06:09.373518Z"
    },
    "id": "764eb213",
    "outputId": "4bf8149d-a1ae-4eb0-a2be-03c71f4a44b4"
   },
   "outputs": [],
   "source": [
    "interpolated"
   ]
  },
  {
   "cell_type": "code",
   "execution_count": null,
   "id": "ec88bac1",
   "metadata": {
    "ExecuteTime": {
     "end_time": "2023-07-08T18:06:09.379043Z",
     "start_time": "2023-07-08T18:06:09.379043Z"
    },
    "id": "ec88bac1"
   },
   "outputs": [],
   "source": [
    "interpolated['t_sq'] = (interpolated['t'])**2\n",
    "## inserted t_sq column with values"
   ]
  },
  {
   "cell_type": "code",
   "execution_count": null,
   "id": "b18fa5dc",
   "metadata": {
    "ExecuteTime": {
     "end_time": "2023-07-08T18:06:09.379043Z",
     "start_time": "2023-07-08T18:06:09.379043Z"
    },
    "id": "b18fa5dc",
    "outputId": "ec1c89e6-6625-4350-b9df-289ba605ad02"
   },
   "outputs": [],
   "source": [
    "interpolated"
   ]
  },
  {
   "cell_type": "code",
   "execution_count": null,
   "id": "0de44b89",
   "metadata": {
    "ExecuteTime": {
     "end_time": "2023-07-08T18:06:09.379043Z",
     "start_time": "2023-07-08T18:06:09.379043Z"
    },
    "id": "0de44b89"
   },
   "outputs": [],
   "source": [
    "interpolated[\"month\"] = interpolated.Month.dt.strftime(\"%b\") # month extraction\n",
    "interpolated[\"year\"] = interpolated.Month.dt.strftime(\"%Y\") # month extraction"
   ]
  },
  {
   "cell_type": "code",
   "execution_count": null,
   "id": "28b16783",
   "metadata": {
    "ExecuteTime": {
     "end_time": "2023-07-08T18:06:09.379043Z",
     "start_time": "2023-07-08T18:06:09.379043Z"
    },
    "id": "28b16783",
    "outputId": "4021f878-9b77-4169-b3bd-9bcacf155e1d"
   },
   "outputs": [],
   "source": [
    "interpolated"
   ]
  },
  {
   "cell_type": "code",
   "execution_count": null,
   "id": "35f58387",
   "metadata": {
    "ExecuteTime": {
     "end_time": "2023-07-08T18:06:09.387069Z",
     "start_time": "2023-07-08T18:06:09.387069Z"
    },
    "id": "35f58387",
    "outputId": "fbb3aa30-f76a-478b-8336-3a8ce885ea43"
   },
   "outputs": [],
   "source": [
    "months = pd.get_dummies(interpolated['month']) ## converting the dummy variables for month column\n",
    "months"
   ]
  },
  {
   "cell_type": "code",
   "execution_count": null,
   "id": "d04313c1",
   "metadata": {
    "ExecuteTime": {
     "end_time": "2023-07-08T18:06:09.387069Z",
     "start_time": "2023-07-08T18:06:09.387069Z"
    },
    "id": "d04313c1"
   },
   "outputs": [],
   "source": [
    "months = months[['Jan','Feb','Mar','Apr','May','Jun','Jul','Aug','Sep','Oct','Nov','Dec']]\n",
    "## storing the months as serial wise again in months variable"
   ]
  },
  {
   "cell_type": "code",
   "execution_count": null,
   "id": "5d1c495b",
   "metadata": {
    "ExecuteTime": {
     "end_time": "2023-07-08T18:06:09.387069Z",
     "start_time": "2023-07-08T18:06:09.387069Z"
    },
    "id": "5d1c495b",
    "outputId": "c9217454-0383-4d00-ceaa-7f79c7f1c692"
   },
   "outputs": [],
   "source": [
    "months"
   ]
  },
  {
   "cell_type": "code",
   "execution_count": null,
   "id": "fcddab9f",
   "metadata": {
    "ExecuteTime": {
     "end_time": "2023-07-08T18:06:09.387069Z",
     "start_time": "2023-07-08T18:06:09.387069Z"
    },
    "id": "fcddab9f",
    "outputId": "6c1c2ad0-fbbf-4891-92e6-be3805fe25c5"
   },
   "outputs": [],
   "source": [
    "Airlines = pd.concat([interpolated,months],axis=1)\n",
    "Airlines"
   ]
  },
  {
   "cell_type": "code",
   "execution_count": null,
   "id": "7a902602",
   "metadata": {
    "ExecuteTime": {
     "end_time": "2023-07-08T18:06:09.395071Z",
     "start_time": "2023-07-08T18:06:09.395071Z"
    },
    "id": "7a902602"
   },
   "outputs": [],
   "source": [
    "Airlines['log_passengers'] = np.log(Airlines['Passengers'])"
   ]
  },
  {
   "cell_type": "code",
   "execution_count": null,
   "id": "39be3465",
   "metadata": {
    "ExecuteTime": {
     "end_time": "2023-07-08T18:06:09.395071Z",
     "start_time": "2023-07-08T18:06:09.395071Z"
    },
    "id": "39be3465",
    "outputId": "91fe4a6f-546f-445a-bcc8-2bf9fc08e177"
   },
   "outputs": [],
   "source": [
    "Airlines"
   ]
  },
  {
   "cell_type": "code",
   "execution_count": null,
   "id": "07f61ebb",
   "metadata": {
    "ExecuteTime": {
     "end_time": "2023-07-08T18:06:09.395071Z",
     "start_time": "2023-07-08T18:06:09.395071Z"
    },
    "id": "07f61ebb",
    "outputId": "2fe1ad45-baff-4fdc-b84d-c3ae41b19fb9"
   },
   "outputs": [],
   "source": [
    "plt.figure(figsize=(15,11))\n",
    "heatmap_y_month = pd.pivot_table(data=Airlines,values=\"Passengers\",index=\"year\",columns=\"month\",aggfunc=\"mean\",fill_value=0)\n",
    "sns.heatmap(heatmap_y_month,annot=True,fmt=\"g\")"
   ]
  },
  {
   "cell_type": "code",
   "execution_count": null,
   "id": "30f4de4e",
   "metadata": {
    "ExecuteTime": {
     "end_time": "2023-07-08T18:06:09.403096Z",
     "start_time": "2023-07-08T18:06:09.403096Z"
    },
    "id": "30f4de4e",
    "outputId": "9708014a-f49c-418c-abdd-a9f778129e89"
   },
   "outputs": [],
   "source": [
    "# Boxplot \n",
    "plt.figure(figsize=(8,6))\n",
    "plt.subplot(211)\n",
    "sns.boxplot(x=\"month\",y=\"Passengers\",data= Airlines)\n",
    "plt.subplot(212)\n",
    "sns.boxplot(x=\"year\",y=\"Passengers\",data=Airlines)"
   ]
  },
  {
   "cell_type": "code",
   "execution_count": null,
   "id": "57dd9d7d",
   "metadata": {
    "ExecuteTime": {
     "end_time": "2023-07-08T18:06:09.403096Z",
     "start_time": "2023-07-08T18:06:09.403096Z"
    },
    "id": "57dd9d7d",
    "outputId": "09fd65df-7b43-4c04-f172-e2db9ec8b575"
   },
   "outputs": [],
   "source": [
    "plt.figure(figsize=(16,7))\n",
    "sns.lineplot(x=\"year\",y=\"Passengers\",data=Airlines)"
   ]
  },
  {
   "cell_type": "markdown",
   "id": "8d414bb9",
   "metadata": {
    "id": "8d414bb9"
   },
   "source": [
    "Spliting Data"
   ]
  },
  {
   "cell_type": "code",
   "execution_count": null,
   "id": "176beec2",
   "metadata": {
    "ExecuteTime": {
     "end_time": "2023-07-08T18:06:09.407280Z",
     "start_time": "2023-07-08T18:06:09.407280Z"
    },
    "id": "176beec2"
   },
   "outputs": [],
   "source": [
    "Train = Airlines.head(81) # training data\n",
    "Test = Airlines.tail(14) # test Data"
   ]
  },
  {
   "cell_type": "code",
   "execution_count": null,
   "id": "fd65039f",
   "metadata": {
    "ExecuteTime": {
     "end_time": "2023-07-08T18:06:09.407280Z",
     "start_time": "2023-07-08T18:06:09.407280Z"
    },
    "id": "fd65039f",
    "outputId": "eb0b6a2b-47e2-44ce-c30c-beeeb5cc0b2c"
   },
   "outputs": [],
   "source": [
    "#Linear Model\n",
    "import statsmodels.formula.api as smf \n",
    "\n",
    "linear_model = smf.ols('Passengers~t',data=Train).fit()\n",
    "pred_linear =  pd.Series(linear_model.predict(pd.DataFrame(Test['t'])))\n",
    "rmse_linear = np.sqrt(np.mean((np.array(Test['Passengers'])-np.array(pred_linear))**2))\n",
    "rmse_linear"
   ]
  },
  {
   "cell_type": "code",
   "execution_count": null,
   "id": "cb4e8740",
   "metadata": {
    "ExecuteTime": {
     "end_time": "2023-07-08T18:06:09.407280Z",
     "start_time": "2023-07-08T18:06:09.407280Z"
    },
    "id": "cb4e8740",
    "outputId": "08a44f95-89ea-405f-b075-56918addd4b7"
   },
   "outputs": [],
   "source": [
    "#Exponential\n",
    "Exp = smf.ols('log_passengers~t',data=Train).fit()\n",
    "pred_Exp = pd.Series(Exp.predict(pd.DataFrame(Test['t'])))\n",
    "rmse_Exp = np.sqrt(np.mean((np.array(Test['Passengers'])-np.array(np.exp(pred_Exp)))**2))\n",
    "rmse_Exp"
   ]
  },
  {
   "cell_type": "code",
   "execution_count": null,
   "id": "7abb3bdd",
   "metadata": {
    "ExecuteTime": {
     "end_time": "2023-07-08T18:06:09.407280Z",
     "start_time": "2023-07-08T18:06:09.407280Z"
    },
    "id": "7abb3bdd",
    "outputId": "fbad7590-2735-4894-9868-cc742205fb81"
   },
   "outputs": [],
   "source": [
    "#Quadratic \n",
    "\n",
    "Quad = smf.ols('Passengers~t+t_sq',data=Train).fit()\n",
    "pred_Quad = pd.Series(Quad.predict(Test[[\"t\",\"t_sq\"]]))\n",
    "rmse_Quad = np.sqrt(np.mean((np.array(Test['Passengers'])-np.array(pred_Quad))**2))\n",
    "rmse_Quad"
   ]
  },
  {
   "cell_type": "code",
   "execution_count": null,
   "id": "2a1f87ac",
   "metadata": {
    "ExecuteTime": {
     "end_time": "2023-07-08T18:06:09.407280Z",
     "start_time": "2023-07-08T18:06:09.407280Z"
    },
    "id": "2a1f87ac",
    "outputId": "fab1ed9a-a539-40bf-e2ba-a867eaa4167a"
   },
   "outputs": [],
   "source": [
    "#Additive seasonality \n",
    "\n",
    "add_sea = smf.ols('Passengers~Jan+Feb+Mar+Apr+May+Jun+Jul+Aug+Sep+Oct+Nov',data=Train).fit()\n",
    "pred_add_sea = pd.Series(add_sea.predict(Test[['Jan','Feb','Mar','Apr','May','Jun','Jul','Aug','Sep','Oct','Nov']]))\n",
    "rmse_add_sea = np.sqrt(np.mean((np.array(Test['Passengers'])-np.array(pred_add_sea))**2))\n",
    "rmse_add_sea"
   ]
  },
  {
   "cell_type": "code",
   "execution_count": null,
   "id": "8d0803dd",
   "metadata": {
    "ExecuteTime": {
     "end_time": "2023-07-08T18:06:09.407280Z",
     "start_time": "2023-07-08T18:06:09.407280Z"
    },
    "id": "8d0803dd",
    "outputId": "6087afd5-bd28-4d16-a379-32de584f00b7"
   },
   "outputs": [],
   "source": [
    "#Additive Seasonality Quadratic \n",
    "\n",
    "add_sea_Quad = smf.ols('Passengers~t+t_sq+Jan+Feb+Mar+Apr+May+Jun+Jul+Aug+Sep+Oct+Nov',data=Train).fit()\n",
    "pred_add_sea_quad = pd.Series(add_sea_Quad.predict(Test[['Jan','Feb','Mar','Apr','May','Jun','Jul','Aug','Sep','Oct','Nov','t','t_sq']]))\n",
    "rmse_add_sea_quad = np.sqrt(np.mean((np.array(Test['Passengers'])-np.array(pred_add_sea_quad))**2))\n",
    "rmse_add_sea_quad"
   ]
  },
  {
   "cell_type": "code",
   "execution_count": null,
   "id": "b24e0bf8",
   "metadata": {
    "ExecuteTime": {
     "end_time": "2023-07-08T18:06:09.418807Z",
     "start_time": "2023-07-08T18:06:09.418807Z"
    },
    "id": "b24e0bf8",
    "outputId": "2f914903-af85-40b1-d5f5-66363b910b69"
   },
   "outputs": [],
   "source": [
    "##Multiplicative Seasonality\n",
    "\n",
    "Mul_sea = smf.ols('log_passengers~Jan+Feb+Mar+Apr+May+Jun+Jul+Aug+Sep+Oct+Nov',data = Train).fit()\n",
    "pred_Mult_sea = pd.Series(Mul_sea.predict(Test))\n",
    "rmse_Mult_sea = np.sqrt(np.mean((np.array(Test['Passengers'])-np.array(np.exp(pred_Mult_sea)))**2))\n",
    "rmse_Mult_sea"
   ]
  },
  {
   "cell_type": "code",
   "execution_count": null,
   "id": "679b2e2b",
   "metadata": {
    "ExecuteTime": {
     "end_time": "2023-07-08T18:06:09.418807Z",
     "start_time": "2023-07-08T18:06:09.418807Z"
    },
    "id": "679b2e2b",
    "outputId": "f8def16b-3f55-4691-d733-3f61628c0261"
   },
   "outputs": [],
   "source": [
    "#Multiplicative Additive Seasonality \n",
    "\n",
    "Mul_Add_sea = smf.ols('log_passengers~t+Jan+Feb+Mar+Apr+May+Jun+Jul+Aug+Sep+Oct+Nov',data = Train).fit()\n",
    "pred_Mult_add_sea = pd.Series(Mul_Add_sea.predict(Test))\n",
    "rmse_Mult_add_sea = np.sqrt(np.mean((np.array(Test['Passengers'])-np.array(np.exp(pred_Mult_add_sea)))**2))\n",
    "rmse_Mult_add_sea"
   ]
  },
  {
   "cell_type": "code",
   "execution_count": null,
   "id": "f2ecc18e",
   "metadata": {
    "ExecuteTime": {
     "end_time": "2023-07-08T18:06:09.423501Z",
     "start_time": "2023-07-08T18:06:09.423501Z"
    },
    "id": "f2ecc18e",
    "outputId": "9d6a3a2d-3d73-4935-e84c-79145e9f6d56"
   },
   "outputs": [],
   "source": [
    "#Compareing the results \n",
    "\n",
    "data = {\"MODEL\":pd.Series([\"rmse_linear\",\"rmse_Exp\",\"rmse_Quad\",\"rmse_add_sea\",\"rmse_add_sea_quad\",\"rmse_Mult_sea\",\"rmse_Mult_add_sea\"]),\"RMSE_Values\":pd.Series([rmse_linear,rmse_Exp,rmse_Quad,rmse_add_sea,rmse_add_sea_quad,rmse_Mult_sea,rmse_Mult_add_sea])}\n",
    "table_rmse=pd.DataFrame(data)\n",
    "table_rmse.sort_values(['RMSE_Values'])"
   ]
  },
  {
   "cell_type": "code",
   "execution_count": null,
   "id": "2c49b49d",
   "metadata": {
    "id": "2c49b49d"
   },
   "outputs": [],
   "source": []
  }
 ],
 "metadata": {
  "colab": {
   "provenance": []
  },
  "kernelspec": {
   "display_name": "Python 3 (ipykernel)",
   "language": "python",
   "name": "python3"
  },
  "language_info": {
   "codemirror_mode": {
    "name": "ipython",
    "version": 3
   },
   "file_extension": ".py",
   "mimetype": "text/x-python",
   "name": "python",
   "nbconvert_exporter": "python",
   "pygments_lexer": "ipython3",
   "version": "3.9.12"
  }
 },
 "nbformat": 4,
 "nbformat_minor": 5
}
