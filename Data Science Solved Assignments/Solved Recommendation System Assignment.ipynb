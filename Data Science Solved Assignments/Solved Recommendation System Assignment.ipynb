{
 "cells": [
  {
   "cell_type": "code",
   "execution_count": 1,
   "id": "9a254ca0",
   "metadata": {
    "ExecuteTime": {
     "end_time": "2023-07-08T17:34:40.150379Z",
     "start_time": "2023-07-08T17:34:37.310731Z"
    },
    "id": "9a254ca0"
   },
   "outputs": [],
   "source": [
    "import pandas as pd\n",
    "import numpy as np\n",
    "import matplotlib.pyplot as plt\n",
    "%matplotlib inline\n",
    "import seaborn as sns\n",
    "import warnings\n",
    "warnings.filterwarnings('ignore')"
   ]
  },
  {
   "cell_type": "code",
   "execution_count": 2,
   "id": "2467977d",
   "metadata": {
    "ExecuteTime": {
     "end_time": "2023-07-08T17:34:40.201303Z",
     "start_time": "2023-07-08T17:34:40.150379Z"
    },
    "id": "2467977d",
    "outputId": "8b407212-5476-4b1d-b391-81b3dfda550f"
   },
   "outputs": [
    {
     "data": {
      "text/html": [
       "<div>\n",
       "<style scoped>\n",
       "    .dataframe tbody tr th:only-of-type {\n",
       "        vertical-align: middle;\n",
       "    }\n",
       "\n",
       "    .dataframe tbody tr th {\n",
       "        vertical-align: top;\n",
       "    }\n",
       "\n",
       "    .dataframe thead th {\n",
       "        text-align: right;\n",
       "    }\n",
       "</style>\n",
       "<table border=\"1\" class=\"dataframe\">\n",
       "  <thead>\n",
       "    <tr style=\"text-align: right;\">\n",
       "      <th></th>\n",
       "      <th>ChildBks</th>\n",
       "      <th>YouthBks</th>\n",
       "      <th>CookBks</th>\n",
       "      <th>DoItYBks</th>\n",
       "      <th>RefBks</th>\n",
       "      <th>ArtBks</th>\n",
       "      <th>GeogBks</th>\n",
       "      <th>ItalCook</th>\n",
       "      <th>ItalAtlas</th>\n",
       "      <th>ItalArt</th>\n",
       "      <th>Florence</th>\n",
       "    </tr>\n",
       "  </thead>\n",
       "  <tbody>\n",
       "    <tr>\n",
       "      <th>0</th>\n",
       "      <td>0</td>\n",
       "      <td>1</td>\n",
       "      <td>0</td>\n",
       "      <td>1</td>\n",
       "      <td>0</td>\n",
       "      <td>0</td>\n",
       "      <td>1</td>\n",
       "      <td>0</td>\n",
       "      <td>0</td>\n",
       "      <td>0</td>\n",
       "      <td>0</td>\n",
       "    </tr>\n",
       "    <tr>\n",
       "      <th>1</th>\n",
       "      <td>1</td>\n",
       "      <td>0</td>\n",
       "      <td>0</td>\n",
       "      <td>0</td>\n",
       "      <td>0</td>\n",
       "      <td>0</td>\n",
       "      <td>0</td>\n",
       "      <td>0</td>\n",
       "      <td>0</td>\n",
       "      <td>0</td>\n",
       "      <td>0</td>\n",
       "    </tr>\n",
       "    <tr>\n",
       "      <th>2</th>\n",
       "      <td>0</td>\n",
       "      <td>0</td>\n",
       "      <td>0</td>\n",
       "      <td>0</td>\n",
       "      <td>0</td>\n",
       "      <td>0</td>\n",
       "      <td>0</td>\n",
       "      <td>0</td>\n",
       "      <td>0</td>\n",
       "      <td>0</td>\n",
       "      <td>0</td>\n",
       "    </tr>\n",
       "    <tr>\n",
       "      <th>3</th>\n",
       "      <td>1</td>\n",
       "      <td>1</td>\n",
       "      <td>1</td>\n",
       "      <td>0</td>\n",
       "      <td>1</td>\n",
       "      <td>0</td>\n",
       "      <td>1</td>\n",
       "      <td>0</td>\n",
       "      <td>0</td>\n",
       "      <td>0</td>\n",
       "      <td>0</td>\n",
       "    </tr>\n",
       "    <tr>\n",
       "      <th>4</th>\n",
       "      <td>0</td>\n",
       "      <td>0</td>\n",
       "      <td>1</td>\n",
       "      <td>0</td>\n",
       "      <td>0</td>\n",
       "      <td>0</td>\n",
       "      <td>1</td>\n",
       "      <td>0</td>\n",
       "      <td>0</td>\n",
       "      <td>0</td>\n",
       "      <td>0</td>\n",
       "    </tr>\n",
       "    <tr>\n",
       "      <th>...</th>\n",
       "      <td>...</td>\n",
       "      <td>...</td>\n",
       "      <td>...</td>\n",
       "      <td>...</td>\n",
       "      <td>...</td>\n",
       "      <td>...</td>\n",
       "      <td>...</td>\n",
       "      <td>...</td>\n",
       "      <td>...</td>\n",
       "      <td>...</td>\n",
       "      <td>...</td>\n",
       "    </tr>\n",
       "    <tr>\n",
       "      <th>1995</th>\n",
       "      <td>0</td>\n",
       "      <td>0</td>\n",
       "      <td>1</td>\n",
       "      <td>0</td>\n",
       "      <td>0</td>\n",
       "      <td>1</td>\n",
       "      <td>1</td>\n",
       "      <td>1</td>\n",
       "      <td>0</td>\n",
       "      <td>1</td>\n",
       "      <td>1</td>\n",
       "    </tr>\n",
       "    <tr>\n",
       "      <th>1996</th>\n",
       "      <td>0</td>\n",
       "      <td>0</td>\n",
       "      <td>0</td>\n",
       "      <td>0</td>\n",
       "      <td>0</td>\n",
       "      <td>0</td>\n",
       "      <td>0</td>\n",
       "      <td>0</td>\n",
       "      <td>0</td>\n",
       "      <td>0</td>\n",
       "      <td>0</td>\n",
       "    </tr>\n",
       "    <tr>\n",
       "      <th>1997</th>\n",
       "      <td>0</td>\n",
       "      <td>0</td>\n",
       "      <td>0</td>\n",
       "      <td>0</td>\n",
       "      <td>0</td>\n",
       "      <td>0</td>\n",
       "      <td>0</td>\n",
       "      <td>0</td>\n",
       "      <td>0</td>\n",
       "      <td>0</td>\n",
       "      <td>0</td>\n",
       "    </tr>\n",
       "    <tr>\n",
       "      <th>1998</th>\n",
       "      <td>0</td>\n",
       "      <td>0</td>\n",
       "      <td>1</td>\n",
       "      <td>0</td>\n",
       "      <td>0</td>\n",
       "      <td>0</td>\n",
       "      <td>0</td>\n",
       "      <td>0</td>\n",
       "      <td>0</td>\n",
       "      <td>0</td>\n",
       "      <td>0</td>\n",
       "    </tr>\n",
       "    <tr>\n",
       "      <th>1999</th>\n",
       "      <td>0</td>\n",
       "      <td>0</td>\n",
       "      <td>0</td>\n",
       "      <td>0</td>\n",
       "      <td>0</td>\n",
       "      <td>0</td>\n",
       "      <td>0</td>\n",
       "      <td>0</td>\n",
       "      <td>0</td>\n",
       "      <td>0</td>\n",
       "      <td>0</td>\n",
       "    </tr>\n",
       "  </tbody>\n",
       "</table>\n",
       "<p>2000 rows × 11 columns</p>\n",
       "</div>"
      ],
      "text/plain": [
       "      ChildBks  YouthBks  CookBks  DoItYBks  RefBks  ArtBks  GeogBks  \\\n",
       "0            0         1        0         1       0       0        1   \n",
       "1            1         0        0         0       0       0        0   \n",
       "2            0         0        0         0       0       0        0   \n",
       "3            1         1        1         0       1       0        1   \n",
       "4            0         0        1         0       0       0        1   \n",
       "...        ...       ...      ...       ...     ...     ...      ...   \n",
       "1995         0         0        1         0       0       1        1   \n",
       "1996         0         0        0         0       0       0        0   \n",
       "1997         0         0        0         0       0       0        0   \n",
       "1998         0         0        1         0       0       0        0   \n",
       "1999         0         0        0         0       0       0        0   \n",
       "\n",
       "      ItalCook  ItalAtlas  ItalArt  Florence  \n",
       "0            0          0        0         0  \n",
       "1            0          0        0         0  \n",
       "2            0          0        0         0  \n",
       "3            0          0        0         0  \n",
       "4            0          0        0         0  \n",
       "...        ...        ...      ...       ...  \n",
       "1995         1          0        1         1  \n",
       "1996         0          0        0         0  \n",
       "1997         0          0        0         0  \n",
       "1998         0          0        0         0  \n",
       "1999         0          0        0         0  \n",
       "\n",
       "[2000 rows x 11 columns]"
      ]
     },
     "execution_count": 2,
     "metadata": {},
     "output_type": "execute_result"
    }
   ],
   "source": [
    "books = pd.read_csv(\"P:/DS material/DS Assignments/Solved and unsolved assignments/All DS Assignments/All Datasets for assignments/book.csv\", encoding = 'latin1')\n",
    "books"
   ]
  },
  {
   "cell_type": "code",
   "execution_count": 3,
   "id": "8863c138",
   "metadata": {
    "ExecuteTime": {
     "end_time": "2023-07-08T17:34:46.060973Z",
     "start_time": "2023-07-08T17:34:40.201303Z"
    },
    "id": "8863c138",
    "outputId": "5922ae3f-b6d7-4a85-e05b-6527a2e4c03b"
   },
   "outputs": [
    {
     "ename": "KeyError",
     "evalue": "\"['Unnamed: 0'] not found in axis\"",
     "output_type": "error",
     "traceback": [
      "\u001b[1;31m---------------------------------------------------------------------------\u001b[0m",
      "\u001b[1;31mKeyError\u001b[0m                                  Traceback (most recent call last)",
      "Input \u001b[1;32mIn [3]\u001b[0m, in \u001b[0;36m<cell line: 1>\u001b[1;34m()\u001b[0m\n\u001b[1;32m----> 1\u001b[0m index_book\u001b[38;5;241m=\u001b[39m\u001b[43mbooks\u001b[49m\u001b[38;5;241;43m.\u001b[39;49m\u001b[43mdrop\u001b[49m\u001b[43m(\u001b[49m\u001b[43m[\u001b[49m\u001b[38;5;124;43m'\u001b[39;49m\u001b[38;5;124;43mUnnamed: 0\u001b[39;49m\u001b[38;5;124;43m'\u001b[39;49m\u001b[43m]\u001b[49m\u001b[43m,\u001b[49m\u001b[43m \u001b[49m\u001b[43maxis\u001b[49m\u001b[38;5;241;43m=\u001b[39;49m\u001b[38;5;241;43m1\u001b[39;49m\u001b[43m)\u001b[49m\n\u001b[0;32m      2\u001b[0m index_book\n",
      "File \u001b[1;32mC:\\ProgramData\\Anaconda3\\lib\\site-packages\\pandas\\util\\_decorators.py:311\u001b[0m, in \u001b[0;36mdeprecate_nonkeyword_arguments.<locals>.decorate.<locals>.wrapper\u001b[1;34m(*args, **kwargs)\u001b[0m\n\u001b[0;32m    305\u001b[0m \u001b[38;5;28;01mif\u001b[39;00m \u001b[38;5;28mlen\u001b[39m(args) \u001b[38;5;241m>\u001b[39m num_allow_args:\n\u001b[0;32m    306\u001b[0m     warnings\u001b[38;5;241m.\u001b[39mwarn(\n\u001b[0;32m    307\u001b[0m         msg\u001b[38;5;241m.\u001b[39mformat(arguments\u001b[38;5;241m=\u001b[39marguments),\n\u001b[0;32m    308\u001b[0m         \u001b[38;5;167;01mFutureWarning\u001b[39;00m,\n\u001b[0;32m    309\u001b[0m         stacklevel\u001b[38;5;241m=\u001b[39mstacklevel,\n\u001b[0;32m    310\u001b[0m     )\n\u001b[1;32m--> 311\u001b[0m \u001b[38;5;28;01mreturn\u001b[39;00m func(\u001b[38;5;241m*\u001b[39margs, \u001b[38;5;241m*\u001b[39m\u001b[38;5;241m*\u001b[39mkwargs)\n",
      "File \u001b[1;32mC:\\ProgramData\\Anaconda3\\lib\\site-packages\\pandas\\core\\frame.py:4954\u001b[0m, in \u001b[0;36mDataFrame.drop\u001b[1;34m(self, labels, axis, index, columns, level, inplace, errors)\u001b[0m\n\u001b[0;32m   4806\u001b[0m \u001b[38;5;129m@deprecate_nonkeyword_arguments\u001b[39m(version\u001b[38;5;241m=\u001b[39m\u001b[38;5;28;01mNone\u001b[39;00m, allowed_args\u001b[38;5;241m=\u001b[39m[\u001b[38;5;124m\"\u001b[39m\u001b[38;5;124mself\u001b[39m\u001b[38;5;124m\"\u001b[39m, \u001b[38;5;124m\"\u001b[39m\u001b[38;5;124mlabels\u001b[39m\u001b[38;5;124m\"\u001b[39m])\n\u001b[0;32m   4807\u001b[0m \u001b[38;5;28;01mdef\u001b[39;00m \u001b[38;5;21mdrop\u001b[39m(\n\u001b[0;32m   4808\u001b[0m     \u001b[38;5;28mself\u001b[39m,\n\u001b[1;32m   (...)\u001b[0m\n\u001b[0;32m   4815\u001b[0m     errors: \u001b[38;5;28mstr\u001b[39m \u001b[38;5;241m=\u001b[39m \u001b[38;5;124m\"\u001b[39m\u001b[38;5;124mraise\u001b[39m\u001b[38;5;124m\"\u001b[39m,\n\u001b[0;32m   4816\u001b[0m ):\n\u001b[0;32m   4817\u001b[0m     \u001b[38;5;124;03m\"\"\"\u001b[39;00m\n\u001b[0;32m   4818\u001b[0m \u001b[38;5;124;03m    Drop specified labels from rows or columns.\u001b[39;00m\n\u001b[0;32m   4819\u001b[0m \n\u001b[1;32m   (...)\u001b[0m\n\u001b[0;32m   4952\u001b[0m \u001b[38;5;124;03m            weight  1.0     0.8\u001b[39;00m\n\u001b[0;32m   4953\u001b[0m \u001b[38;5;124;03m    \"\"\"\u001b[39;00m\n\u001b[1;32m-> 4954\u001b[0m     \u001b[38;5;28;01mreturn\u001b[39;00m \u001b[38;5;28;43msuper\u001b[39;49m\u001b[43m(\u001b[49m\u001b[43m)\u001b[49m\u001b[38;5;241;43m.\u001b[39;49m\u001b[43mdrop\u001b[49m\u001b[43m(\u001b[49m\n\u001b[0;32m   4955\u001b[0m \u001b[43m        \u001b[49m\u001b[43mlabels\u001b[49m\u001b[38;5;241;43m=\u001b[39;49m\u001b[43mlabels\u001b[49m\u001b[43m,\u001b[49m\n\u001b[0;32m   4956\u001b[0m \u001b[43m        \u001b[49m\u001b[43maxis\u001b[49m\u001b[38;5;241;43m=\u001b[39;49m\u001b[43maxis\u001b[49m\u001b[43m,\u001b[49m\n\u001b[0;32m   4957\u001b[0m \u001b[43m        \u001b[49m\u001b[43mindex\u001b[49m\u001b[38;5;241;43m=\u001b[39;49m\u001b[43mindex\u001b[49m\u001b[43m,\u001b[49m\n\u001b[0;32m   4958\u001b[0m \u001b[43m        \u001b[49m\u001b[43mcolumns\u001b[49m\u001b[38;5;241;43m=\u001b[39;49m\u001b[43mcolumns\u001b[49m\u001b[43m,\u001b[49m\n\u001b[0;32m   4959\u001b[0m \u001b[43m        \u001b[49m\u001b[43mlevel\u001b[49m\u001b[38;5;241;43m=\u001b[39;49m\u001b[43mlevel\u001b[49m\u001b[43m,\u001b[49m\n\u001b[0;32m   4960\u001b[0m \u001b[43m        \u001b[49m\u001b[43minplace\u001b[49m\u001b[38;5;241;43m=\u001b[39;49m\u001b[43minplace\u001b[49m\u001b[43m,\u001b[49m\n\u001b[0;32m   4961\u001b[0m \u001b[43m        \u001b[49m\u001b[43merrors\u001b[49m\u001b[38;5;241;43m=\u001b[39;49m\u001b[43merrors\u001b[49m\u001b[43m,\u001b[49m\n\u001b[0;32m   4962\u001b[0m \u001b[43m    \u001b[49m\u001b[43m)\u001b[49m\n",
      "File \u001b[1;32mC:\\ProgramData\\Anaconda3\\lib\\site-packages\\pandas\\core\\generic.py:4267\u001b[0m, in \u001b[0;36mNDFrame.drop\u001b[1;34m(self, labels, axis, index, columns, level, inplace, errors)\u001b[0m\n\u001b[0;32m   4265\u001b[0m \u001b[38;5;28;01mfor\u001b[39;00m axis, labels \u001b[38;5;129;01min\u001b[39;00m axes\u001b[38;5;241m.\u001b[39mitems():\n\u001b[0;32m   4266\u001b[0m     \u001b[38;5;28;01mif\u001b[39;00m labels \u001b[38;5;129;01mis\u001b[39;00m \u001b[38;5;129;01mnot\u001b[39;00m \u001b[38;5;28;01mNone\u001b[39;00m:\n\u001b[1;32m-> 4267\u001b[0m         obj \u001b[38;5;241m=\u001b[39m \u001b[43mobj\u001b[49m\u001b[38;5;241;43m.\u001b[39;49m\u001b[43m_drop_axis\u001b[49m\u001b[43m(\u001b[49m\u001b[43mlabels\u001b[49m\u001b[43m,\u001b[49m\u001b[43m \u001b[49m\u001b[43maxis\u001b[49m\u001b[43m,\u001b[49m\u001b[43m \u001b[49m\u001b[43mlevel\u001b[49m\u001b[38;5;241;43m=\u001b[39;49m\u001b[43mlevel\u001b[49m\u001b[43m,\u001b[49m\u001b[43m \u001b[49m\u001b[43merrors\u001b[49m\u001b[38;5;241;43m=\u001b[39;49m\u001b[43merrors\u001b[49m\u001b[43m)\u001b[49m\n\u001b[0;32m   4269\u001b[0m \u001b[38;5;28;01mif\u001b[39;00m inplace:\n\u001b[0;32m   4270\u001b[0m     \u001b[38;5;28mself\u001b[39m\u001b[38;5;241m.\u001b[39m_update_inplace(obj)\n",
      "File \u001b[1;32mC:\\ProgramData\\Anaconda3\\lib\\site-packages\\pandas\\core\\generic.py:4311\u001b[0m, in \u001b[0;36mNDFrame._drop_axis\u001b[1;34m(self, labels, axis, level, errors, consolidate, only_slice)\u001b[0m\n\u001b[0;32m   4309\u001b[0m         new_axis \u001b[38;5;241m=\u001b[39m axis\u001b[38;5;241m.\u001b[39mdrop(labels, level\u001b[38;5;241m=\u001b[39mlevel, errors\u001b[38;5;241m=\u001b[39merrors)\n\u001b[0;32m   4310\u001b[0m     \u001b[38;5;28;01melse\u001b[39;00m:\n\u001b[1;32m-> 4311\u001b[0m         new_axis \u001b[38;5;241m=\u001b[39m \u001b[43maxis\u001b[49m\u001b[38;5;241;43m.\u001b[39;49m\u001b[43mdrop\u001b[49m\u001b[43m(\u001b[49m\u001b[43mlabels\u001b[49m\u001b[43m,\u001b[49m\u001b[43m \u001b[49m\u001b[43merrors\u001b[49m\u001b[38;5;241;43m=\u001b[39;49m\u001b[43merrors\u001b[49m\u001b[43m)\u001b[49m\n\u001b[0;32m   4312\u001b[0m     indexer \u001b[38;5;241m=\u001b[39m axis\u001b[38;5;241m.\u001b[39mget_indexer(new_axis)\n\u001b[0;32m   4314\u001b[0m \u001b[38;5;66;03m# Case for non-unique axis\u001b[39;00m\n\u001b[0;32m   4315\u001b[0m \u001b[38;5;28;01melse\u001b[39;00m:\n",
      "File \u001b[1;32mC:\\ProgramData\\Anaconda3\\lib\\site-packages\\pandas\\core\\indexes\\base.py:6644\u001b[0m, in \u001b[0;36mIndex.drop\u001b[1;34m(self, labels, errors)\u001b[0m\n\u001b[0;32m   6642\u001b[0m \u001b[38;5;28;01mif\u001b[39;00m mask\u001b[38;5;241m.\u001b[39many():\n\u001b[0;32m   6643\u001b[0m     \u001b[38;5;28;01mif\u001b[39;00m errors \u001b[38;5;241m!=\u001b[39m \u001b[38;5;124m\"\u001b[39m\u001b[38;5;124mignore\u001b[39m\u001b[38;5;124m\"\u001b[39m:\n\u001b[1;32m-> 6644\u001b[0m         \u001b[38;5;28;01mraise\u001b[39;00m \u001b[38;5;167;01mKeyError\u001b[39;00m(\u001b[38;5;124mf\u001b[39m\u001b[38;5;124m\"\u001b[39m\u001b[38;5;132;01m{\u001b[39;00m\u001b[38;5;28mlist\u001b[39m(labels[mask])\u001b[38;5;132;01m}\u001b[39;00m\u001b[38;5;124m not found in axis\u001b[39m\u001b[38;5;124m\"\u001b[39m)\n\u001b[0;32m   6645\u001b[0m     indexer \u001b[38;5;241m=\u001b[39m indexer[\u001b[38;5;241m~\u001b[39mmask]\n\u001b[0;32m   6646\u001b[0m \u001b[38;5;28;01mreturn\u001b[39;00m \u001b[38;5;28mself\u001b[39m\u001b[38;5;241m.\u001b[39mdelete(indexer)\n",
      "\u001b[1;31mKeyError\u001b[0m: \"['Unnamed: 0'] not found in axis\""
     ]
    }
   ],
   "source": [
    "index_book=books.drop(['Unnamed: 0'], axis=1)\n",
    "index_book"
   ]
  },
  {
   "cell_type": "code",
   "execution_count": null,
   "id": "a70f0c30",
   "metadata": {
    "ExecuteTime": {
     "end_time": "2023-07-08T17:34:46.060973Z",
     "start_time": "2023-07-08T17:34:46.060973Z"
    },
    "id": "a70f0c30",
    "outputId": "0b8bcfaf-3756-40eb-b641-f7e4ca660d5e"
   },
   "outputs": [],
   "source": [
    "index_book = books.rename({'User.ID':'User_ID','Book.Title':'Title','Book.Rating':'Rating'},axis=1)\n",
    "index_book"
   ]
  },
  {
   "cell_type": "code",
   "execution_count": null,
   "id": "6bc2d57f",
   "metadata": {
    "ExecuteTime": {
     "end_time": "2023-07-08T17:34:46.069250Z",
     "start_time": "2023-07-08T17:34:46.069250Z"
    },
    "id": "6bc2d57f",
    "outputId": "4e311971-84df-468c-9cb7-832e1b3b2035"
   },
   "outputs": [],
   "source": [
    "books"
   ]
  },
  {
   "cell_type": "code",
   "execution_count": null,
   "id": "477a9c6c",
   "metadata": {
    "ExecuteTime": {
     "end_time": "2023-07-08T17:34:46.069250Z",
     "start_time": "2023-07-08T17:34:46.069250Z"
    },
    "id": "477a9c6c",
    "outputId": "a8ba817a-769b-41f5-8cb7-8bb340250cf3"
   },
   "outputs": [],
   "source": [
    "books[books.duplicated()]"
   ]
  },
  {
   "cell_type": "code",
   "execution_count": null,
   "id": "af3f6464",
   "metadata": {
    "ExecuteTime": {
     "end_time": "2023-07-08T17:34:46.069250Z",
     "start_time": "2023-07-08T17:34:46.069250Z"
    },
    "id": "af3f6464",
    "outputId": "9973739f-b07e-480e-b759-49ad6d04f52b"
   },
   "outputs": [],
   "source": [
    "books[books.duplicated(subset=['User_ID', 'Title'])]"
   ]
  },
  {
   "cell_type": "code",
   "execution_count": null,
   "id": "0fc10b94",
   "metadata": {
    "ExecuteTime": {
     "end_time": "2023-07-08T17:34:46.077243Z",
     "start_time": "2023-07-08T17:34:46.077243Z"
    },
    "id": "0fc10b94",
    "outputId": "0788a7fe-5539-4d29-b930-f987a9f8a6c5"
   },
   "outputs": [],
   "source": [
    "clean_book = books.drop_duplicates(subset=['User_ID', 'Title'])\n",
    "clean_book"
   ]
  },
  {
   "cell_type": "code",
   "execution_count": null,
   "id": "eb8d949b",
   "metadata": {
    "ExecuteTime": {
     "end_time": "2023-07-08T17:34:46.077243Z",
     "start_time": "2023-07-08T17:34:46.077243Z"
    },
    "id": "eb8d949b",
    "outputId": "ba3a4250-ccb9-4323-c875-f82c115e27d6"
   },
   "outputs": [],
   "source": [
    "plt.figure(figsize=(20,6))\n",
    "sns.distplot(clean_book.Rating)"
   ]
  },
  {
   "cell_type": "code",
   "execution_count": null,
   "id": "7de037e1",
   "metadata": {
    "ExecuteTime": {
     "end_time": "2023-07-08T17:34:46.077243Z",
     "start_time": "2023-07-08T17:34:46.077243Z"
    },
    "id": "7de037e1",
    "outputId": "4f0b8e22-383b-4066-dbda-020c7a277ef2"
   },
   "outputs": [],
   "source": [
    "book.value_counts(ascending=True).plot(kind='barh')"
   ]
  },
  {
   "cell_type": "code",
   "execution_count": null,
   "id": "e452bd64",
   "metadata": {
    "ExecuteTime": {
     "end_time": "2023-07-08T17:34:46.085244Z",
     "start_time": "2023-07-08T17:34:46.085244Z"
    },
    "id": "e452bd64",
    "outputId": "d0d79dc5-1658-4ff1-acd9-b24306bbad18"
   },
   "outputs": [],
   "source": [
    "book.sort_values('User_ID')"
   ]
  },
  {
   "cell_type": "code",
   "execution_count": null,
   "id": "72baf041",
   "metadata": {
    "ExecuteTime": {
     "end_time": "2023-07-08T17:34:46.085244Z",
     "start_time": "2023-07-08T17:34:46.085244Z"
    },
    "id": "72baf041",
    "outputId": "b7277ac9-00ff-4a2c-bbc1-229c3adf27b6"
   },
   "outputs": [],
   "source": [
    "len(book['User_ID'].unique())"
   ]
  },
  {
   "cell_type": "code",
   "execution_count": null,
   "id": "6fb6f9d8",
   "metadata": {
    "ExecuteTime": {
     "end_time": "2023-07-08T17:34:46.085244Z",
     "start_time": "2023-07-08T17:34:46.085244Z"
    },
    "id": "6fb6f9d8"
   },
   "outputs": [],
   "source": [
    "from sklearn.metrics import pairwise_distances\n",
    "from scipy.spatial.distance import cosine, correlation"
   ]
  },
  {
   "cell_type": "code",
   "execution_count": null,
   "id": "29fc53c1",
   "metadata": {
    "ExecuteTime": {
     "end_time": "2023-07-08T17:34:46.092427Z",
     "start_time": "2023-07-08T17:34:46.092427Z"
    },
    "id": "29fc53c1",
    "outputId": "b1e8e1c6-d976-4bea-cc30-e8a6e928e41f"
   },
   "outputs": [],
   "source": [
    "read_book = clean_book.pivot(index='User_ID', columns = 'Title',\n",
    "                            values = 'Rating').reset_index(drop = True)\n",
    "read_book"
   ]
  },
  {
   "cell_type": "code",
   "execution_count": null,
   "id": "1c7acec4",
   "metadata": {
    "ExecuteTime": {
     "end_time": "2023-07-08T17:34:46.092427Z",
     "start_time": "2023-07-08T17:34:46.092427Z"
    },
    "id": "1c7acec4",
    "outputId": "f9533049-a662-4778-8bf1-6d769432ef4a"
   },
   "outputs": [],
   "source": [
    "read_book.fillna(0, inplace=True)\n",
    "read_book"
   ]
  },
  {
   "cell_type": "code",
   "execution_count": null,
   "id": "aaa23fe5",
   "metadata": {
    "ExecuteTime": {
     "end_time": "2023-07-08T17:34:46.092427Z",
     "start_time": "2023-07-08T17:34:46.092427Z"
    },
    "id": "aaa23fe5",
    "outputId": "909b7275-588a-457e-cc3f-cc8c3cf3ec7d"
   },
   "outputs": [],
   "source": [
    "user_sim = 1 - pairwise_distances(read_book.values, metric = 'cosine')\n",
    "user_sim"
   ]
  },
  {
   "cell_type": "code",
   "execution_count": null,
   "id": "70a1280a",
   "metadata": {
    "ExecuteTime": {
     "end_time": "2023-07-08T17:34:46.101480Z",
     "start_time": "2023-07-08T17:34:46.101480Z"
    },
    "id": "70a1280a"
   },
   "outputs": [],
   "source": [
    "np.fill_diagonal(user_sim, 0)"
   ]
  },
  {
   "cell_type": "code",
   "execution_count": null,
   "id": "f64abbf6",
   "metadata": {
    "ExecuteTime": {
     "end_time": "2023-07-08T17:34:46.103802Z",
     "start_time": "2023-07-08T17:34:46.103802Z"
    },
    "id": "f64abbf6",
    "outputId": "0c0cd1da-ce05-42cb-a0ab-4cd1e4b22de8"
   },
   "outputs": [],
   "source": [
    "#Store the results in a dataframe\n",
    "user_sim_df = pd.DataFrame(user_sim)\n",
    "user_sim_df"
   ]
  },
  {
   "cell_type": "code",
   "execution_count": null,
   "id": "02365b35",
   "metadata": {
    "ExecuteTime": {
     "end_time": "2023-07-08T17:34:46.103802Z",
     "start_time": "2023-07-08T17:34:46.103802Z"
    },
    "id": "02365b35"
   },
   "outputs": [],
   "source": [
    "#Set the index and column names to user ids \n",
    "user_sim_df.index = clean_book.User_ID.unique()\n",
    "user_sim_df.columns = clean_book.User_ID.unique()"
   ]
  },
  {
   "cell_type": "code",
   "execution_count": null,
   "id": "8de742d3",
   "metadata": {
    "ExecuteTime": {
     "end_time": "2023-07-08T17:34:46.103802Z",
     "start_time": "2023-07-08T17:34:46.103802Z"
    },
    "id": "8de742d3",
    "outputId": "9ee6f269-1a5d-4293-a5b7-5a49f6855de8"
   },
   "outputs": [],
   "source": [
    "user_sim_df"
   ]
  },
  {
   "cell_type": "code",
   "execution_count": null,
   "id": "964f0d94",
   "metadata": {
    "ExecuteTime": {
     "end_time": "2023-07-08T17:34:46.110098Z",
     "start_time": "2023-07-08T17:34:46.110098Z"
    },
    "id": "964f0d94",
    "outputId": "7d410747-a804-4690-e37f-9079078cfcfa"
   },
   "outputs": [],
   "source": [
    "user_sim_df.iloc[0:10, 0:10]"
   ]
  },
  {
   "cell_type": "code",
   "execution_count": null,
   "id": "d5df4213",
   "metadata": {
    "ExecuteTime": {
     "end_time": "2023-07-08T17:34:46.110098Z",
     "start_time": "2023-07-08T17:34:46.110098Z"
    },
    "id": "d5df4213",
    "outputId": "2e1d818e-ec79-4dd2-cbca-64b2d721da34"
   },
   "outputs": [],
   "source": [
    "user_sim_df.idxmax(axis=1)"
   ]
  },
  {
   "cell_type": "code",
   "execution_count": null,
   "id": "7daedd44",
   "metadata": {
    "ExecuteTime": {
     "end_time": "2023-07-08T17:34:46.110098Z",
     "start_time": "2023-07-08T17:34:46.110098Z"
    },
    "id": "7daedd44",
    "outputId": "47db0adb-1981-4900-e2d3-5da5ded7a60a"
   },
   "outputs": [],
   "source": [
    "#Most Similar Users\n",
    "user_sim_df.idxmax(axis=1)[0:10]"
   ]
  },
  {
   "cell_type": "code",
   "execution_count": null,
   "id": "5f3c31ed",
   "metadata": {
    "ExecuteTime": {
     "end_time": "2023-07-08T17:34:46.110098Z",
     "start_time": "2023-07-08T17:34:46.110098Z"
    },
    "id": "5f3c31ed",
    "outputId": "51794f2a-f656-4c31-8f28-011b63b6f8cb"
   },
   "outputs": [],
   "source": [
    "clean_book[(clean_book['User_ID'] == 278854) \n",
    "           | (clean_book['User_ID'] == 276726)\n",
    "           | (clean_book['User_ID'] == 162121)]"
   ]
  },
  {
   "cell_type": "code",
   "execution_count": null,
   "id": "7bda5541",
   "metadata": {
    "ExecuteTime": {
     "end_time": "2023-07-08T17:34:46.118421Z",
     "start_time": "2023-07-08T17:34:46.118421Z"
    },
    "id": "7bda5541",
    "outputId": "58f827f7-388c-4a7d-9424-5850b5aa59d7"
   },
   "outputs": [],
   "source": [
    "reader_1 = clean_book[clean_book['User_ID']==276726]\n",
    "reader_1.Title"
   ]
  },
  {
   "cell_type": "code",
   "execution_count": null,
   "id": "268634f2",
   "metadata": {
    "ExecuteTime": {
     "end_time": "2023-07-08T17:34:46.118421Z",
     "start_time": "2023-07-08T17:34:46.118421Z"
    },
    "id": "268634f2",
    "outputId": "f5af8b98-6f02-46be-8fab-1c79fb4a5d04"
   },
   "outputs": [],
   "source": [
    "reader_2 = clean_book[clean_book['User_ID']==162121]\n",
    "reader_2.Title"
   ]
  },
  {
   "cell_type": "code",
   "execution_count": null,
   "id": "b6cadda1",
   "metadata": {
    "ExecuteTime": {
     "end_time": "2023-07-08T17:34:46.118421Z",
     "start_time": "2023-07-08T17:34:46.118421Z"
    },
    "id": "b6cadda1",
    "outputId": "49eccdda-2c92-4376-c896-0f6a244ccec9"
   },
   "outputs": [],
   "source": [
    "pd.merge(reader_1,reader_2, on ='Title',how='outer')"
   ]
  },
  {
   "cell_type": "code",
   "execution_count": null,
   "id": "08ef5fd4",
   "metadata": {
    "ExecuteTime": {
     "end_time": "2023-07-08T17:34:46.126422Z",
     "start_time": "2023-07-08T17:34:46.126422Z"
    },
    "id": "08ef5fd4"
   },
   "outputs": [],
   "source": [
    "#Considering the most similar customer\n",
    "def recommend(custID):\n",
    "    simID = user_sim_df.loc[custID].idxmax()\n",
    "    simID_book = clean_book[clean_book['User_ID'] == simID].Title\n",
    "    custID_book = clean_book[clean_book['User_ID'] == custID].Title\n",
    "    return set(simID_book) - set(custID_book)"
   ]
  },
  {
   "cell_type": "code",
   "execution_count": null,
   "id": "c2b6cb01",
   "metadata": {
    "ExecuteTime": {
     "end_time": "2023-07-08T17:34:46.126422Z",
     "start_time": "2023-07-08T17:34:46.126422Z"
    },
    "id": "c2b6cb01",
    "outputId": "6347fba8-a8ea-49ed-cc44-a76b1730f07f"
   },
   "outputs": [],
   "source": [
    "recommend(162121)"
   ]
  },
  {
   "cell_type": "code",
   "execution_count": null,
   "id": "781ae17b",
   "metadata": {
    "ExecuteTime": {
     "end_time": "2023-07-08T17:34:46.134376Z",
     "start_time": "2023-07-08T17:34:46.134376Z"
    },
    "id": "781ae17b",
    "outputId": "05d553f9-f232-4a12-ba80-23332b8ca583"
   },
   "outputs": [],
   "source": [
    "recommend(276737)"
   ]
  },
  {
   "cell_type": "code",
   "execution_count": null,
   "id": "ec556437",
   "metadata": {
    "ExecuteTime": {
     "end_time": "2023-07-08T17:34:46.134376Z",
     "start_time": "2023-07-08T17:34:46.134376Z"
    },
    "id": "ec556437",
    "outputId": "ea2ab5d2-f060-4757-8a1c-ff3c7668fc0d"
   },
   "outputs": [],
   "source": [
    "recommend(8)"
   ]
  },
  {
   "cell_type": "code",
   "execution_count": null,
   "id": "a8878271",
   "metadata": {
    "ExecuteTime": {
     "end_time": "2023-07-08T17:34:46.142373Z",
     "start_time": "2023-07-08T17:34:46.142373Z"
    },
    "id": "a8878271",
    "outputId": "bcd9abb0-0de9-433c-8447-34da946df072"
   },
   "outputs": [],
   "source": [
    "user_sim_df.sort_values(8,ascending = False).head(5)"
   ]
  },
  {
   "cell_type": "code",
   "execution_count": null,
   "id": "14655716",
   "metadata": {
    "ExecuteTime": {
     "end_time": "2023-07-08T17:34:46.142373Z",
     "start_time": "2023-07-08T17:34:46.142373Z"
    },
    "id": "14655716"
   },
   "outputs": [],
   "source": [
    "#Considering top 5 similar customers\n",
    "def recommend_new(custID):\n",
    "    simID = list(user_sim_df.sort_values(custID,ascending = False).head(5).index)\n",
    "    simID_books = [clean_book[clean_book['User_ID'] == each].Title for each in simID]\n",
    "    simID_books = np.concatenate(simID_books)\n",
    "    custID_books = clean_book[clean_book['User_ID'] == custID].Title\n",
    "    return set(simID_books) - set(custID_books)"
   ]
  },
  {
   "cell_type": "code",
   "execution_count": null,
   "id": "d8e2d7de",
   "metadata": {
    "ExecuteTime": {
     "end_time": "2023-07-08T17:34:46.142373Z",
     "start_time": "2023-07-08T17:34:46.142373Z"
    },
    "id": "d8e2d7de",
    "outputId": "df583a50-1534-4172-8094-ac1edb0e7469"
   },
   "outputs": [],
   "source": [
    "recommend_new(276737)"
   ]
  },
  {
   "cell_type": "code",
   "execution_count": null,
   "id": "bbdd3195",
   "metadata": {
    "id": "bbdd3195"
   },
   "outputs": [],
   "source": []
  }
 ],
 "metadata": {
  "colab": {
   "provenance": []
  },
  "kernelspec": {
   "display_name": "Python 3 (ipykernel)",
   "language": "python",
   "name": "python3"
  },
  "language_info": {
   "codemirror_mode": {
    "name": "ipython",
    "version": 3
   },
   "file_extension": ".py",
   "mimetype": "text/x-python",
   "name": "python",
   "nbconvert_exporter": "python",
   "pygments_lexer": "ipython3",
   "version": "3.9.12"
  }
 },
 "nbformat": 4,
 "nbformat_minor": 5
}
