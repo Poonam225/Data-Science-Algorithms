{
 "cells": [
  {
   "cell_type": "code",
   "execution_count": 28,
   "id": "668fb918",
   "metadata": {
    "ExecuteTime": {
     "end_time": "2023-07-08T13:41:05.162950Z",
     "start_time": "2023-07-08T13:41:05.055217Z"
    },
    "id": "668fb918"
   },
   "outputs": [],
   "source": [
    "import pandas as pd\n",
    "import numpy as np\n",
    "import matplotlib.pyplot as plt\n",
    "import scipy.cluster.hierarchy as sch\n",
    "from sklearn.cluster import AgglomerativeClustering"
   ]
  },
  {
   "cell_type": "markdown",
   "id": "c008eb8e",
   "metadata": {
    "id": "c008eb8e"
   },
   "source": [
    "## Hierarchical Clustering"
   ]
  },
  {
   "cell_type": "code",
   "execution_count": 41,
   "id": "e2cec7c6",
   "metadata": {
    "ExecuteTime": {
     "end_time": "2023-07-08T13:46:27.232386Z",
     "start_time": "2023-07-08T13:46:27.208935Z"
    },
    "id": "e2cec7c6",
    "outputId": "5eb6ece7-16a1-4519-9238-86b308d2b42c"
   },
   "outputs": [
    {
     "data": {
      "text/html": [
       "<div>\n",
       "<style scoped>\n",
       "    .dataframe tbody tr th:only-of-type {\n",
       "        vertical-align: middle;\n",
       "    }\n",
       "\n",
       "    .dataframe tbody tr th {\n",
       "        vertical-align: top;\n",
       "    }\n",
       "\n",
       "    .dataframe thead th {\n",
       "        text-align: right;\n",
       "    }\n",
       "</style>\n",
       "<table border=\"1\" class=\"dataframe\">\n",
       "  <thead>\n",
       "    <tr style=\"text-align: right;\">\n",
       "      <th></th>\n",
       "      <th>ID#</th>\n",
       "      <th>Balance</th>\n",
       "      <th>Qual_miles</th>\n",
       "      <th>cc1_miles</th>\n",
       "      <th>cc2_miles</th>\n",
       "      <th>cc3_miles</th>\n",
       "      <th>Bonus_miles</th>\n",
       "      <th>Bonus_trans</th>\n",
       "      <th>Flight_miles_12mo</th>\n",
       "      <th>Flight_trans_12</th>\n",
       "      <th>Days_since_enroll</th>\n",
       "      <th>Award?</th>\n",
       "    </tr>\n",
       "  </thead>\n",
       "  <tbody>\n",
       "    <tr>\n",
       "      <th>0</th>\n",
       "      <td>1</td>\n",
       "      <td>28143</td>\n",
       "      <td>0</td>\n",
       "      <td>1</td>\n",
       "      <td>1</td>\n",
       "      <td>1</td>\n",
       "      <td>174</td>\n",
       "      <td>1</td>\n",
       "      <td>0</td>\n",
       "      <td>0</td>\n",
       "      <td>7000</td>\n",
       "      <td>0</td>\n",
       "    </tr>\n",
       "    <tr>\n",
       "      <th>1</th>\n",
       "      <td>2</td>\n",
       "      <td>19244</td>\n",
       "      <td>0</td>\n",
       "      <td>1</td>\n",
       "      <td>1</td>\n",
       "      <td>1</td>\n",
       "      <td>215</td>\n",
       "      <td>2</td>\n",
       "      <td>0</td>\n",
       "      <td>0</td>\n",
       "      <td>6968</td>\n",
       "      <td>0</td>\n",
       "    </tr>\n",
       "    <tr>\n",
       "      <th>2</th>\n",
       "      <td>3</td>\n",
       "      <td>41354</td>\n",
       "      <td>0</td>\n",
       "      <td>1</td>\n",
       "      <td>1</td>\n",
       "      <td>1</td>\n",
       "      <td>4123</td>\n",
       "      <td>4</td>\n",
       "      <td>0</td>\n",
       "      <td>0</td>\n",
       "      <td>7034</td>\n",
       "      <td>0</td>\n",
       "    </tr>\n",
       "    <tr>\n",
       "      <th>3</th>\n",
       "      <td>4</td>\n",
       "      <td>14776</td>\n",
       "      <td>0</td>\n",
       "      <td>1</td>\n",
       "      <td>1</td>\n",
       "      <td>1</td>\n",
       "      <td>500</td>\n",
       "      <td>1</td>\n",
       "      <td>0</td>\n",
       "      <td>0</td>\n",
       "      <td>6952</td>\n",
       "      <td>0</td>\n",
       "    </tr>\n",
       "    <tr>\n",
       "      <th>4</th>\n",
       "      <td>5</td>\n",
       "      <td>97752</td>\n",
       "      <td>0</td>\n",
       "      <td>4</td>\n",
       "      <td>1</td>\n",
       "      <td>1</td>\n",
       "      <td>43300</td>\n",
       "      <td>26</td>\n",
       "      <td>2077</td>\n",
       "      <td>4</td>\n",
       "      <td>6935</td>\n",
       "      <td>1</td>\n",
       "    </tr>\n",
       "    <tr>\n",
       "      <th>...</th>\n",
       "      <td>...</td>\n",
       "      <td>...</td>\n",
       "      <td>...</td>\n",
       "      <td>...</td>\n",
       "      <td>...</td>\n",
       "      <td>...</td>\n",
       "      <td>...</td>\n",
       "      <td>...</td>\n",
       "      <td>...</td>\n",
       "      <td>...</td>\n",
       "      <td>...</td>\n",
       "      <td>...</td>\n",
       "    </tr>\n",
       "    <tr>\n",
       "      <th>3994</th>\n",
       "      <td>4017</td>\n",
       "      <td>18476</td>\n",
       "      <td>0</td>\n",
       "      <td>1</td>\n",
       "      <td>1</td>\n",
       "      <td>1</td>\n",
       "      <td>8525</td>\n",
       "      <td>4</td>\n",
       "      <td>200</td>\n",
       "      <td>1</td>\n",
       "      <td>1403</td>\n",
       "      <td>1</td>\n",
       "    </tr>\n",
       "    <tr>\n",
       "      <th>3995</th>\n",
       "      <td>4018</td>\n",
       "      <td>64385</td>\n",
       "      <td>0</td>\n",
       "      <td>1</td>\n",
       "      <td>1</td>\n",
       "      <td>1</td>\n",
       "      <td>981</td>\n",
       "      <td>5</td>\n",
       "      <td>0</td>\n",
       "      <td>0</td>\n",
       "      <td>1395</td>\n",
       "      <td>1</td>\n",
       "    </tr>\n",
       "    <tr>\n",
       "      <th>3996</th>\n",
       "      <td>4019</td>\n",
       "      <td>73597</td>\n",
       "      <td>0</td>\n",
       "      <td>3</td>\n",
       "      <td>1</td>\n",
       "      <td>1</td>\n",
       "      <td>25447</td>\n",
       "      <td>8</td>\n",
       "      <td>0</td>\n",
       "      <td>0</td>\n",
       "      <td>1402</td>\n",
       "      <td>1</td>\n",
       "    </tr>\n",
       "    <tr>\n",
       "      <th>3997</th>\n",
       "      <td>4020</td>\n",
       "      <td>54899</td>\n",
       "      <td>0</td>\n",
       "      <td>1</td>\n",
       "      <td>1</td>\n",
       "      <td>1</td>\n",
       "      <td>500</td>\n",
       "      <td>1</td>\n",
       "      <td>500</td>\n",
       "      <td>1</td>\n",
       "      <td>1401</td>\n",
       "      <td>0</td>\n",
       "    </tr>\n",
       "    <tr>\n",
       "      <th>3998</th>\n",
       "      <td>4021</td>\n",
       "      <td>3016</td>\n",
       "      <td>0</td>\n",
       "      <td>1</td>\n",
       "      <td>1</td>\n",
       "      <td>1</td>\n",
       "      <td>0</td>\n",
       "      <td>0</td>\n",
       "      <td>0</td>\n",
       "      <td>0</td>\n",
       "      <td>1398</td>\n",
       "      <td>0</td>\n",
       "    </tr>\n",
       "  </tbody>\n",
       "</table>\n",
       "<p>3999 rows × 12 columns</p>\n",
       "</div>"
      ],
      "text/plain": [
       "       ID#  Balance  Qual_miles  cc1_miles  cc2_miles  cc3_miles  Bonus_miles  \\\n",
       "0        1    28143           0          1          1          1          174   \n",
       "1        2    19244           0          1          1          1          215   \n",
       "2        3    41354           0          1          1          1         4123   \n",
       "3        4    14776           0          1          1          1          500   \n",
       "4        5    97752           0          4          1          1        43300   \n",
       "...    ...      ...         ...        ...        ...        ...          ...   \n",
       "3994  4017    18476           0          1          1          1         8525   \n",
       "3995  4018    64385           0          1          1          1          981   \n",
       "3996  4019    73597           0          3          1          1        25447   \n",
       "3997  4020    54899           0          1          1          1          500   \n",
       "3998  4021     3016           0          1          1          1            0   \n",
       "\n",
       "      Bonus_trans  Flight_miles_12mo  Flight_trans_12  Days_since_enroll  \\\n",
       "0               1                  0                0               7000   \n",
       "1               2                  0                0               6968   \n",
       "2               4                  0                0               7034   \n",
       "3               1                  0                0               6952   \n",
       "4              26               2077                4               6935   \n",
       "...           ...                ...              ...                ...   \n",
       "3994            4                200                1               1403   \n",
       "3995            5                  0                0               1395   \n",
       "3996            8                  0                0               1402   \n",
       "3997            1                500                1               1401   \n",
       "3998            0                  0                0               1398   \n",
       "\n",
       "      Award?  \n",
       "0          0  \n",
       "1          0  \n",
       "2          0  \n",
       "3          0  \n",
       "4          1  \n",
       "...      ...  \n",
       "3994       1  \n",
       "3995       1  \n",
       "3996       1  \n",
       "3997       0  \n",
       "3998       0  \n",
       "\n",
       "[3999 rows x 12 columns]"
      ]
     },
     "execution_count": 41,
     "metadata": {},
     "output_type": "execute_result"
    }
   ],
   "source": [
    "air = pd.read_csv(\"P:/DS material/DS Assignments/Solved and unsolved assignments/All DS Assignments/All Datasets for assignments/EastWestAirlines.csv\") #converted xlsx file into csv format\n",
    "air                                       "
   ]
  },
  {
   "cell_type": "code",
   "execution_count": 42,
   "id": "1752f10a",
   "metadata": {
    "ExecuteTime": {
     "end_time": "2023-07-08T13:46:34.234208Z",
     "start_time": "2023-07-08T13:46:34.216463Z"
    },
    "id": "1752f10a",
    "outputId": "a7ebf4d7-0b04-4266-884f-ba723df9b5be"
   },
   "outputs": [
    {
     "name": "stdout",
     "output_type": "stream",
     "text": [
      "<class 'pandas.core.frame.DataFrame'>\n",
      "RangeIndex: 3999 entries, 0 to 3998\n",
      "Data columns (total 12 columns):\n",
      " #   Column             Non-Null Count  Dtype\n",
      "---  ------             --------------  -----\n",
      " 0   ID#                3999 non-null   int64\n",
      " 1   Balance            3999 non-null   int64\n",
      " 2   Qual_miles         3999 non-null   int64\n",
      " 3   cc1_miles          3999 non-null   int64\n",
      " 4   cc2_miles          3999 non-null   int64\n",
      " 5   cc3_miles          3999 non-null   int64\n",
      " 6   Bonus_miles        3999 non-null   int64\n",
      " 7   Bonus_trans        3999 non-null   int64\n",
      " 8   Flight_miles_12mo  3999 non-null   int64\n",
      " 9   Flight_trans_12    3999 non-null   int64\n",
      " 10  Days_since_enroll  3999 non-null   int64\n",
      " 11  Award?             3999 non-null   int64\n",
      "dtypes: int64(12)\n",
      "memory usage: 375.0 KB\n"
     ]
    }
   ],
   "source": [
    "air.info()"
   ]
  },
  {
   "cell_type": "code",
   "execution_count": 43,
   "id": "9c969038",
   "metadata": {
    "ExecuteTime": {
     "end_time": "2023-07-08T13:46:49.586609Z",
     "start_time": "2023-07-08T13:46:49.562395Z"
    },
    "id": "9c969038",
    "outputId": "3f181bf5-0a0a-41d5-ee73-256feb312905"
   },
   "outputs": [
    {
     "data": {
      "text/html": [
       "<div>\n",
       "<style scoped>\n",
       "    .dataframe tbody tr th:only-of-type {\n",
       "        vertical-align: middle;\n",
       "    }\n",
       "\n",
       "    .dataframe tbody tr th {\n",
       "        vertical-align: top;\n",
       "    }\n",
       "\n",
       "    .dataframe thead th {\n",
       "        text-align: right;\n",
       "    }\n",
       "</style>\n",
       "<table border=\"1\" class=\"dataframe\">\n",
       "  <thead>\n",
       "    <tr style=\"text-align: right;\">\n",
       "      <th></th>\n",
       "      <th>ID</th>\n",
       "      <th>Balance</th>\n",
       "      <th>Qual_miles</th>\n",
       "      <th>cc1_miles</th>\n",
       "      <th>cc2_miles</th>\n",
       "      <th>cc3_miles</th>\n",
       "      <th>Bonus_miles</th>\n",
       "      <th>Bonus_trans</th>\n",
       "      <th>Flight_miles_12mo</th>\n",
       "      <th>Flight_trans_12</th>\n",
       "      <th>Days_since_enroll</th>\n",
       "      <th>Award</th>\n",
       "    </tr>\n",
       "  </thead>\n",
       "  <tbody>\n",
       "    <tr>\n",
       "      <th>0</th>\n",
       "      <td>1</td>\n",
       "      <td>28143</td>\n",
       "      <td>0</td>\n",
       "      <td>1</td>\n",
       "      <td>1</td>\n",
       "      <td>1</td>\n",
       "      <td>174</td>\n",
       "      <td>1</td>\n",
       "      <td>0</td>\n",
       "      <td>0</td>\n",
       "      <td>7000</td>\n",
       "      <td>0</td>\n",
       "    </tr>\n",
       "    <tr>\n",
       "      <th>1</th>\n",
       "      <td>2</td>\n",
       "      <td>19244</td>\n",
       "      <td>0</td>\n",
       "      <td>1</td>\n",
       "      <td>1</td>\n",
       "      <td>1</td>\n",
       "      <td>215</td>\n",
       "      <td>2</td>\n",
       "      <td>0</td>\n",
       "      <td>0</td>\n",
       "      <td>6968</td>\n",
       "      <td>0</td>\n",
       "    </tr>\n",
       "    <tr>\n",
       "      <th>2</th>\n",
       "      <td>3</td>\n",
       "      <td>41354</td>\n",
       "      <td>0</td>\n",
       "      <td>1</td>\n",
       "      <td>1</td>\n",
       "      <td>1</td>\n",
       "      <td>4123</td>\n",
       "      <td>4</td>\n",
       "      <td>0</td>\n",
       "      <td>0</td>\n",
       "      <td>7034</td>\n",
       "      <td>0</td>\n",
       "    </tr>\n",
       "    <tr>\n",
       "      <th>3</th>\n",
       "      <td>4</td>\n",
       "      <td>14776</td>\n",
       "      <td>0</td>\n",
       "      <td>1</td>\n",
       "      <td>1</td>\n",
       "      <td>1</td>\n",
       "      <td>500</td>\n",
       "      <td>1</td>\n",
       "      <td>0</td>\n",
       "      <td>0</td>\n",
       "      <td>6952</td>\n",
       "      <td>0</td>\n",
       "    </tr>\n",
       "    <tr>\n",
       "      <th>4</th>\n",
       "      <td>5</td>\n",
       "      <td>97752</td>\n",
       "      <td>0</td>\n",
       "      <td>4</td>\n",
       "      <td>1</td>\n",
       "      <td>1</td>\n",
       "      <td>43300</td>\n",
       "      <td>26</td>\n",
       "      <td>2077</td>\n",
       "      <td>4</td>\n",
       "      <td>6935</td>\n",
       "      <td>1</td>\n",
       "    </tr>\n",
       "    <tr>\n",
       "      <th>5</th>\n",
       "      <td>6</td>\n",
       "      <td>16420</td>\n",
       "      <td>0</td>\n",
       "      <td>1</td>\n",
       "      <td>1</td>\n",
       "      <td>1</td>\n",
       "      <td>0</td>\n",
       "      <td>0</td>\n",
       "      <td>0</td>\n",
       "      <td>0</td>\n",
       "      <td>6942</td>\n",
       "      <td>0</td>\n",
       "    </tr>\n",
       "    <tr>\n",
       "      <th>6</th>\n",
       "      <td>7</td>\n",
       "      <td>84914</td>\n",
       "      <td>0</td>\n",
       "      <td>3</td>\n",
       "      <td>1</td>\n",
       "      <td>1</td>\n",
       "      <td>27482</td>\n",
       "      <td>25</td>\n",
       "      <td>0</td>\n",
       "      <td>0</td>\n",
       "      <td>6994</td>\n",
       "      <td>0</td>\n",
       "    </tr>\n",
       "    <tr>\n",
       "      <th>7</th>\n",
       "      <td>8</td>\n",
       "      <td>20856</td>\n",
       "      <td>0</td>\n",
       "      <td>1</td>\n",
       "      <td>1</td>\n",
       "      <td>1</td>\n",
       "      <td>5250</td>\n",
       "      <td>4</td>\n",
       "      <td>250</td>\n",
       "      <td>1</td>\n",
       "      <td>6938</td>\n",
       "      <td>1</td>\n",
       "    </tr>\n",
       "    <tr>\n",
       "      <th>8</th>\n",
       "      <td>9</td>\n",
       "      <td>443003</td>\n",
       "      <td>0</td>\n",
       "      <td>3</td>\n",
       "      <td>2</td>\n",
       "      <td>1</td>\n",
       "      <td>1753</td>\n",
       "      <td>43</td>\n",
       "      <td>3850</td>\n",
       "      <td>12</td>\n",
       "      <td>6948</td>\n",
       "      <td>1</td>\n",
       "    </tr>\n",
       "    <tr>\n",
       "      <th>9</th>\n",
       "      <td>10</td>\n",
       "      <td>104860</td>\n",
       "      <td>0</td>\n",
       "      <td>3</td>\n",
       "      <td>1</td>\n",
       "      <td>1</td>\n",
       "      <td>28426</td>\n",
       "      <td>28</td>\n",
       "      <td>1150</td>\n",
       "      <td>3</td>\n",
       "      <td>6931</td>\n",
       "      <td>1</td>\n",
       "    </tr>\n",
       "  </tbody>\n",
       "</table>\n",
       "</div>"
      ],
      "text/plain": [
       "   ID  Balance  Qual_miles  cc1_miles  cc2_miles  cc3_miles  Bonus_miles  \\\n",
       "0   1    28143           0          1          1          1          174   \n",
       "1   2    19244           0          1          1          1          215   \n",
       "2   3    41354           0          1          1          1         4123   \n",
       "3   4    14776           0          1          1          1          500   \n",
       "4   5    97752           0          4          1          1        43300   \n",
       "5   6    16420           0          1          1          1            0   \n",
       "6   7    84914           0          3          1          1        27482   \n",
       "7   8    20856           0          1          1          1         5250   \n",
       "8   9   443003           0          3          2          1         1753   \n",
       "9  10   104860           0          3          1          1        28426   \n",
       "\n",
       "   Bonus_trans  Flight_miles_12mo  Flight_trans_12  Days_since_enroll  Award  \n",
       "0            1                  0                0               7000      0  \n",
       "1            2                  0                0               6968      0  \n",
       "2            4                  0                0               7034      0  \n",
       "3            1                  0                0               6952      0  \n",
       "4           26               2077                4               6935      1  \n",
       "5            0                  0                0               6942      0  \n",
       "6           25                  0                0               6994      0  \n",
       "7            4                250                1               6938      1  \n",
       "8           43               3850               12               6948      1  \n",
       "9           28               1150                3               6931      1  "
      ]
     },
     "execution_count": 43,
     "metadata": {},
     "output_type": "execute_result"
    }
   ],
   "source": [
    "# Renaming columns\n",
    "air1 = air.rename({'ID#':'ID','Award?':'Award'}, axis = 1)\n",
    "air1.head(10)"
   ]
  },
  {
   "cell_type": "code",
   "execution_count": 44,
   "id": "fecebae9",
   "metadata": {
    "ExecuteTime": {
     "end_time": "2023-07-08T13:47:02.280410Z",
     "start_time": "2023-07-08T13:47:02.272383Z"
    },
    "id": "fecebae9"
   },
   "outputs": [],
   "source": [
    "# Checking for all the values in dataset of type integer, if not replacing them with nan\n",
    "def check_int(df):\n",
    "    count = 0\n",
    "    for row in df:\n",
    "        try:\n",
    "            if type(row) != int:\n",
    "                df.loc[count] = np.nan\n",
    "        except:\n",
    "            pass\n",
    "        count +=1"
   ]
  },
  {
   "cell_type": "code",
   "execution_count": 45,
   "id": "de7890bb",
   "metadata": {
    "ExecuteTime": {
     "end_time": "2023-07-08T13:47:04.693080Z",
     "start_time": "2023-07-08T13:47:04.680738Z"
    },
    "id": "de7890bb"
   },
   "outputs": [],
   "source": [
    "check_int(air[air.columns])"
   ]
  },
  {
   "cell_type": "code",
   "execution_count": 46,
   "id": "c57d782c",
   "metadata": {
    "ExecuteTime": {
     "end_time": "2023-07-08T13:47:06.972236Z",
     "start_time": "2023-07-08T13:47:06.953889Z"
    },
    "id": "c57d782c",
    "outputId": "c303b359-f8d8-4612-991d-299700eabfbe"
   },
   "outputs": [
    {
     "data": {
      "text/html": [
       "<div>\n",
       "<style scoped>\n",
       "    .dataframe tbody tr th:only-of-type {\n",
       "        vertical-align: middle;\n",
       "    }\n",
       "\n",
       "    .dataframe tbody tr th {\n",
       "        vertical-align: top;\n",
       "    }\n",
       "\n",
       "    .dataframe thead th {\n",
       "        text-align: right;\n",
       "    }\n",
       "</style>\n",
       "<table border=\"1\" class=\"dataframe\">\n",
       "  <thead>\n",
       "    <tr style=\"text-align: right;\">\n",
       "      <th></th>\n",
       "      <th>ID</th>\n",
       "      <th>Balance</th>\n",
       "      <th>Qual_miles</th>\n",
       "      <th>cc1_miles</th>\n",
       "      <th>cc2_miles</th>\n",
       "      <th>cc3_miles</th>\n",
       "      <th>Bonus_miles</th>\n",
       "      <th>Bonus_trans</th>\n",
       "      <th>Flight_miles_12mo</th>\n",
       "      <th>Flight_trans_12</th>\n",
       "      <th>Days_since_enroll</th>\n",
       "      <th>Award</th>\n",
       "    </tr>\n",
       "  </thead>\n",
       "  <tbody>\n",
       "    <tr>\n",
       "      <th>0</th>\n",
       "      <td>False</td>\n",
       "      <td>False</td>\n",
       "      <td>False</td>\n",
       "      <td>False</td>\n",
       "      <td>False</td>\n",
       "      <td>False</td>\n",
       "      <td>False</td>\n",
       "      <td>False</td>\n",
       "      <td>False</td>\n",
       "      <td>False</td>\n",
       "      <td>False</td>\n",
       "      <td>False</td>\n",
       "    </tr>\n",
       "    <tr>\n",
       "      <th>1</th>\n",
       "      <td>False</td>\n",
       "      <td>False</td>\n",
       "      <td>False</td>\n",
       "      <td>False</td>\n",
       "      <td>False</td>\n",
       "      <td>False</td>\n",
       "      <td>False</td>\n",
       "      <td>False</td>\n",
       "      <td>False</td>\n",
       "      <td>False</td>\n",
       "      <td>False</td>\n",
       "      <td>False</td>\n",
       "    </tr>\n",
       "    <tr>\n",
       "      <th>2</th>\n",
       "      <td>False</td>\n",
       "      <td>False</td>\n",
       "      <td>False</td>\n",
       "      <td>False</td>\n",
       "      <td>False</td>\n",
       "      <td>False</td>\n",
       "      <td>False</td>\n",
       "      <td>False</td>\n",
       "      <td>False</td>\n",
       "      <td>False</td>\n",
       "      <td>False</td>\n",
       "      <td>False</td>\n",
       "    </tr>\n",
       "    <tr>\n",
       "      <th>3</th>\n",
       "      <td>False</td>\n",
       "      <td>False</td>\n",
       "      <td>False</td>\n",
       "      <td>False</td>\n",
       "      <td>False</td>\n",
       "      <td>False</td>\n",
       "      <td>False</td>\n",
       "      <td>False</td>\n",
       "      <td>False</td>\n",
       "      <td>False</td>\n",
       "      <td>False</td>\n",
       "      <td>False</td>\n",
       "    </tr>\n",
       "    <tr>\n",
       "      <th>4</th>\n",
       "      <td>False</td>\n",
       "      <td>False</td>\n",
       "      <td>False</td>\n",
       "      <td>False</td>\n",
       "      <td>False</td>\n",
       "      <td>False</td>\n",
       "      <td>False</td>\n",
       "      <td>False</td>\n",
       "      <td>False</td>\n",
       "      <td>False</td>\n",
       "      <td>False</td>\n",
       "      <td>False</td>\n",
       "    </tr>\n",
       "    <tr>\n",
       "      <th>...</th>\n",
       "      <td>...</td>\n",
       "      <td>...</td>\n",
       "      <td>...</td>\n",
       "      <td>...</td>\n",
       "      <td>...</td>\n",
       "      <td>...</td>\n",
       "      <td>...</td>\n",
       "      <td>...</td>\n",
       "      <td>...</td>\n",
       "      <td>...</td>\n",
       "      <td>...</td>\n",
       "      <td>...</td>\n",
       "    </tr>\n",
       "    <tr>\n",
       "      <th>3994</th>\n",
       "      <td>False</td>\n",
       "      <td>False</td>\n",
       "      <td>False</td>\n",
       "      <td>False</td>\n",
       "      <td>False</td>\n",
       "      <td>False</td>\n",
       "      <td>False</td>\n",
       "      <td>False</td>\n",
       "      <td>False</td>\n",
       "      <td>False</td>\n",
       "      <td>False</td>\n",
       "      <td>False</td>\n",
       "    </tr>\n",
       "    <tr>\n",
       "      <th>3995</th>\n",
       "      <td>False</td>\n",
       "      <td>False</td>\n",
       "      <td>False</td>\n",
       "      <td>False</td>\n",
       "      <td>False</td>\n",
       "      <td>False</td>\n",
       "      <td>False</td>\n",
       "      <td>False</td>\n",
       "      <td>False</td>\n",
       "      <td>False</td>\n",
       "      <td>False</td>\n",
       "      <td>False</td>\n",
       "    </tr>\n",
       "    <tr>\n",
       "      <th>3996</th>\n",
       "      <td>False</td>\n",
       "      <td>False</td>\n",
       "      <td>False</td>\n",
       "      <td>False</td>\n",
       "      <td>False</td>\n",
       "      <td>False</td>\n",
       "      <td>False</td>\n",
       "      <td>False</td>\n",
       "      <td>False</td>\n",
       "      <td>False</td>\n",
       "      <td>False</td>\n",
       "      <td>False</td>\n",
       "    </tr>\n",
       "    <tr>\n",
       "      <th>3997</th>\n",
       "      <td>False</td>\n",
       "      <td>False</td>\n",
       "      <td>False</td>\n",
       "      <td>False</td>\n",
       "      <td>False</td>\n",
       "      <td>False</td>\n",
       "      <td>False</td>\n",
       "      <td>False</td>\n",
       "      <td>False</td>\n",
       "      <td>False</td>\n",
       "      <td>False</td>\n",
       "      <td>False</td>\n",
       "    </tr>\n",
       "    <tr>\n",
       "      <th>3998</th>\n",
       "      <td>False</td>\n",
       "      <td>False</td>\n",
       "      <td>False</td>\n",
       "      <td>False</td>\n",
       "      <td>False</td>\n",
       "      <td>False</td>\n",
       "      <td>False</td>\n",
       "      <td>False</td>\n",
       "      <td>False</td>\n",
       "      <td>False</td>\n",
       "      <td>False</td>\n",
       "      <td>False</td>\n",
       "    </tr>\n",
       "  </tbody>\n",
       "</table>\n",
       "<p>3999 rows × 12 columns</p>\n",
       "</div>"
      ],
      "text/plain": [
       "         ID  Balance  Qual_miles  cc1_miles  cc2_miles  cc3_miles  \\\n",
       "0     False    False       False      False      False      False   \n",
       "1     False    False       False      False      False      False   \n",
       "2     False    False       False      False      False      False   \n",
       "3     False    False       False      False      False      False   \n",
       "4     False    False       False      False      False      False   \n",
       "...     ...      ...         ...        ...        ...        ...   \n",
       "3994  False    False       False      False      False      False   \n",
       "3995  False    False       False      False      False      False   \n",
       "3996  False    False       False      False      False      False   \n",
       "3997  False    False       False      False      False      False   \n",
       "3998  False    False       False      False      False      False   \n",
       "\n",
       "      Bonus_miles  Bonus_trans  Flight_miles_12mo  Flight_trans_12  \\\n",
       "0           False        False              False            False   \n",
       "1           False        False              False            False   \n",
       "2           False        False              False            False   \n",
       "3           False        False              False            False   \n",
       "4           False        False              False            False   \n",
       "...           ...          ...                ...              ...   \n",
       "3994        False        False              False            False   \n",
       "3995        False        False              False            False   \n",
       "3996        False        False              False            False   \n",
       "3997        False        False              False            False   \n",
       "3998        False        False              False            False   \n",
       "\n",
       "      Days_since_enroll  Award  \n",
       "0                 False  False  \n",
       "1                 False  False  \n",
       "2                 False  False  \n",
       "3                 False  False  \n",
       "4                 False  False  \n",
       "...                 ...    ...  \n",
       "3994              False  False  \n",
       "3995              False  False  \n",
       "3996              False  False  \n",
       "3997              False  False  \n",
       "3998              False  False  \n",
       "\n",
       "[3999 rows x 12 columns]"
      ]
     },
     "execution_count": 46,
     "metadata": {},
     "output_type": "execute_result"
    }
   ],
   "source": [
    "air1.isna()"
   ]
  },
  {
   "cell_type": "code",
   "execution_count": 47,
   "id": "a9e1e293",
   "metadata": {
    "ExecuteTime": {
     "end_time": "2023-07-08T13:47:12.882888Z",
     "start_time": "2023-07-08T13:47:12.871382Z"
    },
    "id": "a9e1e293",
    "outputId": "d6dacff3-8c50-4879-cf3a-82ae3e48aa3e"
   },
   "outputs": [
    {
     "data": {
      "text/plain": [
       "ID                   0\n",
       "Balance              0\n",
       "Qual_miles           0\n",
       "cc1_miles            0\n",
       "cc2_miles            0\n",
       "cc3_miles            0\n",
       "Bonus_miles          0\n",
       "Bonus_trans          0\n",
       "Flight_miles_12mo    0\n",
       "Flight_trans_12      0\n",
       "Days_since_enroll    0\n",
       "Award                0\n",
       "dtype: int64"
      ]
     },
     "execution_count": 47,
     "metadata": {},
     "output_type": "execute_result"
    }
   ],
   "source": [
    "air1.isna().sum()"
   ]
  },
  {
   "cell_type": "code",
   "execution_count": 48,
   "id": "715ed5ce",
   "metadata": {
    "ExecuteTime": {
     "end_time": "2023-07-08T13:47:15.544309Z",
     "start_time": "2023-07-08T13:47:15.520482Z"
    },
    "id": "715ed5ce",
    "outputId": "e3269daf-34db-4d2b-c192-9a8361154c9a"
   },
   "outputs": [
    {
     "data": {
      "text/html": [
       "<div>\n",
       "<style scoped>\n",
       "    .dataframe tbody tr th:only-of-type {\n",
       "        vertical-align: middle;\n",
       "    }\n",
       "\n",
       "    .dataframe tbody tr th {\n",
       "        vertical-align: top;\n",
       "    }\n",
       "\n",
       "    .dataframe thead th {\n",
       "        text-align: right;\n",
       "    }\n",
       "</style>\n",
       "<table border=\"1\" class=\"dataframe\">\n",
       "  <thead>\n",
       "    <tr style=\"text-align: right;\">\n",
       "      <th></th>\n",
       "      <th>ID</th>\n",
       "      <th>Balance</th>\n",
       "      <th>Qual_miles</th>\n",
       "      <th>cc1_miles</th>\n",
       "      <th>cc2_miles</th>\n",
       "      <th>cc3_miles</th>\n",
       "      <th>Bonus_miles</th>\n",
       "      <th>Bonus_trans</th>\n",
       "      <th>Flight_miles_12mo</th>\n",
       "      <th>Flight_trans_12</th>\n",
       "      <th>Days_since_enroll</th>\n",
       "      <th>Award</th>\n",
       "    </tr>\n",
       "  </thead>\n",
       "  <tbody>\n",
       "    <tr>\n",
       "      <th>count</th>\n",
       "      <td>3999.000000</td>\n",
       "      <td>3.999000e+03</td>\n",
       "      <td>3999.000000</td>\n",
       "      <td>3999.000000</td>\n",
       "      <td>3999.000000</td>\n",
       "      <td>3999.000000</td>\n",
       "      <td>3999.000000</td>\n",
       "      <td>3999.00000</td>\n",
       "      <td>3999.000000</td>\n",
       "      <td>3999.000000</td>\n",
       "      <td>3999.00000</td>\n",
       "      <td>3999.000000</td>\n",
       "    </tr>\n",
       "    <tr>\n",
       "      <th>mean</th>\n",
       "      <td>2014.819455</td>\n",
       "      <td>7.360133e+04</td>\n",
       "      <td>144.114529</td>\n",
       "      <td>2.059515</td>\n",
       "      <td>1.014504</td>\n",
       "      <td>1.012253</td>\n",
       "      <td>17144.846212</td>\n",
       "      <td>11.60190</td>\n",
       "      <td>460.055764</td>\n",
       "      <td>1.373593</td>\n",
       "      <td>4118.55939</td>\n",
       "      <td>0.370343</td>\n",
       "    </tr>\n",
       "    <tr>\n",
       "      <th>std</th>\n",
       "      <td>1160.764358</td>\n",
       "      <td>1.007757e+05</td>\n",
       "      <td>773.663804</td>\n",
       "      <td>1.376919</td>\n",
       "      <td>0.147650</td>\n",
       "      <td>0.195241</td>\n",
       "      <td>24150.967826</td>\n",
       "      <td>9.60381</td>\n",
       "      <td>1400.209171</td>\n",
       "      <td>3.793172</td>\n",
       "      <td>2065.13454</td>\n",
       "      <td>0.482957</td>\n",
       "    </tr>\n",
       "    <tr>\n",
       "      <th>min</th>\n",
       "      <td>1.000000</td>\n",
       "      <td>0.000000e+00</td>\n",
       "      <td>0.000000</td>\n",
       "      <td>1.000000</td>\n",
       "      <td>1.000000</td>\n",
       "      <td>1.000000</td>\n",
       "      <td>0.000000</td>\n",
       "      <td>0.00000</td>\n",
       "      <td>0.000000</td>\n",
       "      <td>0.000000</td>\n",
       "      <td>2.00000</td>\n",
       "      <td>0.000000</td>\n",
       "    </tr>\n",
       "    <tr>\n",
       "      <th>25%</th>\n",
       "      <td>1010.500000</td>\n",
       "      <td>1.852750e+04</td>\n",
       "      <td>0.000000</td>\n",
       "      <td>1.000000</td>\n",
       "      <td>1.000000</td>\n",
       "      <td>1.000000</td>\n",
       "      <td>1250.000000</td>\n",
       "      <td>3.00000</td>\n",
       "      <td>0.000000</td>\n",
       "      <td>0.000000</td>\n",
       "      <td>2330.00000</td>\n",
       "      <td>0.000000</td>\n",
       "    </tr>\n",
       "    <tr>\n",
       "      <th>50%</th>\n",
       "      <td>2016.000000</td>\n",
       "      <td>4.309700e+04</td>\n",
       "      <td>0.000000</td>\n",
       "      <td>1.000000</td>\n",
       "      <td>1.000000</td>\n",
       "      <td>1.000000</td>\n",
       "      <td>7171.000000</td>\n",
       "      <td>12.00000</td>\n",
       "      <td>0.000000</td>\n",
       "      <td>0.000000</td>\n",
       "      <td>4096.00000</td>\n",
       "      <td>0.000000</td>\n",
       "    </tr>\n",
       "    <tr>\n",
       "      <th>75%</th>\n",
       "      <td>3020.500000</td>\n",
       "      <td>9.240400e+04</td>\n",
       "      <td>0.000000</td>\n",
       "      <td>3.000000</td>\n",
       "      <td>1.000000</td>\n",
       "      <td>1.000000</td>\n",
       "      <td>23800.500000</td>\n",
       "      <td>17.00000</td>\n",
       "      <td>311.000000</td>\n",
       "      <td>1.000000</td>\n",
       "      <td>5790.50000</td>\n",
       "      <td>1.000000</td>\n",
       "    </tr>\n",
       "    <tr>\n",
       "      <th>max</th>\n",
       "      <td>4021.000000</td>\n",
       "      <td>1.704838e+06</td>\n",
       "      <td>11148.000000</td>\n",
       "      <td>5.000000</td>\n",
       "      <td>3.000000</td>\n",
       "      <td>5.000000</td>\n",
       "      <td>263685.000000</td>\n",
       "      <td>86.00000</td>\n",
       "      <td>30817.000000</td>\n",
       "      <td>53.000000</td>\n",
       "      <td>8296.00000</td>\n",
       "      <td>1.000000</td>\n",
       "    </tr>\n",
       "  </tbody>\n",
       "</table>\n",
       "</div>"
      ],
      "text/plain": [
       "                ID       Balance    Qual_miles    cc1_miles    cc2_miles  \\\n",
       "count  3999.000000  3.999000e+03   3999.000000  3999.000000  3999.000000   \n",
       "mean   2014.819455  7.360133e+04    144.114529     2.059515     1.014504   \n",
       "std    1160.764358  1.007757e+05    773.663804     1.376919     0.147650   \n",
       "min       1.000000  0.000000e+00      0.000000     1.000000     1.000000   \n",
       "25%    1010.500000  1.852750e+04      0.000000     1.000000     1.000000   \n",
       "50%    2016.000000  4.309700e+04      0.000000     1.000000     1.000000   \n",
       "75%    3020.500000  9.240400e+04      0.000000     3.000000     1.000000   \n",
       "max    4021.000000  1.704838e+06  11148.000000     5.000000     3.000000   \n",
       "\n",
       "         cc3_miles    Bonus_miles  Bonus_trans  Flight_miles_12mo  \\\n",
       "count  3999.000000    3999.000000   3999.00000        3999.000000   \n",
       "mean      1.012253   17144.846212     11.60190         460.055764   \n",
       "std       0.195241   24150.967826      9.60381        1400.209171   \n",
       "min       1.000000       0.000000      0.00000           0.000000   \n",
       "25%       1.000000    1250.000000      3.00000           0.000000   \n",
       "50%       1.000000    7171.000000     12.00000           0.000000   \n",
       "75%       1.000000   23800.500000     17.00000         311.000000   \n",
       "max       5.000000  263685.000000     86.00000       30817.000000   \n",
       "\n",
       "       Flight_trans_12  Days_since_enroll        Award  \n",
       "count      3999.000000         3999.00000  3999.000000  \n",
       "mean          1.373593         4118.55939     0.370343  \n",
       "std           3.793172         2065.13454     0.482957  \n",
       "min           0.000000            2.00000     0.000000  \n",
       "25%           0.000000         2330.00000     0.000000  \n",
       "50%           0.000000         4096.00000     0.000000  \n",
       "75%           1.000000         5790.50000     1.000000  \n",
       "max          53.000000         8296.00000     1.000000  "
      ]
     },
     "execution_count": 48,
     "metadata": {},
     "output_type": "execute_result"
    }
   ],
   "source": [
    "air1.describe()"
   ]
  },
  {
   "cell_type": "code",
   "execution_count": 49,
   "id": "03c95b92",
   "metadata": {
    "ExecuteTime": {
     "end_time": "2023-07-08T13:47:22.617371Z",
     "start_time": "2023-07-08T13:47:22.575241Z"
    },
    "id": "03c95b92",
    "outputId": "9538e91e-a054-44be-e501-5d7ebc6ad071"
   },
   "outputs": [
    {
     "data": {
      "text/html": [
       "<div>\n",
       "<style scoped>\n",
       "    .dataframe tbody tr th:only-of-type {\n",
       "        vertical-align: middle;\n",
       "    }\n",
       "\n",
       "    .dataframe tbody tr th {\n",
       "        vertical-align: top;\n",
       "    }\n",
       "\n",
       "    .dataframe thead th {\n",
       "        text-align: right;\n",
       "    }\n",
       "</style>\n",
       "<table border=\"1\" class=\"dataframe\">\n",
       "  <thead>\n",
       "    <tr style=\"text-align: right;\">\n",
       "      <th></th>\n",
       "      <th>count</th>\n",
       "      <th>mean</th>\n",
       "      <th>std</th>\n",
       "      <th>min</th>\n",
       "      <th>25%</th>\n",
       "      <th>50%</th>\n",
       "      <th>75%</th>\n",
       "      <th>max</th>\n",
       "    </tr>\n",
       "  </thead>\n",
       "  <tbody>\n",
       "    <tr>\n",
       "      <th>ID</th>\n",
       "      <td>3999.0</td>\n",
       "      <td>2014.819455</td>\n",
       "      <td>1160.764358</td>\n",
       "      <td>1.0</td>\n",
       "      <td>1010.5</td>\n",
       "      <td>2016.0</td>\n",
       "      <td>3020.5</td>\n",
       "      <td>4021.0</td>\n",
       "    </tr>\n",
       "    <tr>\n",
       "      <th>Balance</th>\n",
       "      <td>3999.0</td>\n",
       "      <td>73601.327582</td>\n",
       "      <td>100775.664958</td>\n",
       "      <td>0.0</td>\n",
       "      <td>18527.5</td>\n",
       "      <td>43097.0</td>\n",
       "      <td>92404.0</td>\n",
       "      <td>1704838.0</td>\n",
       "    </tr>\n",
       "    <tr>\n",
       "      <th>Qual_miles</th>\n",
       "      <td>3999.0</td>\n",
       "      <td>144.114529</td>\n",
       "      <td>773.663804</td>\n",
       "      <td>0.0</td>\n",
       "      <td>0.0</td>\n",
       "      <td>0.0</td>\n",
       "      <td>0.0</td>\n",
       "      <td>11148.0</td>\n",
       "    </tr>\n",
       "    <tr>\n",
       "      <th>cc1_miles</th>\n",
       "      <td>3999.0</td>\n",
       "      <td>2.059515</td>\n",
       "      <td>1.376919</td>\n",
       "      <td>1.0</td>\n",
       "      <td>1.0</td>\n",
       "      <td>1.0</td>\n",
       "      <td>3.0</td>\n",
       "      <td>5.0</td>\n",
       "    </tr>\n",
       "    <tr>\n",
       "      <th>cc2_miles</th>\n",
       "      <td>3999.0</td>\n",
       "      <td>1.014504</td>\n",
       "      <td>0.147650</td>\n",
       "      <td>1.0</td>\n",
       "      <td>1.0</td>\n",
       "      <td>1.0</td>\n",
       "      <td>1.0</td>\n",
       "      <td>3.0</td>\n",
       "    </tr>\n",
       "    <tr>\n",
       "      <th>cc3_miles</th>\n",
       "      <td>3999.0</td>\n",
       "      <td>1.012253</td>\n",
       "      <td>0.195241</td>\n",
       "      <td>1.0</td>\n",
       "      <td>1.0</td>\n",
       "      <td>1.0</td>\n",
       "      <td>1.0</td>\n",
       "      <td>5.0</td>\n",
       "    </tr>\n",
       "    <tr>\n",
       "      <th>Bonus_miles</th>\n",
       "      <td>3999.0</td>\n",
       "      <td>17144.846212</td>\n",
       "      <td>24150.967826</td>\n",
       "      <td>0.0</td>\n",
       "      <td>1250.0</td>\n",
       "      <td>7171.0</td>\n",
       "      <td>23800.5</td>\n",
       "      <td>263685.0</td>\n",
       "    </tr>\n",
       "    <tr>\n",
       "      <th>Bonus_trans</th>\n",
       "      <td>3999.0</td>\n",
       "      <td>11.601900</td>\n",
       "      <td>9.603810</td>\n",
       "      <td>0.0</td>\n",
       "      <td>3.0</td>\n",
       "      <td>12.0</td>\n",
       "      <td>17.0</td>\n",
       "      <td>86.0</td>\n",
       "    </tr>\n",
       "    <tr>\n",
       "      <th>Flight_miles_12mo</th>\n",
       "      <td>3999.0</td>\n",
       "      <td>460.055764</td>\n",
       "      <td>1400.209171</td>\n",
       "      <td>0.0</td>\n",
       "      <td>0.0</td>\n",
       "      <td>0.0</td>\n",
       "      <td>311.0</td>\n",
       "      <td>30817.0</td>\n",
       "    </tr>\n",
       "    <tr>\n",
       "      <th>Flight_trans_12</th>\n",
       "      <td>3999.0</td>\n",
       "      <td>1.373593</td>\n",
       "      <td>3.793172</td>\n",
       "      <td>0.0</td>\n",
       "      <td>0.0</td>\n",
       "      <td>0.0</td>\n",
       "      <td>1.0</td>\n",
       "      <td>53.0</td>\n",
       "    </tr>\n",
       "    <tr>\n",
       "      <th>Days_since_enroll</th>\n",
       "      <td>3999.0</td>\n",
       "      <td>4118.559390</td>\n",
       "      <td>2065.134540</td>\n",
       "      <td>2.0</td>\n",
       "      <td>2330.0</td>\n",
       "      <td>4096.0</td>\n",
       "      <td>5790.5</td>\n",
       "      <td>8296.0</td>\n",
       "    </tr>\n",
       "    <tr>\n",
       "      <th>Award</th>\n",
       "      <td>3999.0</td>\n",
       "      <td>0.370343</td>\n",
       "      <td>0.482957</td>\n",
       "      <td>0.0</td>\n",
       "      <td>0.0</td>\n",
       "      <td>0.0</td>\n",
       "      <td>1.0</td>\n",
       "      <td>1.0</td>\n",
       "    </tr>\n",
       "  </tbody>\n",
       "</table>\n",
       "</div>"
      ],
      "text/plain": [
       "                    count          mean            std  min      25%      50%  \\\n",
       "ID                 3999.0   2014.819455    1160.764358  1.0   1010.5   2016.0   \n",
       "Balance            3999.0  73601.327582  100775.664958  0.0  18527.5  43097.0   \n",
       "Qual_miles         3999.0    144.114529     773.663804  0.0      0.0      0.0   \n",
       "cc1_miles          3999.0      2.059515       1.376919  1.0      1.0      1.0   \n",
       "cc2_miles          3999.0      1.014504       0.147650  1.0      1.0      1.0   \n",
       "cc3_miles          3999.0      1.012253       0.195241  1.0      1.0      1.0   \n",
       "Bonus_miles        3999.0  17144.846212   24150.967826  0.0   1250.0   7171.0   \n",
       "Bonus_trans        3999.0     11.601900       9.603810  0.0      3.0     12.0   \n",
       "Flight_miles_12mo  3999.0    460.055764    1400.209171  0.0      0.0      0.0   \n",
       "Flight_trans_12    3999.0      1.373593       3.793172  0.0      0.0      0.0   \n",
       "Days_since_enroll  3999.0   4118.559390    2065.134540  2.0   2330.0   4096.0   \n",
       "Award              3999.0      0.370343       0.482957  0.0      0.0      0.0   \n",
       "\n",
       "                       75%        max  \n",
       "ID                  3020.5     4021.0  \n",
       "Balance            92404.0  1704838.0  \n",
       "Qual_miles             0.0    11148.0  \n",
       "cc1_miles              3.0        5.0  \n",
       "cc2_miles              1.0        3.0  \n",
       "cc3_miles              1.0        5.0  \n",
       "Bonus_miles        23800.5   263685.0  \n",
       "Bonus_trans           17.0       86.0  \n",
       "Flight_miles_12mo    311.0    30817.0  \n",
       "Flight_trans_12        1.0       53.0  \n",
       "Days_since_enroll   5790.5     8296.0  \n",
       "Award                  1.0        1.0  "
      ]
     },
     "execution_count": 49,
     "metadata": {},
     "output_type": "execute_result"
    }
   ],
   "source": [
    "air1.describe().transpose()"
   ]
  },
  {
   "cell_type": "code",
   "execution_count": 50,
   "id": "6a7ddf4e",
   "metadata": {
    "ExecuteTime": {
     "end_time": "2023-07-08T13:47:28.181679Z",
     "start_time": "2023-07-08T13:47:28.161522Z"
    }
   },
   "outputs": [
    {
     "data": {
      "text/plain": [
       "<bound method NDFrame.describe of         ID  Balance  Qual_miles  cc1_miles  cc2_miles  cc3_miles  Bonus_miles  \\\n",
       "0        1    28143           0          1          1          1          174   \n",
       "1        2    19244           0          1          1          1          215   \n",
       "2        3    41354           0          1          1          1         4123   \n",
       "3        4    14776           0          1          1          1          500   \n",
       "4        5    97752           0          4          1          1        43300   \n",
       "...    ...      ...         ...        ...        ...        ...          ...   \n",
       "3994  4017    18476           0          1          1          1         8525   \n",
       "3995  4018    64385           0          1          1          1          981   \n",
       "3996  4019    73597           0          3          1          1        25447   \n",
       "3997  4020    54899           0          1          1          1          500   \n",
       "3998  4021     3016           0          1          1          1            0   \n",
       "\n",
       "      Bonus_trans  Flight_miles_12mo  Flight_trans_12  Days_since_enroll  \\\n",
       "0               1                  0                0               7000   \n",
       "1               2                  0                0               6968   \n",
       "2               4                  0                0               7034   \n",
       "3               1                  0                0               6952   \n",
       "4              26               2077                4               6935   \n",
       "...           ...                ...              ...                ...   \n",
       "3994            4                200                1               1403   \n",
       "3995            5                  0                0               1395   \n",
       "3996            8                  0                0               1402   \n",
       "3997            1                500                1               1401   \n",
       "3998            0                  0                0               1398   \n",
       "\n",
       "      Award  \n",
       "0         0  \n",
       "1         0  \n",
       "2         0  \n",
       "3         0  \n",
       "4         1  \n",
       "...     ...  \n",
       "3994      1  \n",
       "3995      1  \n",
       "3996      1  \n",
       "3997      0  \n",
       "3998      0  \n",
       "\n",
       "[3999 rows x 12 columns]>"
      ]
     },
     "execution_count": 50,
     "metadata": {},
     "output_type": "execute_result"
    }
   ],
   "source": [
    "air1.describe"
   ]
  },
  {
   "cell_type": "code",
   "execution_count": 51,
   "id": "4463e22f",
   "metadata": {
    "ExecuteTime": {
     "end_time": "2023-07-08T13:47:34.614045Z",
     "start_time": "2023-07-08T13:47:34.460225Z"
    },
    "id": "4463e22f",
    "outputId": "8e856650-6d53-4c9a-e6f0-e1816580685c",
    "scrolled": true
   },
   "outputs": [
    {
     "data": {
      "image/png": "[encoded data removed]",
      "text/plain": [
       "<Figure size 432x288 with 1 Axes>"
      ]
     },
     "metadata": {},
     "output_type": "display_data"
    }
   ],
   "source": [
    "# Checking previously awarded miles ratio\n",
    "air1[\"Award\"].value_counts().plot(kind='pie', autopct='%2.0f%%', fontsize='18', \n",
    "                                        colors = ['#F11A05','#43E206'], shadow =True)\n",
    "plt.show()"
   ]
  },
  {
   "cell_type": "code",
   "execution_count": 52,
   "id": "031e859e",
   "metadata": {
    "ExecuteTime": {
     "end_time": "2023-07-08T13:47:55.565373Z",
     "start_time": "2023-07-08T13:47:38.284295Z"
    },
    "id": "031e859e",
    "outputId": "15f980cc-c29b-4467-9254-f424c8501796"
   },
   "outputs": [
    {
     "data": {
      "image/png": "[encoded data removed]",
      "text/plain": [
       "<Figure size 2880x864 with 1 Axes>"
      ]
     },
     "metadata": {
      "needs_background": "light"
     },
     "output_type": "display_data"
    }
   ],
   "source": [
    "# Checking relation between Balance and Days_since_enroll\n",
    "import seaborn as sns\n",
    "fig, ax = plt.subplots(figsize=(40,12))\n",
    "ax = sns.lineplot(x = 'Days_since_enroll', y='Balance',data = air1)"
   ]
  },
  {
   "cell_type": "markdown",
   "id": "2156ee65",
   "metadata": {
    "id": "2156ee65"
   },
   "source": [
    "### Agglomerative Clustering"
   ]
  },
  {
   "cell_type": "code",
   "execution_count": 56,
   "id": "47ccb0fe",
   "metadata": {
    "ExecuteTime": {
     "end_time": "2023-07-08T13:49:54.065053Z",
     "start_time": "2023-07-08T13:49:54.044029Z"
    },
    "id": "47ccb0fe",
    "outputId": "8c275505-500d-4905-8b60-9c1524d9d289"
   },
   "outputs": [
    {
     "data": {
      "text/html": [
       "<div>\n",
       "<style scoped>\n",
       "    .dataframe tbody tr th:only-of-type {\n",
       "        vertical-align: middle;\n",
       "    }\n",
       "\n",
       "    .dataframe tbody tr th {\n",
       "        vertical-align: top;\n",
       "    }\n",
       "\n",
       "    .dataframe thead th {\n",
       "        text-align: right;\n",
       "    }\n",
       "</style>\n",
       "<table border=\"1\" class=\"dataframe\">\n",
       "  <thead>\n",
       "    <tr style=\"text-align: right;\">\n",
       "      <th></th>\n",
       "      <th>Balance</th>\n",
       "      <th>Qual_miles</th>\n",
       "      <th>cc1_miles</th>\n",
       "      <th>cc2_miles</th>\n",
       "      <th>cc3_miles</th>\n",
       "      <th>Bonus_miles</th>\n",
       "      <th>Bonus_trans</th>\n",
       "      <th>Flight_miles_12mo</th>\n",
       "      <th>Flight_trans_12</th>\n",
       "      <th>Days_since_enroll</th>\n",
       "      <th>Award</th>\n",
       "    </tr>\n",
       "  </thead>\n",
       "  <tbody>\n",
       "    <tr>\n",
       "      <th>0</th>\n",
       "      <td>28143</td>\n",
       "      <td>0</td>\n",
       "      <td>1</td>\n",
       "      <td>1</td>\n",
       "      <td>1</td>\n",
       "      <td>174</td>\n",
       "      <td>1</td>\n",
       "      <td>0</td>\n",
       "      <td>0</td>\n",
       "      <td>7000</td>\n",
       "      <td>0</td>\n",
       "    </tr>\n",
       "    <tr>\n",
       "      <th>1</th>\n",
       "      <td>19244</td>\n",
       "      <td>0</td>\n",
       "      <td>1</td>\n",
       "      <td>1</td>\n",
       "      <td>1</td>\n",
       "      <td>215</td>\n",
       "      <td>2</td>\n",
       "      <td>0</td>\n",
       "      <td>0</td>\n",
       "      <td>6968</td>\n",
       "      <td>0</td>\n",
       "    </tr>\n",
       "    <tr>\n",
       "      <th>2</th>\n",
       "      <td>41354</td>\n",
       "      <td>0</td>\n",
       "      <td>1</td>\n",
       "      <td>1</td>\n",
       "      <td>1</td>\n",
       "      <td>4123</td>\n",
       "      <td>4</td>\n",
       "      <td>0</td>\n",
       "      <td>0</td>\n",
       "      <td>7034</td>\n",
       "      <td>0</td>\n",
       "    </tr>\n",
       "    <tr>\n",
       "      <th>3</th>\n",
       "      <td>14776</td>\n",
       "      <td>0</td>\n",
       "      <td>1</td>\n",
       "      <td>1</td>\n",
       "      <td>1</td>\n",
       "      <td>500</td>\n",
       "      <td>1</td>\n",
       "      <td>0</td>\n",
       "      <td>0</td>\n",
       "      <td>6952</td>\n",
       "      <td>0</td>\n",
       "    </tr>\n",
       "    <tr>\n",
       "      <th>4</th>\n",
       "      <td>97752</td>\n",
       "      <td>0</td>\n",
       "      <td>4</td>\n",
       "      <td>1</td>\n",
       "      <td>1</td>\n",
       "      <td>43300</td>\n",
       "      <td>26</td>\n",
       "      <td>2077</td>\n",
       "      <td>4</td>\n",
       "      <td>6935</td>\n",
       "      <td>1</td>\n",
       "    </tr>\n",
       "    <tr>\n",
       "      <th>5</th>\n",
       "      <td>16420</td>\n",
       "      <td>0</td>\n",
       "      <td>1</td>\n",
       "      <td>1</td>\n",
       "      <td>1</td>\n",
       "      <td>0</td>\n",
       "      <td>0</td>\n",
       "      <td>0</td>\n",
       "      <td>0</td>\n",
       "      <td>6942</td>\n",
       "      <td>0</td>\n",
       "    </tr>\n",
       "    <tr>\n",
       "      <th>6</th>\n",
       "      <td>84914</td>\n",
       "      <td>0</td>\n",
       "      <td>3</td>\n",
       "      <td>1</td>\n",
       "      <td>1</td>\n",
       "      <td>27482</td>\n",
       "      <td>25</td>\n",
       "      <td>0</td>\n",
       "      <td>0</td>\n",
       "      <td>6994</td>\n",
       "      <td>0</td>\n",
       "    </tr>\n",
       "    <tr>\n",
       "      <th>7</th>\n",
       "      <td>20856</td>\n",
       "      <td>0</td>\n",
       "      <td>1</td>\n",
       "      <td>1</td>\n",
       "      <td>1</td>\n",
       "      <td>5250</td>\n",
       "      <td>4</td>\n",
       "      <td>250</td>\n",
       "      <td>1</td>\n",
       "      <td>6938</td>\n",
       "      <td>1</td>\n",
       "    </tr>\n",
       "    <tr>\n",
       "      <th>8</th>\n",
       "      <td>443003</td>\n",
       "      <td>0</td>\n",
       "      <td>3</td>\n",
       "      <td>2</td>\n",
       "      <td>1</td>\n",
       "      <td>1753</td>\n",
       "      <td>43</td>\n",
       "      <td>3850</td>\n",
       "      <td>12</td>\n",
       "      <td>6948</td>\n",
       "      <td>1</td>\n",
       "    </tr>\n",
       "    <tr>\n",
       "      <th>9</th>\n",
       "      <td>104860</td>\n",
       "      <td>0</td>\n",
       "      <td>3</td>\n",
       "      <td>1</td>\n",
       "      <td>1</td>\n",
       "      <td>28426</td>\n",
       "      <td>28</td>\n",
       "      <td>1150</td>\n",
       "      <td>3</td>\n",
       "      <td>6931</td>\n",
       "      <td>1</td>\n",
       "    </tr>\n",
       "    <tr>\n",
       "      <th>10</th>\n",
       "      <td>40091</td>\n",
       "      <td>0</td>\n",
       "      <td>2</td>\n",
       "      <td>1</td>\n",
       "      <td>1</td>\n",
       "      <td>7278</td>\n",
       "      <td>10</td>\n",
       "      <td>0</td>\n",
       "      <td>0</td>\n",
       "      <td>6959</td>\n",
       "      <td>0</td>\n",
       "    </tr>\n",
       "  </tbody>\n",
       "</table>\n",
       "</div>"
      ],
      "text/plain": [
       "    Balance  Qual_miles  cc1_miles  cc2_miles  cc3_miles  Bonus_miles  \\\n",
       "0     28143           0          1          1          1          174   \n",
       "1     19244           0          1          1          1          215   \n",
       "2     41354           0          1          1          1         4123   \n",
       "3     14776           0          1          1          1          500   \n",
       "4     97752           0          4          1          1        43300   \n",
       "5     16420           0          1          1          1            0   \n",
       "6     84914           0          3          1          1        27482   \n",
       "7     20856           0          1          1          1         5250   \n",
       "8    443003           0          3          2          1         1753   \n",
       "9    104860           0          3          1          1        28426   \n",
       "10    40091           0          2          1          1         7278   \n",
       "\n",
       "    Bonus_trans  Flight_miles_12mo  Flight_trans_12  Days_since_enroll  Award  \n",
       "0             1                  0                0               7000      0  \n",
       "1             2                  0                0               6968      0  \n",
       "2             4                  0                0               7034      0  \n",
       "3             1                  0                0               6952      0  \n",
       "4            26               2077                4               6935      1  \n",
       "5             0                  0                0               6942      0  \n",
       "6            25                  0                0               6994      0  \n",
       "7             4                250                1               6938      1  \n",
       "8            43               3850               12               6948      1  \n",
       "9            28               1150                3               6931      1  \n",
       "10           10                  0                0               6959      0  "
      ]
     },
     "execution_count": 56,
     "metadata": {},
     "output_type": "execute_result"
    }
   ],
   "source": [
    "air2 = air1.drop('ID', axis = 1)\n",
    "air2.head(11)"
   ]
  },
  {
   "cell_type": "code",
   "execution_count": 57,
   "id": "dffbd544",
   "metadata": {
    "ExecuteTime": {
     "end_time": "2023-07-08T13:50:01.576191Z",
     "start_time": "2023-07-08T13:50:01.567770Z"
    },
    "id": "dffbd544"
   },
   "outputs": [],
   "source": [
    "from sklearn.preprocessing import MinMaxScaler\n",
    "from sklearn.preprocessing import StandardScaler"
   ]
  },
  {
   "cell_type": "code",
   "execution_count": 58,
   "id": "d72476de",
   "metadata": {
    "ExecuteTime": {
     "end_time": "2023-07-08T13:50:04.311700Z",
     "start_time": "2023-07-08T13:50:04.302688Z"
    },
    "id": "d72476de"
   },
   "outputs": [],
   "source": [
    "# We will check clustering for two different scaling functions\n",
    "scaler1 = MinMaxScaler()\n",
    "scaler2 = StandardScaler()"
   ]
  },
  {
   "cell_type": "code",
   "execution_count": 59,
   "id": "948907ec",
   "metadata": {
    "ExecuteTime": {
     "end_time": "2023-07-08T13:50:07.529043Z",
     "start_time": "2023-07-08T13:50:07.509466Z"
    },
    "id": "948907ec",
    "outputId": "6f0f9b1e-b3a5-4e02-92b5-b04253cfbd85"
   },
   "outputs": [
    {
     "name": "stdout",
     "output_type": "stream",
     "text": [
      "[[0.01650773 0.         0.         ... 0.         0.84374246 0.        ]\n",
      " [0.01128788 0.         0.         ... 0.         0.83988425 0.        ]\n",
      " [0.02425685 0.         0.         ... 0.         0.84784181 0.        ]\n",
      " ...\n",
      " [0.0431695  0.         0.5        ... 0.         0.16879672 1.        ]\n",
      " [0.03220189 0.         0.         ... 0.01886792 0.16867615 0.        ]\n",
      " [0.00176908 0.         0.         ... 0.         0.16831444 0.        ]]\n",
      "\n",
      "\n",
      "[[-4.51140783e-01 -1.86298687e-01 -7.69578406e-01 ... -3.62167870e-01\n",
      "   1.39545434e+00 -7.66919299e-01]\n",
      " [-5.39456874e-01 -1.86298687e-01 -7.69578406e-01 ... -3.62167870e-01\n",
      "   1.37995704e+00 -7.66919299e-01]\n",
      " [-3.20031232e-01 -1.86298687e-01 -7.69578406e-01 ... -3.62167870e-01\n",
      "   1.41192021e+00 -7.66919299e-01]\n",
      " ...\n",
      " [-4.29480975e-05 -1.86298687e-01  6.83121167e-01 ... -3.62167870e-01\n",
      "  -1.31560393e+00  1.30391816e+00]\n",
      " [-1.85606976e-01 -1.86298687e-01 -7.69578406e-01 ... -9.85033311e-02\n",
      "  -1.31608822e+00 -7.66919299e-01]\n",
      " [-7.00507951e-01 -1.86298687e-01 -7.69578406e-01 ... -3.62167870e-01\n",
      "  -1.31754109e+00 -7.66919299e-01]]\n"
     ]
    }
   ],
   "source": [
    "# Normalizing Dataset\n",
    "scaler1_df = scaler1.fit_transform(air2)\n",
    "print(scaler1_df)\n",
    "\n",
    "print('\\n')\n",
    "\n",
    "scaler2_df = scaler2.fit_transform(air2)\n",
    "print(scaler2_df)"
   ]
  },
  {
   "cell_type": "code",
   "execution_count": 60,
   "id": "a65a4b25",
   "metadata": {
    "ExecuteTime": {
     "end_time": "2023-07-08T13:52:25.895701Z",
     "start_time": "2023-07-08T13:51:21.405001Z"
    },
    "id": "a65a4b25",
    "outputId": "7b4712d7-009a-4d00-c65b-48397272d916"
   },
   "outputs": [
    {
     "data": {
      "image/png": "[encoded data removed]",
      "text/plain": [
       "<Figure size 936x792 with 1 Axes>"
      ]
     },
     "metadata": {
      "needs_background": "light"
     },
     "output_type": "display_data"
    }
   ],
   "source": [
    "# Create Dendrograms\n",
    "plt.figure(figsize=(13, 11))  \n",
    "dendrograms=sch.dendrogram(sch.linkage(scaler1_df,'complete'))"
   ]
  },
  {
   "cell_type": "code",
   "execution_count": 61,
   "id": "db51f692",
   "metadata": {
    "ExecuteTime": {
     "end_time": "2023-07-08T13:53:28.342464Z",
     "start_time": "2023-07-08T13:52:25.896701Z"
    },
    "id": "db51f692",
    "outputId": "74288825-16d1-477e-bd9c-a289d92153e6"
   },
   "outputs": [
    {
     "data": {
      "image/png": "[encoded data removed]",
      "text/plain": [
       "<Figure size 936x792 with 1 Axes>"
      ]
     },
     "metadata": {
      "needs_background": "light"
     },
     "output_type": "display_data"
    }
   ],
   "source": [
    "plt.figure(figsize=(13,11))\n",
    "dendrograms=sch.dendrogram(sch.linkage(scaler2_df,'complete'))"
   ]
  },
  {
   "cell_type": "code",
   "execution_count": 62,
   "id": "3bdce55c",
   "metadata": {
    "ExecuteTime": {
     "end_time": "2023-07-08T13:53:28.357647Z",
     "start_time": "2023-07-08T13:53:28.343835Z"
    },
    "id": "3bdce55c",
    "outputId": "a7610600-f374-4b9c-bf0f-10c18142e1cf"
   },
   "outputs": [
    {
     "data": {
      "text/plain": [
       "AgglomerativeClustering(n_clusters=5)"
      ]
     },
     "execution_count": 62,
     "metadata": {},
     "output_type": "execute_result"
    }
   ],
   "source": [
    "# Creating clusters\n",
    "H_clusters=AgglomerativeClustering(n_clusters=5,affinity='euclidean',linkage='ward')\n",
    "H_clusters"
   ]
  },
  {
   "cell_type": "code",
   "execution_count": 63,
   "id": "82a125a5",
   "metadata": {
    "ExecuteTime": {
     "end_time": "2023-07-08T13:53:28.980558Z",
     "start_time": "2023-07-08T13:53:28.360649Z"
    },
    "id": "82a125a5",
    "outputId": "ddbb8b78-de3b-40c6-e035-700ef0d4e5bb"
   },
   "outputs": [
    {
     "data": {
      "text/plain": [
       "1    1011\n",
       "0     946\n",
       "2     808\n",
       "4     699\n",
       "3     535\n",
       "Name: clustersid, dtype: int64"
      ]
     },
     "execution_count": 63,
     "metadata": {},
     "output_type": "execute_result"
    }
   ],
   "source": [
    "# Using data normalized by MinMaxScaler \n",
    "y = pd.DataFrame(H_clusters.fit_predict(scaler1_df),columns=['clustersid'])\n",
    "y['clustersid'].value_counts()"
   ]
  },
  {
   "cell_type": "code",
   "execution_count": 64,
   "id": "b93d5b33",
   "metadata": {
    "ExecuteTime": {
     "end_time": "2023-07-08T13:53:28.996479Z",
     "start_time": "2023-07-08T13:53:28.983559Z"
    },
    "id": "b93d5b33"
   },
   "outputs": [],
   "source": [
    "# Adding clusters to dataset\n",
    "# 1. cluster id with scaler_1 i.e. minmaxscaler\n",
    "air1['clustersid_s1'] = H_clusters.labels_\n",
    "air1\n",
    "\n",
    "air2['clustersid_s1'] = H_clusters.labels_"
   ]
  },
  {
   "cell_type": "code",
   "execution_count": 65,
   "id": "e1fc0ae8",
   "metadata": {
    "ExecuteTime": {
     "end_time": "2023-07-08T13:53:29.214513Z",
     "start_time": "2023-07-08T13:53:28.999589Z"
    },
    "id": "e1fc0ae8",
    "outputId": "b752cda1-0eab-45a0-e20c-db4ab3538e90"
   },
   "outputs": [
    {
     "data": {
      "image/png": "[encoded data removed]",
      "text/plain": [
       "<Figure size 864x576 with 1 Axes>"
      ]
     },
     "metadata": {
      "needs_background": "light"
     },
     "output_type": "display_data"
    }
   ],
   "source": [
    "# Plotting barplot using groupby method to get visualization of how many row no. in each cluster\n",
    "\n",
    "fig, ax = plt.subplots(figsize=(12, 8))\n",
    "air1.groupby(['clustersid_s1']).count()['ID'].plot(kind='bar')\n",
    "plt.ylabel('ID Counts')\n",
    "plt.title('Hierarchical Clustering',fontsize='large',fontweight='bold')\n",
    "ax.set_xlabel('Clusters', fontsize='large', fontweight='bold')\n",
    "ax.set_ylabel('ID counts', fontsize='large', fontweight='bold')\n",
    "plt.yticks(fontsize=15)\n",
    "plt.xticks(fontsize=15)\n",
    "plt.show()"
   ]
  },
  {
   "cell_type": "code",
   "execution_count": 66,
   "id": "1edefc9d",
   "metadata": {
    "ExecuteTime": {
     "end_time": "2023-07-08T13:53:29.261802Z",
     "start_time": "2023-07-08T13:53:29.216514Z"
    },
    "id": "1edefc9d",
    "outputId": "35c9d330-8c85-45bc-b619-ed8a7d02d1c4"
   },
   "outputs": [
    {
     "data": {
      "text/html": [
       "<div>\n",
       "<style scoped>\n",
       "    .dataframe tbody tr th:only-of-type {\n",
       "        vertical-align: middle;\n",
       "    }\n",
       "\n",
       "    .dataframe tbody tr th {\n",
       "        vertical-align: top;\n",
       "    }\n",
       "\n",
       "    .dataframe thead tr th {\n",
       "        text-align: left;\n",
       "    }\n",
       "</style>\n",
       "<table border=\"1\" class=\"dataframe\">\n",
       "  <thead>\n",
       "    <tr>\n",
       "      <th></th>\n",
       "      <th>clustersid_s1</th>\n",
       "      <th>Balance</th>\n",
       "      <th>Qual_miles</th>\n",
       "      <th>cc1_miles</th>\n",
       "      <th>cc2_miles</th>\n",
       "      <th>cc3_miles</th>\n",
       "      <th>Bonus_miles</th>\n",
       "      <th>Bonus_trans</th>\n",
       "      <th>Flight_miles_12mo</th>\n",
       "      <th>Flight_trans_12</th>\n",
       "      <th>Days_since_enroll</th>\n",
       "      <th>Award</th>\n",
       "    </tr>\n",
       "    <tr>\n",
       "      <th></th>\n",
       "      <th></th>\n",
       "      <th>mean</th>\n",
       "      <th>mean</th>\n",
       "      <th>mean</th>\n",
       "      <th>mean</th>\n",
       "      <th>mean</th>\n",
       "      <th>mean</th>\n",
       "      <th>mean</th>\n",
       "      <th>mean</th>\n",
       "      <th>mean</th>\n",
       "      <th>mean</th>\n",
       "      <th>mean</th>\n",
       "    </tr>\n",
       "  </thead>\n",
       "  <tbody>\n",
       "    <tr>\n",
       "      <th>0</th>\n",
       "      <td>0</td>\n",
       "      <td>79848.233615</td>\n",
       "      <td>285.097252</td>\n",
       "      <td>1.699789</td>\n",
       "      <td>1.024313</td>\n",
       "      <td>1.000000</td>\n",
       "      <td>12079.774841</td>\n",
       "      <td>12.133192</td>\n",
       "      <td>781.939746</td>\n",
       "      <td>2.369979</td>\n",
       "      <td>4372.173362</td>\n",
       "      <td>1.0</td>\n",
       "    </tr>\n",
       "    <tr>\n",
       "      <th>1</th>\n",
       "      <td>1</td>\n",
       "      <td>43313.653808</td>\n",
       "      <td>21.506429</td>\n",
       "      <td>1.000000</td>\n",
       "      <td>1.033630</td>\n",
       "      <td>1.000989</td>\n",
       "      <td>2562.614243</td>\n",
       "      <td>5.474777</td>\n",
       "      <td>169.510386</td>\n",
       "      <td>0.523244</td>\n",
       "      <td>4940.680514</td>\n",
       "      <td>0.0</td>\n",
       "    </tr>\n",
       "    <tr>\n",
       "      <th>2</th>\n",
       "      <td>2</td>\n",
       "      <td>106221.111386</td>\n",
       "      <td>161.262376</td>\n",
       "      <td>3.198020</td>\n",
       "      <td>1.001238</td>\n",
       "      <td>1.025990</td>\n",
       "      <td>26458.257426</td>\n",
       "      <td>16.363861</td>\n",
       "      <td>198.733911</td>\n",
       "      <td>0.558168</td>\n",
       "      <td>4367.250000</td>\n",
       "      <td>0.0</td>\n",
       "    </tr>\n",
       "    <tr>\n",
       "      <th>3</th>\n",
       "      <td>3</td>\n",
       "      <td>127475.028037</td>\n",
       "      <td>160.801869</td>\n",
       "      <td>4.362617</td>\n",
       "      <td>1.000000</td>\n",
       "      <td>1.050467</td>\n",
       "      <td>58656.919626</td>\n",
       "      <td>22.235514</td>\n",
       "      <td>991.110280</td>\n",
       "      <td>3.005607</td>\n",
       "      <td>5072.226168</td>\n",
       "      <td>1.0</td>\n",
       "    </tr>\n",
       "    <tr>\n",
       "      <th>4</th>\n",
       "      <td>4</td>\n",
       "      <td>30013.416309</td>\n",
       "      <td>98.054363</td>\n",
       "      <td>1.000000</td>\n",
       "      <td>1.000000</td>\n",
       "      <td>1.000000</td>\n",
       "      <td>2552.569385</td>\n",
       "      <td>6.101574</td>\n",
       "      <td>340.274678</td>\n",
       "      <td>0.948498</td>\n",
       "      <td>1568.864092</td>\n",
       "      <td>0.0</td>\n",
       "    </tr>\n",
       "  </tbody>\n",
       "</table>\n",
       "</div>"
      ],
      "text/plain": [
       "  clustersid_s1        Balance  Qual_miles cc1_miles cc2_miles cc3_miles  \\\n",
       "                          mean        mean      mean      mean      mean   \n",
       "0             0   79848.233615  285.097252  1.699789  1.024313  1.000000   \n",
       "1             1   43313.653808   21.506429  1.000000  1.033630  1.000989   \n",
       "2             2  106221.111386  161.262376  3.198020  1.001238  1.025990   \n",
       "3             3  127475.028037  160.801869  4.362617  1.000000  1.050467   \n",
       "4             4   30013.416309   98.054363  1.000000  1.000000  1.000000   \n",
       "\n",
       "    Bonus_miles Bonus_trans Flight_miles_12mo Flight_trans_12  \\\n",
       "           mean        mean              mean            mean   \n",
       "0  12079.774841   12.133192        781.939746        2.369979   \n",
       "1   2562.614243    5.474777        169.510386        0.523244   \n",
       "2  26458.257426   16.363861        198.733911        0.558168   \n",
       "3  58656.919626   22.235514        991.110280        3.005607   \n",
       "4   2552.569385    6.101574        340.274678        0.948498   \n",
       "\n",
       "  Days_since_enroll Award  \n",
       "               mean  mean  \n",
       "0       4372.173362   1.0  \n",
       "1       4940.680514   0.0  \n",
       "2       4367.250000   0.0  \n",
       "3       5072.226168   1.0  \n",
       "4       1568.864092   0.0  "
      ]
     },
     "execution_count": 66,
     "metadata": {},
     "output_type": "execute_result"
    }
   ],
   "source": [
    "air2.groupby('clustersid_s1').agg(['mean']).reset_index()"
   ]
  },
  {
   "cell_type": "code",
   "execution_count": 74,
   "id": "ee483304",
   "metadata": {
    "ExecuteTime": {
     "end_time": "2023-07-08T13:54:55.534162Z",
     "start_time": "2023-07-08T13:54:55.522127Z"
    },
    "id": "ee483304"
   },
   "outputs": [],
   "source": [
    "# silhouette_score of AgglomerativeClustering\n",
    "from sklearn.metrics import silhouette_score"
   ]
  },
  {
   "cell_type": "code",
   "execution_count": 75,
   "id": "7ec588e3",
   "metadata": {
    "ExecuteTime": {
     "end_time": "2023-07-08T13:54:58.941095Z",
     "start_time": "2023-07-08T13:54:58.640631Z"
    },
    "id": "7ec588e3",
    "outputId": "6366f0ba-7a96-464a-939e-5353c660c3c9"
   },
   "outputs": [
    {
     "data": {
      "text/plain": [
       "0.2697410631669142"
      ]
     },
     "execution_count": 75,
     "metadata": {},
     "output_type": "execute_result"
    }
   ],
   "source": [
    "sil_score= silhouette_score(scaler1_df, H_clusters.labels_)\n",
    "sil_score"
   ]
  },
  {
   "cell_type": "code",
   "execution_count": 76,
   "id": "918e4662",
   "metadata": {
    "ExecuteTime": {
     "end_time": "2023-07-08T13:55:02.598701Z",
     "start_time": "2023-07-08T13:55:01.893054Z"
    },
    "id": "918e4662",
    "outputId": "b0272ce8-6178-4774-8c59-34e9bcbe0fab"
   },
   "outputs": [
    {
     "data": {
      "text/plain": [
       "1    2446\n",
       "0    1362\n",
       "2     130\n",
       "3      43\n",
       "4      18\n",
       "Name: clustersid, dtype: int64"
      ]
     },
     "execution_count": 76,
     "metadata": {},
     "output_type": "execute_result"
    }
   ],
   "source": [
    "# Using data normalized by StandardScaler\n",
    "y=pd.DataFrame(H_clusters.fit_predict(scaler2_df),columns=['clustersid'])\n",
    "y['clustersid'].value_counts()"
   ]
  },
  {
   "cell_type": "code",
   "execution_count": 77,
   "id": "d7f3b7b1",
   "metadata": {
    "ExecuteTime": {
     "end_time": "2023-07-08T13:55:05.148131Z",
     "start_time": "2023-07-08T13:55:05.130910Z"
    },
    "id": "d7f3b7b1"
   },
   "outputs": [],
   "source": [
    "# Adding clusters to dataset\n",
    "# 1. cluster id with scaler_1 i.e. StandardScaler\n",
    "air1['clustersid_s2']=H_clusters.labels_\n",
    "air2['clustersid_s2']=H_clusters.labels_"
   ]
  },
  {
   "cell_type": "code",
   "execution_count": 78,
   "id": "ed7fa35a",
   "metadata": {
    "ExecuteTime": {
     "end_time": "2023-07-08T13:55:08.358726Z",
     "start_time": "2023-07-08T13:55:08.155784Z"
    },
    "id": "ed7fa35a",
    "outputId": "9e6cc38d-b4c0-464e-d9ae-e4a0b92821ca"
   },
   "outputs": [
    {
     "data": {
      "image/png": "[encoded data removed]",
      "text/plain": [
       "<Figure size 864x576 with 1 Axes>"
      ]
     },
     "metadata": {
      "needs_background": "light"
     },
     "output_type": "display_data"
    }
   ],
   "source": [
    "# Plotting barplot using groupby method to get visualization of how many row no. in each cluster\n",
    "\n",
    "fig, ax = plt.subplots(figsize=(12, 8))\n",
    "air1.groupby(['clustersid_s2']).count()['ID'].plot(kind='bar')\n",
    "plt.ylabel('ID Counts')\n",
    "plt.title('Hierarchical Clustering',fontsize='large',fontweight='bold')\n",
    "ax.set_xlabel('Clusters', fontsize='large', fontweight='bold')\n",
    "ax.set_ylabel('ID counts', fontsize='large', fontweight='bold')\n",
    "plt.yticks(fontsize=15)\n",
    "plt.xticks(fontsize=15)\n",
    "plt.show()"
   ]
  },
  {
   "cell_type": "code",
   "execution_count": 79,
   "id": "2e5a46fc",
   "metadata": {
    "ExecuteTime": {
     "end_time": "2023-07-08T13:55:15.708336Z",
     "start_time": "2023-07-08T13:55:15.677815Z"
    },
    "id": "2e5a46fc",
    "outputId": "38795c80-1128-49d6-c310-6a95fd880261"
   },
   "outputs": [
    {
     "data": {
      "text/html": [
       "<div>\n",
       "<style scoped>\n",
       "    .dataframe tbody tr th:only-of-type {\n",
       "        vertical-align: middle;\n",
       "    }\n",
       "\n",
       "    .dataframe tbody tr th {\n",
       "        vertical-align: top;\n",
       "    }\n",
       "\n",
       "    .dataframe thead tr th {\n",
       "        text-align: left;\n",
       "    }\n",
       "</style>\n",
       "<table border=\"1\" class=\"dataframe\">\n",
       "  <thead>\n",
       "    <tr>\n",
       "      <th></th>\n",
       "      <th>clustersid_s1</th>\n",
       "      <th>Balance</th>\n",
       "      <th>Qual_miles</th>\n",
       "      <th>cc1_miles</th>\n",
       "      <th>cc2_miles</th>\n",
       "      <th>cc3_miles</th>\n",
       "      <th>Bonus_miles</th>\n",
       "      <th>Bonus_trans</th>\n",
       "      <th>Flight_miles_12mo</th>\n",
       "      <th>Flight_trans_12</th>\n",
       "      <th>Days_since_enroll</th>\n",
       "      <th>Award</th>\n",
       "      <th>clustersid_s2</th>\n",
       "    </tr>\n",
       "    <tr>\n",
       "      <th></th>\n",
       "      <th></th>\n",
       "      <th>mean</th>\n",
       "      <th>mean</th>\n",
       "      <th>mean</th>\n",
       "      <th>mean</th>\n",
       "      <th>mean</th>\n",
       "      <th>mean</th>\n",
       "      <th>mean</th>\n",
       "      <th>mean</th>\n",
       "      <th>mean</th>\n",
       "      <th>mean</th>\n",
       "      <th>mean</th>\n",
       "      <th>mean</th>\n",
       "    </tr>\n",
       "  </thead>\n",
       "  <tbody>\n",
       "    <tr>\n",
       "      <th>0</th>\n",
       "      <td>0</td>\n",
       "      <td>79848.233615</td>\n",
       "      <td>285.097252</td>\n",
       "      <td>1.699789</td>\n",
       "      <td>1.024313</td>\n",
       "      <td>1.000000</td>\n",
       "      <td>12079.774841</td>\n",
       "      <td>12.133192</td>\n",
       "      <td>781.939746</td>\n",
       "      <td>2.369979</td>\n",
       "      <td>4372.173362</td>\n",
       "      <td>1.0</td>\n",
       "      <td>0.627907</td>\n",
       "    </tr>\n",
       "    <tr>\n",
       "      <th>1</th>\n",
       "      <td>1</td>\n",
       "      <td>43313.653808</td>\n",
       "      <td>21.506429</td>\n",
       "      <td>1.000000</td>\n",
       "      <td>1.033630</td>\n",
       "      <td>1.000989</td>\n",
       "      <td>2562.614243</td>\n",
       "      <td>5.474777</td>\n",
       "      <td>169.510386</td>\n",
       "      <td>0.523244</td>\n",
       "      <td>4940.680514</td>\n",
       "      <td>0.0</td>\n",
       "      <td>1.044510</td>\n",
       "    </tr>\n",
       "    <tr>\n",
       "      <th>2</th>\n",
       "      <td>2</td>\n",
       "      <td>106221.111386</td>\n",
       "      <td>161.262376</td>\n",
       "      <td>3.198020</td>\n",
       "      <td>1.001238</td>\n",
       "      <td>1.025990</td>\n",
       "      <td>26458.257426</td>\n",
       "      <td>16.363861</td>\n",
       "      <td>198.733911</td>\n",
       "      <td>0.558168</td>\n",
       "      <td>4367.250000</td>\n",
       "      <td>0.0</td>\n",
       "      <td>0.507426</td>\n",
       "    </tr>\n",
       "    <tr>\n",
       "      <th>3</th>\n",
       "      <td>3</td>\n",
       "      <td>127475.028037</td>\n",
       "      <td>160.801869</td>\n",
       "      <td>4.362617</td>\n",
       "      <td>1.000000</td>\n",
       "      <td>1.050467</td>\n",
       "      <td>58656.919626</td>\n",
       "      <td>22.235514</td>\n",
       "      <td>991.110280</td>\n",
       "      <td>3.005607</td>\n",
       "      <td>5072.226168</td>\n",
       "      <td>1.0</td>\n",
       "      <td>0.261682</td>\n",
       "    </tr>\n",
       "    <tr>\n",
       "      <th>4</th>\n",
       "      <td>4</td>\n",
       "      <td>30013.416309</td>\n",
       "      <td>98.054363</td>\n",
       "      <td>1.000000</td>\n",
       "      <td>1.000000</td>\n",
       "      <td>1.000000</td>\n",
       "      <td>2552.569385</td>\n",
       "      <td>6.101574</td>\n",
       "      <td>340.274678</td>\n",
       "      <td>0.948498</td>\n",
       "      <td>1568.864092</td>\n",
       "      <td>0.0</td>\n",
       "      <td>1.011445</td>\n",
       "    </tr>\n",
       "  </tbody>\n",
       "</table>\n",
       "</div>"
      ],
      "text/plain": [
       "  clustersid_s1        Balance  Qual_miles cc1_miles cc2_miles cc3_miles  \\\n",
       "                          mean        mean      mean      mean      mean   \n",
       "0             0   79848.233615  285.097252  1.699789  1.024313  1.000000   \n",
       "1             1   43313.653808   21.506429  1.000000  1.033630  1.000989   \n",
       "2             2  106221.111386  161.262376  3.198020  1.001238  1.025990   \n",
       "3             3  127475.028037  160.801869  4.362617  1.000000  1.050467   \n",
       "4             4   30013.416309   98.054363  1.000000  1.000000  1.000000   \n",
       "\n",
       "    Bonus_miles Bonus_trans Flight_miles_12mo Flight_trans_12  \\\n",
       "           mean        mean              mean            mean   \n",
       "0  12079.774841   12.133192        781.939746        2.369979   \n",
       "1   2562.614243    5.474777        169.510386        0.523244   \n",
       "2  26458.257426   16.363861        198.733911        0.558168   \n",
       "3  58656.919626   22.235514        991.110280        3.005607   \n",
       "4   2552.569385    6.101574        340.274678        0.948498   \n",
       "\n",
       "  Days_since_enroll Award clustersid_s2  \n",
       "               mean  mean          mean  \n",
       "0       4372.173362   1.0      0.627907  \n",
       "1       4940.680514   0.0      1.044510  \n",
       "2       4367.250000   0.0      0.507426  \n",
       "3       5072.226168   1.0      0.261682  \n",
       "4       1568.864092   0.0      1.011445  "
      ]
     },
     "execution_count": 79,
     "metadata": {},
     "output_type": "execute_result"
    }
   ],
   "source": [
    "air2.groupby('clustersid_s1').agg(['mean']).reset_index()"
   ]
  },
  {
   "cell_type": "code",
   "execution_count": 80,
   "id": "fe2a34f7",
   "metadata": {
    "ExecuteTime": {
     "end_time": "2023-07-08T13:55:19.270010Z",
     "start_time": "2023-07-08T13:55:18.997825Z"
    },
    "id": "fe2a34f7",
    "outputId": "b9e009b9-71b2-4b1f-a112-57805964558e"
   },
   "outputs": [
    {
     "data": {
      "text/plain": [
       "0.3098805307874414"
      ]
     },
     "execution_count": 80,
     "metadata": {},
     "output_type": "execute_result"
    }
   ],
   "source": [
    "from sklearn.metrics import silhouette_score\n",
    "\n",
    "sil_score= silhouette_score(scaler2_df, H_clusters.labels_) #silhouette_score of AgglomerativeClustering\n",
    "sil_score"
   ]
  },
  {
   "cell_type": "markdown",
   "id": "9f3c3316",
   "metadata": {
    "id": "9f3c3316"
   },
   "source": [
    "## K-Means Clustering"
   ]
  },
  {
   "cell_type": "code",
   "execution_count": 83,
   "id": "f2da53ca",
   "metadata": {
    "ExecuteTime": {
     "end_time": "2023-07-08T13:58:06.483914Z",
     "start_time": "2023-07-08T13:58:03.471112Z"
    },
    "id": "f2da53ca"
   },
   "outputs": [
    {
     "name": "stdout",
     "output_type": "stream",
     "text": [
      "Requirement already satisfied: yellowbrick in c:\\programdata\\anaconda3\\lib\\site-packages (1.5)\n",
      "Requirement already satisfied: cycler>=0.10.0 in c:\\programdata\\anaconda3\\lib\\site-packages (from yellowbrick) (0.11.0)\n",
      "Requirement already satisfied: numpy>=1.16.0 in c:\\programdata\\anaconda3\\lib\\site-packages (from yellowbrick) (1.21.5)\n",
      "Requirement already satisfied: scikit-learn>=1.0.0 in c:\\programdata\\anaconda3\\lib\\site-packages (from yellowbrick) (1.3.0)\n",
      "Requirement already satisfied: scipy>=1.0.0 in c:\\programdata\\anaconda3\\lib\\site-packages (from yellowbrick) (1.7.3)\n",
      "Requirement already satisfied: matplotlib!=3.0.0,>=2.0.2 in c:\\programdata\\anaconda3\\lib\\site-packages (from yellowbrick) (3.5.1)\n",
      "Requirement already satisfied: packaging>=20.0 in c:\\programdata\\anaconda3\\lib\\site-packages (from matplotlib!=3.0.0,>=2.0.2->yellowbrick) (21.3)\n",
      "Requirement already satisfied: fonttools>=4.22.0 in c:\\programdata\\anaconda3\\lib\\site-packages (from matplotlib!=3.0.0,>=2.0.2->yellowbrick) (4.25.0)\n",
      "Requirement already satisfied: kiwisolver>=1.0.1 in c:\\programdata\\anaconda3\\lib\\site-packages (from matplotlib!=3.0.0,>=2.0.2->yellowbrick) (1.3.2)\n",
      "Requirement already satisfied: python-dateutil>=2.7 in c:\\programdata\\anaconda3\\lib\\site-packages (from matplotlib!=3.0.0,>=2.0.2->yellowbrick) (2.8.2)\n",
      "Requirement already satisfied: pillow>=6.2.0 in c:\\programdata\\anaconda3\\lib\\site-packages (from matplotlib!=3.0.0,>=2.0.2->yellowbrick) (9.0.1)\n",
      "Requirement already satisfied: pyparsing>=2.2.1 in c:\\programdata\\anaconda3\\lib\\site-packages (from matplotlib!=3.0.0,>=2.0.2->yellowbrick) (3.0.4)\n",
      "Requirement already satisfied: six>=1.5 in c:\\programdata\\anaconda3\\lib\\site-packages (from python-dateutil>=2.7->matplotlib!=3.0.0,>=2.0.2->yellowbrick) (1.16.0)\n",
      "Requirement already satisfied: joblib>=1.1.1 in c:\\programdata\\anaconda3\\lib\\site-packages (from scikit-learn>=1.0.0->yellowbrick) (1.3.1)\n",
      "Requirement already satisfied: threadpoolctl>=2.0.0 in c:\\programdata\\anaconda3\\lib\\site-packages (from scikit-learn>=1.0.0->yellowbrick) (2.2.0)\n"
     ]
    },
    {
     "ename": "ImportError",
     "evalue": "cannot import name '_is_arraylike_not_scalar' from 'sklearn.utils.validation' (C:\\ProgramData\\Anaconda3\\lib\\site-packages\\sklearn\\utils\\validation.py)",
     "output_type": "error",
     "traceback": [
      "\u001b[1;31m---------------------------------------------------------------------------\u001b[0m",
      "\u001b[1;31mImportError\u001b[0m                               Traceback (most recent call last)",
      "Input \u001b[1;32mIn [83]\u001b[0m, in \u001b[0;36m<cell line: 3>\u001b[1;34m()\u001b[0m\n\u001b[0;32m      1\u001b[0m \u001b[38;5;66;03m# Import Library\u001b[39;00m\n\u001b[0;32m      2\u001b[0m get_ipython()\u001b[38;5;241m.\u001b[39msystem(\u001b[38;5;124m'\u001b[39m\u001b[38;5;124mpip install yellowbrick\u001b[39m\u001b[38;5;124m'\u001b[39m)\n\u001b[1;32m----> 3\u001b[0m \u001b[38;5;28;01mfrom\u001b[39;00m \u001b[38;5;21;01msklearn\u001b[39;00m\u001b[38;5;21;01m.\u001b[39;00m\u001b[38;5;21;01mdatasets\u001b[39;00m \u001b[38;5;28;01mimport\u001b[39;00m make_blobs\n\u001b[0;32m      4\u001b[0m \u001b[38;5;28;01mfrom\u001b[39;00m \u001b[38;5;21;01msklearn\u001b[39;00m\u001b[38;5;21;01m.\u001b[39;00m\u001b[38;5;21;01mcluster\u001b[39;00m \u001b[38;5;28;01mimport\u001b[39;00m KMeans\n\u001b[0;32m      5\u001b[0m \u001b[38;5;28;01mfrom\u001b[39;00m \u001b[38;5;21;01myellowbrick\u001b[39;00m\u001b[38;5;21;01m.\u001b[39;00m\u001b[38;5;21;01mcluster\u001b[39;00m \u001b[38;5;28;01mimport\u001b[39;00m KElbowVisualizer\n",
      "File \u001b[1;32mC:\\ProgramData\\Anaconda3\\lib\\site-packages\\sklearn\\datasets\\__init__.py:8\u001b[0m, in \u001b[0;36m<module>\u001b[1;34m\u001b[0m\n\u001b[0;32m      1\u001b[0m \u001b[38;5;124;03m\"\"\"\u001b[39;00m\n\u001b[0;32m      2\u001b[0m \u001b[38;5;124;03mThe :mod:`sklearn.datasets` module includes utilities to load datasets,\u001b[39;00m\n\u001b[0;32m      3\u001b[0m \u001b[38;5;124;03mincluding methods to load and fetch popular reference datasets. It also\u001b[39;00m\n\u001b[0;32m      4\u001b[0m \u001b[38;5;124;03mfeatures some artificial data generators.\u001b[39;00m\n\u001b[0;32m      5\u001b[0m \u001b[38;5;124;03m\"\"\"\u001b[39;00m\n\u001b[0;32m      6\u001b[0m \u001b[38;5;28;01mimport\u001b[39;00m \u001b[38;5;21;01mtextwrap\u001b[39;00m\n\u001b[1;32m----> 8\u001b[0m \u001b[38;5;28;01mfrom\u001b[39;00m \u001b[38;5;21;01m.\u001b[39;00m\u001b[38;5;21;01m_base\u001b[39;00m \u001b[38;5;28;01mimport\u001b[39;00m (\n\u001b[0;32m      9\u001b[0m     clear_data_home,\n\u001b[0;32m     10\u001b[0m     get_data_home,\n\u001b[0;32m     11\u001b[0m     load_breast_cancer,\n\u001b[0;32m     12\u001b[0m     load_diabetes,\n\u001b[0;32m     13\u001b[0m     load_digits,\n\u001b[0;32m     14\u001b[0m     load_files,\n\u001b[0;32m     15\u001b[0m     load_iris,\n\u001b[0;32m     16\u001b[0m     load_linnerud,\n\u001b[0;32m     17\u001b[0m     load_sample_image,\n\u001b[0;32m     18\u001b[0m     load_sample_images,\n\u001b[0;32m     19\u001b[0m     load_wine,\n\u001b[0;32m     20\u001b[0m )\n\u001b[0;32m     21\u001b[0m \u001b[38;5;28;01mfrom\u001b[39;00m \u001b[38;5;21;01m.\u001b[39;00m\u001b[38;5;21;01m_california_housing\u001b[39;00m \u001b[38;5;28;01mimport\u001b[39;00m fetch_california_housing\n\u001b[0;32m     22\u001b[0m \u001b[38;5;28;01mfrom\u001b[39;00m \u001b[38;5;21;01m.\u001b[39;00m\u001b[38;5;21;01m_covtype\u001b[39;00m \u001b[38;5;28;01mimport\u001b[39;00m fetch_covtype\n",
      "File \u001b[1;32mC:\\ProgramData\\Anaconda3\\lib\\site-packages\\sklearn\\datasets\\_base.py:25\u001b[0m, in \u001b[0;36m<module>\u001b[1;34m\u001b[0m\n\u001b[0;32m     23\u001b[0m \u001b[38;5;28;01mfrom\u001b[39;00m \u001b[38;5;21;01m.\u001b[39;00m\u001b[38;5;21;01m.\u001b[39;00m\u001b[38;5;21;01mpreprocessing\u001b[39;00m \u001b[38;5;28;01mimport\u001b[39;00m scale\n\u001b[0;32m     24\u001b[0m \u001b[38;5;28;01mfrom\u001b[39;00m \u001b[38;5;21;01m.\u001b[39;00m\u001b[38;5;21;01m.\u001b[39;00m\u001b[38;5;21;01mutils\u001b[39;00m \u001b[38;5;28;01mimport\u001b[39;00m Bunch, check_pandas_support, check_random_state\n\u001b[1;32m---> 25\u001b[0m \u001b[38;5;28;01mfrom\u001b[39;00m \u001b[38;5;21;01m.\u001b[39;00m\u001b[38;5;21;01m.\u001b[39;00m\u001b[38;5;21;01mutils\u001b[39;00m\u001b[38;5;21;01m.\u001b[39;00m\u001b[38;5;21;01m_param_validation\u001b[39;00m \u001b[38;5;28;01mimport\u001b[39;00m Interval, StrOptions, validate_params\n\u001b[0;32m     26\u001b[0m \u001b[38;5;28;01mfrom\u001b[39;00m \u001b[38;5;21;01m.\u001b[39;00m\u001b[38;5;21;01m.\u001b[39;00m\u001b[38;5;21;01mutils\u001b[39;00m\u001b[38;5;21;01m.\u001b[39;00m\u001b[38;5;21;01mfixes\u001b[39;00m \u001b[38;5;28;01mimport\u001b[39;00m _contents, _open_binary, _open_text, _read_text\n\u001b[0;32m     28\u001b[0m DATA_MODULE \u001b[38;5;241m=\u001b[39m \u001b[38;5;124m\"\u001b[39m\u001b[38;5;124msklearn.datasets.data\u001b[39m\u001b[38;5;124m\"\u001b[39m\n",
      "File \u001b[1;32mC:\\ProgramData\\Anaconda3\\lib\\site-packages\\sklearn\\utils\\_param_validation.py:15\u001b[0m, in \u001b[0;36m<module>\u001b[1;34m\u001b[0m\n\u001b[0;32m     12\u001b[0m \u001b[38;5;28;01mfrom\u001b[39;00m \u001b[38;5;21;01mscipy\u001b[39;00m\u001b[38;5;21;01m.\u001b[39;00m\u001b[38;5;21;01msparse\u001b[39;00m \u001b[38;5;28;01mimport\u001b[39;00m csr_matrix, issparse\n\u001b[0;32m     14\u001b[0m \u001b[38;5;28;01mfrom\u001b[39;00m \u001b[38;5;21;01m.\u001b[39;00m\u001b[38;5;21;01m.\u001b[39;00m\u001b[38;5;21;01m_config\u001b[39;00m \u001b[38;5;28;01mimport\u001b[39;00m config_context, get_config\n\u001b[1;32m---> 15\u001b[0m \u001b[38;5;28;01mfrom\u001b[39;00m \u001b[38;5;21;01m.\u001b[39;00m\u001b[38;5;21;01mvalidation\u001b[39;00m \u001b[38;5;28;01mimport\u001b[39;00m _is_arraylike_not_scalar\n\u001b[0;32m     18\u001b[0m \u001b[38;5;28;01mclass\u001b[39;00m \u001b[38;5;21;01mInvalidParameterError\u001b[39;00m(\u001b[38;5;167;01mValueError\u001b[39;00m, \u001b[38;5;167;01mTypeError\u001b[39;00m):\n\u001b[0;32m     19\u001b[0m     \u001b[38;5;124;03m\"\"\"Custom exception to be raised when the parameter of a class/method/function\u001b[39;00m\n\u001b[0;32m     20\u001b[0m \u001b[38;5;124;03m    does not have a valid type or value.\u001b[39;00m\n\u001b[0;32m     21\u001b[0m \u001b[38;5;124;03m    \"\"\"\u001b[39;00m\n",
      "\u001b[1;31mImportError\u001b[0m: cannot import name '_is_arraylike_not_scalar' from 'sklearn.utils.validation' (C:\\ProgramData\\Anaconda3\\lib\\site-packages\\sklearn\\utils\\validation.py)"
     ]
    }
   ],
   "source": [
    "# Import Library\n",
    "!pip install yellowbrick\n",
    "from sklearn.datasets import make_blobs\n",
    "from sklearn.cluster import KMeans\n",
    "from yellowbrick.cluster import KElbowVisualizer"
   ]
  },
  {
   "cell_type": "code",
   "execution_count": 84,
   "id": "a19cd36f",
   "metadata": {
    "ExecuteTime": {
     "end_time": "2023-07-08T13:58:31.550649Z",
     "start_time": "2023-07-08T13:58:31.533450Z"
    },
    "id": "a19cd36f"
   },
   "outputs": [],
   "source": [
    "scaler1 = MinMaxScaler()\n",
    "scaler2 = StandardScaler()"
   ]
  },
  {
   "cell_type": "code",
   "execution_count": 85,
   "id": "23aa000a",
   "metadata": {
    "ExecuteTime": {
     "end_time": "2023-07-08T13:58:34.619418Z",
     "start_time": "2023-07-08T13:58:34.602387Z"
    },
    "id": "23aa000a",
    "outputId": "e9a8443d-eb52-477d-b203-f4e54fdc1355"
   },
   "outputs": [
    {
     "name": "stdout",
     "output_type": "stream",
     "text": [
      "[[0.01650773 0.         0.         ... 0.         0.25       0.25      ]\n",
      " [0.01128788 0.         0.         ... 0.         0.25       0.25      ]\n",
      " [0.02425685 0.         0.         ... 0.         0.25       0.25      ]\n",
      " ...\n",
      " [0.0431695  0.         0.5        ... 1.         0.         0.        ]\n",
      " [0.03220189 0.         0.         ... 0.         1.         0.25      ]\n",
      " [0.00176908 0.         0.         ... 0.         1.         0.25      ]]\n",
      "\n",
      "\n",
      "[[-4.51140783e-01 -1.86298687e-01 -7.69578406e-01 ... -7.66919299e-01\n",
      "  -5.39219215e-01  4.41786398e-01]\n",
      " [-5.39456874e-01 -1.86298687e-01 -7.69578406e-01 ... -7.66919299e-01\n",
      "  -5.39219215e-01  4.41786398e-01]\n",
      " [-3.20031232e-01 -1.86298687e-01 -7.69578406e-01 ... -7.66919299e-01\n",
      "  -5.39219215e-01  4.41786398e-01]\n",
      " ...\n",
      " [-4.29480975e-05 -1.86298687e-01  6.83121167e-01 ...  1.30391816e+00\n",
      "  -1.25111675e+00 -1.17607423e+00]\n",
      " [-1.85606976e-01 -1.86298687e-01 -7.69578406e-01 ... -7.66919299e-01\n",
      "   1.59647340e+00  4.41786398e-01]\n",
      " [-7.00507951e-01 -1.86298687e-01 -7.69578406e-01 ... -7.66919299e-01\n",
      "   1.59647340e+00  4.41786398e-01]]\n"
     ]
    }
   ],
   "source": [
    "# Normalizing Dataset\n",
    "scaler1_df = scaler1.fit_transform(air2)\n",
    "print(scaler1_df)\n",
    "\n",
    "print('\\n')\n",
    "\n",
    "scaler2_df = scaler2.fit_transform(air2)\n",
    "print(scaler2_df)"
   ]
  },
  {
   "cell_type": "markdown",
   "id": "0f910ddf",
   "metadata": {
    "id": "0f910ddf"
   },
   "source": [
    "### The K-means algorithm aims to choose centroids that minimise the inertia, or within-cluster sum-of-squares criterion:"
   ]
  },
  {
   "cell_type": "code",
   "execution_count": 86,
   "id": "393e8aec",
   "metadata": {
    "ExecuteTime": {
     "end_time": "2023-07-08T13:58:42.340026Z",
     "start_time": "2023-07-08T13:58:40.799452Z"
    },
    "id": "393e8aec",
    "outputId": "55fabf98-621a-4f1a-c489-bee9d71951c4"
   },
   "outputs": [
    {
     "data": {
      "image/png": "[encoded data removed]",
      "text/plain": [
       "<Figure size 432x288 with 1 Axes>"
      ]
     },
     "metadata": {
      "needs_background": "light"
     },
     "output_type": "display_data"
    }
   ],
   "source": [
    "# Using data normalized by MinMaxScaler\n",
    "wcss = []\n",
    "for i in range(1, 11):\n",
    "    kmeans = KMeans(n_clusters=i,random_state=0)\n",
    "    kmeans.fit(scaler1_df)\n",
    "    wcss.append(kmeans.inertia_)\n",
    "    \n",
    "plt.plot(range(1, 11), wcss)\n",
    "plt.title('Elbow Method')\n",
    "plt.xlabel('Number of clusters')\n",
    "plt.ylabel('WCSS')\n",
    "plt.show()"
   ]
  },
  {
   "cell_type": "code",
   "execution_count": 87,
   "id": "f78a0a5f",
   "metadata": {
    "ExecuteTime": {
     "end_time": "2023-07-08T13:58:50.179967Z",
     "start_time": "2023-07-08T13:58:48.860755Z"
    },
    "id": "f78a0a5f",
    "outputId": "f2c39f32-e064-43ba-9c58-7ded089511b4"
   },
   "outputs": [
    {
     "data": {
      "image/png": "[encoded data removed]",
      "text/plain": [
       "<Figure size 432x288 with 1 Axes>"
      ]
     },
     "metadata": {
      "needs_background": "light"
     },
     "output_type": "display_data"
    }
   ],
   "source": [
    "# Using data normalized by StandardScaler\n",
    "wcss = []\n",
    "for i in range(1, 11):\n",
    "    kmeans = KMeans(n_clusters=i,random_state=0)\n",
    "    kmeans.fit(scaler2_df)\n",
    "    wcss.append(kmeans.inertia_)\n",
    "    \n",
    "plt.plot(range(1, 11), wcss)\n",
    "plt.title('Elbow Method')\n",
    "plt.xlabel('Number of clusters')\n",
    "plt.ylabel('WCSS')\n",
    "plt.show()"
   ]
  },
  {
   "cell_type": "markdown",
   "id": "f139ba9a",
   "metadata": {
    "id": "f139ba9a"
   },
   "source": [
    "#### From above two plots, optimum number of clusters can be selected equal to 5"
   ]
  },
  {
   "cell_type": "code",
   "execution_count": 88,
   "id": "c6948c06",
   "metadata": {
    "ExecuteTime": {
     "end_time": "2023-07-08T13:58:56.610403Z",
     "start_time": "2023-07-08T13:58:55.840708Z"
    },
    "id": "c6948c06",
    "outputId": "387d655d-df2b-4e53-d0fb-0c94c28cdf1b"
   },
   "outputs": [
    {
     "name": "stdout",
     "output_type": "stream",
     "text": [
      "Silhoutte Score for normalized data by MinMaxScaler: 0.5578853150250931\n",
      "Silhoutte Score for normalized data by StandardScaler: 0.3294874511326423\n"
     ]
    }
   ],
   "source": [
    "# Building Cluster Algorithm\n",
    "\n",
    "# using data normalized by MinMaxScaler\n",
    "clusters_new1 = KMeans(5, random_state = 42)\n",
    "clusters_new1.fit(scaler1_df)\n",
    "\n",
    "sil_score = silhouette_score(scaler1_df, clusters_new1.labels_)\n",
    "print('Silhoutte Score for normalized data by MinMaxScaler:', sil_score)\n",
    "\n",
    "# using data normalized by StandardScaler\n",
    "clusters_new2 = KMeans(5, random_state = 42)\n",
    "clusters_new2.fit(scaler2_df)\n",
    "\n",
    "sil_score = silhouette_score(scaler2_df, clusters_new2.labels_)\n",
    "print('Silhoutte Score for normalized data by StandardScaler:', sil_score)"
   ]
  },
  {
   "cell_type": "code",
   "execution_count": 89,
   "id": "58328e7e",
   "metadata": {
    "ExecuteTime": {
     "end_time": "2023-07-08T13:58:58.917524Z",
     "start_time": "2023-07-08T13:58:58.900440Z"
    },
    "id": "58328e7e"
   },
   "outputs": [],
   "source": [
    "#Assigning clusters to the data set\n",
    "air1['clusterid_Kmeans'] = clusters_new1.labels_\n",
    "air2['clusterid_Kmeans'] = clusters_new1.labels_"
   ]
  },
  {
   "cell_type": "code",
   "execution_count": 90,
   "id": "68fcd526",
   "metadata": {
    "ExecuteTime": {
     "end_time": "2023-07-08T13:59:04.217440Z",
     "start_time": "2023-07-08T13:59:04.138805Z"
    },
    "id": "68fcd526",
    "outputId": "c3f35608-c5df-46d6-e9d7-c83063a68264"
   },
   "outputs": [
    {
     "data": {
      "text/plain": [
       "1    1194\n",
       "0     948\n",
       "3     699\n",
       "4     625\n",
       "2     533\n",
       "Name: clusterid_Kmeans, dtype: int64"
      ]
     },
     "execution_count": 90,
     "metadata": {},
     "output_type": "execute_result"
    }
   ],
   "source": [
    "y=pd.DataFrame(clusters_new1.fit_predict(scaler1_df),columns=['clusterid_Kmeans'])\n",
    "y['clusterid_Kmeans'].value_counts()"
   ]
  },
  {
   "cell_type": "code",
   "execution_count": 91,
   "id": "897a890d",
   "metadata": {
    "ExecuteTime": {
     "end_time": "2023-07-08T13:59:06.874543Z",
     "start_time": "2023-07-08T13:59:06.747219Z"
    },
    "id": "897a890d",
    "outputId": "3a21d761-200c-4e53-8394-9d3e3d6f16be"
   },
   "outputs": [
    {
     "data": {
      "image/png": "[encoded data removed]",
      "text/plain": [
       "<Figure size 864x576 with 1 Axes>"
      ]
     },
     "metadata": {
      "needs_background": "light"
     },
     "output_type": "display_data"
    }
   ],
   "source": [
    "# Plotting barplot using groupby method to get visualization of how many row no. in each cluster\n",
    "\n",
    "fig, ax = plt.subplots(figsize=(12, 8))\n",
    "air1.groupby(['clusterid_Kmeans']).count()['ID'].plot(kind='bar')\n",
    "plt.ylabel('ID Counts')\n",
    "plt.title('Hierarchical Clustering',fontsize='large',fontweight='bold')\n",
    "ax.set_xlabel('Clusters', fontsize='large', fontweight='bold')\n",
    "ax.set_ylabel('ID counts', fontsize='large', fontweight='bold')\n",
    "plt.yticks(fontsize=15)\n",
    "plt.xticks(fontsize=15)\n",
    "plt.show()"
   ]
  },
  {
   "cell_type": "code",
   "execution_count": 92,
   "id": "e0936dad",
   "metadata": {
    "ExecuteTime": {
     "end_time": "2023-07-08T13:59:12.413478Z",
     "start_time": "2023-07-08T13:59:12.390950Z"
    },
    "id": "e0936dad",
    "outputId": "72b07965-ccc5-4db5-f555-55191a0759a2"
   },
   "outputs": [
    {
     "data": {
      "text/html": [
       "<div>\n",
       "<style scoped>\n",
       "    .dataframe tbody tr th:only-of-type {\n",
       "        vertical-align: middle;\n",
       "    }\n",
       "\n",
       "    .dataframe tbody tr th {\n",
       "        vertical-align: top;\n",
       "    }\n",
       "\n",
       "    .dataframe thead tr th {\n",
       "        text-align: left;\n",
       "    }\n",
       "</style>\n",
       "<table border=\"1\" class=\"dataframe\">\n",
       "  <thead>\n",
       "    <tr>\n",
       "      <th></th>\n",
       "      <th>clusterid_Kmeans</th>\n",
       "      <th>Balance</th>\n",
       "      <th>Qual_miles</th>\n",
       "      <th>cc1_miles</th>\n",
       "      <th>cc2_miles</th>\n",
       "      <th>cc3_miles</th>\n",
       "      <th>Bonus_miles</th>\n",
       "      <th>Bonus_trans</th>\n",
       "      <th>Flight_miles_12mo</th>\n",
       "      <th>Flight_trans_12</th>\n",
       "      <th>Days_since_enroll</th>\n",
       "      <th>Award</th>\n",
       "      <th>clustersid_s1</th>\n",
       "      <th>clustersid_s2</th>\n",
       "    </tr>\n",
       "    <tr>\n",
       "      <th></th>\n",
       "      <th></th>\n",
       "      <th>mean</th>\n",
       "      <th>mean</th>\n",
       "      <th>mean</th>\n",
       "      <th>mean</th>\n",
       "      <th>mean</th>\n",
       "      <th>mean</th>\n",
       "      <th>mean</th>\n",
       "      <th>mean</th>\n",
       "      <th>mean</th>\n",
       "      <th>mean</th>\n",
       "      <th>mean</th>\n",
       "      <th>mean</th>\n",
       "      <th>mean</th>\n",
       "    </tr>\n",
       "  </thead>\n",
       "  <tbody>\n",
       "    <tr>\n",
       "      <th>0</th>\n",
       "      <td>0</td>\n",
       "      <td>80071.828059</td>\n",
       "      <td>276.433544</td>\n",
       "      <td>1.694093</td>\n",
       "      <td>1.024262</td>\n",
       "      <td>1.002110</td>\n",
       "      <td>12186.982068</td>\n",
       "      <td>12.262658</td>\n",
       "      <td>827.800633</td>\n",
       "      <td>2.483122</td>\n",
       "      <td>4367.631857</td>\n",
       "      <td>1.0</td>\n",
       "      <td>0.009494</td>\n",
       "      <td>0.635021</td>\n",
       "    </tr>\n",
       "    <tr>\n",
       "      <th>1</th>\n",
       "      <td>1</td>\n",
       "      <td>46926.743719</td>\n",
       "      <td>77.376884</td>\n",
       "      <td>1.144054</td>\n",
       "      <td>1.028476</td>\n",
       "      <td>1.006700</td>\n",
       "      <td>3747.433836</td>\n",
       "      <td>6.634003</td>\n",
       "      <td>159.219430</td>\n",
       "      <td>0.485762</td>\n",
       "      <td>4834.253769</td>\n",
       "      <td>0.0</td>\n",
       "      <td>1.153266</td>\n",
       "      <td>1.032663</td>\n",
       "    </tr>\n",
       "    <tr>\n",
       "      <th>2</th>\n",
       "      <td>2</td>\n",
       "      <td>127256.052533</td>\n",
       "      <td>175.744841</td>\n",
       "      <td>4.382739</td>\n",
       "      <td>1.000000</td>\n",
       "      <td>1.046904</td>\n",
       "      <td>58641.013133</td>\n",
       "      <td>22.043152</td>\n",
       "      <td>910.326454</td>\n",
       "      <td>2.806754</td>\n",
       "      <td>5082.930582</td>\n",
       "      <td>1.0</td>\n",
       "      <td>2.994371</td>\n",
       "      <td>0.247655</td>\n",
       "    </tr>\n",
       "    <tr>\n",
       "      <th>3</th>\n",
       "      <td>3</td>\n",
       "      <td>30013.416309</td>\n",
       "      <td>98.054363</td>\n",
       "      <td>1.000000</td>\n",
       "      <td>1.000000</td>\n",
       "      <td>1.000000</td>\n",
       "      <td>2552.569385</td>\n",
       "      <td>6.101574</td>\n",
       "      <td>340.274678</td>\n",
       "      <td>0.948498</td>\n",
       "      <td>1568.864092</td>\n",
       "      <td>0.0</td>\n",
       "      <td>4.000000</td>\n",
       "      <td>1.011445</td>\n",
       "    </tr>\n",
       "    <tr>\n",
       "      <th>4</th>\n",
       "      <td>4</td>\n",
       "      <td>117737.968000</td>\n",
       "      <td>95.448000</td>\n",
       "      <td>3.566400</td>\n",
       "      <td>1.001600</td>\n",
       "      <td>1.022400</td>\n",
       "      <td>31191.422400</td>\n",
       "      <td>17.337600</td>\n",
       "      <td>226.950400</td>\n",
       "      <td>0.640000</td>\n",
       "      <td>4402.667200</td>\n",
       "      <td>0.0</td>\n",
       "      <td>2.000000</td>\n",
       "      <td>0.372800</td>\n",
       "    </tr>\n",
       "  </tbody>\n",
       "</table>\n",
       "</div>"
      ],
      "text/plain": [
       "  clusterid_Kmeans        Balance  Qual_miles cc1_miles cc2_miles cc3_miles  \\\n",
       "                             mean        mean      mean      mean      mean   \n",
       "0                0   80071.828059  276.433544  1.694093  1.024262  1.002110   \n",
       "1                1   46926.743719   77.376884  1.144054  1.028476  1.006700   \n",
       "2                2  127256.052533  175.744841  4.382739  1.000000  1.046904   \n",
       "3                3   30013.416309   98.054363  1.000000  1.000000  1.000000   \n",
       "4                4  117737.968000   95.448000  3.566400  1.001600  1.022400   \n",
       "\n",
       "    Bonus_miles Bonus_trans Flight_miles_12mo Flight_trans_12  \\\n",
       "           mean        mean              mean            mean   \n",
       "0  12186.982068   12.262658        827.800633        2.483122   \n",
       "1   3747.433836    6.634003        159.219430        0.485762   \n",
       "2  58641.013133   22.043152        910.326454        2.806754   \n",
       "3   2552.569385    6.101574        340.274678        0.948498   \n",
       "4  31191.422400   17.337600        226.950400        0.640000   \n",
       "\n",
       "  Days_since_enroll Award clustersid_s1 clustersid_s2  \n",
       "               mean  mean          mean          mean  \n",
       "0       4367.631857   1.0      0.009494      0.635021  \n",
       "1       4834.253769   0.0      1.153266      1.032663  \n",
       "2       5082.930582   1.0      2.994371      0.247655  \n",
       "3       1568.864092   0.0      4.000000      1.011445  \n",
       "4       4402.667200   0.0      2.000000      0.372800  "
      ]
     },
     "execution_count": 92,
     "metadata": {},
     "output_type": "execute_result"
    }
   ],
   "source": [
    "air2.groupby('clusterid_Kmeans').agg(['mean']).reset_index()\n"
   ]
  },
  {
   "cell_type": "markdown",
   "id": "8bb61318",
   "metadata": {
    "id": "8bb61318"
   },
   "source": [
    "## DBSCAN"
   ]
  },
  {
   "cell_type": "code",
   "execution_count": 93,
   "id": "f3f6ca2f",
   "metadata": {
    "ExecuteTime": {
     "end_time": "2023-07-08T13:59:19.038357Z",
     "start_time": "2023-07-08T13:59:19.029841Z"
    },
    "id": "f3f6ca2f"
   },
   "outputs": [],
   "source": [
    "# Import library\n",
    "from sklearn.cluster import DBSCAN"
   ]
  },
  {
   "cell_type": "code",
   "execution_count": 94,
   "id": "18e69ab3",
   "metadata": {
    "ExecuteTime": {
     "end_time": "2023-07-08T13:59:21.701248Z",
     "start_time": "2023-07-08T13:59:21.689268Z"
    },
    "id": "18e69ab3",
    "outputId": "cf949241-8ebb-4831-b85d-ef7275fbfa6d"
   },
   "outputs": [
    {
     "name": "stdout",
     "output_type": "stream",
     "text": [
      "[[0.01650773 0.         0.         ... 0.25       0.25       0.25      ]\n",
      " [0.01128788 0.         0.         ... 0.25       0.25       0.25      ]\n",
      " [0.02425685 0.         0.         ... 0.25       0.25       0.25      ]\n",
      " ...\n",
      " [0.0431695  0.         0.5        ... 0.         0.         0.        ]\n",
      " [0.03220189 0.         0.         ... 1.         0.25       0.75      ]\n",
      " [0.00176908 0.         0.         ... 1.         0.25       0.75      ]]\n"
     ]
    }
   ],
   "source": [
    "# Normalizing data using MinMaxScaler\n",
    "scaler1_df = scaler1.fit_transform(air2)\n",
    "print(scaler1_df)"
   ]
  },
  {
   "cell_type": "code",
   "execution_count": 95,
   "id": "baac3026",
   "metadata": {
    "ExecuteTime": {
     "end_time": "2023-07-08T13:59:28.209507Z",
     "start_time": "2023-07-08T13:59:27.220126Z"
    },
    "id": "baac3026",
    "outputId": "bf261358-1bb7-4dbe-de58-c3341986696c"
   },
   "outputs": [
    {
     "data": {
      "text/plain": [
       "DBSCAN(eps=1, min_samples=12)"
      ]
     },
     "execution_count": 95,
     "metadata": {},
     "output_type": "execute_result"
    }
   ],
   "source": [
    "# Using data normalized by MinMaxScaler\n",
    "dbscan = DBSCAN(eps=1, min_samples=12)\n",
    "dbscan.fit(scaler1_df)"
   ]
  },
  {
   "cell_type": "code",
   "execution_count": 96,
   "id": "badbfa41",
   "metadata": {
    "ExecuteTime": {
     "end_time": "2023-07-08T13:59:30.552687Z",
     "start_time": "2023-07-08T13:59:30.541031Z"
    },
    "id": "badbfa41",
    "outputId": "339b58a3-5885-4c72-fbc5-183993b87603"
   },
   "outputs": [
    {
     "data": {
      "text/plain": [
       "array([0, 0, 0, ..., 1, 0, 0], dtype=int64)"
      ]
     },
     "execution_count": 96,
     "metadata": {},
     "output_type": "execute_result"
    }
   ],
   "source": [
    "#Noisy samples are given the label -1.\n",
    "dbscan.labels_"
   ]
  },
  {
   "cell_type": "code",
   "execution_count": 97,
   "id": "ffed3f14",
   "metadata": {
    "ExecuteTime": {
     "end_time": "2023-07-08T13:59:35.045228Z",
     "start_time": "2023-07-08T13:59:33.912825Z"
    },
    "id": "ffed3f14",
    "outputId": "42924f01-04ce-4c1c-ebe1-602f097e5dfe"
   },
   "outputs": [
    {
     "data": {
      "text/html": [
       "<div>\n",
       "<style scoped>\n",
       "    .dataframe tbody tr th:only-of-type {\n",
       "        vertical-align: middle;\n",
       "    }\n",
       "\n",
       "    .dataframe tbody tr th {\n",
       "        vertical-align: top;\n",
       "    }\n",
       "\n",
       "    .dataframe thead th {\n",
       "        text-align: right;\n",
       "    }\n",
       "</style>\n",
       "<table border=\"1\" class=\"dataframe\">\n",
       "  <thead>\n",
       "    <tr style=\"text-align: right;\">\n",
       "      <th></th>\n",
       "      <th>clusterid_DBSCAN</th>\n",
       "    </tr>\n",
       "  </thead>\n",
       "  <tbody>\n",
       "    <tr>\n",
       "      <th>0</th>\n",
       "      <td>0</td>\n",
       "    </tr>\n",
       "    <tr>\n",
       "      <th>1</th>\n",
       "      <td>0</td>\n",
       "    </tr>\n",
       "    <tr>\n",
       "      <th>2</th>\n",
       "      <td>0</td>\n",
       "    </tr>\n",
       "    <tr>\n",
       "      <th>3</th>\n",
       "      <td>0</td>\n",
       "    </tr>\n",
       "    <tr>\n",
       "      <th>4</th>\n",
       "      <td>1</td>\n",
       "    </tr>\n",
       "    <tr>\n",
       "      <th>...</th>\n",
       "      <td>...</td>\n",
       "    </tr>\n",
       "    <tr>\n",
       "      <th>3994</th>\n",
       "      <td>1</td>\n",
       "    </tr>\n",
       "    <tr>\n",
       "      <th>3995</th>\n",
       "      <td>1</td>\n",
       "    </tr>\n",
       "    <tr>\n",
       "      <th>3996</th>\n",
       "      <td>1</td>\n",
       "    </tr>\n",
       "    <tr>\n",
       "      <th>3997</th>\n",
       "      <td>0</td>\n",
       "    </tr>\n",
       "    <tr>\n",
       "      <th>3998</th>\n",
       "      <td>0</td>\n",
       "    </tr>\n",
       "  </tbody>\n",
       "</table>\n",
       "<p>3999 rows × 1 columns</p>\n",
       "</div>"
      ],
      "text/plain": [
       "      clusterid_DBSCAN\n",
       "0                    0\n",
       "1                    0\n",
       "2                    0\n",
       "3                    0\n",
       "4                    1\n",
       "...                ...\n",
       "3994                 1\n",
       "3995                 1\n",
       "3996                 1\n",
       "3997                 0\n",
       "3998                 0\n",
       "\n",
       "[3999 rows x 1 columns]"
      ]
     },
     "execution_count": 97,
     "metadata": {},
     "output_type": "execute_result"
    }
   ],
   "source": [
    "y = pd.DataFrame(dbscan.fit_predict(scaler1_df),columns=['clusterid_DBSCAN'])\n",
    "y"
   ]
  },
  {
   "cell_type": "code",
   "execution_count": 98,
   "id": "e547c066",
   "metadata": {
    "ExecuteTime": {
     "end_time": "2023-07-08T13:59:40.796010Z",
     "start_time": "2023-07-08T13:59:40.790996Z"
    },
    "id": "e547c066",
    "outputId": "445da71a-621d-4154-e6c4-93bac1fbd156"
   },
   "outputs": [
    {
     "data": {
      "text/plain": [
       " 0    2518\n",
       " 1    1479\n",
       "-1       2\n",
       "Name: clusterid_DBSCAN, dtype: int64"
      ]
     },
     "execution_count": 98,
     "metadata": {},
     "output_type": "execute_result"
    }
   ],
   "source": [
    "y['clusterid_DBSCAN'].value_counts()"
   ]
  },
  {
   "cell_type": "code",
   "execution_count": 99,
   "id": "57a14fb6",
   "metadata": {
    "ExecuteTime": {
     "end_time": "2023-07-08T13:59:47.999997Z",
     "start_time": "2023-07-08T13:59:47.724441Z"
    },
    "id": "57a14fb6",
    "outputId": "f077a9ff-8749-4c9b-f407-d2ff3a5b66bf"
   },
   "outputs": [
    {
     "data": {
      "text/plain": [
       "0.4351796533177913"
      ]
     },
     "execution_count": 99,
     "metadata": {},
     "output_type": "execute_result"
    }
   ],
   "source": [
    "# silhouette score\n",
    "sil_score= silhouette_score(scaler1_df, dbscan.labels_)\n",
    "sil_score"
   ]
  },
  {
   "cell_type": "code",
   "execution_count": 100,
   "id": "5a8f9e6c",
   "metadata": {
    "ExecuteTime": {
     "end_time": "2023-07-08T13:59:51.472386Z",
     "start_time": "2023-07-08T13:59:51.328351Z"
    },
    "id": "5a8f9e6c",
    "outputId": "2dd9b10a-374d-42e7-cc1b-5fb34bda2347"
   },
   "outputs": [
    {
     "data": {
      "image/png": "[encoded data removed]",
      "text/plain": [
       "<Figure size 864x576 with 1 Axes>"
      ]
     },
     "metadata": {
      "needs_background": "light"
     },
     "output_type": "display_data"
    }
   ],
   "source": [
    "# Plotting barplot using groupby method to get visualization of how many row no. in each cluster\n",
    "\n",
    "fig, ax = plt.subplots(figsize=(12, 8))\n",
    "air1.groupby([y['clusterid_DBSCAN']]).count()['ID'].plot(kind='bar')\n",
    "plt.ylabel('ID Counts')\n",
    "plt.title('Hierarchical Clustering',fontsize='large',fontweight='bold')\n",
    "ax.set_xlabel('Clusters', fontsize='large', fontweight='bold')\n",
    "ax.set_ylabel('ID counts', fontsize='large', fontweight='bold')\n",
    "plt.yticks(fontsize=15)\n",
    "plt.xticks(fontsize=15)\n",
    "plt.show()\n"
   ]
  },
  {
   "cell_type": "markdown",
   "id": "17627377",
   "metadata": {
    "id": "17627377"
   },
   "source": [
    "#### As more than 50% of data is in one cluster, we will try for lower value of epsilon"
   ]
  },
  {
   "cell_type": "code",
   "execution_count": 101,
   "id": "a0f7daae",
   "metadata": {
    "ExecuteTime": {
     "end_time": "2023-07-08T14:00:00.365768Z",
     "start_time": "2023-07-08T13:59:58.236943Z"
    },
    "id": "a0f7daae",
    "outputId": "47925e44-7309-4ebd-c745-e20e54c6f05c"
   },
   "outputs": [
    {
     "name": "stdout",
     "output_type": "stream",
     "text": [
      " 0    2514\n",
      " 2     946\n",
      " 1     531\n",
      "-1       8\n",
      "Name: clusterid_DBSCAN, dtype: int64\n",
      "silhouette score:  0.46555408376042645\n"
     ]
    }
   ],
   "source": [
    "# for epsilon = 0.8\n",
    "dbscan1 = DBSCAN(eps=0.8, min_samples=12)\n",
    "dbscan1.fit(scaler1_df)\n",
    "\n",
    "y = pd.DataFrame(dbscan1.fit_predict(scaler1_df),columns=['clusterid_DBSCAN'])\n",
    "print(y['clusterid_DBSCAN'].value_counts())\n",
    "\n",
    "# silhouette score\n",
    "sil_score = silhouette_score(scaler1_df, dbscan1.labels_)\n",
    "print('silhouette score: ', sil_score)"
   ]
  },
  {
   "cell_type": "code",
   "execution_count": 102,
   "id": "ecf43848",
   "metadata": {
    "ExecuteTime": {
     "end_time": "2023-07-08T14:00:07.536938Z",
     "start_time": "2023-07-08T14:00:06.084192Z"
    },
    "id": "ecf43848",
    "outputId": "d5032818-9756-45b1-d5b4-10514f81c02d"
   },
   "outputs": [
    {
     "name": "stdout",
     "output_type": "stream",
     "text": [
      " 0    1191\n",
      " 3     942\n",
      " 4     699\n",
      " 2     618\n",
      " 1     523\n",
      "-1      26\n",
      "Name: clusterid_DBSCAN, dtype: int64\n",
      "silhouette score:  0.6261231990669098\n"
     ]
    }
   ],
   "source": [
    "# for epsilon = 0.6\n",
    "dbscan2 = DBSCAN(eps=0.6, min_samples=12)\n",
    "dbscan.fit(scaler1_df)\n",
    "\n",
    "y = pd.DataFrame(dbscan2.fit_predict(scaler1_df), columns=['clusterid_DBSCAN'])\n",
    "print(y['clusterid_DBSCAN'].value_counts())\n",
    "\n",
    "# silhouette score\n",
    "sil_score = silhouette_score(scaler1_df, dbscan2.labels_)\n",
    "print('silhouette score: ', sil_score)"
   ]
  },
  {
   "cell_type": "code",
   "execution_count": 103,
   "id": "fb6464d3",
   "metadata": {
    "ExecuteTime": {
     "end_time": "2023-07-08T14:00:14.592057Z",
     "start_time": "2023-07-08T14:00:13.568130Z"
    },
    "id": "fb6464d3",
    "outputId": "ee81c0f9-e698-4c39-f57d-03982bbcb6de"
   },
   "outputs": [
    {
     "name": "stdout",
     "output_type": "stream",
     "text": [
      " 0    1166\n",
      " 3     925\n",
      " 6     699\n",
      " 2     615\n",
      " 1     474\n",
      "-1      56\n",
      " 4      48\n",
      " 5      16\n",
      "Name: clusterid_DBSCAN, dtype: int64\n",
      "silhouette score:  0.5870644557307444\n"
     ]
    }
   ],
   "source": [
    "# for epsilon = 0.5\n",
    "dbscan3 = DBSCAN(eps=0.5, min_samples=12)\n",
    "dbscan3.fit(scaler1_df)\n",
    "\n",
    "y=pd.DataFrame(dbscan3.fit_predict(scaler1_df),columns=['clusterid_DBSCAN'])\n",
    "print(y['clusterid_DBSCAN'].value_counts())\n",
    "\n",
    "# silhouette score\n",
    "sil_score= silhouette_score(scaler1_df, dbscan3.labels_)\n",
    "print('silhouette score: ',sil_score)"
   ]
  },
  {
   "cell_type": "code",
   "execution_count": 104,
   "id": "deed5472",
   "metadata": {
    "ExecuteTime": {
     "end_time": "2023-07-08T14:00:21.190267Z",
     "start_time": "2023-07-08T14:00:19.496477Z"
    },
    "id": "deed5472",
    "outputId": "8832e2e2-789f-4618-9573-ec19a91f32ce"
   },
   "outputs": [
    {
     "name": "stdout",
     "output_type": "stream",
     "text": [
      " 0    1166\n",
      " 3     926\n",
      " 5     699\n",
      " 2     618\n",
      " 1     523\n",
      "-1      30\n",
      " 4      25\n",
      " 6      12\n",
      "Name: clusterid_DBSCAN, dtype: int64\n",
      "silhouette score:  0.6075903950018834\n"
     ]
    }
   ],
   "source": [
    "# for epsilon = 0.55\n",
    "dbscan4 = DBSCAN(eps=0.55, min_samples=12)\n",
    "dbscan4.fit(scaler1_df)\n",
    "\n",
    "y=pd.DataFrame(dbscan4.fit_predict(scaler1_df),columns=['clusterid_DBSCAN'])\n",
    "print(y['clusterid_DBSCAN'].value_counts())\n",
    "\n",
    "# silhouette score\n",
    "sil_score= silhouette_score(scaler1_df, dbscan4.labels_)\n",
    "print('silhouette score: ',sil_score)"
   ]
  },
  {
   "cell_type": "markdown",
   "id": "9bb1b4ea",
   "metadata": {
    "id": "9bb1b4ea"
   },
   "source": [
    "### When we have value of epsilon = 0.55, we are getting 6 clusters with data less than 50% in one cluster and also, silhouette score is more as compared to other dbscan models. \n",
    "#### -1 shows the noisy data points"
   ]
  },
  {
   "cell_type": "code",
   "execution_count": 105,
   "id": "6f0e32f6",
   "metadata": {
    "ExecuteTime": {
     "end_time": "2023-07-08T14:00:27.180056Z",
     "start_time": "2023-07-08T14:00:27.167050Z"
    },
    "id": "6f0e32f6"
   },
   "outputs": [],
   "source": [
    "air1['clusterid_DBSCAN'] = dbscan4.labels_\n",
    "air2['clusterid_DBSCAN'] = dbscan4.labels_"
   ]
  },
  {
   "cell_type": "code",
   "execution_count": 106,
   "id": "cb05b59a",
   "metadata": {
    "ExecuteTime": {
     "end_time": "2023-07-08T14:00:30.651110Z",
     "start_time": "2023-07-08T14:00:30.621328Z"
    },
    "id": "cb05b59a",
    "outputId": "cca70030-bdd3-4206-cc8d-2444c4cb86e2"
   },
   "outputs": [
    {
     "data": {
      "text/html": [
       "<div>\n",
       "<style scoped>\n",
       "    .dataframe tbody tr th:only-of-type {\n",
       "        vertical-align: middle;\n",
       "    }\n",
       "\n",
       "    .dataframe tbody tr th {\n",
       "        vertical-align: top;\n",
       "    }\n",
       "\n",
       "    .dataframe thead th {\n",
       "        text-align: right;\n",
       "    }\n",
       "</style>\n",
       "<table border=\"1\" class=\"dataframe\">\n",
       "  <thead>\n",
       "    <tr style=\"text-align: right;\">\n",
       "      <th></th>\n",
       "      <th>ID</th>\n",
       "      <th>Balance</th>\n",
       "      <th>Qual_miles</th>\n",
       "      <th>cc1_miles</th>\n",
       "      <th>cc2_miles</th>\n",
       "      <th>cc3_miles</th>\n",
       "      <th>Bonus_miles</th>\n",
       "      <th>Bonus_trans</th>\n",
       "      <th>Flight_miles_12mo</th>\n",
       "      <th>Flight_trans_12</th>\n",
       "      <th>Days_since_enroll</th>\n",
       "      <th>Award</th>\n",
       "      <th>clustersid_s1</th>\n",
       "      <th>clustersid_s2</th>\n",
       "      <th>clusterid_Kmeans</th>\n",
       "      <th>clusterid_DBSCAN</th>\n",
       "    </tr>\n",
       "  </thead>\n",
       "  <tbody>\n",
       "    <tr>\n",
       "      <th>0</th>\n",
       "      <td>1</td>\n",
       "      <td>28143</td>\n",
       "      <td>0</td>\n",
       "      <td>1</td>\n",
       "      <td>1</td>\n",
       "      <td>1</td>\n",
       "      <td>174</td>\n",
       "      <td>1</td>\n",
       "      <td>0</td>\n",
       "      <td>0</td>\n",
       "      <td>7000</td>\n",
       "      <td>0</td>\n",
       "      <td>1</td>\n",
       "      <td>1</td>\n",
       "      <td>1</td>\n",
       "      <td>0</td>\n",
       "    </tr>\n",
       "    <tr>\n",
       "      <th>1</th>\n",
       "      <td>2</td>\n",
       "      <td>19244</td>\n",
       "      <td>0</td>\n",
       "      <td>1</td>\n",
       "      <td>1</td>\n",
       "      <td>1</td>\n",
       "      <td>215</td>\n",
       "      <td>2</td>\n",
       "      <td>0</td>\n",
       "      <td>0</td>\n",
       "      <td>6968</td>\n",
       "      <td>0</td>\n",
       "      <td>1</td>\n",
       "      <td>1</td>\n",
       "      <td>1</td>\n",
       "      <td>0</td>\n",
       "    </tr>\n",
       "    <tr>\n",
       "      <th>2</th>\n",
       "      <td>3</td>\n",
       "      <td>41354</td>\n",
       "      <td>0</td>\n",
       "      <td>1</td>\n",
       "      <td>1</td>\n",
       "      <td>1</td>\n",
       "      <td>4123</td>\n",
       "      <td>4</td>\n",
       "      <td>0</td>\n",
       "      <td>0</td>\n",
       "      <td>7034</td>\n",
       "      <td>0</td>\n",
       "      <td>1</td>\n",
       "      <td>1</td>\n",
       "      <td>1</td>\n",
       "      <td>0</td>\n",
       "    </tr>\n",
       "    <tr>\n",
       "      <th>3</th>\n",
       "      <td>4</td>\n",
       "      <td>14776</td>\n",
       "      <td>0</td>\n",
       "      <td>1</td>\n",
       "      <td>1</td>\n",
       "      <td>1</td>\n",
       "      <td>500</td>\n",
       "      <td>1</td>\n",
       "      <td>0</td>\n",
       "      <td>0</td>\n",
       "      <td>6952</td>\n",
       "      <td>0</td>\n",
       "      <td>1</td>\n",
       "      <td>1</td>\n",
       "      <td>1</td>\n",
       "      <td>0</td>\n",
       "    </tr>\n",
       "    <tr>\n",
       "      <th>4</th>\n",
       "      <td>5</td>\n",
       "      <td>97752</td>\n",
       "      <td>0</td>\n",
       "      <td>4</td>\n",
       "      <td>1</td>\n",
       "      <td>1</td>\n",
       "      <td>43300</td>\n",
       "      <td>26</td>\n",
       "      <td>2077</td>\n",
       "      <td>4</td>\n",
       "      <td>6935</td>\n",
       "      <td>1</td>\n",
       "      <td>3</td>\n",
       "      <td>0</td>\n",
       "      <td>2</td>\n",
       "      <td>1</td>\n",
       "    </tr>\n",
       "    <tr>\n",
       "      <th>5</th>\n",
       "      <td>6</td>\n",
       "      <td>16420</td>\n",
       "      <td>0</td>\n",
       "      <td>1</td>\n",
       "      <td>1</td>\n",
       "      <td>1</td>\n",
       "      <td>0</td>\n",
       "      <td>0</td>\n",
       "      <td>0</td>\n",
       "      <td>0</td>\n",
       "      <td>6942</td>\n",
       "      <td>0</td>\n",
       "      <td>1</td>\n",
       "      <td>1</td>\n",
       "      <td>1</td>\n",
       "      <td>0</td>\n",
       "    </tr>\n",
       "    <tr>\n",
       "      <th>6</th>\n",
       "      <td>7</td>\n",
       "      <td>84914</td>\n",
       "      <td>0</td>\n",
       "      <td>3</td>\n",
       "      <td>1</td>\n",
       "      <td>1</td>\n",
       "      <td>27482</td>\n",
       "      <td>25</td>\n",
       "      <td>0</td>\n",
       "      <td>0</td>\n",
       "      <td>6994</td>\n",
       "      <td>0</td>\n",
       "      <td>2</td>\n",
       "      <td>0</td>\n",
       "      <td>4</td>\n",
       "      <td>2</td>\n",
       "    </tr>\n",
       "    <tr>\n",
       "      <th>7</th>\n",
       "      <td>8</td>\n",
       "      <td>20856</td>\n",
       "      <td>0</td>\n",
       "      <td>1</td>\n",
       "      <td>1</td>\n",
       "      <td>1</td>\n",
       "      <td>5250</td>\n",
       "      <td>4</td>\n",
       "      <td>250</td>\n",
       "      <td>1</td>\n",
       "      <td>6938</td>\n",
       "      <td>1</td>\n",
       "      <td>0</td>\n",
       "      <td>1</td>\n",
       "      <td>0</td>\n",
       "      <td>3</td>\n",
       "    </tr>\n",
       "    <tr>\n",
       "      <th>8</th>\n",
       "      <td>9</td>\n",
       "      <td>443003</td>\n",
       "      <td>0</td>\n",
       "      <td>3</td>\n",
       "      <td>2</td>\n",
       "      <td>1</td>\n",
       "      <td>1753</td>\n",
       "      <td>43</td>\n",
       "      <td>3850</td>\n",
       "      <td>12</td>\n",
       "      <td>6948</td>\n",
       "      <td>1</td>\n",
       "      <td>0</td>\n",
       "      <td>3</td>\n",
       "      <td>0</td>\n",
       "      <td>-1</td>\n",
       "    </tr>\n",
       "    <tr>\n",
       "      <th>9</th>\n",
       "      <td>10</td>\n",
       "      <td>104860</td>\n",
       "      <td>0</td>\n",
       "      <td>3</td>\n",
       "      <td>1</td>\n",
       "      <td>1</td>\n",
       "      <td>28426</td>\n",
       "      <td>28</td>\n",
       "      <td>1150</td>\n",
       "      <td>3</td>\n",
       "      <td>6931</td>\n",
       "      <td>1</td>\n",
       "      <td>0</td>\n",
       "      <td>0</td>\n",
       "      <td>0</td>\n",
       "      <td>3</td>\n",
       "    </tr>\n",
       "    <tr>\n",
       "      <th>10</th>\n",
       "      <td>11</td>\n",
       "      <td>40091</td>\n",
       "      <td>0</td>\n",
       "      <td>2</td>\n",
       "      <td>1</td>\n",
       "      <td>1</td>\n",
       "      <td>7278</td>\n",
       "      <td>10</td>\n",
       "      <td>0</td>\n",
       "      <td>0</td>\n",
       "      <td>6959</td>\n",
       "      <td>0</td>\n",
       "      <td>2</td>\n",
       "      <td>1</td>\n",
       "      <td>1</td>\n",
       "      <td>0</td>\n",
       "    </tr>\n",
       "  </tbody>\n",
       "</table>\n",
       "</div>"
      ],
      "text/plain": [
       "    ID  Balance  Qual_miles  cc1_miles  cc2_miles  cc3_miles  Bonus_miles  \\\n",
       "0    1    28143           0          1          1          1          174   \n",
       "1    2    19244           0          1          1          1          215   \n",
       "2    3    41354           0          1          1          1         4123   \n",
       "3    4    14776           0          1          1          1          500   \n",
       "4    5    97752           0          4          1          1        43300   \n",
       "5    6    16420           0          1          1          1            0   \n",
       "6    7    84914           0          3          1          1        27482   \n",
       "7    8    20856           0          1          1          1         5250   \n",
       "8    9   443003           0          3          2          1         1753   \n",
       "9   10   104860           0          3          1          1        28426   \n",
       "10  11    40091           0          2          1          1         7278   \n",
       "\n",
       "    Bonus_trans  Flight_miles_12mo  Flight_trans_12  Days_since_enroll  Award  \\\n",
       "0             1                  0                0               7000      0   \n",
       "1             2                  0                0               6968      0   \n",
       "2             4                  0                0               7034      0   \n",
       "3             1                  0                0               6952      0   \n",
       "4            26               2077                4               6935      1   \n",
       "5             0                  0                0               6942      0   \n",
       "6            25                  0                0               6994      0   \n",
       "7             4                250                1               6938      1   \n",
       "8            43               3850               12               6948      1   \n",
       "9            28               1150                3               6931      1   \n",
       "10           10                  0                0               6959      0   \n",
       "\n",
       "    clustersid_s1  clustersid_s2  clusterid_Kmeans  clusterid_DBSCAN  \n",
       "0               1              1                 1                 0  \n",
       "1               1              1                 1                 0  \n",
       "2               1              1                 1                 0  \n",
       "3               1              1                 1                 0  \n",
       "4               3              0                 2                 1  \n",
       "5               1              1                 1                 0  \n",
       "6               2              0                 4                 2  \n",
       "7               0              1                 0                 3  \n",
       "8               0              3                 0                -1  \n",
       "9               0              0                 0                 3  \n",
       "10              2              1                 1                 0  "
      ]
     },
     "execution_count": 106,
     "metadata": {},
     "output_type": "execute_result"
    }
   ],
   "source": [
    "air1.head(11)"
   ]
  },
  {
   "cell_type": "code",
   "execution_count": 107,
   "id": "99497ebd",
   "metadata": {
    "ExecuteTime": {
     "end_time": "2023-07-08T14:00:37.009957Z",
     "start_time": "2023-07-08T14:00:36.902831Z"
    },
    "id": "99497ebd",
    "outputId": "23bef26d-1655-4565-e057-131b5476a347"
   },
   "outputs": [
    {
     "data": {
      "image/png": "[encoded data removed]",
      "text/plain": [
       "<Figure size 864x576 with 1 Axes>"
      ]
     },
     "metadata": {
      "needs_background": "light"
     },
     "output_type": "display_data"
    }
   ],
   "source": [
    "# Plotting barplot using groupby method to get visualization of how many row no. in each cluster\n",
    "\n",
    "fig, ax = plt.subplots(figsize=(12, 8))\n",
    "air1.groupby(['clusterid_DBSCAN']).count()['ID'].plot(kind='bar')\n",
    "plt.ylabel('ID Counts')\n",
    "plt.title('Hierarchical Clustering',fontsize='large',fontweight='bold')\n",
    "ax.set_xlabel('Clusters', fontsize='large', fontweight='bold')\n",
    "ax.set_ylabel('ID counts', fontsize='large', fontweight='bold')\n",
    "plt.yticks(fontsize=15)\n",
    "plt.xticks(fontsize=15)\n",
    "plt.show()"
   ]
  },
  {
   "cell_type": "code",
   "execution_count": 108,
   "id": "71c7c172",
   "metadata": {
    "ExecuteTime": {
     "end_time": "2023-07-08T14:00:43.108134Z",
     "start_time": "2023-07-08T14:00:43.071040Z"
    },
    "id": "71c7c172",
    "outputId": "19b537b3-cf50-4242-df01-94c4a8d9c6b6"
   },
   "outputs": [
    {
     "data": {
      "text/html": [
       "<div>\n",
       "<style scoped>\n",
       "    .dataframe tbody tr th:only-of-type {\n",
       "        vertical-align: middle;\n",
       "    }\n",
       "\n",
       "    .dataframe tbody tr th {\n",
       "        vertical-align: top;\n",
       "    }\n",
       "\n",
       "    .dataframe thead tr th {\n",
       "        text-align: left;\n",
       "    }\n",
       "</style>\n",
       "<table border=\"1\" class=\"dataframe\">\n",
       "  <thead>\n",
       "    <tr>\n",
       "      <th></th>\n",
       "      <th>clusterid_DBSCAN</th>\n",
       "      <th>Balance</th>\n",
       "      <th>Qual_miles</th>\n",
       "      <th>cc1_miles</th>\n",
       "      <th>cc2_miles</th>\n",
       "      <th>cc3_miles</th>\n",
       "      <th>Bonus_miles</th>\n",
       "      <th>Bonus_trans</th>\n",
       "      <th>Flight_miles_12mo</th>\n",
       "      <th>Flight_trans_12</th>\n",
       "      <th>Days_since_enroll</th>\n",
       "      <th>Award</th>\n",
       "      <th>clustersid_s1</th>\n",
       "      <th>clustersid_s2</th>\n",
       "      <th>clusterid_Kmeans</th>\n",
       "    </tr>\n",
       "    <tr>\n",
       "      <th></th>\n",
       "      <th></th>\n",
       "      <th>mean</th>\n",
       "      <th>mean</th>\n",
       "      <th>mean</th>\n",
       "      <th>mean</th>\n",
       "      <th>mean</th>\n",
       "      <th>mean</th>\n",
       "      <th>mean</th>\n",
       "      <th>mean</th>\n",
       "      <th>mean</th>\n",
       "      <th>mean</th>\n",
       "      <th>mean</th>\n",
       "      <th>mean</th>\n",
       "      <th>mean</th>\n",
       "      <th>mean</th>\n",
       "    </tr>\n",
       "  </thead>\n",
       "  <tbody>\n",
       "    <tr>\n",
       "      <th>0</th>\n",
       "      <td>-1</td>\n",
       "      <td>183411.700000</td>\n",
       "      <td>429.833333</td>\n",
       "      <td>2.833333</td>\n",
       "      <td>1.333333</td>\n",
       "      <td>2.633333</td>\n",
       "      <td>72041.633333</td>\n",
       "      <td>30.533333</td>\n",
       "      <td>3054.166667</td>\n",
       "      <td>8.600000</td>\n",
       "      <td>4367.433333</td>\n",
       "      <td>0.666667</td>\n",
       "      <td>1.833333</td>\n",
       "      <td>3.200000</td>\n",
       "      <td>1.7</td>\n",
       "    </tr>\n",
       "    <tr>\n",
       "      <th>1</th>\n",
       "      <td>0</td>\n",
       "      <td>46899.698971</td>\n",
       "      <td>79.234991</td>\n",
       "      <td>1.147513</td>\n",
       "      <td>1.000000</td>\n",
       "      <td>1.000000</td>\n",
       "      <td>3461.704974</td>\n",
       "      <td>6.469983</td>\n",
       "      <td>159.826758</td>\n",
       "      <td>0.484563</td>\n",
       "      <td>4864.476844</td>\n",
       "      <td>0.000000</td>\n",
       "      <td>1.155232</td>\n",
       "      <td>0.982847</td>\n",
       "      <td>1.0</td>\n",
       "    </tr>\n",
       "    <tr>\n",
       "      <th>2</th>\n",
       "      <td>1</td>\n",
       "      <td>128144.883365</td>\n",
       "      <td>159.577438</td>\n",
       "      <td>4.384321</td>\n",
       "      <td>1.000000</td>\n",
       "      <td>1.000000</td>\n",
       "      <td>57731.363289</td>\n",
       "      <td>21.841300</td>\n",
       "      <td>878.879541</td>\n",
       "      <td>2.755258</td>\n",
       "      <td>5092.133843</td>\n",
       "      <td>1.000000</td>\n",
       "      <td>3.000000</td>\n",
       "      <td>0.187380</td>\n",
       "      <td>2.0</td>\n",
       "    </tr>\n",
       "    <tr>\n",
       "      <th>3</th>\n",
       "      <td>2</td>\n",
       "      <td>116706.328479</td>\n",
       "      <td>96.529126</td>\n",
       "      <td>3.563107</td>\n",
       "      <td>1.000000</td>\n",
       "      <td>1.000000</td>\n",
       "      <td>30816.666667</td>\n",
       "      <td>17.226537</td>\n",
       "      <td>224.990291</td>\n",
       "      <td>0.634304</td>\n",
       "      <td>4406.014563</td>\n",
       "      <td>0.000000</td>\n",
       "      <td>2.000000</td>\n",
       "      <td>0.333333</td>\n",
       "      <td>4.0</td>\n",
       "    </tr>\n",
       "    <tr>\n",
       "      <th>4</th>\n",
       "      <td>3</td>\n",
       "      <td>77576.992441</td>\n",
       "      <td>280.104752</td>\n",
       "      <td>1.707343</td>\n",
       "      <td>1.000000</td>\n",
       "      <td>1.000000</td>\n",
       "      <td>11772.331533</td>\n",
       "      <td>11.903888</td>\n",
       "      <td>768.916847</td>\n",
       "      <td>2.303456</td>\n",
       "      <td>4364.233261</td>\n",
       "      <td>1.000000</td>\n",
       "      <td>0.000000</td>\n",
       "      <td>0.586393</td>\n",
       "      <td>0.0</td>\n",
       "    </tr>\n",
       "    <tr>\n",
       "      <th>5</th>\n",
       "      <td>4</td>\n",
       "      <td>43494.400000</td>\n",
       "      <td>0.000000</td>\n",
       "      <td>1.000000</td>\n",
       "      <td>2.360000</td>\n",
       "      <td>1.000000</td>\n",
       "      <td>11483.320000</td>\n",
       "      <td>13.800000</td>\n",
       "      <td>150.000000</td>\n",
       "      <td>0.600000</td>\n",
       "      <td>3544.400000</td>\n",
       "      <td>0.000000</td>\n",
       "      <td>1.000000</td>\n",
       "      <td>3.000000</td>\n",
       "      <td>1.0</td>\n",
       "    </tr>\n",
       "    <tr>\n",
       "      <th>6</th>\n",
       "      <td>5</td>\n",
       "      <td>30013.416309</td>\n",
       "      <td>98.054363</td>\n",
       "      <td>1.000000</td>\n",
       "      <td>1.000000</td>\n",
       "      <td>1.000000</td>\n",
       "      <td>2552.569385</td>\n",
       "      <td>6.101574</td>\n",
       "      <td>340.274678</td>\n",
       "      <td>0.948498</td>\n",
       "      <td>1568.864092</td>\n",
       "      <td>0.000000</td>\n",
       "      <td>4.000000</td>\n",
       "      <td>1.011445</td>\n",
       "      <td>3.0</td>\n",
       "    </tr>\n",
       "    <tr>\n",
       "      <th>7</th>\n",
       "      <td>6</td>\n",
       "      <td>91415.916667</td>\n",
       "      <td>0.000000</td>\n",
       "      <td>1.083333</td>\n",
       "      <td>2.166667</td>\n",
       "      <td>1.000000</td>\n",
       "      <td>12827.666667</td>\n",
       "      <td>19.500000</td>\n",
       "      <td>788.583333</td>\n",
       "      <td>2.166667</td>\n",
       "      <td>4540.583333</td>\n",
       "      <td>1.000000</td>\n",
       "      <td>0.000000</td>\n",
       "      <td>3.000000</td>\n",
       "      <td>0.0</td>\n",
       "    </tr>\n",
       "  </tbody>\n",
       "</table>\n",
       "</div>"
      ],
      "text/plain": [
       "  clusterid_DBSCAN        Balance  Qual_miles cc1_miles cc2_miles cc3_miles  \\\n",
       "                             mean        mean      mean      mean      mean   \n",
       "0               -1  183411.700000  429.833333  2.833333  1.333333  2.633333   \n",
       "1                0   46899.698971   79.234991  1.147513  1.000000  1.000000   \n",
       "2                1  128144.883365  159.577438  4.384321  1.000000  1.000000   \n",
       "3                2  116706.328479   96.529126  3.563107  1.000000  1.000000   \n",
       "4                3   77576.992441  280.104752  1.707343  1.000000  1.000000   \n",
       "5                4   43494.400000    0.000000  1.000000  2.360000  1.000000   \n",
       "6                5   30013.416309   98.054363  1.000000  1.000000  1.000000   \n",
       "7                6   91415.916667    0.000000  1.083333  2.166667  1.000000   \n",
       "\n",
       "    Bonus_miles Bonus_trans Flight_miles_12mo Flight_trans_12  \\\n",
       "           mean        mean              mean            mean   \n",
       "0  72041.633333   30.533333       3054.166667        8.600000   \n",
       "1   3461.704974    6.469983        159.826758        0.484563   \n",
       "2  57731.363289   21.841300        878.879541        2.755258   \n",
       "3  30816.666667   17.226537        224.990291        0.634304   \n",
       "4  11772.331533   11.903888        768.916847        2.303456   \n",
       "5  11483.320000   13.800000        150.000000        0.600000   \n",
       "6   2552.569385    6.101574        340.274678        0.948498   \n",
       "7  12827.666667   19.500000        788.583333        2.166667   \n",
       "\n",
       "  Days_since_enroll     Award clustersid_s1 clustersid_s2 clusterid_Kmeans  \n",
       "               mean      mean          mean          mean             mean  \n",
       "0       4367.433333  0.666667      1.833333      3.200000              1.7  \n",
       "1       4864.476844  0.000000      1.155232      0.982847              1.0  \n",
       "2       5092.133843  1.000000      3.000000      0.187380              2.0  \n",
       "3       4406.014563  0.000000      2.000000      0.333333              4.0  \n",
       "4       4364.233261  1.000000      0.000000      0.586393              0.0  \n",
       "5       3544.400000  0.000000      1.000000      3.000000              1.0  \n",
       "6       1568.864092  0.000000      4.000000      1.011445              3.0  \n",
       "7       4540.583333  1.000000      0.000000      3.000000              0.0  "
      ]
     },
     "execution_count": 108,
     "metadata": {},
     "output_type": "execute_result"
    }
   ],
   "source": [
    "air2.groupby('clusterid_DBSCAN').agg(['mean']).reset_index()"
   ]
  },
  {
   "cell_type": "code",
   "execution_count": null,
   "id": "f75ed81b",
   "metadata": {},
   "outputs": [],
   "source": []
  }
 ],
 "metadata": {
  "colab": {
   "provenance": []
  },
  "kernelspec": {
   "display_name": "Python 3 (ipykernel)",
   "language": "python",
   "name": "python3"
  },
  "language_info": {
   "codemirror_mode": {
    "name": "ipython",
    "version": 3
   },
   "file_extension": ".py",
   "mimetype": "text/x-python",
   "name": "python",
   "nbconvert_exporter": "python",
   "pygments_lexer": "ipython3",
   "version": "3.9.12"
  }
 },
 "nbformat": 4,
 "nbformat_minor": 5
}
