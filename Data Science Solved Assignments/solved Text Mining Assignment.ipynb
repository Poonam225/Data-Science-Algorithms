{
 "cells": [
  {
   "cell_type": "code",
   "execution_count": 1,
   "id": "706b7564",
   "metadata": {
    "ExecuteTime": {
     "end_time": "2023-07-08T17:31:05.095020Z",
     "start_time": "2023-07-08T17:30:52.293904Z"
    },
    "id": "706b7564"
   },
   "outputs": [
    {
     "name": "stdout",
     "output_type": "stream",
     "text": [
      "Requirement already satisfied: spacy in c:\\programdata\\anaconda3\\lib\\site-packages (3.6.0)\n",
      "Requirement already satisfied: spacy-loggers<2.0.0,>=1.0.0 in c:\\programdata\\anaconda3\\lib\\site-packages (from spacy) (1.0.4)\n",
      "Requirement already satisfied: wasabi<1.2.0,>=0.9.1 in c:\\programdata\\anaconda3\\lib\\site-packages (from spacy) (1.1.2)\n",
      "Requirement already satisfied: cymem<2.1.0,>=2.0.2 in c:\\programdata\\anaconda3\\lib\\site-packages (from spacy) (2.0.7)\n",
      "Requirement already satisfied: langcodes<4.0.0,>=3.2.0 in c:\\programdata\\anaconda3\\lib\\site-packages (from spacy) (3.3.0)\n",
      "Requirement already satisfied: spacy-legacy<3.1.0,>=3.0.11 in c:\\programdata\\anaconda3\\lib\\site-packages (from spacy) (3.0.12)\n",
      "Requirement already satisfied: srsly<3.0.0,>=2.4.3 in c:\\programdata\\anaconda3\\lib\\site-packages (from spacy) (2.4.6)\n",
      "Requirement already satisfied: packaging>=20.0 in c:\\programdata\\anaconda3\\lib\\site-packages (from spacy) (21.3)\n",
      "Requirement already satisfied: numpy>=1.15.0 in c:\\programdata\\anaconda3\\lib\\site-packages (from spacy) (1.21.5)\n",
      "Requirement already satisfied: smart-open<7.0.0,>=5.2.1 in c:\\programdata\\anaconda3\\lib\\site-packages (from spacy) (6.3.0)\n",
      "Requirement already satisfied: preshed<3.1.0,>=3.0.2 in c:\\programdata\\anaconda3\\lib\\site-packages (from spacy) (3.0.8)\n",
      "Requirement already satisfied: setuptools in c:\\programdata\\anaconda3\\lib\\site-packages (from spacy) (61.2.0)\n",
      "Requirement already satisfied: typer<0.10.0,>=0.3.0 in c:\\programdata\\anaconda3\\lib\\site-packages (from spacy) (0.9.0)\n",
      "Requirement already satisfied: tqdm<5.0.0,>=4.38.0 in c:\\programdata\\anaconda3\\lib\\site-packages (from spacy) (4.64.0)\n",
      "Requirement already satisfied: pydantic!=1.8,!=1.8.1,<1.11.0,>=1.7.4 in c:\\programdata\\anaconda3\\lib\\site-packages (from spacy) (1.10.11)\n",
      "Requirement already satisfied: jinja2 in c:\\programdata\\anaconda3\\lib\\site-packages (from spacy) (2.11.3)\n",
      "Requirement already satisfied: pathy>=0.10.0 in c:\\programdata\\anaconda3\\lib\\site-packages (from spacy) (0.10.2)\n",
      "Requirement already satisfied: murmurhash<1.1.0,>=0.28.0 in c:\\programdata\\anaconda3\\lib\\site-packages (from spacy) (1.0.9)\n",
      "Requirement already satisfied: thinc<8.2.0,>=8.1.8 in c:\\programdata\\anaconda3\\lib\\site-packages (from spacy) (8.1.10)\n",
      "Requirement already satisfied: catalogue<2.1.0,>=2.0.6 in c:\\programdata\\anaconda3\\lib\\site-packages (from spacy) (2.0.8)\n",
      "Requirement already satisfied: requests<3.0.0,>=2.13.0 in c:\\programdata\\anaconda3\\lib\\site-packages (from spacy) (2.27.1)\n",
      "Requirement already satisfied: pyparsing!=3.0.5,>=2.0.2 in c:\\programdata\\anaconda3\\lib\\site-packages (from packaging>=20.0->spacy) (3.0.4)\n",
      "Requirement already satisfied: typing-extensions>=4.2.0 in c:\\programdata\\anaconda3\\lib\\site-packages (from pydantic!=1.8,!=1.8.1,<1.11.0,>=1.7.4->spacy) (4.7.1)\n",
      "Requirement already satisfied: idna<4,>=2.5 in c:\\programdata\\anaconda3\\lib\\site-packages (from requests<3.0.0,>=2.13.0->spacy) (3.3)\n",
      "Requirement already satisfied: certifi>=2017.4.17 in c:\\programdata\\anaconda3\\lib\\site-packages (from requests<3.0.0,>=2.13.0->spacy) (2023.5.7)\n",
      "Requirement already satisfied: urllib3<1.27,>=1.21.1 in c:\\programdata\\anaconda3\\lib\\site-packages (from requests<3.0.0,>=2.13.0->spacy) (1.26.9)\n",
      "Requirement already satisfied: charset-normalizer~=2.0.0 in c:\\programdata\\anaconda3\\lib\\site-packages (from requests<3.0.0,>=2.13.0->spacy) (2.0.4)\n",
      "Requirement already satisfied: confection<1.0.0,>=0.0.1 in c:\\programdata\\anaconda3\\lib\\site-packages (from thinc<8.2.0,>=8.1.8->spacy) (0.1.0)\n",
      "Requirement already satisfied: blis<0.8.0,>=0.7.8 in c:\\programdata\\anaconda3\\lib\\site-packages (from thinc<8.2.0,>=8.1.8->spacy) (0.7.9)\n",
      "Requirement already satisfied: colorama in c:\\programdata\\anaconda3\\lib\\site-packages (from tqdm<5.0.0,>=4.38.0->spacy) (0.4.6)\n",
      "Requirement already satisfied: click<9.0.0,>=7.1.1 in c:\\programdata\\anaconda3\\lib\\site-packages (from typer<0.10.0,>=0.3.0->spacy) (8.0.4)\n",
      "Requirement already satisfied: MarkupSafe>=0.23 in c:\\programdata\\anaconda3\\lib\\site-packages (from jinja2->spacy) (2.0.1)\n"
     ]
    },
    {
     "name": "stderr",
     "output_type": "stream",
     "text": [
      "WARNING: Ignoring invalid distribution -heel (c:\\programdata\\anaconda3\\lib\\site-packages)\n",
      "WARNING: Ignoring invalid distribution -heel (c:\\programdata\\anaconda3\\lib\\site-packages)\n",
      "WARNING: Ignoring invalid distribution -heel (c:\\programdata\\anaconda3\\lib\\site-packages)\n",
      "WARNING: Ignoring invalid distribution -heel (c:\\programdata\\anaconda3\\lib\\site-packages)\n",
      "WARNING: Ignoring invalid distribution -heel (c:\\programdata\\anaconda3\\lib\\site-packages)\n",
      "WARNING: Ignoring invalid distribution -heel (c:\\programdata\\anaconda3\\lib\\site-packages)\n"
     ]
    },
    {
     "ename": "ModuleNotFoundError",
     "evalue": "No module named 'wordcloud'",
     "output_type": "error",
     "traceback": [
      "\u001b[1;31m---------------------------------------------------------------------------\u001b[0m",
      "\u001b[1;31mModuleNotFoundError\u001b[0m                       Traceback (most recent call last)",
      "Input \u001b[1;32mIn [1]\u001b[0m, in \u001b[0;36m<cell line: 8>\u001b[1;34m()\u001b[0m\n\u001b[0;32m      6\u001b[0m \u001b[38;5;28;01mimport\u001b[39;00m \u001b[38;5;21;01mspacy\u001b[39;00m \u001b[38;5;66;03m# language models\u001b[39;00m\n\u001b[0;32m      7\u001b[0m \u001b[38;5;28;01mfrom\u001b[39;00m \u001b[38;5;21;01mmatplotlib\u001b[39;00m \u001b[38;5;28;01mimport\u001b[39;00m pyplot \u001b[38;5;28;01mas\u001b[39;00m plt\n\u001b[1;32m----> 8\u001b[0m \u001b[38;5;28;01mfrom\u001b[39;00m \u001b[38;5;21;01mwordcloud\u001b[39;00m \u001b[38;5;28;01mimport\u001b[39;00m WordCloud, STOPWORDS\n",
      "\u001b[1;31mModuleNotFoundError\u001b[0m: No module named 'wordcloud'"
     ]
    }
   ],
   "source": [
    "!pip install spacy\n",
    "import numpy as np # linear algebra\n",
    "import pandas as pd # data processing, CSV file I/O (e.g. pd.read_csv)\n",
    "import seaborn as sns\n",
    "import string # special operations on strings\n",
    "import spacy # language models\n",
    "from matplotlib import pyplot as plt\n",
    "from wordcloud import WordCloud, STOPWORDS"
   ]
  },
  {
   "cell_type": "code",
   "execution_count": null,
   "id": "df3784b8",
   "metadata": {
    "ExecuteTime": {
     "end_time": "2023-07-08T17:31:05.103044Z",
     "start_time": "2023-07-08T17:31:05.103044Z"
    },
    "id": "df3784b8",
    "outputId": "b93d2a2a-7b36-4e2c-dd76-e72e9405eb38"
   },
   "outputs": [],
   "source": [
    "elon = pd.read_csv(\"P:/DS material/DS Assignments/Solved and unsolved assignments/All DS Assignments/All Datasets for assignments/Elon_musk.csv\", encoding = 'latin1')\n",
    "elon"
   ]
  },
  {
   "cell_type": "code",
   "execution_count": null,
   "id": "3cb77760",
   "metadata": {
    "ExecuteTime": {
     "end_time": "2023-07-08T17:31:05.103044Z",
     "start_time": "2023-07-08T17:31:05.103044Z"
    },
    "id": "3cb77760",
    "outputId": "5d4f1c4c-be85-4362-b861-39aea342caba"
   },
   "outputs": [],
   "source": [
    "elon.shape"
   ]
  },
  {
   "cell_type": "code",
   "execution_count": null,
   "id": "b93bb54c",
   "metadata": {
    "ExecuteTime": {
     "end_time": "2023-07-08T17:31:05.111046Z",
     "start_time": "2023-07-08T17:31:05.111046Z"
    },
    "id": "b93bb54c",
    "outputId": "a737cf5e-6950-4efe-9623-9023d1f77be5"
   },
   "outputs": [],
   "source": [
    "elon.info()"
   ]
  },
  {
   "cell_type": "code",
   "execution_count": null,
   "id": "3dfcfff9",
   "metadata": {
    "ExecuteTime": {
     "end_time": "2023-07-08T17:31:05.111046Z",
     "start_time": "2023-07-08T17:31:05.111046Z"
    },
    "id": "3dfcfff9",
    "outputId": "eab7cbaf-41f5-44af-c9b7-7bf0775ba860"
   },
   "outputs": [],
   "source": [
    "# remove both the leading and the trailing characters\n",
    "elon = [y.strip() for y in elon['Text']]\n",
    "elon"
   ]
  },
  {
   "cell_type": "code",
   "execution_count": null,
   "id": "ff1bca20",
   "metadata": {
    "ExecuteTime": {
     "end_time": "2023-07-08T17:31:05.111046Z",
     "start_time": "2023-07-08T17:31:05.111046Z"
    },
    "id": "ff1bca20",
    "outputId": "5adab3da-555a-438b-f66a-8d75c3f3041d"
   },
   "outputs": [],
   "source": [
    "len(elon)"
   ]
  },
  {
   "cell_type": "code",
   "execution_count": null,
   "id": "0b6ed842",
   "metadata": {
    "ExecuteTime": {
     "end_time": "2023-07-08T17:31:05.111046Z",
     "start_time": "2023-07-08T17:31:05.111046Z"
    },
    "id": "0b6ed842",
    "outputId": "eb5afbe5-b371-491d-9a55-40a5a299a0ff"
   },
   "outputs": [],
   "source": [
    "# removes empty strings, because they are considered in Python as False\n",
    "elon = [Text for Text in elon if Text] \n",
    "elon"
   ]
  },
  {
   "cell_type": "code",
   "execution_count": null,
   "id": "eb11463c",
   "metadata": {
    "ExecuteTime": {
     "end_time": "2023-07-08T17:31:05.119046Z",
     "start_time": "2023-07-08T17:31:05.119046Z"
    },
    "id": "eb11463c",
    "outputId": "05aa53d6-8b07-43a1-8e11-0fee642b43fa"
   },
   "outputs": [],
   "source": [
    "len(elon)"
   ]
  },
  {
   "cell_type": "code",
   "execution_count": null,
   "id": "490ffede",
   "metadata": {
    "ExecuteTime": {
     "end_time": "2023-07-08T17:31:05.119046Z",
     "start_time": "2023-07-08T17:31:05.119046Z"
    },
    "id": "490ffede",
    "outputId": "0639ee91-ba26-4407-bc30-e2f8e976ff1f"
   },
   "outputs": [],
   "source": [
    "# Joining the list into one string/text\n",
    "text = ' '.join(elon)\n",
    "text"
   ]
  },
  {
   "cell_type": "code",
   "execution_count": null,
   "id": "9198cd8b",
   "metadata": {
    "ExecuteTime": {
     "end_time": "2023-07-08T17:31:05.119046Z",
     "start_time": "2023-07-08T17:31:05.119046Z"
    },
    "id": "9198cd8b",
    "outputId": "a8ef58de-dfc0-4214-dcee-eee0d26c9a85"
   },
   "outputs": [],
   "source": [
    "# Punctuation\n",
    "\n",
    "no_punc_text = text.translate(str.maketrans('', '', string.punctuation)) \n",
    "no_punc_text"
   ]
  },
  {
   "cell_type": "code",
   "execution_count": null,
   "id": "3a090762",
   "metadata": {
    "ExecuteTime": {
     "end_time": "2023-07-08T17:31:05.127070Z",
     "start_time": "2023-07-08T17:31:05.127070Z"
    },
    "id": "3a090762",
    "outputId": "dcde5c09-08b1-4185-ef22-55f9414102e0"
   },
   "outputs": [],
   "source": [
    "string.punctuation"
   ]
  },
  {
   "cell_type": "code",
   "execution_count": null,
   "id": "ab50adec",
   "metadata": {
    "ExecuteTime": {
     "end_time": "2023-07-08T17:31:05.130094Z",
     "start_time": "2023-07-08T17:31:05.130094Z"
    },
    "id": "ab50adec",
    "outputId": "f8d6feec-7ac3-4f78-fcaf-5dc0492e26fc"
   },
   "outputs": [],
   "source": [
    "import nltk\n",
    "nltk.download('punkt')"
   ]
  },
  {
   "cell_type": "code",
   "execution_count": null,
   "id": "b93647f2",
   "metadata": {
    "ExecuteTime": {
     "end_time": "2023-07-08T17:31:05.130094Z",
     "start_time": "2023-07-08T17:31:05.130094Z"
    },
    "id": "b93647f2",
    "outputId": "942b4a6f-8dd7-4cfb-a765-0e495f27c202"
   },
   "outputs": [],
   "source": [
    "#Tokenization\n",
    "from nltk.tokenize import word_tokenize\n",
    "\n",
    "text_tokens = word_tokenize(no_punc_text)\n",
    "text_tokens"
   ]
  },
  {
   "cell_type": "code",
   "execution_count": null,
   "id": "fb493430",
   "metadata": {
    "ExecuteTime": {
     "end_time": "2023-07-08T17:31:05.130094Z",
     "start_time": "2023-07-08T17:31:05.130094Z"
    },
    "id": "fb493430",
    "outputId": "d8582da4-06c2-42cf-8a1f-e2565b469f49"
   },
   "outputs": [],
   "source": [
    "len(text_tokens)"
   ]
  },
  {
   "cell_type": "code",
   "execution_count": null,
   "id": "9912a7ee",
   "metadata": {
    "ExecuteTime": {
     "end_time": "2023-07-08T17:31:05.135118Z",
     "start_time": "2023-07-08T17:31:05.135118Z"
    },
    "id": "9912a7ee",
    "outputId": "2ae5cb0c-a411-4266-bea2-b3f6c1d6fd77"
   },
   "outputs": [],
   "source": [
    "text_tokens[0:50]"
   ]
  },
  {
   "cell_type": "code",
   "execution_count": null,
   "id": "c22a0c09",
   "metadata": {
    "ExecuteTime": {
     "end_time": "2023-07-08T17:31:05.135118Z",
     "start_time": "2023-07-08T17:31:05.135118Z"
    },
    "id": "c22a0c09",
    "outputId": "d98165e3-edd0-4d09-b5ff-ab6d28aa4122"
   },
   "outputs": [],
   "source": [
    "nltk.download('stopwords')"
   ]
  },
  {
   "cell_type": "code",
   "execution_count": null,
   "id": "ed9d7f5f",
   "metadata": {
    "ExecuteTime": {
     "end_time": "2023-07-08T17:31:05.135118Z",
     "start_time": "2023-07-08T17:31:05.135118Z"
    },
    "id": "ed9d7f5f",
    "outputId": "6f9b1004-50ee-4aee-f9a1-c646e6f2235d"
   },
   "outputs": [],
   "source": [
    "#Remove stopwords\n",
    "from nltk.corpus import stopwords\n",
    "my_stop_words = stopwords.words('english')\n",
    "sw_list = ['\\x92','rt','ye','yeah','haha','Yes','U0001F923','I']\n",
    "my_stop_words.extend(sw_list)\n",
    "my_stop_words"
   ]
  },
  {
   "cell_type": "code",
   "execution_count": null,
   "id": "5bc7a67b",
   "metadata": {
    "ExecuteTime": {
     "end_time": "2023-07-08T17:31:05.143142Z",
     "start_time": "2023-07-08T17:31:05.143142Z"
    },
    "id": "5bc7a67b",
    "outputId": "7e5182b3-06b1-4910-c8ba-836a72dde18c"
   },
   "outputs": [],
   "source": [
    "# Simplified look of the no_stop_tokens for loop\n",
    "\"\"\" final_words = []\n",
    "  for word in text_tokens:\n",
    "   if word in my_stop_words:\n",
    "     'do nothing'\n",
    "   else:\n",
    "     final_words.append(word)\"\"\"\n",
    "\n",
    "no_stop_tokens = [word for word in text_tokens if not word in my_stop_words]\n",
    "print(no_stop_tokens[0:40])"
   ]
  },
  {
   "cell_type": "code",
   "execution_count": null,
   "id": "1eb94ceb",
   "metadata": {
    "ExecuteTime": {
     "end_time": "2023-07-08T17:31:05.143142Z",
     "start_time": "2023-07-08T17:31:05.143142Z"
    },
    "id": "1eb94ceb",
    "outputId": "ac3a8342-9ee6-41d9-f6bb-233ceac85686"
   },
   "outputs": [],
   "source": [
    "#Noramalize the data\n",
    "lower_words = [x.lower() for x in no_stop_tokens]\n",
    "print(lower_words[0:25])"
   ]
  },
  {
   "cell_type": "code",
   "execution_count": null,
   "id": "a3d23a45",
   "metadata": {
    "ExecuteTime": {
     "end_time": "2023-07-08T17:31:05.143142Z",
     "start_time": "2023-07-08T17:31:05.143142Z"
    },
    "id": "a3d23a45",
    "outputId": "3aacecf3-04df-4e5b-c324-7f9f9ed649bf"
   },
   "outputs": [],
   "source": [
    "#Stemming\n",
    "from nltk.stem import PorterStemmer\n",
    "ps = PorterStemmer()\n",
    "stemmed_tokens = [ps.stem(word) for word in lower_words]\n",
    "print(stemmed_tokens[0:40])"
   ]
  },
  {
   "cell_type": "code",
   "execution_count": null,
   "id": "25dd340d",
   "metadata": {
    "ExecuteTime": {
     "end_time": "2023-07-08T17:31:05.143142Z",
     "start_time": "2023-07-08T17:31:05.143142Z"
    },
    "id": "25dd340d"
   },
   "outputs": [],
   "source": [
    "!python -m spacy download en_core_web_sm\n"
   ]
  },
  {
   "cell_type": "code",
   "execution_count": null,
   "id": "ecf3f6ca",
   "metadata": {
    "ExecuteTime": {
     "end_time": "2023-07-08T17:31:05.151143Z",
     "start_time": "2023-07-08T17:31:05.151143Z"
    },
    "id": "ecf3f6ca",
    "outputId": "ffa16a30-a9a7-4cde-a8da-7dbf4d204be0"
   },
   "outputs": [],
   "source": [
    "# NLP english language model of spacy library\n",
    "!pip uninstall spacy\n",
    "!pip install -U pip setuptools wheel\n",
    "!pip install -U spacy\n",
    "import spacy\n",
    "nlp = spacy.load(\"en_core_web_sm\")\n"
   ]
  },
  {
   "cell_type": "code",
   "execution_count": null,
   "id": "61a3dedb",
   "metadata": {
    "ExecuteTime": {
     "end_time": "2023-07-08T17:31:05.151143Z",
     "start_time": "2023-07-08T17:31:05.151143Z"
    },
    "id": "61a3dedb",
    "outputId": "2fcdcebd-9333-460c-fa35-7b5027118918"
   },
   "outputs": [],
   "source": [
    "# lemmas being one of them, but mostly POS, which will follow later\n",
    "doc = nlp(' '.join(no_stop_tokens))\n",
    "print(doc[0:40])"
   ]
  },
  {
   "cell_type": "code",
   "execution_count": null,
   "id": "6983edb2",
   "metadata": {
    "ExecuteTime": {
     "end_time": "2023-07-08T17:31:05.151143Z",
     "start_time": "2023-07-08T17:31:05.151143Z"
    },
    "id": "6983edb2",
    "outputId": "de38cc61-b191-4f06-a102-37797f92ef16"
   },
   "outputs": [],
   "source": [
    "lemmas = [token.lemma_ for token in doc]\n",
    "print(lemmas[0:40])"
   ]
  },
  {
   "cell_type": "markdown",
   "id": "14666a31",
   "metadata": {
    "id": "14666a31"
   },
   "source": [
    "### Feature Extraction"
   ]
  },
  {
   "cell_type": "code",
   "execution_count": null,
   "id": "7b639aa6",
   "metadata": {
    "ExecuteTime": {
     "end_time": "2023-07-08T17:31:05.151143Z",
     "start_time": "2023-07-08T17:31:05.151143Z"
    },
    "id": "7b639aa6"
   },
   "outputs": [],
   "source": [
    "from sklearn.feature_extraction.text import CountVectorizer\n",
    "vectorizer = CountVectorizer()\n",
    "X = vectorizer.fit_transform(lemmas)"
   ]
  },
  {
   "cell_type": "code",
   "execution_count": null,
   "id": "21d2d90a",
   "metadata": {
    "ExecuteTime": {
     "end_time": "2023-07-08T17:31:05.159144Z",
     "start_time": "2023-07-08T17:31:05.159144Z"
    },
    "id": "21d2d90a",
    "outputId": "f2161369-6c71-4f4e-8c28-5392fae2a3b2"
   },
   "outputs": [],
   "source": [
    "X"
   ]
  },
  {
   "cell_type": "code",
   "execution_count": null,
   "id": "5742c014",
   "metadata": {
    "ExecuteTime": {
     "end_time": "2023-07-08T17:31:05.159144Z",
     "start_time": "2023-07-08T17:31:05.159144Z"
    },
    "id": "5742c014",
    "outputId": "05c0e98a-a443-4571-8cc7-80648c2d3bcf"
   },
   "outputs": [],
   "source": [
    "vectorizer.vocabulary_"
   ]
  },
  {
   "cell_type": "code",
   "execution_count": null,
   "id": "b490fafc",
   "metadata": {
    "ExecuteTime": {
     "end_time": "2023-07-08T17:31:05.159144Z",
     "start_time": "2023-07-08T17:31:05.159144Z"
    },
    "id": "b490fafc",
    "outputId": "a2db3934-e7c2-4cc2-99ff-27a65f3e7a52"
   },
   "outputs": [],
   "source": [
    "vectorizer.vocabulary_.keys()"
   ]
  },
  {
   "cell_type": "code",
   "execution_count": null,
   "id": "c1e28d58",
   "metadata": {
    "ExecuteTime": {
     "end_time": "2023-07-08T17:31:05.159144Z",
     "start_time": "2023-07-08T17:31:05.159144Z"
    },
    "id": "c1e28d58",
    "outputId": "3f2db308-c561-4d8a-c8d3-467072ff605f"
   },
   "outputs": [],
   "source": [
    "vectorizer.vocabulary_.values()"
   ]
  },
  {
   "cell_type": "code",
   "execution_count": null,
   "id": "a73f89b6",
   "metadata": {
    "ExecuteTime": {
     "end_time": "2023-07-08T17:31:05.167145Z",
     "start_time": "2023-07-08T17:31:05.167145Z"
    },
    "id": "a73f89b6",
    "outputId": "c6ea95b2-2e1f-4d0b-b820-b546d38ab976"
   },
   "outputs": [],
   "source": [
    "vectorizer.vocabulary_.items()"
   ]
  },
  {
   "cell_type": "code",
   "execution_count": null,
   "id": "7f0c9711",
   "metadata": {
    "ExecuteTime": {
     "end_time": "2023-07-08T17:31:05.167145Z",
     "start_time": "2023-07-08T17:31:05.167145Z"
    },
    "id": "7f0c9711",
    "outputId": "c8432050-a35e-4c61-bbac-3d8d56a05549"
   },
   "outputs": [],
   "source": [
    "pd.DataFrame.from_records([vectorizer.vocabulary_])"
   ]
  },
  {
   "cell_type": "code",
   "execution_count": null,
   "id": "f5e55fd9",
   "metadata": {
    "ExecuteTime": {
     "end_time": "2023-07-08T17:31:05.167145Z",
     "start_time": "2023-07-08T17:31:05.167145Z"
    },
    "id": "f5e55fd9",
    "outputId": "df2e0e46-bc2b-42cc-c3e8-8847630049e3"
   },
   "outputs": [],
   "source": [
    "pd.DataFrame.from_records([vectorizer.vocabulary_]).T"
   ]
  },
  {
   "cell_type": "code",
   "execution_count": null,
   "id": "a2146607",
   "metadata": {
    "ExecuteTime": {
     "end_time": "2023-07-08T17:31:05.175146Z",
     "start_time": "2023-07-08T17:31:05.175146Z"
    },
    "id": "a2146607",
    "outputId": "735e465b-c272-4991-dc0a-d77fc859a691"
   },
   "outputs": [],
   "source": [
    "pd.DataFrame.from_records([vectorizer.vocabulary_]).T.sort_values(0, ascending = True)"
   ]
  },
  {
   "cell_type": "code",
   "execution_count": null,
   "id": "1978716d",
   "metadata": {
    "ExecuteTime": {
     "end_time": "2023-07-08T17:31:05.175146Z",
     "start_time": "2023-07-08T17:31:05.175146Z"
    },
    "id": "1978716d",
    "outputId": "78aab31e-f262-4568-bc8e-850da98fe103"
   },
   "outputs": [],
   "source": [
    "print(vectorizer.get_feature_names()[50:100])"
   ]
  },
  {
   "cell_type": "code",
   "execution_count": null,
   "id": "e68a1b9d",
   "metadata": {
    "ExecuteTime": {
     "end_time": "2023-07-08T17:31:05.175146Z",
     "start_time": "2023-07-08T17:31:05.175146Z"
    },
    "id": "e68a1b9d",
    "outputId": "53fef255-a36e-46bb-b075-258c175b1dfa"
   },
   "outputs": [],
   "source": [
    "arr = X.toarray()\n",
    "arr"
   ]
  },
  {
   "cell_type": "code",
   "execution_count": null,
   "id": "34bb9cfc",
   "metadata": {
    "ExecuteTime": {
     "end_time": "2023-07-08T17:31:05.175146Z",
     "start_time": "2023-07-08T17:31:05.175146Z"
    },
    "id": "34bb9cfc",
    "outputId": "0ed17d5a-fe75-4285-afab-d5cbc9206073"
   },
   "outputs": [],
   "source": [
    "arr.shape"
   ]
  },
  {
   "cell_type": "code",
   "execution_count": null,
   "id": "805b4f39",
   "metadata": {
    "ExecuteTime": {
     "end_time": "2023-07-08T17:31:05.183147Z",
     "start_time": "2023-07-08T17:31:05.183147Z"
    },
    "id": "805b4f39",
    "outputId": "e7bffcdb-8da3-48d8-dbf9-499996f4309b"
   },
   "outputs": [],
   "source": [
    "print(arr[50:100])"
   ]
  },
  {
   "cell_type": "markdown",
   "id": "b5ba368e",
   "metadata": {
    "id": "b5ba368e"
   },
   "source": [
    "### Let's see how bigrams and trigrams can be included here"
   ]
  },
  {
   "cell_type": "code",
   "execution_count": null,
   "id": "139913b4",
   "metadata": {
    "ExecuteTime": {
     "end_time": "2023-07-08T17:31:05.183147Z",
     "start_time": "2023-07-08T17:31:05.183147Z"
    },
    "id": "139913b4",
    "outputId": "095277b4-e872-476e-a044-cd85f749d7ad"
   },
   "outputs": [],
   "source": [
    "vectorizer_ngram_range = CountVectorizer(analyzer='word',\n",
    "                                         ngram_range=(1,3),\n",
    "                                         max_features = 100)\n",
    "\n",
    "bow_matrix_ngram = vectorizer_ngram_range.fit_transform(elon)\n",
    "bow_matrix_ngram"
   ]
  },
  {
   "cell_type": "code",
   "execution_count": null,
   "id": "2dc1640c",
   "metadata": {
    "ExecuteTime": {
     "end_time": "2023-07-08T17:31:05.183147Z",
     "start_time": "2023-07-08T17:31:05.183147Z"
    },
    "id": "2dc1640c",
    "outputId": "b7c6e1ac-790c-4ba6-bf3d-c824993846e0"
   },
   "outputs": [],
   "source": [
    "print(vectorizer_ngram_range.get_feature_names())"
   ]
  },
  {
   "cell_type": "code",
   "execution_count": null,
   "id": "6fe19182",
   "metadata": {
    "ExecuteTime": {
     "end_time": "2023-07-08T17:31:05.191147Z",
     "start_time": "2023-07-08T17:31:05.191147Z"
    },
    "id": "6fe19182",
    "outputId": "5fd43baf-c4c0-4226-a94c-3da2894f1fa1"
   },
   "outputs": [],
   "source": [
    "print(bow_matrix_ngram.toarray())"
   ]
  },
  {
   "cell_type": "markdown",
   "id": "2435ed6e",
   "metadata": {
    "id": "2435ed6e"
   },
   "source": [
    "### TFidf Vectorizer"
   ]
  },
  {
   "cell_type": "code",
   "execution_count": null,
   "id": "16558b04",
   "metadata": {
    "ExecuteTime": {
     "end_time": "2023-07-08T17:31:05.191147Z",
     "start_time": "2023-07-08T17:31:05.191147Z"
    },
    "id": "16558b04",
    "outputId": "f9e2859e-8004-4ece-cd15-93a62f9f933c"
   },
   "outputs": [],
   "source": [
    "from sklearn.feature_extraction.text import TfidfVectorizer\n",
    "\n",
    "vectorizer_n_gram_max_features = TfidfVectorizer(norm = 'l2',\n",
    "                                               analyzer = 'word',\n",
    "                                               ngram_range = (1,3),\n",
    "                                               max_features = 10)\n",
    "\n",
    "tf_idf_matrix_n_gram_max_features = vectorizer_n_gram_max_features.fit_transform(elon)\n",
    "tf_idf_matrix_n_gram_max_features"
   ]
  },
  {
   "cell_type": "code",
   "execution_count": null,
   "id": "415bdb9d",
   "metadata": {
    "ExecuteTime": {
     "end_time": "2023-07-08T17:31:05.191147Z",
     "start_time": "2023-07-08T17:31:05.191147Z"
    },
    "id": "415bdb9d",
    "outputId": "bcf19426-bacb-4a00-bc79-f08d30937314"
   },
   "outputs": [],
   "source": [
    "print(vectorizer_n_gram_max_features.get_feature_names())"
   ]
  },
  {
   "cell_type": "code",
   "execution_count": null,
   "id": "d943a80e",
   "metadata": {
    "ExecuteTime": {
     "end_time": "2023-07-08T17:31:05.191147Z",
     "start_time": "2023-07-08T17:31:05.191147Z"
    },
    "id": "d943a80e",
    "outputId": "6fdaf3ba-ae7b-4f09-8779-ca72c7b59624"
   },
   "outputs": [],
   "source": [
    "print(tf_idf_matrix_n_gram_max_features.toarray())"
   ]
  },
  {
   "cell_type": "code",
   "execution_count": null,
   "id": "172ea12a",
   "metadata": {
    "ExecuteTime": {
     "end_time": "2023-07-08T17:31:05.199157Z",
     "start_time": "2023-07-08T17:31:05.199157Z"
    },
    "id": "172ea12a",
    "outputId": "96ca63d4-e8d5-49b3-cb6a-dcb2e2e5dbb1"
   },
   "outputs": [],
   "source": [
    "pd.DataFrame(tf_idf_matrix_n_gram_max_features.toarray(),\n",
    "            columns = vectorizer_n_gram_max_features.get_feature_names())"
   ]
  },
  {
   "cell_type": "markdown",
   "id": "e2ac8552",
   "metadata": {
    "id": "e2ac8552"
   },
   "source": [
    "### Generate WordCloud"
   ]
  },
  {
   "cell_type": "code",
   "execution_count": null,
   "id": "d6c2d01b",
   "metadata": {
    "ExecuteTime": {
     "end_time": "2023-07-08T17:31:05.201466Z",
     "start_time": "2023-07-08T17:31:05.201466Z"
    },
    "id": "d6c2d01b"
   },
   "outputs": [],
   "source": [
    "# Define a function to plot word cloud\n",
    "\n",
    "def plot_cloud(wordcloud):\n",
    "    \n",
    "    # Set figure size\n",
    "    plt.figure(figsize=(60, 40))\n",
    "\n",
    "    # Display image\n",
    "    plt.imshow(wordcloud) \n",
    "    \n",
    "    # No axis details\n",
    "    plt.axis(\"off\")"
   ]
  },
  {
   "cell_type": "code",
   "execution_count": null,
   "id": "aba05653",
   "metadata": {
    "ExecuteTime": {
     "end_time": "2023-07-08T17:31:05.205727Z",
     "start_time": "2023-07-08T17:31:05.205727Z"
    },
    "id": "aba05653"
   },
   "outputs": [],
   "source": [
    "stopwords = STOPWORDS\n",
    "stopwords.add('will')"
   ]
  },
  {
   "cell_type": "code",
   "execution_count": null,
   "id": "5ca9fd14",
   "metadata": {
    "ExecuteTime": {
     "end_time": "2023-07-08T17:31:05.208503Z",
     "start_time": "2023-07-08T17:31:05.208503Z"
    },
    "id": "5ca9fd14",
    "outputId": "cf448341-ba23-41df-9146-076467170ada"
   },
   "outputs": [],
   "source": [
    "# Generate wordcloud\n",
    "wordcloud = WordCloud(width = 3000, \n",
    "                      height = 2000,\n",
    "                      background_color='black',\n",
    "                      max_words=100,\n",
    "                      colormap='Set2',\n",
    "                      stopwords=stopwords).generate(text)\n",
    "# Plot    \n",
    "plot_cloud(wordcloud)"
   ]
  },
  {
   "cell_type": "code",
   "execution_count": null,
   "id": "04ff5435",
   "metadata": {
    "ExecuteTime": {
     "end_time": "2023-07-08T17:31:05.210604Z",
     "start_time": "2023-07-08T17:31:05.210604Z"
    },
    "id": "04ff5435",
    "outputId": "db88e02a-5975-4212-b790-e5b4dabd162d"
   },
   "outputs": [],
   "source": [
    "# Save image\n",
    "wordcloud.to_file(\"wordcloud.png\")"
   ]
  },
  {
   "cell_type": "code",
   "execution_count": null,
   "id": "a91109ba",
   "metadata": {
    "ExecuteTime": {
     "end_time": "2023-07-08T17:31:05.212697Z",
     "start_time": "2023-07-08T17:31:05.212697Z"
    },
    "id": "a91109ba"
   },
   "outputs": [],
   "source": [
    "from nltk import tokenize"
   ]
  },
  {
   "cell_type": "code",
   "execution_count": null,
   "id": "f0a69f9d",
   "metadata": {
    "ExecuteTime": {
     "end_time": "2023-07-08T17:31:05.214850Z",
     "start_time": "2023-07-08T17:31:05.214850Z"
    },
    "id": "f0a69f9d",
    "outputId": "f017f172-de22-4de4-d7d7-e59a1f280376"
   },
   "outputs": [],
   "source": [
    "sentences=tokenize.sent_tokenize(' '.join(elon))\n",
    "sentences"
   ]
  },
  {
   "cell_type": "code",
   "execution_count": null,
   "id": "ca6a80b4",
   "metadata": {
    "ExecuteTime": {
     "end_time": "2023-07-08T17:31:05.214850Z",
     "start_time": "2023-07-08T17:31:05.214850Z"
    },
    "id": "ca6a80b4",
    "outputId": "d45f08b5-e6d9-4e21-a4fc-665aca3c756f"
   },
   "outputs": [],
   "source": [
    "sent_df=pd.DataFrame(sentences,columns=['sentence'])\n",
    "sent_df"
   ]
  },
  {
   "cell_type": "markdown",
   "id": "ae692001",
   "metadata": {
    "id": "ae692001"
   },
   "source": [
    "### Named Entity Recognition"
   ]
  },
  {
   "cell_type": "code",
   "execution_count": null,
   "id": "d0e9b467",
   "metadata": {
    "ExecuteTime": {
     "end_time": "2023-07-08T17:31:05.214850Z",
     "start_time": "2023-07-08T17:31:05.214850Z"
    },
    "id": "d0e9b467",
    "outputId": "ea20b204-445b-4eb0-cb4d-fa6e21f76090"
   },
   "outputs": [],
   "source": [
    "# Parts Of Speech (POS) Tagging\n",
    "nlp = spacy.load('en_core_web_sm')\n",
    "\n",
    "one_block=text\n",
    "doc_block=nlp(one_block)\n",
    "spacy.displacy.render(doc_block,style='ent',jupyter=True)"
   ]
  },
  {
   "cell_type": "code",
   "execution_count": null,
   "id": "a10b95fe",
   "metadata": {
    "ExecuteTime": {
     "end_time": "2023-07-08T17:31:05.222871Z",
     "start_time": "2023-07-08T17:31:05.222871Z"
    },
    "id": "a10b95fe",
    "outputId": "e8d2aece-5a05-4bf6-f97c-93a20ff979fe"
   },
   "outputs": [],
   "source": [
    "for token in doc_block[100:200]:\n",
    "    print(token,token.pos_) "
   ]
  },
  {
   "cell_type": "code",
   "execution_count": null,
   "id": "51a2a6d8",
   "metadata": {
    "ExecuteTime": {
     "end_time": "2023-07-08T17:31:05.222871Z",
     "start_time": "2023-07-08T17:31:05.222871Z"
    },
    "id": "51a2a6d8",
    "outputId": "2aaf7023-9c85-4006-c38c-5997f99fb79d"
   },
   "outputs": [],
   "source": [
    "# Filtering the nouns and verbs only\n",
    "nouns_verbs=[token.text for token in doc_block if token.pos_ in ('NOUN','VERB')]\n",
    "print(nouns_verbs[100:200])"
   ]
  },
  {
   "cell_type": "code",
   "execution_count": null,
   "id": "f0549353",
   "metadata": {
    "ExecuteTime": {
     "end_time": "2023-07-08T17:31:05.222871Z",
     "start_time": "2023-07-08T17:31:05.222871Z"
    },
    "id": "f0549353"
   },
   "outputs": [],
   "source": [
    "# Counting the noun & verb tokens\n",
    "cv=CountVectorizer()\n",
    "\n",
    "X=cv.fit_transform(nouns_verbs)\n",
    "sum_words=X.sum(axis=0)\n",
    "\n",
    "words_freq=[(word,sum_words[0,idx]) for word,idx in cv.vocabulary_.items()]\n",
    "words_freq=sorted(words_freq, key=lambda x: x[1], reverse=True)\n",
    "\n",
    "wd_df=pd.DataFrame(words_freq)\n",
    "wd_df.columns=['word','count']"
   ]
  },
  {
   "cell_type": "code",
   "execution_count": null,
   "id": "b55c3bfb",
   "metadata": {
    "ExecuteTime": {
     "end_time": "2023-07-08T17:31:05.222871Z",
     "start_time": "2023-07-08T17:31:05.222871Z"
    },
    "id": "b55c3bfb",
    "outputId": "ab419150-089f-4056-e210-2a6df516d92c"
   },
   "outputs": [],
   "source": [
    "# viewing top ten results\n",
    "wd_df[0:10]"
   ]
  },
  {
   "cell_type": "code",
   "execution_count": null,
   "id": "5a100e2e",
   "metadata": {
    "ExecuteTime": {
     "end_time": "2023-07-08T17:31:05.230398Z",
     "start_time": "2023-07-08T17:31:05.230398Z"
    },
    "id": "5a100e2e",
    "outputId": "e1395056-f604-4b0d-cfd1-b573ab1fb769"
   },
   "outputs": [],
   "source": [
    "# Visualizing results (Barchart for top 10 nouns + verbs)\n",
    "wd_df[0:10].plot.bar(x='word', figsize=(20,7), title='Top 10 nouns and verbs',color='red');"
   ]
  },
  {
   "cell_type": "markdown",
   "id": "b64ae1e9",
   "metadata": {
    "id": "b64ae1e9"
   },
   "source": [
    "### Emotion Mining Analysis"
   ]
  },
  {
   "cell_type": "code",
   "execution_count": null,
   "id": "34262786",
   "metadata": {
    "ExecuteTime": {
     "end_time": "2023-07-08T17:31:05.230398Z",
     "start_time": "2023-07-08T17:31:05.230398Z"
    },
    "id": "34262786"
   },
   "outputs": [],
   "source": [
    "from nltk import tokenize"
   ]
  },
  {
   "cell_type": "code",
   "execution_count": null,
   "id": "b80b1573",
   "metadata": {
    "ExecuteTime": {
     "end_time": "2023-07-08T17:31:05.230398Z",
     "start_time": "2023-07-08T17:31:05.230398Z"
    },
    "id": "b80b1573",
    "outputId": "3819f789-df6a-4a3d-954f-5b7abe10cc7a"
   },
   "outputs": [],
   "source": [
    "sentences=tokenize.sent_tokenize(' '.join(elon))\n",
    "sentences"
   ]
  },
  {
   "cell_type": "code",
   "execution_count": null,
   "id": "1ec7b3d5",
   "metadata": {
    "ExecuteTime": {
     "end_time": "2023-07-08T17:31:05.238425Z",
     "start_time": "2023-07-08T17:31:05.238425Z"
    },
    "id": "1ec7b3d5",
    "outputId": "1e2af7a8-43dd-4495-9f3a-0ebf20d2cc37"
   },
   "outputs": [],
   "source": [
    "sent_df=pd.DataFrame(sentences,columns=['sentence'])\n",
    "sent_df"
   ]
  },
  {
   "cell_type": "code",
   "execution_count": null,
   "id": "bb9e2667",
   "metadata": {
    "ExecuteTime": {
     "end_time": "2023-07-08T17:31:05.238425Z",
     "start_time": "2023-07-08T17:31:05.238425Z"
    },
    "id": "bb9e2667",
    "outputId": "b8c75198-be7a-4247-a016-8401fbdc508c"
   },
   "outputs": [],
   "source": [
    "# Emotion Lexicon - Affin\n",
    "affin=pd.read_csv(\"Afinn.csv\",sep=',',encoding='Latin-1')\n",
    "affin"
   ]
  },
  {
   "cell_type": "code",
   "execution_count": null,
   "id": "f0ab9cad",
   "metadata": {
    "ExecuteTime": {
     "end_time": "2023-07-08T17:31:05.238425Z",
     "start_time": "2023-07-08T17:31:05.238425Z"
    },
    "id": "f0ab9cad",
    "outputId": "7f51117a-3b11-4ea6-d048-16fe1ddaff53"
   },
   "outputs": [],
   "source": [
    "affinity_scores=affin.set_index('word')['value'].to_dict()\n",
    "affinity_scores"
   ]
  },
  {
   "cell_type": "code",
   "execution_count": null,
   "id": "e2f98db2",
   "metadata": {
    "ExecuteTime": {
     "end_time": "2023-07-08T17:31:05.238425Z",
     "start_time": "2023-07-08T17:31:05.238425Z"
    },
    "id": "e2f98db2"
   },
   "outputs": [],
   "source": [
    "# Custom function: score each word in a sentence in lemmatised form, but calculate the score for the whole original sentence\n",
    "nlp=spacy.load('en_core_web_sm')\n",
    "sentiment_lexicon=affinity_scores\n",
    "\n",
    "def calculate_sentiment(text:str=None):\n",
    "    sent_score=0\n",
    "    if text:\n",
    "        sentence=nlp(text)\n",
    "        for word in sentence:\n",
    "            sent_score+=sentiment_lexicon.get(word.lemma_,0)\n",
    "    return sent_score"
   ]
  },
  {
   "cell_type": "code",
   "execution_count": null,
   "id": "ce260414",
   "metadata": {
    "ExecuteTime": {
     "end_time": "2023-07-08T17:31:05.246426Z",
     "start_time": "2023-07-08T17:31:05.246426Z"
    },
    "id": "ce260414",
    "outputId": "1c48c4a9-9874-4161-894b-0457b7d852f0"
   },
   "outputs": [],
   "source": [
    "# manual testing\n",
    "calculate_sentiment(text='great')"
   ]
  },
  {
   "cell_type": "code",
   "execution_count": null,
   "id": "e74e32ff",
   "metadata": {
    "ExecuteTime": {
     "end_time": "2023-07-08T17:31:05.246426Z",
     "start_time": "2023-07-08T17:31:05.246426Z"
    },
    "id": "e74e32ff",
    "outputId": "287acbe8-d185-47ea-8c40-526686130c66"
   },
   "outputs": [],
   "source": [
    "# Calculating sentiment value for each sentence\n",
    "sent_df['sentiment_value']=sent_df['sentence'].apply(calculate_sentiment)\n",
    "sent_df['sentiment_value']"
   ]
  },
  {
   "cell_type": "code",
   "execution_count": null,
   "id": "61a18227",
   "metadata": {
    "ExecuteTime": {
     "end_time": "2023-07-08T17:31:05.246426Z",
     "start_time": "2023-07-08T17:31:05.246426Z"
    },
    "id": "61a18227",
    "outputId": "0690c9b5-18f5-4902-c29c-6c508a7c0d94"
   },
   "outputs": [],
   "source": [
    "# how many words are there in a sentence\n",
    "sent_df['word_count']=sent_df['sentence'].str.split().apply(len)\n",
    "sent_df['word_count']"
   ]
  },
  {
   "cell_type": "code",
   "execution_count": null,
   "id": "d138d907",
   "metadata": {
    "ExecuteTime": {
     "end_time": "2023-07-08T17:31:05.254427Z",
     "start_time": "2023-07-08T17:31:05.254427Z"
    },
    "id": "d138d907",
    "outputId": "d779c3ad-fc3e-4062-ad2b-e0de11bc8933"
   },
   "outputs": [],
   "source": [
    "sent_df.sort_values(by='sentiment_value')"
   ]
  },
  {
   "cell_type": "code",
   "execution_count": null,
   "id": "7e209930",
   "metadata": {
    "ExecuteTime": {
     "end_time": "2023-07-08T17:31:05.254427Z",
     "start_time": "2023-07-08T17:31:05.254427Z"
    },
    "id": "7e209930",
    "outputId": "3ffea5bd-b221-427e-9ab0-d9405f7456d6"
   },
   "outputs": [],
   "source": [
    "# negative sentiment score of the whole review\n",
    "sent_df[sent_df['sentiment_value']<=0]"
   ]
  },
  {
   "cell_type": "code",
   "execution_count": null,
   "id": "b7eaf6b4",
   "metadata": {
    "ExecuteTime": {
     "end_time": "2023-07-08T17:31:05.254427Z",
     "start_time": "2023-07-08T17:31:05.254427Z"
    },
    "id": "b7eaf6b4",
    "outputId": "c1b02f2b-e821-4eaa-9b44-73919b069f51"
   },
   "outputs": [],
   "source": [
    "# positive sentiment score of the whole review\n",
    "sent_df[sent_df['sentiment_value']>0]"
   ]
  },
  {
   "cell_type": "code",
   "execution_count": null,
   "id": "96901b3d",
   "metadata": {
    "ExecuteTime": {
     "end_time": "2023-07-08T17:31:05.254427Z",
     "start_time": "2023-07-08T17:31:05.254427Z"
    },
    "id": "96901b3d",
    "outputId": "29a2a037-cfa9-4bcc-cf60-46648f3a8d2b"
   },
   "outputs": [],
   "source": [
    "# Adding index cloumn\n",
    "sent_df['index']=range(0,len(sent_df))\n",
    "sent_df"
   ]
  },
  {
   "cell_type": "code",
   "execution_count": null,
   "id": "47f24532",
   "metadata": {
    "ExecuteTime": {
     "end_time": "2023-07-08T17:31:05.262428Z",
     "start_time": "2023-07-08T17:31:05.262428Z"
    },
    "id": "47f24532",
    "outputId": "6a7f2486-fa2e-4f42-949b-4e1aa69207f2"
   },
   "outputs": [],
   "source": [
    "# Plotting the sentiment value for whole review\n",
    "plt.figure(figsize=(20,8))\n",
    "sns.distplot(sent_df['sentiment_value'],color='red')"
   ]
  },
  {
   "cell_type": "code",
   "execution_count": null,
   "id": "137126c8",
   "metadata": {
    "ExecuteTime": {
     "end_time": "2023-07-08T17:31:05.262428Z",
     "start_time": "2023-07-08T17:31:05.262428Z"
    },
    "id": "137126c8",
    "outputId": "f66dbf2c-c1d9-4c8c-ba42-e4b6fe025c7b"
   },
   "outputs": [],
   "source": [
    "# Correlation analysis\n",
    "sent_df.plot.scatter(x='word_count',y='sentiment_value',title='Sentence sentiment value to sentence word count',figsize=(20,8),color='red')"
   ]
  },
  {
   "cell_type": "code",
   "execution_count": null,
   "id": "23ba8670",
   "metadata": {
    "ExecuteTime": {
     "end_time": "2023-07-08T17:31:05.262428Z",
     "start_time": "2023-07-08T17:31:05.262428Z"
    },
    "id": "23ba8670",
    "outputId": "6fa925dc-a422-40a3-8a12-091203b0014b"
   },
   "outputs": [],
   "source": [
    "# density plot\n",
    "ax=plt.axes()\n",
    "ax.set_facecolor(\"black\")\n",
    "sent_df['sentiment_value'].plot(kind='kde',figsize=(10,5),color='red',linewidth=3)"
   ]
  },
  {
   "cell_type": "code",
   "execution_count": null,
   "id": "b0947b88",
   "metadata": {
    "ExecuteTime": {
     "end_time": "2023-07-08T17:31:05.262428Z",
     "start_time": "2023-07-08T17:31:05.262428Z"
    },
    "id": "b0947b88",
    "outputId": "0d903603-70bf-44d7-beb5-1d81b102a2d7"
   },
   "outputs": [],
   "source": [
    "# density plot\n",
    "ax=plt.axes()\n",
    "ax.set_facecolor(\"black\")\n",
    "sent_df['word_count'].plot(kind='kde',figsize=(10,5),color='red',linewidth=3)"
   ]
  },
  {
   "cell_type": "code",
   "execution_count": null,
   "id": "8b52ea82",
   "metadata": {
    "ExecuteTime": {
     "end_time": "2023-07-08T17:31:05.270428Z",
     "start_time": "2023-07-08T17:31:05.270428Z"
    },
    "id": "8b52ea82",
    "outputId": "7b32186b-1f4c-4246-ee89-d2227df0ca49"
   },
   "outputs": [],
   "source": [
    "# Plotting the line plot for sentiment value of whole review\n",
    "plt.figure(figsize=(20,10))\n",
    "sns.lineplot(y='sentiment_value',x='index',data=sent_df,color='red')"
   ]
  },
  {
   "cell_type": "code",
   "execution_count": null,
   "id": "b3d31178",
   "metadata": {
    "ExecuteTime": {
     "end_time": "2023-07-08T17:31:05.270428Z",
     "start_time": "2023-07-08T17:31:05.270428Z"
    },
    "id": "b3d31178"
   },
   "outputs": [],
   "source": [
    "sent_df['Sentiment_Class'] = pd.cut(x=sent_df['sentiment_value'],bins=[-8, -1, 0, 17], \n",
    "                                    labels=['Negative','Neutral','Positive'], right = True)"
   ]
  },
  {
   "cell_type": "code",
   "execution_count": null,
   "id": "fc771d3e",
   "metadata": {
    "ExecuteTime": {
     "end_time": "2023-07-08T17:31:05.270428Z",
     "start_time": "2023-07-08T17:31:05.270428Z"
    },
    "id": "fc771d3e",
    "outputId": "09515dcf-386b-4345-bd49-f70fe596a290"
   },
   "outputs": [],
   "source": [
    "sns.countplot(x = 'Sentiment_Class', data = sent_df)"
   ]
  },
  {
   "cell_type": "code",
   "execution_count": null,
   "id": "533cfb51",
   "metadata": {
    "ExecuteTime": {
     "end_time": "2023-07-08T17:31:05.270428Z",
     "start_time": "2023-07-08T17:31:05.270428Z"
    },
    "id": "533cfb51",
    "outputId": "7fd814f5-5bd0-4731-fc9c-13b495f47523"
   },
   "outputs": [],
   "source": [
    "sent_df['Sentiment_Class'].value_counts()"
   ]
  },
  {
   "cell_type": "markdown",
   "id": "35c07f80",
   "metadata": {
    "id": "35c07f80"
   },
   "source": [
    "## Q.2 \n",
    "### E-commerce review "
   ]
  },
  {
   "cell_type": "code",
   "execution_count": null,
   "id": "2733f2bf",
   "metadata": {
    "ExecuteTime": {
     "end_time": "2023-07-08T17:31:05.278429Z",
     "start_time": "2023-07-08T17:31:05.278429Z"
    },
    "id": "2733f2bf"
   },
   "outputs": [],
   "source": [
    "# Importing relevant libraries\n",
    "\n",
    "import pandas as pd\n",
    "import numpy as np\n",
    "import matplotlib.pyplot as plt\n",
    "import nltk\n",
    "import re\n",
    "import requests\n",
    "import string\n",
    "\n",
    "from wordcloud import WordCloud\n",
    "from nltk.tokenize import word_tokenize\n",
    "from nltk.stem import WordNetLemmatizer\n",
    "from nltk.corpus import stopwords\n",
    "from sklearn.feature_extraction.text import TfidfVectorizer\n",
    "from bs4 import BeautifulSoup as bs"
   ]
  },
  {
   "cell_type": "code",
   "execution_count": null,
   "id": "09c1d98a",
   "metadata": {
    "ExecuteTime": {
     "end_time": "2023-07-08T17:31:05.278429Z",
     "start_time": "2023-07-08T17:31:05.278429Z"
    },
    "id": "09c1d98a"
   },
   "outputs": [],
   "source": [
    "samsung_reviews = []"
   ]
  },
  {
   "cell_type": "code",
   "execution_count": null,
   "id": "046ed48e",
   "metadata": {
    "ExecuteTime": {
     "end_time": "2023-07-08T17:31:05.278429Z",
     "start_time": "2023-07-08T17:31:05.278429Z"
    },
    "id": "046ed48e"
   },
   "outputs": [],
   "source": [
    "for i in range (1,31):\n",
    "    op=[]\n",
    "    url =\"https://www.amazon.in/product-reviews/B08444S68Q/ref=acr_dp_hist_5?ie=UTF8&filterByStar=five_star&reviewerType=all_reviews\"+str(i)\n",
    "    response = requests.get(url)\n",
    "    soup = bs(response.content,\"html.parser\")\n",
    "    reviews = soup.findAll(\"span\",attrs = {\"class\",\"a-size-base review-text review-text-content\"})\n",
    "    for i in range(len(reviews)):\n",
    "        op.append(reviews[i].text)    \n",
    "    samsung_reviews = samsung_reviews+op"
   ]
  },
  {
   "cell_type": "code",
   "execution_count": null,
   "id": "cd888cb5",
   "metadata": {
    "ExecuteTime": {
     "end_time": "2023-07-08T17:31:05.286429Z",
     "start_time": "2023-07-08T17:31:05.286429Z"
    },
    "id": "cd888cb5",
    "outputId": "28dbf6c8-92c8-4c24-bbe5-1322208edb68"
   },
   "outputs": [],
   "source": [
    "samsung_reviews"
   ]
  },
  {
   "cell_type": "code",
   "execution_count": null,
   "id": "ba1c80e8",
   "metadata": {
    "ExecuteTime": {
     "end_time": "2023-07-08T17:31:05.286429Z",
     "start_time": "2023-07-08T17:31:05.286429Z"
    },
    "id": "ba1c80e8"
   },
   "outputs": [],
   "source": [
    "reviews = ' '.join(samsung_reviews)"
   ]
  },
  {
   "cell_type": "markdown",
   "id": "d053cff8",
   "metadata": {
    "id": "d053cff8"
   },
   "source": [
    "### Data Cleaning"
   ]
  },
  {
   "cell_type": "code",
   "execution_count": null,
   "id": "2a253691",
   "metadata": {
    "ExecuteTime": {
     "end_time": "2023-07-08T17:31:05.286429Z",
     "start_time": "2023-07-08T17:31:05.286429Z"
    },
    "id": "2a253691"
   },
   "outputs": [],
   "source": [
    "reviews = re.sub(\"[^A-Za-z\" \"]+\",\" \",reviews).lower() \n",
    "reviews = re.sub(\"[0-9\" \"]+\",\" \",reviews).lower() \n",
    "reviews = re.sub(r'^https?:\\/\\/.*[\\r\\n]*', '', reviews).lower()"
   ]
  },
  {
   "cell_type": "markdown",
   "id": "11f2f478",
   "metadata": {
    "id": "11f2f478"
   },
   "source": [
    "### Tokenize"
   ]
  },
  {
   "cell_type": "code",
   "execution_count": null,
   "id": "da184735",
   "metadata": {
    "ExecuteTime": {
     "end_time": "2023-07-08T17:31:05.286429Z",
     "start_time": "2023-07-08T17:31:05.286429Z"
    },
    "id": "da184735"
   },
   "outputs": [],
   "source": [
    "reviews_token = word_tokenize(reviews)\n",
    "reviews_without_sw = [word for word in reviews_token if not word in stopwords.words()]"
   ]
  },
  {
   "cell_type": "code",
   "execution_count": null,
   "id": "4c98cbeb",
   "metadata": {
    "ExecuteTime": {
     "end_time": "2023-07-08T17:31:05.294430Z",
     "start_time": "2023-07-08T17:31:05.294430Z"
    },
    "id": "4c98cbeb",
    "outputId": "8c05f7e4-d55a-4e70-b5d3-e1e100a970d6"
   },
   "outputs": [],
   "source": [
    "reviews_without_sw"
   ]
  },
  {
   "cell_type": "code",
   "execution_count": null,
   "id": "60060daf",
   "metadata": {
    "ExecuteTime": {
     "end_time": "2023-07-08T17:31:05.294430Z",
     "start_time": "2023-07-08T17:31:05.294430Z"
    },
    "id": "60060daf"
   },
   "outputs": [],
   "source": [
    "reviews = ' '.join(reviews_without_sw)"
   ]
  },
  {
   "cell_type": "markdown",
   "id": "9c8fd141",
   "metadata": {
    "id": "9c8fd141"
   },
   "source": [
    "### Wordcloud"
   ]
  },
  {
   "cell_type": "code",
   "execution_count": null,
   "id": "e1bae8f9",
   "metadata": {
    "ExecuteTime": {
     "end_time": "2023-07-08T17:31:05.294430Z",
     "start_time": "2023-07-08T17:31:05.294430Z"
    },
    "id": "e1bae8f9",
    "outputId": "4a3a6341-a08b-4dad-e620-940caaf6af0b"
   },
   "outputs": [],
   "source": [
    "def plot_cloud(wordcloud):\n",
    "    plt.figure(figsize=(40,30))\n",
    "    plt.imshow(wordcloud)\n",
    "    plt.axis('off')\n",
    "    \n",
    "\n",
    "from wordcloud import WordCloud, STOPWORDS\n",
    "STOPWORDS.add('refresh')\n",
    "wordcloud=WordCloud(width=3000,height=2000,background_color='black',max_words=70,\n",
    "                   colormap='Set1',stopwords=STOPWORDS).generate(reviews)\n",
    "plot_cloud(wordcloud)"
   ]
  },
  {
   "cell_type": "markdown",
   "id": "6b13bce7",
   "metadata": {
    "id": "6b13bce7"
   },
   "source": [
    "### Emotion Mining"
   ]
  },
  {
   "cell_type": "code",
   "execution_count": null,
   "id": "2746385c",
   "metadata": {
    "ExecuteTime": {
     "end_time": "2023-07-08T17:31:05.302483Z",
     "start_time": "2023-07-08T17:31:05.302483Z"
    },
    "id": "2746385c"
   },
   "outputs": [],
   "source": [
    "with open(\"positive-words.txt\", 'r') as f:\n",
    "    positive=f.read().split(\"\\n\")"
   ]
  },
  {
   "cell_type": "code",
   "execution_count": null,
   "id": "18523f43",
   "metadata": {
    "ExecuteTime": {
     "end_time": "2023-07-08T17:31:05.302483Z",
     "start_time": "2023-07-08T17:31:05.302483Z"
    },
    "id": "18523f43"
   },
   "outputs": [],
   "source": [
    "positive = positive[35:]"
   ]
  },
  {
   "cell_type": "code",
   "execution_count": null,
   "id": "fe097b48",
   "metadata": {
    "ExecuteTime": {
     "end_time": "2023-07-08T17:31:05.302483Z",
     "start_time": "2023-07-08T17:31:05.302483Z"
    },
    "id": "fe097b48"
   },
   "outputs": [],
   "source": [
    "reviews_pos=' '.join([word for word in reviews_without_sw if word in positive])"
   ]
  },
  {
   "cell_type": "code",
   "execution_count": null,
   "id": "d3ffd819",
   "metadata": {
    "ExecuteTime": {
     "end_time": "2023-07-08T17:31:05.302483Z",
     "start_time": "2023-07-08T17:31:05.302483Z"
    },
    "id": "d3ffd819",
    "outputId": "c1c80feb-6128-403f-b9ab-cc0dd6b55191"
   },
   "outputs": [],
   "source": [
    "# Word Cloud for positive words\n",
    "\n",
    "def plot_cloud(wordcloud):\n",
    "    plt.figure(figsize=(40,30))\n",
    "    plt.imshow(wordcloud)\n",
    "    plt.axis('off')\n",
    "    \n",
    "\n",
    "from wordcloud import WordCloud, STOPWORDS\n",
    "wordcloud=WordCloud(width=3000,height=2000,background_color='black',max_words=70,\n",
    "                   colormap='Set1',stopwords=STOPWORDS).generate(reviews_pos)\n",
    "plot_cloud(wordcloud)"
   ]
  },
  {
   "cell_type": "code",
   "execution_count": null,
   "id": "b0c6a2dc",
   "metadata": {
    "ExecuteTime": {
     "end_time": "2023-07-08T17:31:05.310574Z",
     "start_time": "2023-07-08T17:31:05.310574Z"
    },
    "id": "b0c6a2dc"
   },
   "outputs": [],
   "source": [
    "with open(\"negative-words.txt\",\"r\", encoding = 'latin1') as f:\n",
    "    negative = f.read().split(\"\\n\")"
   ]
  },
  {
   "cell_type": "code",
   "execution_count": null,
   "id": "34c2ef01",
   "metadata": {
    "ExecuteTime": {
     "end_time": "2023-07-08T17:31:05.310574Z",
     "start_time": "2023-07-08T17:31:05.310574Z"
    },
    "id": "34c2ef01"
   },
   "outputs": [],
   "source": [
    "negative = negative[35:]"
   ]
  },
  {
   "cell_type": "code",
   "execution_count": null,
   "id": "589f8df6",
   "metadata": {
    "ExecuteTime": {
     "end_time": "2023-07-08T17:31:05.310574Z",
     "start_time": "2023-07-08T17:31:05.310574Z"
    },
    "id": "589f8df6"
   },
   "outputs": [],
   "source": [
    "reviews_neg=' '.join([word for word in reviews_without_sw if word in negative])"
   ]
  },
  {
   "cell_type": "code",
   "execution_count": null,
   "id": "672c1de0",
   "metadata": {
    "ExecuteTime": {
     "end_time": "2023-07-08T17:31:05.310574Z",
     "start_time": "2023-07-08T17:31:05.310574Z"
    },
    "id": "672c1de0",
    "outputId": "2bb23f61-acf7-4a44-a40c-22491e117ede"
   },
   "outputs": [],
   "source": [
    "# Word Cloud for negative words\n",
    "def plot_cloud(wordcloud):\n",
    "    plt.figure(figsize=(40,30))\n",
    "    plt.imshow(wordcloud)\n",
    "    plt.axis('off')\n",
    "    \n",
    "\n",
    "from wordcloud import WordCloud, STOPWORDS\n",
    "wordcloud=WordCloud(width=3000,height=2000,background_color='black',max_words=70,\n",
    "                   colormap='Set1',stopwords=STOPWORDS).generate(reviews_neg)\n",
    "plot_cloud(wordcloud)"
   ]
  },
  {
   "cell_type": "code",
   "execution_count": null,
   "id": "347156b9",
   "metadata": {
    "id": "347156b9"
   },
   "outputs": [],
   "source": []
  }
 ],
 "metadata": {
  "colab": {
   "provenance": []
  },
  "kernelspec": {
   "display_name": "Python 3 (ipykernel)",
   "language": "python",
   "name": "python3"
  },
  "language_info": {
   "codemirror_mode": {
    "name": "ipython",
    "version": 3
   },
   "file_extension": ".py",
   "mimetype": "text/x-python",
   "name": "python",
   "nbconvert_exporter": "python",
   "pygments_lexer": "ipython3",
   "version": "3.9.12"
  }
 },
 "nbformat": 4,
 "nbformat_minor": 5
}
